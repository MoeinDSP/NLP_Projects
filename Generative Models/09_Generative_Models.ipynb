{
  "cells": [
    {
      "cell_type": "markdown",
      "metadata": {
        "id": "view-in-github",
        "colab_type": "text"
      },
      "source": [
        "<a href=\"https://colab.research.google.com/github/MoeinDSP/NLP_Projects/blob/main/Generative%20Models/09_Generative_Models.ipynb\" target=\"_parent\"><img src=\"https://colab.research.google.com/assets/colab-badge.svg\" alt=\"Open In Colab\"/></a>"
      ]
    },
    {
      "cell_type": "markdown",
      "id": "7ee5ea9f-7715-4e08-b572-fa8116eb67f4",
      "metadata": {
        "id": "7ee5ea9f-7715-4e08-b572-fa8116eb67f4"
      },
      "source": [
        "# Generative models\n",
        "\n",
        "This tutorial will show how to use generative models to solve:\n",
        "- Generative question answering\n",
        "- Dialogue generation\n",
        "\n",
        "However, the same prinicples are applicable to any kind of generative (and discriminative) task.\n",
        "\n",
        "Yay we made it!"
      ]
    },
    {
      "cell_type": "markdown",
      "id": "zSNGW-JpWqVO",
      "metadata": {
        "id": "zSNGW-JpWqVO"
      },
      "source": [
        "Before starting I need to connect the drive storage to the notebook."
      ]
    },
    {
      "cell_type": "markdown",
      "id": "b9ac173f-088c-4912-b84a-f78a58b60a40",
      "metadata": {
        "id": "b9ac173f-088c-4912-b84a-f78a58b60a40"
      },
      "source": [
        "**Optional for Colab users**\n",
        "\n",
        "Before starting, we can set up the connection with the Google Dive storage, to keep there our documents.\n",
        "Just execute the following passages:"
      ]
    },
    {
      "cell_type": "code",
      "execution_count": null,
      "id": "b09b6f72-1100-4fe1-8dd2-6d3f88d10c59",
      "metadata": {
        "id": "b09b6f72-1100-4fe1-8dd2-6d3f88d10c59",
        "colab": {
          "base_uri": "https://localhost:8080/"
        },
        "outputId": "b7de6de5-4a6a-413b-9960-029b8a3c396c"
      },
      "outputs": [
        {
          "output_type": "stream",
          "name": "stdout",
          "text": [
            "Mounted at /content/drive\n"
          ]
        }
      ],
      "source": [
        "from google.colab import drive\n",
        "drive.mount('/content/drive')"
      ]
    },
    {
      "cell_type": "markdown",
      "id": "a0a601ae-04a4-4a2f-a808-84f0a28863b5",
      "metadata": {
        "id": "a0a601ae-04a4-4a2f-a808-84f0a28863b5"
      },
      "source": [
        "Make sure that the variable path contains the correct sequence of folders separate by a `'/'` to get to your lecture files"
      ]
    },
    {
      "cell_type": "code",
      "execution_count": null,
      "id": "63cb2fda-60fc-4c62-94c6-a6d9b7af9294",
      "metadata": {
        "id": "63cb2fda-60fc-4c62-94c6-a6d9b7af9294",
        "colab": {
          "base_uri": "https://localhost:8080/",
          "height": 35
        },
        "outputId": "c3c534f3-fe65-4a4f-c050-c4faf0440a10"
      },
      "outputs": [
        {
          "output_type": "execute_result",
          "data": {
            "text/plain": [
              "'/content/drive/MyDrive/Practical_09__Generative-Models'"
            ],
            "application/vnd.google.colaboratory.intrinsic+json": {
              "type": "string"
            }
          },
          "metadata": {},
          "execution_count": 2
        }
      ],
      "source": [
        "import os\n",
        "\n",
        "path = '/content/drive/MyDrive/Practical_09__Generative-Models'\n",
        "\n",
        "os.chdir(f'{path}')\n",
        "os.getcwd()"
      ]
    },
    {
      "cell_type": "markdown",
      "id": "bf357018-5db6-4509-8ae8-dd3784f9023e",
      "metadata": {
        "id": "bf357018-5db6-4509-8ae8-dd3784f9023e"
      },
      "source": [
        "## Generative Question Answering (QA)\n",
        "\n",
        "Up to now we have seen how to retrieve relevant passages that may contain the answer to a question.\n",
        "- What if the answer is not written explicitly in the passage?\n",
        "- What if the passage is too long to read (and our lives are too dynamic to spend more than one minute reading)?\n",
        "\n",
        "We can train a model to output the answer to a question given\n",
        "- a relevant passage (and we know how to gather relevant documents)\n",
        "- the question (yes, the question contains relevant information to answer the question)\n",
        "... Or we can put a pre-trained model on top of our retrieval pipeline"
      ]
    },
    {
      "cell_type": "markdown",
      "id": "809d9c7d-7c90-4144-b463-db21b2e21248",
      "metadata": {
        "id": "809d9c7d-7c90-4144-b463-db21b2e21248"
      },
      "source": [
        "### QA data preparation\n",
        "\n",
        "In this section we will be using the [WikiQA](https://aclanthology.org/D15-1237/) data set.\n",
        "It's a data set for open domain generative QA.\n",
        "\n",
        "It's avaialble via the HuggingFace data set package, let's install it"
      ]
    },
    {
      "cell_type": "code",
      "execution_count": null,
      "id": "65db5f1d-1eb1-4f52-8c90-1e819bd311d8",
      "metadata": {
        "id": "65db5f1d-1eb1-4f52-8c90-1e819bd311d8",
        "tags": [],
        "colab": {
          "base_uri": "https://localhost:8080/"
        },
        "outputId": "da4fb9c1-3796-4859-9ed8-6e2658b9d7ad"
      },
      "outputs": [
        {
          "output_type": "stream",
          "name": "stdout",
          "text": [
            "\u001b[?25l   \u001b[90m━━━━━━━━━━━━━━━━━━━━━━━━━━━━━━━━━━━━━━━━\u001b[0m \u001b[32m0.0/491.2 kB\u001b[0m \u001b[31m?\u001b[0m eta \u001b[36m-:--:--\u001b[0m\r\u001b[2K   \u001b[91m━━━━━━━━━━━━━━━━━━━━━━━━━\u001b[0m\u001b[91m╸\u001b[0m\u001b[90m━━━━━━━━━━━━━━\u001b[0m \u001b[32m317.4/491.2 kB\u001b[0m \u001b[31m9.6 MB/s\u001b[0m eta \u001b[36m0:00:01\u001b[0m\r\u001b[2K   \u001b[90m━━━━━━━━━━━━━━━━━━━━━━━━━━━━━━━━━━━━━━━━\u001b[0m \u001b[32m491.2/491.2 kB\u001b[0m \u001b[31m8.3 MB/s\u001b[0m eta \u001b[36m0:00:00\u001b[0m\n",
            "\u001b[?25h\u001b[?25l   \u001b[90m━━━━━━━━━━━━━━━━━━━━━━━━━━━━━━━━━━━━━━━━\u001b[0m \u001b[32m0.0/116.3 kB\u001b[0m \u001b[31m?\u001b[0m eta \u001b[36m-:--:--\u001b[0m\r\u001b[2K   \u001b[90m━━━━━━━━━━━━━━━━━━━━━━━━━━━━━━━━━━━━━━━━\u001b[0m \u001b[32m116.3/116.3 kB\u001b[0m \u001b[31m8.7 MB/s\u001b[0m eta \u001b[36m0:00:00\u001b[0m\n",
            "\u001b[2K   \u001b[90m━━━━━━━━━━━━━━━━━━━━━━━━━━━━━━━━━━━━━━━━\u001b[0m \u001b[32m183.9/183.9 kB\u001b[0m \u001b[31m12.6 MB/s\u001b[0m eta \u001b[36m0:00:00\u001b[0m\n",
            "\u001b[2K   \u001b[90m━━━━━━━━━━━━━━━━━━━━━━━━━━━━━━━━━━━━━━━━\u001b[0m \u001b[32m143.5/143.5 kB\u001b[0m \u001b[31m8.5 MB/s\u001b[0m eta \u001b[36m0:00:00\u001b[0m\n",
            "\u001b[2K   \u001b[90m━━━━━━━━━━━━━━━━━━━━━━━━━━━━━━━━━━━━━━━━\u001b[0m \u001b[32m194.8/194.8 kB\u001b[0m \u001b[31m12.2 MB/s\u001b[0m eta \u001b[36m0:00:00\u001b[0m\n",
            "\u001b[?25h\u001b[31mERROR: pip's dependency resolver does not currently take into account all the packages that are installed. This behaviour is the source of the following dependency conflicts.\n",
            "gcsfs 2025.3.2 requires fsspec==2025.3.2, but you have fsspec 2024.12.0 which is incompatible.\n",
            "torch 2.6.0+cu124 requires nvidia-cublas-cu12==12.4.5.8; platform_system == \"Linux\" and platform_machine == \"x86_64\", but you have nvidia-cublas-cu12 12.5.3.2 which is incompatible.\n",
            "torch 2.6.0+cu124 requires nvidia-cuda-cupti-cu12==12.4.127; platform_system == \"Linux\" and platform_machine == \"x86_64\", but you have nvidia-cuda-cupti-cu12 12.5.82 which is incompatible.\n",
            "torch 2.6.0+cu124 requires nvidia-cuda-nvrtc-cu12==12.4.127; platform_system == \"Linux\" and platform_machine == \"x86_64\", but you have nvidia-cuda-nvrtc-cu12 12.5.82 which is incompatible.\n",
            "torch 2.6.0+cu124 requires nvidia-cuda-runtime-cu12==12.4.127; platform_system == \"Linux\" and platform_machine == \"x86_64\", but you have nvidia-cuda-runtime-cu12 12.5.82 which is incompatible.\n",
            "torch 2.6.0+cu124 requires nvidia-cudnn-cu12==9.1.0.70; platform_system == \"Linux\" and platform_machine == \"x86_64\", but you have nvidia-cudnn-cu12 9.3.0.75 which is incompatible.\n",
            "torch 2.6.0+cu124 requires nvidia-cufft-cu12==11.2.1.3; platform_system == \"Linux\" and platform_machine == \"x86_64\", but you have nvidia-cufft-cu12 11.2.3.61 which is incompatible.\n",
            "torch 2.6.0+cu124 requires nvidia-curand-cu12==10.3.5.147; platform_system == \"Linux\" and platform_machine == \"x86_64\", but you have nvidia-curand-cu12 10.3.6.82 which is incompatible.\n",
            "torch 2.6.0+cu124 requires nvidia-cusolver-cu12==11.6.1.9; platform_system == \"Linux\" and platform_machine == \"x86_64\", but you have nvidia-cusolver-cu12 11.6.3.83 which is incompatible.\n",
            "torch 2.6.0+cu124 requires nvidia-cusparse-cu12==12.3.1.170; platform_system == \"Linux\" and platform_machine == \"x86_64\", but you have nvidia-cusparse-cu12 12.5.1.3 which is incompatible.\n",
            "torch 2.6.0+cu124 requires nvidia-nvjitlink-cu12==12.4.127; platform_system == \"Linux\" and platform_machine == \"x86_64\", but you have nvidia-nvjitlink-cu12 12.5.82 which is incompatible.\u001b[0m\u001b[31m\n",
            "\u001b[0m"
          ]
        }
      ],
      "source": [
        "!pip -q install datasets\n",
        "# !pip install datasets==2.16.0"
      ]
    },
    {
      "cell_type": "markdown",
      "id": "6cc87bcb-d94c-4060-8c2f-b13ab75fd3f4",
      "metadata": {
        "id": "6cc87bcb-d94c-4060-8c2f-b13ab75fd3f4"
      },
      "source": [
        "Let's download the validation split of the WikiQA data set"
      ]
    },
    {
      "cell_type": "code",
      "execution_count": null,
      "id": "b582af4f-05fb-4085-aaa8-2d83ea0d9212",
      "metadata": {
        "id": "b582af4f-05fb-4085-aaa8-2d83ea0d9212",
        "tags": [],
        "colab": {
          "base_uri": "https://localhost:8080/",
          "height": 901,
          "referenced_widgets": [
            "f2550f7ddaa44b3f8808ab9c06c25476",
            "d7ec984b0c60439cbbcc37fcdcf07308",
            "67701381c3e048bc9a1be4989d7264a4",
            "b75aa18fc7e840a3929845f49b17132c",
            "6b1ab9fcdb84452fa55444c8ba1d7588",
            "675ca89aeee746b4953f05fc067ad648",
            "62bca2ab7c1242538d5f97a29d789849",
            "a71ce9ef6096425797aba64c3715d056",
            "ff7fcbf693614752b745e6485154dbbe",
            "d81b50c322354e3e8d521acc8ec241e8",
            "4858317c3c0f429cb12b0a1c3109a410",
            "d8811f1204f2470d8207351981ae4585",
            "40350d41bc8c4e80950ec0b8878c836a",
            "0286e9e91896444cad391b06cd188be6",
            "171cbfc219824172b51fe7bb61f018bc",
            "66249af5b92f49198267a67a6dea8098",
            "325c87f89fec4380a17b5aa6020f08a4",
            "8fd544dad4984081800eaf0f6b068b12",
            "6720b47697f54f05bdd65643c4c8a243",
            "d7f7810335ba47e5a4510a4ee5340fd6",
            "b81290a39a4145d187ac86e68dbba6c0",
            "e579177eab0e4db38c5ae648efb080ea",
            "ea28f904e6f04efcb894940b9fb31fd2",
            "2e4fd097a64043fe9e47c17611ce633e",
            "82337d3d22aa4b91a4edf13375eeaa88",
            "24aea410cfea4535b4bddd2991cdff47",
            "c4d466d4ea8c448f8b3d73f0a7731a3f",
            "88b3b6d2d8794bcdb3e297862d7b7550",
            "79370b4a32b64cf1aded37a2ba97a6e7",
            "12265d8f4d0d4f95ad537c064c80b762",
            "ed1b8b463eef4d95b343e539bbfe68a7",
            "df9fe7d3cf66425787e2e5677e9721b8",
            "362c561e792943e588900c15c7cb4071",
            "ad5a6d8d122c4abb9cf915c50987e249",
            "696d8d60f42e4a79aceba62433d51679",
            "4e9dc48e58994fa685777c89f33ab75d",
            "830f9b122659434facb381b02b64410f",
            "e877d3ce345347c6b065043db7a7f84a",
            "fed054a77d29454ea7265e6e9f91125f",
            "d429bec0aec746a0956814377dc0e23d",
            "e60e77b6ccbb4c589ceabc3ce970b85f",
            "b7023e8440d94484b98fe61cad312a30",
            "ef65009fa5fd41b8a6de508babd2d20d",
            "8ac4c521a70f4c69a1041fd4b858c6d1",
            "36c487bc6c8c489d8f168640401ca144",
            "3064ce339d59431d8fa27b189f4d83c4",
            "1ad9d762ea5c4658abb2855489736283",
            "487e2ea9399b443cbc64e24cc25fba9a",
            "710ed48336a2459288be5597f499e170",
            "c1d303c1ba7b445a8571414e2ff0bf58",
            "7167f121fa944486915603f9f1600d22",
            "7951e9ab2ca240f0908fb4b4509416f0",
            "c8f09f028d22403b809f795ffe46abfe",
            "0596bea0ea9740229f2793cbf8144a19",
            "46b652cdf85f459695532b3f039253bc",
            "1cde566b0fda4d8f90e2b6910a3cc7a7",
            "10b75d13eb8f439eb4c2663c146518d3",
            "0087e809997749b685670bb144bdc71f",
            "0de0ab6305634d17974e9d004318acac",
            "717a543c8a464a3187717a74db466481",
            "a21d57e60e1f4bc9995290875c828640",
            "0ee9825e0c734436bc1d0ec0214dc1ec",
            "1dbf97d9555a40c4a7f6c48a37983dda",
            "923a0c6ea67f4de482e7b4cfe4a314e2",
            "c2b4a210bb35409e9f75693728b9b260",
            "d061e856f47546638e0a2d3d5757d479",
            "f508353e6a09492980951157ab006040",
            "b1206e3befac49e8a40b53d9f43cba04",
            "aec40ee4b141426297a20d1b3181cae8",
            "98b35fe842354bc99e0c88a60b61f5e8",
            "88172aaf31ad4887ba27e5b8d07bc9b9",
            "6bd81b3ca1d447cca372a92260bd6444",
            "81906b70a9e543af9a1a6489ccb1e389",
            "b1c8a5e1543b472e8440a561477aef52",
            "6827190e631642d4a96969e282209e68",
            "1d12ad0a5ed1496691875198422c2fd4",
            "f83868fcfd514915861ef1db24d00822"
          ]
        },
        "outputId": "7cab86d4-81b7-4802-91fc-1797fe3ea9ac"
      },
      "outputs": [
        {
          "output_type": "stream",
          "name": "stderr",
          "text": [
            "/usr/local/lib/python3.11/dist-packages/huggingface_hub/utils/_auth.py:94: UserWarning: \n",
            "The secret `HF_TOKEN` does not exist in your Colab secrets.\n",
            "To authenticate with the Hugging Face Hub, create a token in your settings tab (https://huggingface.co/settings/tokens), set it as secret in your Google Colab and restart your session.\n",
            "You will be able to reuse this secret in all of your notebooks.\n",
            "Please note that authentication is recommended but still optional to access public models or datasets.\n",
            "  warnings.warn(\n"
          ]
        },
        {
          "output_type": "display_data",
          "data": {
            "text/plain": [
              "README.md:   0%|          | 0.00/13.8k [00:00<?, ?B/s]"
            ],
            "application/vnd.jupyter.widget-view+json": {
              "version_major": 2,
              "version_minor": 0,
              "model_id": "f2550f7ddaa44b3f8808ab9c06c25476"
            }
          },
          "metadata": {}
        },
        {
          "output_type": "display_data",
          "data": {
            "text/plain": [
              "test-00000-of-00001.parquet:   0%|          | 0.00/594k [00:00<?, ?B/s]"
            ],
            "application/vnd.jupyter.widget-view+json": {
              "version_major": 2,
              "version_minor": 0,
              "model_id": "d8811f1204f2470d8207351981ae4585"
            }
          },
          "metadata": {}
        },
        {
          "output_type": "display_data",
          "data": {
            "text/plain": [
              "validation-00000-of-00001.parquet:   0%|          | 0.00/264k [00:00<?, ?B/s]"
            ],
            "application/vnd.jupyter.widget-view+json": {
              "version_major": 2,
              "version_minor": 0,
              "model_id": "ea28f904e6f04efcb894940b9fb31fd2"
            }
          },
          "metadata": {}
        },
        {
          "output_type": "display_data",
          "data": {
            "text/plain": [
              "train-00000-of-00001.parquet:   0%|          | 0.00/2.00M [00:00<?, ?B/s]"
            ],
            "application/vnd.jupyter.widget-view+json": {
              "version_major": 2,
              "version_minor": 0,
              "model_id": "ad5a6d8d122c4abb9cf915c50987e249"
            }
          },
          "metadata": {}
        },
        {
          "output_type": "display_data",
          "data": {
            "text/plain": [
              "Generating test split:   0%|          | 0/6165 [00:00<?, ? examples/s]"
            ],
            "application/vnd.jupyter.widget-view+json": {
              "version_major": 2,
              "version_minor": 0,
              "model_id": "36c487bc6c8c489d8f168640401ca144"
            }
          },
          "metadata": {}
        },
        {
          "output_type": "display_data",
          "data": {
            "text/plain": [
              "Generating validation split:   0%|          | 0/2733 [00:00<?, ? examples/s]"
            ],
            "application/vnd.jupyter.widget-view+json": {
              "version_major": 2,
              "version_minor": 0,
              "model_id": "1cde566b0fda4d8f90e2b6910a3cc7a7"
            }
          },
          "metadata": {}
        },
        {
          "output_type": "display_data",
          "data": {
            "text/plain": [
              "Generating train split:   0%|          | 0/20360 [00:00<?, ? examples/s]"
            ],
            "application/vnd.jupyter.widget-view+json": {
              "version_major": 2,
              "version_minor": 0,
              "model_id": "f508353e6a09492980951157ab006040"
            }
          },
          "metadata": {}
        },
        {
          "output_type": "execute_result",
          "data": {
            "text/plain": [
              "{'question_id': ['Q8', 'Q8', 'Q8', 'Q8', 'Q8', 'Q8', 'Q8', 'Q8', 'Q8', 'Q11'],\n",
              " 'question': ['How are epithelial tissues joined together?',\n",
              "  'How are epithelial tissues joined together?',\n",
              "  'How are epithelial tissues joined together?',\n",
              "  'How are epithelial tissues joined together?',\n",
              "  'How are epithelial tissues joined together?',\n",
              "  'How are epithelial tissues joined together?',\n",
              "  'How are epithelial tissues joined together?',\n",
              "  'How are epithelial tissues joined together?',\n",
              "  'How are epithelial tissues joined together?',\n",
              "  'how big is bmc software in houston, tx'],\n",
              " 'document_title': ['Tissue (biology)',\n",
              "  'Tissue (biology)',\n",
              "  'Tissue (biology)',\n",
              "  'Tissue (biology)',\n",
              "  'Tissue (biology)',\n",
              "  'Tissue (biology)',\n",
              "  'Tissue (biology)',\n",
              "  'Tissue (biology)',\n",
              "  'Tissue (biology)',\n",
              "  'BMC Software'],\n",
              " 'answer': ['Cross section of sclerenchyma fibers in plant ground tissue',\n",
              "  'Microscopic view of a histologic specimen of human lung tissue stained with hematoxylin and eosin .',\n",
              "  'In Biology , Tissue is a cellular organizational level intermediate between cells and a complete organism .',\n",
              "  'A tissue is an ensemble of similar cells from the same origin that together carry out a specific function.',\n",
              "  'Organs are then formed by the functional grouping together of multiple tissues.',\n",
              "  'The study of tissue is known as histology or, in connection with disease, histopathology .',\n",
              "  'The classical tools for studying tissues are the paraffin block in which tissue is embedded and then sectioned, the histological stain , and the optical microscope .',\n",
              "  'In the last couple of decades, developments in electron microscopy , immunofluorescence , and the use of frozen tissue sections have enhanced the detail that can be observed in tissues.',\n",
              "  'With these tools, the classical appearances of tissues can be examined in health and disease, enabling considerable refinement of clinical diagnosis and prognosis .',\n",
              "  'BMC Software, Inc. is an American company specializing in Business Service Management (BSM) software.'],\n",
              " 'label': [0, 0, 0, 0, 0, 0, 0, 0, 0, 0]}"
            ]
          },
          "metadata": {},
          "execution_count": 4
        }
      ],
      "source": [
        "import datasets\n",
        "\n",
        "wiki_qa = datasets.load_dataset('wiki_qa', split='validation')\n",
        "wiki_qa[:10]"
      ]
    },
    {
      "cell_type": "markdown",
      "id": "G2h4Bb0T6OfR",
      "metadata": {
        "id": "G2h4Bb0T6OfR"
      },
      "source": [
        "The data set contains questions, title of documents in Wikipedia containing the answers and answers.\n",
        "Additionally the data set contains distractor answers for a given question.\n",
        "We can distinguish the two types of responses from the `label` value.\n",
        "\n",
        "Let's filter the data to retain only correct question-response pairs"
      ]
    },
    {
      "cell_type": "code",
      "execution_count": null,
      "id": "ee165bb0-5ed0-4d08-a566-d19af55d471b",
      "metadata": {
        "id": "ee165bb0-5ed0-4d08-a566-d19af55d471b",
        "tags": [],
        "colab": {
          "base_uri": "https://localhost:8080/",
          "height": 136,
          "referenced_widgets": [
            "5327b6bc1f8340b19a863acac593c80b",
            "f1b40ae0c6304f9f84362df2e1a4ab9e",
            "653ef93bc239466982143320edd4ac0d",
            "d9ae9e9ea33643199f1ef820360a72f2",
            "e0301d246b374f3494342f9c228bcbee",
            "a331cd5fd72d48bfbc8ec8845b1819a7",
            "acca9709d5cf4a688e3305c3fc09aaef",
            "66e9b1f011a0481bacde7b9fc389719f",
            "f73456c5525b4942947f34f35b0d81a9",
            "12130c460b4044f98652e95ae9a5f405",
            "8d475c2e4b054e8baba123bfe80bed6b"
          ]
        },
        "outputId": "e3665683-44fa-48d2-d80b-23e805f2ba05"
      },
      "outputs": [
        {
          "output_type": "display_data",
          "data": {
            "text/plain": [
              "Filter:   0%|          | 0/2733 [00:00<?, ? examples/s]"
            ],
            "application/vnd.jupyter.widget-view+json": {
              "version_major": 2,
              "version_minor": 0,
              "model_id": "5327b6bc1f8340b19a863acac593c80b"
            }
          },
          "metadata": {}
        },
        {
          "output_type": "execute_result",
          "data": {
            "text/plain": [
              "{'question_id': 'Q11',\n",
              " 'question': 'how big is bmc software in houston, tx',\n",
              " 'document_title': 'BMC Software',\n",
              " 'answer': 'Employing over 6,000, BMC is often credited with pioneering the BSM concept as a way to help better align IT operations with business needs.',\n",
              " 'label': 1}"
            ]
          },
          "metadata": {},
          "execution_count": 5
        }
      ],
      "source": [
        "wiki_qa_correct = wiki_qa.filter(lambda x: x['label'] == 1)\n",
        "wiki_qa_correct[0]"
      ]
    },
    {
      "cell_type": "markdown",
      "id": "JZmYkfWU8Yyj",
      "metadata": {
        "id": "JZmYkfWU8Yyj"
      },
      "source": [
        "Ok now we have a lot of samples to try our system"
      ]
    },
    {
      "cell_type": "markdown",
      "id": "c3a3cd78-2102-4b0d-b1c6-2a4e7f18e635",
      "metadata": {
        "id": "c3a3cd78-2102-4b0d-b1c6-2a4e7f18e635"
      },
      "source": [
        "### Knowledge retrieval\n",
        "\n",
        "We have the questions (and the target answers), now we need to prepare our knowledge source and the retrieval system.\n",
        "We can re-use the simple Wikipedia and the two encoder models from last tutorial.\n",
        "\n",
        "Let's start loading the data"
      ]
    },
    {
      "cell_type": "code",
      "execution_count": null,
      "id": "f0c0f600-1279-44d7-a4ef-b4ca4197c78e",
      "metadata": {
        "tags": [],
        "id": "f0c0f600-1279-44d7-a4ef-b4ca4197c78e",
        "colab": {
          "base_uri": "https://localhost:8080/"
        },
        "outputId": "6be46aa1-c47f-4b84-a03d-3f8295908da6"
      },
      "outputs": [
        {
          "output_type": "stream",
          "name": "stdout",
          "text": [
            "\u001b[2K   \u001b[90m━━━━━━━━━━━━━━━━━━━━━━━━━━━━━━━━━━━━━━━━\u001b[0m \u001b[32m345.7/345.7 kB\u001b[0m \u001b[31m7.0 MB/s\u001b[0m eta \u001b[36m0:00:00\u001b[0m\n",
            "\u001b[2K   \u001b[90m━━━━━━━━━━━━━━━━━━━━━━━━━━━━━━━━━━━━━━━━\u001b[0m \u001b[32m363.4/363.4 MB\u001b[0m \u001b[31m3.7 MB/s\u001b[0m eta \u001b[36m0:00:00\u001b[0m\n",
            "\u001b[2K   \u001b[90m━━━━━━━━━━━━━━━━━━━━━━━━━━━━━━━━━━━━━━━━\u001b[0m \u001b[32m13.8/13.8 MB\u001b[0m \u001b[31m63.2 MB/s\u001b[0m eta \u001b[36m0:00:00\u001b[0m\n",
            "\u001b[2K   \u001b[90m━━━━━━━━━━━━━━━━━━━━━━━━━━━━━━━━━━━━━━━━\u001b[0m \u001b[32m24.6/24.6 MB\u001b[0m \u001b[31m34.5 MB/s\u001b[0m eta \u001b[36m0:00:00\u001b[0m\n",
            "\u001b[2K   \u001b[90m━━━━━━━━━━━━━━━━━━━━━━━━━━━━━━━━━━━━━━━━\u001b[0m \u001b[32m883.7/883.7 kB\u001b[0m \u001b[31m45.2 MB/s\u001b[0m eta \u001b[36m0:00:00\u001b[0m\n",
            "\u001b[2K   \u001b[90m━━━━━━━━━━━━━━━━━━━━━━━━━━━━━━━━━━━━━━━━\u001b[0m \u001b[32m664.8/664.8 MB\u001b[0m \u001b[31m2.7 MB/s\u001b[0m eta \u001b[36m0:00:00\u001b[0m\n",
            "\u001b[2K   \u001b[90m━━━━━━━━━━━━━━━━━━━━━━━━━━━━━━━━━━━━━━━━\u001b[0m \u001b[32m211.5/211.5 MB\u001b[0m \u001b[31m6.0 MB/s\u001b[0m eta \u001b[36m0:00:00\u001b[0m\n",
            "\u001b[2K   \u001b[90m━━━━━━━━━━━━━━━━━━━━━━━━━━━━━━━━━━━━━━━━\u001b[0m \u001b[32m56.3/56.3 MB\u001b[0m \u001b[31m11.8 MB/s\u001b[0m eta \u001b[36m0:00:00\u001b[0m\n",
            "\u001b[2K   \u001b[90m━━━━━━━━━━━━━━━━━━━━━━━━━━━━━━━━━━━━━━━━\u001b[0m \u001b[32m127.9/127.9 MB\u001b[0m \u001b[31m7.5 MB/s\u001b[0m eta \u001b[36m0:00:00\u001b[0m\n",
            "\u001b[2K   \u001b[90m━━━━━━━━━━━━━━━━━━━━━━━━━━━━━━━━━━━━━━━━\u001b[0m \u001b[32m207.5/207.5 MB\u001b[0m \u001b[31m6.0 MB/s\u001b[0m eta \u001b[36m0:00:00\u001b[0m\n",
            "\u001b[2K   \u001b[90m━━━━━━━━━━━━━━━━━━━━━━━━━━━━━━━━━━━━━━━━\u001b[0m \u001b[32m21.1/21.1 MB\u001b[0m \u001b[31m80.0 MB/s\u001b[0m eta \u001b[36m0:00:00\u001b[0m\n",
            "\u001b[?25h"
          ]
        }
      ],
      "source": [
        "!pip -q install -U transformers sentence-transformers"
      ]
    },
    {
      "cell_type": "code",
      "execution_count": null,
      "id": "727c3a4a-1164-4d66-9b8b-0a03190d0791",
      "metadata": {
        "id": "727c3a4a-1164-4d66-9b8b-0a03190d0791",
        "tags": []
      },
      "outputs": [],
      "source": [
        "import os\n",
        "from sentence_transformers import util\n",
        "\n",
        "wikipedia_filepath = 'simplewiki-2020-11-01.jsonl.gz'\n",
        "if not os.path.exists(wikipedia_filepath):\n",
        "    util.http_get('http://sbert.net/datasets/simplewiki-2020-11-01.jsonl.gz', wikipedia_filepath)"
      ]
    },
    {
      "cell_type": "markdown",
      "id": "JRYKGJY39O3X",
      "metadata": {
        "id": "JRYKGJY39O3X"
      },
      "source": [
        "We can try indexing all the paragraphs this time (hopefully it won't explode)"
      ]
    },
    {
      "cell_type": "code",
      "execution_count": null,
      "id": "EdifHBpo9PLX",
      "metadata": {
        "id": "EdifHBpo9PLX",
        "tags": [],
        "colab": {
          "base_uri": "https://localhost:8080/"
        },
        "outputId": "0360963c-d0ea-4208-b918-6de076b9c946"
      },
      "outputs": [
        {
          "output_type": "stream",
          "name": "stdout",
          "text": [
            "Retrieved 509663 passages\n"
          ]
        }
      ],
      "source": [
        "import json\n",
        "import gzip\n",
        "\n",
        "# NOTE: Change this flag to use only first paragraph\n",
        "only_first = False\n",
        "\n",
        "passages = []\n",
        "# Open the file with the dump of Simple Wikipedia\n",
        "with gzip.open(wikipedia_filepath, 'rt', encoding='utf8') as f:\n",
        "    # Iterate over the lines\n",
        "    for line in f:\n",
        "        # Parse the document using JSON\n",
        "        data = json.loads(line.strip())\n",
        "        if only_first:\n",
        "            # Only add the first paragraph\n",
        "            passages.append(data['paragraphs'][0])\n",
        "        else:\n",
        "            # Add all paragraphs\n",
        "            passages.extend(data['paragraphs'])\n",
        "\n",
        "print(f\"Retrieved {len(passages)} passages\")"
      ]
    },
    {
      "cell_type": "markdown",
      "id": "O_stcXFV80eL",
      "metadata": {
        "id": "O_stcXFV80eL"
      },
      "source": [
        "Now we can import the two models"
      ]
    },
    {
      "cell_type": "code",
      "execution_count": null,
      "id": "Q2HlwF1P81I3",
      "metadata": {
        "id": "Q2HlwF1P81I3",
        "tags": [],
        "colab": {
          "base_uri": "https://localhost:8080/",
          "height": 682,
          "referenced_widgets": [
            "e1ff2f305bcf4ff883310cc46e0798f8",
            "14095d164ad349409f42f6128c6c129f",
            "09aaa41a8a3243b3af3ba22d42d32bb8",
            "3695e49cd3db4542922790bff1c403ed",
            "722bf9049fdb42a0a9c16531c87956f2",
            "05c8add6db294d59b4bd2afa2252433a",
            "fb90c9c1508f4720816ff822db12e960",
            "246ecb2e91174938965f7746a514b43e",
            "36e9b7d0fe5148629e7651e96b4f5cfd",
            "839c69a6f70c45e993a83e27e7f50ddd",
            "4e14233451654ee0b0d95c7c4fd72c00",
            "aaff130ba6ef483e8f275f2db0bca074",
            "2e8267cabc314856bbbb1fa12f35797c",
            "1a7288be931a494eae155a6b1d367d84",
            "a8525aa849b14e5fa95a8c4694fed64e",
            "2031b546c9f340738967c2cc090d316c",
            "04a88a2a26574636a6ec1906b913e3d5",
            "832cc06f43ae47069e31a2521affffda",
            "18d7254a27884760a3f04dea37316781",
            "c9621fd02b564f179e0d9816f741d1d0",
            "50eee9ce0b794faf89a795a08993ec6b",
            "ec942eaf045146c384bc8e7cb8568c2f",
            "675e15e76d9145b6bc865896f3c924f8",
            "3badd119b8a34283a6c39e49248760d3",
            "9f697821a3a84c83a3fe9856f8d56a48",
            "ce978ee605fb4ee7bc0b2691b6152872",
            "b192d89aeefe483f8e298706ad54d97c",
            "d7cca1531c4a425bb7f70e2568788a8a",
            "6b5126a2b85045b095c544469118155c",
            "b31bce31fedd441ab0c050546c69d828",
            "8827bc844a5b4cfebfb1eac06ffffcbf",
            "18a94f68df76423896475a90f88bef05",
            "949147b5a1f44d6ca773c56131500c66",
            "8ec787aee2f442dab1ec31ed9d5be627",
            "58317c62f3e14515a0b775d34c0ea2ae",
            "6537f55ec22b419b825358f7851d1256",
            "b2c147a7d788499b98bbe05d5b3d6b66",
            "66704bc41ef748bb86c2aca9a1ce4df1",
            "cee84d87f07a4deaac368cb2c6649d22",
            "7a7b82cdf3f24be2b6d479aeee45b250",
            "8696fc18e8e74be28a347b1ff9129c36",
            "1f4cfe32816249ed812b0476452f460b",
            "f4235aec01d24e438ab7db908c0eedb2",
            "b322ef5fb39743bbb4aa8c3117b3a654",
            "a36f6ac58dcf4b8980b00d4420a7048b",
            "2c97960b9135443e84a9c669697b956f",
            "3224f43154924a8eae6ed925194db36d",
            "fd68574837b6452bb88fa9f56ff5658d",
            "06b8c8e5eae24992aa0ba917eaac904b",
            "31c1fe5f2ca247d381913661b3f6fa53",
            "315b80c06ad84bf6a0cf197ffa202832",
            "18909254c5024a2cb27d26d24f0d7f77",
            "bba6e04b7fa34da19e6e41f58bf322d5",
            "c0c3a4dc7a5c46a6b87bd9618759c9aa",
            "f3b741a4f84847cb99a766729029f4f2",
            "ddfbbf72c8cd4554823bf11786778974",
            "1883148bbd944415872f2a4639a439de",
            "88999867fb984cba8140a72cf294e7c2",
            "0525285e20314dad8a891d36cff2122e",
            "116f121aa8f04562ba4f9087fe1b8dd6",
            "ecb065071f9649d4b2e9002062e105f4",
            "b0f71d48a11f422a8cc4116b45dfb568",
            "316259b6be614d858a4a3dd2b1c03c12",
            "adcbd7f2644e42a0a70e60a53bdab6ee",
            "53b9bcd5a2e943a097761be3d93bed29",
            "111561ca7f884dd3b562f1f736743bbe",
            "d2a65f3fbbbe447aafc4c9aedbd3c295",
            "5ca75744985848348304699fa1c4ef38",
            "b1ce4f5034dd4fbca5a9a2143613d66a",
            "d2c2c25ea3fc4bb19a7fbeac6249ee06",
            "46fb31e7020f4e10adfbc1e6cb5d0986",
            "bbc0b51d7a8d4ed8b3597c119b28bea0",
            "f543c08f46a3455ba3ae699e0b5d4687",
            "4369dc5cde524c00aa8e6a831aae56e9",
            "bcef6e4376aa423c91d387089c91f255",
            "04100771ed034a61aa0605ffad3db361",
            "97a879cef0ac49be860b25e04c434c93",
            "800ddd26eb7249389463a25eb4de92b4",
            "25d1e6372f33434c997e34ff0894a4e7",
            "4e0ec69578b54bd493d2231e7717dec7",
            "fe545be46daa42c9aa5ccbe7b1daed94",
            "a1e48270a2e24b01a1c1e2b2690c7180",
            "a287d7ccddfd43359c4fcfe1f33afac3",
            "28634863a58843dca6c222d904e484e3",
            "04f44e309caa4ec2b43b9d06de699d31",
            "9edb5e66cb7d4a81818ffb6db4e6e244",
            "33ca62a8a7684ed38cffd94bfb8afac8",
            "e33d8c41f77b4fd5810c2c1462a97786",
            "4cab0ca156e8426995ddef77e62fcaa5",
            "75c6b46a6f3c4411b53ea667c1d53aec",
            "c14ca04da660435089337bd1a6691074",
            "306c47919be343508fb9c6bc22c4d90a",
            "3ad85f6309754c6d9b335ce0d38d4bd2",
            "c27d125fa54247b886c060415b8a37cf",
            "242d4d9cf7e54313bc0ec5421f496cfc",
            "5d8b9fbe9bf24957a3a8c3442faee962",
            "22fcfe4adf2b41dcbfaddf7467fdcd2a",
            "0a286c82f67643d3a9e2b240bb763b93",
            "22c88fd807b843d38b3faaf5524d4cd1",
            "bd858502d36a49578412b14e313d50f5",
            "099dc087a78b4ababc56197afeb04769",
            "37c8af2acb934aef843cf47f95993355",
            "99d12381bd1f4fa7a09cc54841ff7152",
            "a68a4d1bc8724f9481a8e8f54ab21082",
            "27bf4e112ad5442c95c8607a4f6885cb",
            "45fd8fac421c46ab97aaa22c171ff777",
            "3431e2a9be014f6a83ea1f729fedb6f8",
            "2777f8d78c444c4cb05bd88385ec7a11",
            "ead7821e089a44219a322c9fb26cbeed",
            "7364e061de404b2f849468fe6540c7e1",
            "884e215a6f374dc3832016246ac74336",
            "e86bfc2000f245d6b7229a1cd5b0e600",
            "0de7691c05774b58abdaca3a909c2ea4",
            "35b6484a36fd4d6dadf65851b668a8b3",
            "3642d529b5c34b4f89ed7b3119a754e8",
            "2e5ce57b96a0424888d8826b7137ef2e",
            "2e058703dc0c4f758c0e8bb6f8cbe26b",
            "f73cd5bb00b14b09b68217f9be9aed82",
            "f8105e53e9364e528f52ea42d8129f44",
            "5e174be9fd7241c69cf4c6ee61da3825",
            "e26858eadd064a098bed4d703ce1fa7c",
            "2a08b98e341645b0adf02d345edd16fc",
            "b4ec2d06b33944ada60a26d417dfdc60",
            "f3a3b57d736645ef9bceb3dadaf4f182",
            "96638491092b4dff9e168add7e6cabac",
            "717be7743f2a4d0bb8b5cec859c658c5",
            "6957f5e1732542abb7b5c89356f70552",
            "515f3cc6cebd4c9094ab7d1c804234de",
            "3bc3c4f68f494e63b0e318d8da124329",
            "7bc3f5d8af8d482681cf6ac65608d58e",
            "e1b30c7e0a69462ca1ee51209c8c559c",
            "02278f5e07cb4385ac1ca591b4b72195",
            "3cc1e74870854d6382ea9ecc5bdd188f",
            "bde48660319f442b8192b3debc5a07a2",
            "a0643fced004499f9969ae27f2a966da",
            "39f8bd1a85ba4f8fb22990e33834648b",
            "693c37caa13b4c39bf63d9485fd83fe4",
            "d53792a4a10d409586623d0649e67468",
            "3a8a2b1ee5f94ea698a864c4690a70e1",
            "7ca1b22747e047f7a9889f4553f25530",
            "c41ca1367ff941da9e9277514f3c6c59",
            "1aef2f8c09424be0bee4cd91e9791ce3",
            "985febd796cd4c0f96c6c8dd47026aa6",
            "7834faa03da14e0ca45914f6b8278c59",
            "92e3b89d30514b4bae13c7533be4500c",
            "998c8fea563c4d5c93f77573296fa2f7",
            "8214346ba45b45bc80e118c879d9c659",
            "931149cf09084f4e804b5c2d29480935",
            "6c34eccf919f4c96bd4cece391a77ec6",
            "fd79e03fffbb43c6acfcfcbdbb8bc51d",
            "83b46f16b47b4380b2d2aa568cb91f44",
            "66b30248d7494ac8a61ce2fd509cc07d",
            "fd89223c569940cf9bb907fdba91519f",
            "13c750849ac64f73a43f35b7ed3dbfd3",
            "2d15ff11ff364c93a5b9c36b0971d5ff",
            "5caf05e21c0e4cdb8e4c82e10024511e",
            "b2008e4d4f844799bcf4f24b51f08de3",
            "6587180dca154a1585d723fbbbfd1251",
            "8b6c601990534b7896d04b23feef56f6",
            "0724e9a0af9941d9a116a62060c79d3a",
            "602d83d790924383a5beaf617ee4c936",
            "f5d8453b32f94419a5311d3ada95ceae",
            "38bd563c94344a88a2293f1449fc5306",
            "eb550c57848b4facaf04b3f7a37fbd34",
            "d787b60fcb574e5093644dc4364b8cb8",
            "a3e0d32b5bcd4d86b45d2f9e21e11f9f",
            "78594002ac21479bb113e742580c3327",
            "7b051e656a8c4c32a03b5e998e65a35d",
            "59238884fe5342f88b7493e90adb17d1",
            "661f5075f97d49f2a6b3bbdf3082737a",
            "daf61732bc544549b6e7a7cb49fd3412",
            "f28bc1d1a7d54a679726ed855fd6e02e",
            "192a517a517c45a08f7be3ad0a340ca2",
            "14c775ed0f474fbaa3872d1f91108a84",
            "b08ebb69ce664b0fb53eeec593f98697",
            "9061e4345a6145e283d2e7ded11ae9dc",
            "f6d52feea934418da5082177dede84a3",
            "78b5b981e42e4aca97b928b5df5e89b0",
            "378a575cfebb42f9a5609ede0646fe0f",
            "62128703af1b423aa096f8b3dbc8d108",
            "4a40e91e750042e8b231f6ceb6f5003e",
            "97724611d0414e08bfa8a4c2c70bcbb5",
            "e535f06c9e614fc3b36b1ecaeb172ff6",
            "a3a8daeee50842ca9c75a509cda63504",
            "5f6817f990da4e83b2df933eb922886b",
            "8d5b1e986fce47aebf24177274812061",
            "b83ab0420c714320a7136afca223ad5a",
            "144a80a7c8d14bb597bef0ed990b952b",
            "e5bd804227324c89a557ca7ea668a049",
            "612cbf79baed47e6a57f55f6d334314b",
            "0bcac9f55940403aa34085b87cd1dce8",
            "935ca1c3c68a4cbdb1eb43f1df92da3f",
            "997c02b298b84953bdf6ff5317fca9e1",
            "f5d9ecb5037f4e26a69849036e54e1a4",
            "3e5e9857aa9c4cbe8adb4e1d38230cd4",
            "d1b5ae444b3c4ab7a4025b848f791de7",
            "c8001f66029848d7805e0f015d59927e",
            "0bfc141c62a94ae5be9e9adf0835b5f4"
          ]
        },
        "outputId": "22de2c23-de85-4772-e9c7-a95c206ecea7"
      },
      "outputs": [
        {
          "output_type": "display_data",
          "data": {
            "text/plain": [
              "modules.json:   0%|          | 0.00/349 [00:00<?, ?B/s]"
            ],
            "application/vnd.jupyter.widget-view+json": {
              "version_major": 2,
              "version_minor": 0,
              "model_id": "e1ff2f305bcf4ff883310cc46e0798f8"
            }
          },
          "metadata": {}
        },
        {
          "output_type": "display_data",
          "data": {
            "text/plain": [
              "config_sentence_transformers.json:   0%|          | 0.00/116 [00:00<?, ?B/s]"
            ],
            "application/vnd.jupyter.widget-view+json": {
              "version_major": 2,
              "version_minor": 0,
              "model_id": "aaff130ba6ef483e8f275f2db0bca074"
            }
          },
          "metadata": {}
        },
        {
          "output_type": "display_data",
          "data": {
            "text/plain": [
              "README.md:   0%|          | 0.00/11.6k [00:00<?, ?B/s]"
            ],
            "application/vnd.jupyter.widget-view+json": {
              "version_major": 2,
              "version_minor": 0,
              "model_id": "675e15e76d9145b6bc865896f3c924f8"
            }
          },
          "metadata": {}
        },
        {
          "output_type": "display_data",
          "data": {
            "text/plain": [
              "sentence_bert_config.json:   0%|          | 0.00/53.0 [00:00<?, ?B/s]"
            ],
            "application/vnd.jupyter.widget-view+json": {
              "version_major": 2,
              "version_minor": 0,
              "model_id": "8ec787aee2f442dab1ec31ed9d5be627"
            }
          },
          "metadata": {}
        },
        {
          "output_type": "display_data",
          "data": {
            "text/plain": [
              "config.json:   0%|          | 0.00/612 [00:00<?, ?B/s]"
            ],
            "application/vnd.jupyter.widget-view+json": {
              "version_major": 2,
              "version_minor": 0,
              "model_id": "a36f6ac58dcf4b8980b00d4420a7048b"
            }
          },
          "metadata": {}
        },
        {
          "output_type": "stream",
          "name": "stderr",
          "text": [
            "Xet Storage is enabled for this repo, but the 'hf_xet' package is not installed. Falling back to regular HTTP download. For better performance, install the package with: `pip install huggingface_hub[hf_xet]` or `pip install hf_xet`\n",
            "WARNING:huggingface_hub.file_download:Xet Storage is enabled for this repo, but the 'hf_xet' package is not installed. Falling back to regular HTTP download. For better performance, install the package with: `pip install huggingface_hub[hf_xet]` or `pip install hf_xet`\n"
          ]
        },
        {
          "output_type": "display_data",
          "data": {
            "text/plain": [
              "model.safetensors:   0%|          | 0.00/90.9M [00:00<?, ?B/s]"
            ],
            "application/vnd.jupyter.widget-view+json": {
              "version_major": 2,
              "version_minor": 0,
              "model_id": "ddfbbf72c8cd4554823bf11786778974"
            }
          },
          "metadata": {}
        },
        {
          "output_type": "display_data",
          "data": {
            "text/plain": [
              "tokenizer_config.json:   0%|          | 0.00/383 [00:00<?, ?B/s]"
            ],
            "application/vnd.jupyter.widget-view+json": {
              "version_major": 2,
              "version_minor": 0,
              "model_id": "d2a65f3fbbbe447aafc4c9aedbd3c295"
            }
          },
          "metadata": {}
        },
        {
          "output_type": "display_data",
          "data": {
            "text/plain": [
              "vocab.txt:   0%|          | 0.00/232k [00:00<?, ?B/s]"
            ],
            "application/vnd.jupyter.widget-view+json": {
              "version_major": 2,
              "version_minor": 0,
              "model_id": "800ddd26eb7249389463a25eb4de92b4"
            }
          },
          "metadata": {}
        },
        {
          "output_type": "display_data",
          "data": {
            "text/plain": [
              "tokenizer.json:   0%|          | 0.00/466k [00:00<?, ?B/s]"
            ],
            "application/vnd.jupyter.widget-view+json": {
              "version_major": 2,
              "version_minor": 0,
              "model_id": "4cab0ca156e8426995ddef77e62fcaa5"
            }
          },
          "metadata": {}
        },
        {
          "output_type": "display_data",
          "data": {
            "text/plain": [
              "special_tokens_map.json:   0%|          | 0.00/112 [00:00<?, ?B/s]"
            ],
            "application/vnd.jupyter.widget-view+json": {
              "version_major": 2,
              "version_minor": 0,
              "model_id": "bd858502d36a49578412b14e313d50f5"
            }
          },
          "metadata": {}
        },
        {
          "output_type": "display_data",
          "data": {
            "text/plain": [
              "config.json:   0%|          | 0.00/190 [00:00<?, ?B/s]"
            ],
            "application/vnd.jupyter.widget-view+json": {
              "version_major": 2,
              "version_minor": 0,
              "model_id": "884e215a6f374dc3832016246ac74336"
            }
          },
          "metadata": {}
        },
        {
          "output_type": "display_data",
          "data": {
            "text/plain": [
              "config.json:   0%|          | 0.00/794 [00:00<?, ?B/s]"
            ],
            "application/vnd.jupyter.widget-view+json": {
              "version_major": 2,
              "version_minor": 0,
              "model_id": "2a08b98e341645b0adf02d345edd16fc"
            }
          },
          "metadata": {}
        },
        {
          "output_type": "stream",
          "name": "stderr",
          "text": [
            "Xet Storage is enabled for this repo, but the 'hf_xet' package is not installed. Falling back to regular HTTP download. For better performance, install the package with: `pip install huggingface_hub[hf_xet]` or `pip install hf_xet`\n",
            "WARNING:huggingface_hub.file_download:Xet Storage is enabled for this repo, but the 'hf_xet' package is not installed. Falling back to regular HTTP download. For better performance, install the package with: `pip install huggingface_hub[hf_xet]` or `pip install hf_xet`\n"
          ]
        },
        {
          "output_type": "display_data",
          "data": {
            "text/plain": [
              "model.safetensors:   0%|          | 0.00/90.9M [00:00<?, ?B/s]"
            ],
            "application/vnd.jupyter.widget-view+json": {
              "version_major": 2,
              "version_minor": 0,
              "model_id": "3cc1e74870854d6382ea9ecc5bdd188f"
            }
          },
          "metadata": {}
        },
        {
          "output_type": "display_data",
          "data": {
            "text/plain": [
              "tokenizer_config.json:   0%|          | 0.00/1.33k [00:00<?, ?B/s]"
            ],
            "application/vnd.jupyter.widget-view+json": {
              "version_major": 2,
              "version_minor": 0,
              "model_id": "7834faa03da14e0ca45914f6b8278c59"
            }
          },
          "metadata": {}
        },
        {
          "output_type": "display_data",
          "data": {
            "text/plain": [
              "vocab.txt:   0%|          | 0.00/232k [00:00<?, ?B/s]"
            ],
            "application/vnd.jupyter.widget-view+json": {
              "version_major": 2,
              "version_minor": 0,
              "model_id": "2d15ff11ff364c93a5b9c36b0971d5ff"
            }
          },
          "metadata": {}
        },
        {
          "output_type": "display_data",
          "data": {
            "text/plain": [
              "tokenizer.json:   0%|          | 0.00/711k [00:00<?, ?B/s]"
            ],
            "application/vnd.jupyter.widget-view+json": {
              "version_major": 2,
              "version_minor": 0,
              "model_id": "a3e0d32b5bcd4d86b45d2f9e21e11f9f"
            }
          },
          "metadata": {}
        },
        {
          "output_type": "display_data",
          "data": {
            "text/plain": [
              "special_tokens_map.json:   0%|          | 0.00/132 [00:00<?, ?B/s]"
            ],
            "application/vnd.jupyter.widget-view+json": {
              "version_major": 2,
              "version_minor": 0,
              "model_id": "f6d52feea934418da5082177dede84a3"
            }
          },
          "metadata": {}
        },
        {
          "output_type": "display_data",
          "data": {
            "text/plain": [
              "README.md:   0%|          | 0.00/3.66k [00:00<?, ?B/s]"
            ],
            "application/vnd.jupyter.widget-view+json": {
              "version_major": 2,
              "version_minor": 0,
              "model_id": "144a80a7c8d14bb597bef0ed990b952b"
            }
          },
          "metadata": {}
        }
      ],
      "source": [
        "from sentence_transformers import SentenceTransformer, CrossEncoder\n",
        "\n",
        "semb_model = SentenceTransformer('multi-qa-MiniLM-L6-cos-v1')\n",
        "xenc_model = CrossEncoder('cross-encoder/ms-marco-MiniLM-L-6-v2')"
      ]
    },
    {
      "cell_type": "markdown",
      "id": "thO1wWEq9ylz",
      "metadata": {
        "id": "thO1wWEq9ylz"
      },
      "source": [
        "Now let's embed the retrieved passages (We can checkpoint the embeddings to avoid repeating the computation each time)"
      ]
    },
    {
      "cell_type": "code",
      "execution_count": null,
      "id": "8DO9OtdA9xxf",
      "metadata": {
        "id": "8DO9OtdA9xxf",
        "tags": []
      },
      "outputs": [],
      "source": [
        "import os\n",
        "import pickle\n",
        "\n",
        "# Define hnswlib index path\n",
        "embeddings_cache_path = './qa_embeddings_cache.pkl'\n",
        "\n",
        "# Load cache if available\n",
        "if os.path.exists(embeddings_cache_path):\n",
        "    print('Loading embeddings cache')\n",
        "    with open(embeddings_cache_path, 'rb') as f:\n",
        "        corpus_embeddings = pickle.load(f)\n",
        "# Else compute embeddings\n",
        "else:\n",
        "    print('Computing embeddings')\n",
        "    corpus_embeddings = semb_model.encode(passages, convert_to_tensor=True, show_progress_bar=True)\n",
        "    # Save the index to a file for future loading\n",
        "    print(f'Saving index to: \\'{embeddings_cache_path}\\'')\n",
        "    with open(embeddings_cache_path, 'wb') as f:\n",
        "        pickle.dump(corpus_embeddings, f)"
      ]
    },
    {
      "cell_type": "markdown",
      "id": "d1PmCJqc_x_S",
      "metadata": {
        "id": "d1PmCJqc_x_S"
      },
      "source": [
        "Finally let's index the embeddings (and let's sve the index hoping it works this time)"
      ]
    },
    {
      "cell_type": "code",
      "execution_count": null,
      "id": "YEvmHHaiAF1E",
      "metadata": {
        "id": "YEvmHHaiAF1E",
        "tags": []
      },
      "outputs": [],
      "source": [
        "!pip -q install hnswlib"
      ]
    },
    {
      "cell_type": "code",
      "execution_count": null,
      "id": "uf3R0pcO_yN2",
      "metadata": {
        "id": "uf3R0pcO_yN2",
        "tags": []
      },
      "outputs": [],
      "source": [
        "import os\n",
        "import hnswlib\n",
        "\n",
        "# Create empthy index\n",
        "index = hnswlib.Index(space='cosine', dim=384)\n",
        "\n",
        "# Define hnswlib index path\n",
        "index_path = './qa_hnswlib.index'\n",
        "\n",
        "# Load index if available\n",
        "if os.path.exists(index_path):\n",
        "    print('Loading index...')\n",
        "    index.load_index(index_path)\n",
        "# Else index data collection\n",
        "else:\n",
        "    # Initialise the index\n",
        "    print('Started creating HNSWLIB index')\n",
        "    index.init_index(max_elements=corpus_embeddings.size(0), ef_construction=400, M=64)\n",
        "    #  Compute the HNSWLIB index (it may take a while)\n",
        "    index.add_items(corpus_embeddings.cpu(), list(range(len(corpus_embeddings))))\n",
        "    # Save the index to a file for future loading\n",
        "    print(f'Saving index to: {index_path}')\n",
        "    index.save_index(index_path)"
      ]
    },
    {
      "cell_type": "markdown",
      "id": "IsuUSgT6AMX1",
      "metadata": {
        "id": "IsuUSgT6AMX1"
      },
      "source": [
        "Now we have almost all the tools to answer a question"
      ]
    },
    {
      "cell_type": "markdown",
      "id": "427fc98d-1d8b-412f-a804-574d6eac9201",
      "metadata": {
        "id": "427fc98d-1d8b-412f-a804-574d6eac9201"
      },
      "source": [
        "### Answering a question\n",
        "\n",
        "We are still missing the core of the QA system, the answering model.\n",
        "We are going to re-use a pre-trained model.\n",
        "\n",
        "[FLAN T5](https://arxiv.org/abs/2210.11416) is a pre-trained encode-decoder model trained to be used on different tasks in zero-shot or few-shots leaning settings"
      ]
    },
    {
      "cell_type": "markdown",
      "id": "7f8ad056-857c-4bbe-91c9-aeedbb0b1727",
      "metadata": {
        "id": "7f8ad056-857c-4bbe-91c9-aeedbb0b1727"
      },
      "source": [
        "First we need to install come additional libraries (it may be required to restart the notebook after )"
      ]
    },
    {
      "cell_type": "code",
      "execution_count": null,
      "id": "Va63G93lJfSE",
      "metadata": {
        "id": "Va63G93lJfSE",
        "tags": []
      },
      "outputs": [],
      "source": [
        "!pip -q install sentencepiece"
      ]
    },
    {
      "cell_type": "markdown",
      "id": "d9551106-0aca-494c-9daf-12c6b2057722",
      "metadata": {
        "id": "d9551106-0aca-494c-9daf-12c6b2057722"
      },
      "source": [
        "LLMs can take a lot of memory, to help reduce this issue it is possible to use half precision (floating point 16) encoding or to quantise the weights of the model.\n",
        "Note that quantisation hurts a bit the model capabilities (usually, the impact is negligible) and prevents you from training, but boosts incredibly the infrence."
      ]
    },
    {
      "cell_type": "code",
      "execution_count": null,
      "id": "GssOsdFAGT9N",
      "metadata": {
        "id": "GssOsdFAGT9N",
        "tags": []
      },
      "outputs": [],
      "source": [
        "import torch\n",
        "from transformers import T5Tokenizer, T5ForConditionalGeneration\n",
        "\n",
        "device = torch.device('cuda' if torch.cuda.is_available() else 'cpu')\n",
        "\n",
        "tokenizer = T5Tokenizer.from_pretrained(\"google/flan-t5-large\")\n",
        "model = T5ForConditionalGeneration.from_pretrained(\"google/flan-t5-large\", device_map=\"cuda\", torch_dtype=torch.bfloat16)"
      ]
    },
    {
      "cell_type": "markdown",
      "id": "7sKz5f1TJKhr",
      "metadata": {
        "id": "7sKz5f1TJKhr"
      },
      "source": [
        "Let's check quickly that the model works"
      ]
    },
    {
      "cell_type": "code",
      "execution_count": null,
      "id": "wId9d-_7JK7m",
      "metadata": {
        "id": "wId9d-_7JK7m",
        "tags": []
      },
      "outputs": [],
      "source": [
        "input_text = \"Translate the following sentence from English to Italian: \\\"NLP is super fun!\\\"\"\n",
        "input_ids = tokenizer(input_text, return_tensors=\"pt\").input_ids.to(device)\n",
        "\n",
        "output_ids = model.generate(input_ids, max_new_tokens=32)\n",
        "output_text = tokenizer.decode(output_ids[0])\n",
        "print(output_text)"
      ]
    },
    {
      "cell_type": "markdown",
      "id": "8qKLHXYMGUKd",
      "metadata": {
        "id": "8qKLHXYMGUKd"
      },
      "source": [
        "Now we can test our pipeline.\n",
        "First select randomly a question from the data set"
      ]
    },
    {
      "cell_type": "code",
      "execution_count": null,
      "id": "a0f270d8-1cf4-4b39-8bd9-5312646378c1",
      "metadata": {
        "id": "a0f270d8-1cf4-4b39-8bd9-5312646378c1",
        "tags": []
      },
      "outputs": [],
      "source": [
        "import random\n",
        "\n",
        "random.seed(1995)\n",
        "\n",
        "idx = random.choice(range(len(wiki_qa_correct)))\n",
        "\n",
        "sample = wiki_qa_correct[idx]\n",
        "question = sample['question']\n",
        "target_answer = sample['answer']\n",
        "\n",
        "print(f'Question {idx}: {question}?')"
      ]
    },
    {
      "cell_type": "markdown",
      "id": "3waS9PiCSBcg",
      "metadata": {
        "id": "3waS9PiCSBcg"
      },
      "source": [
        "Embed the question"
      ]
    },
    {
      "cell_type": "code",
      "execution_count": null,
      "id": "QfP51mwmSBwG",
      "metadata": {
        "id": "QfP51mwmSBwG",
        "tags": []
      },
      "outputs": [],
      "source": [
        "question_embedding = semb_model.encode(question, convert_to_tensor=True)"
      ]
    },
    {
      "cell_type": "markdown",
      "id": "AtmId6HLGB8r",
      "metadata": {
        "id": "AtmId6HLGB8r"
      },
      "source": [
        "Retrieve relevant documents keeping top $k$ matches"
      ]
    },
    {
      "cell_type": "code",
      "execution_count": null,
      "id": "03e342af-1b52-46b4-8c44-d83f4c854a80",
      "metadata": {
        "id": "03e342af-1b52-46b4-8c44-d83f4c854a80",
        "tags": []
      },
      "outputs": [],
      "source": [
        "corpus_ids, distances = index.knn_query(question_embedding.cpu(), k=64)\n",
        "scores = 1 - distances\n",
        "\n",
        "print(\"Cosine similarity model search results\")\n",
        "print(f\"Query: \\\"{question}\\\"\")\n",
        "print(\"---------------------------------------\")\n",
        "for idx, score in zip(corpus_ids[0][:5], scores[0][:5]):\n",
        "    print(f\"Score: {score:.4f}\\nDocument: \\\"{passages[idx]}\\\"\\n\\n\")"
      ]
    },
    {
      "cell_type": "markdown",
      "id": "0aH0PbWSGCxy",
      "metadata": {
        "id": "0aH0PbWSGCxy"
      },
      "source": [
        "Re-rank retrieved documents"
      ]
    },
    {
      "cell_type": "code",
      "execution_count": null,
      "id": "_fdj_udmGD3G",
      "metadata": {
        "id": "_fdj_udmGD3G",
        "tags": []
      },
      "outputs": [],
      "source": [
        "import numpy as np\n",
        "\n",
        "model_inputs = [(question, passages[idx]) for idx in corpus_ids[0]]\n",
        "cross_scores = xenc_model.predict(model_inputs)\n",
        "\n",
        "print(\"Cross-encoder model re-ranking results\")\n",
        "print(f\"Query: \\\"{question}\\\"\")\n",
        "print(\"---------------------------------------\")\n",
        "for idx in np.argsort(-cross_scores)[:5]:\n",
        "    print(f\"Score: {cross_scores[idx]:.4f}\\nDocument: \\\"{passages[corpus_ids[0][idx]]}\\\"\\n\\n\")"
      ]
    },
    {
      "cell_type": "markdown",
      "id": "-_hmhwoiGEXm",
      "metadata": {
        "id": "-_hmhwoiGEXm"
      },
      "source": [
        "Use best match to answer (and compare to reference answer)"
      ]
    },
    {
      "cell_type": "code",
      "execution_count": null,
      "id": "n0veVOPWGEtN",
      "metadata": {
        "id": "n0veVOPWGEtN",
        "tags": []
      },
      "outputs": [],
      "source": [
        "passage_idx = np.argsort(-cross_scores)[0]\n",
        "passage = passages[corpus_ids[0][passage_idx]]\n",
        "\n",
        "input_text = f\"Given the following passage, answer the related question.\\n\\nPassage:\\n\\n{passage}\\n\\nQ: {question}?\"\n",
        "input_ids = tokenizer(input_text, return_tensors=\"pt\").input_ids.to(device)\n",
        "print(input_text, \"\\n\")\n",
        "\n",
        "output_ids = model.generate(input_ids, max_new_tokens=32)\n",
        "output_text = tokenizer.decode(output_ids[0], skip_special_tokens=True)\n",
        "print(\"A (generated): \", output_text, \"\\n\")\n",
        "\n",
        "print(f\"A (target): {target_answer}\")"
      ]
    },
    {
      "cell_type": "markdown",
      "id": "XBCsWWE6KpAA",
      "metadata": {
        "id": "XBCsWWE6KpAA"
      },
      "source": [
        "How do we know if the passage was useful and the model haven't exploited weights memorisation?\n",
        "Let's try to generate directly the response\n"
      ]
    },
    {
      "cell_type": "code",
      "execution_count": null,
      "id": "sIYDlm5kKpOC",
      "metadata": {
        "id": "sIYDlm5kKpOC",
        "tags": []
      },
      "outputs": [],
      "source": [
        "input_text = f\"Answer the following question.\\n\\nQ: {question}?\"\n",
        "input_ids = tokenizer(input_text, return_tensors=\"pt\").input_ids.to(device)\n",
        "print(input_text)\n",
        "\n",
        "output_ids = model.generate(input_ids, max_new_tokens=32)\n",
        "output_text = tokenizer.decode(output_ids[0], skip_special_tokens=True)\n",
        "print(f\"\\nA: {output_text}\")"
      ]
    },
    {
      "cell_type": "markdown",
      "id": "32ad7316-03ba-4f90-a847-774bc3543bd8",
      "metadata": {
        "id": "32ad7316-03ba-4f90-a847-774bc3543bd8"
      },
      "source": [
        "### Putting all together\n",
        "\n",
        "We can finally set up an entire question answering pipeline:\n",
        "- We have the knowledge\n",
        "- We have the retrieval system\n",
        "    - We also have the re-ranking system\n",
        "- We have the asnwering system\n",
        "\n",
        "Let's define a function that puts everything together and"
      ]
    },
    {
      "cell_type": "code",
      "execution_count": null,
      "id": "88153175-be77-451b-8955-f5851a45d2a3",
      "metadata": {
        "id": "88153175-be77-451b-8955-f5851a45d2a3",
        "tags": []
      },
      "outputs": [],
      "source": [
        "def qa_pipeline(\n",
        "    question,\n",
        "    similarity_model=semb_model,\n",
        "    embeddings_index=index,\n",
        "    re_ranking_model=xenc_model,\n",
        "    generative_model=model,\n",
        "    device=device\n",
        "):\n",
        "    if not question.endswith('?'):\n",
        "        question = question + '?'\n",
        "    # Embed question\n",
        "    question_embedding = semb_model.encode(question, convert_to_tensor=True)\n",
        "    # Search documents similar to question in index\n",
        "    corpus_ids, distances = index.knn_query(question_embedding.cpu(), k=64)\n",
        "    # Re-rank results\n",
        "    xenc_model_inputs = [(question, passages[idx]) for idx in corpus_ids[0]]\n",
        "    cross_scores = xenc_model.predict(model_inputs)\n",
        "    # Get best matching passage\n",
        "    passage_idx = np.argsort(-cross_scores)[0]\n",
        "    passage = passages[corpus_ids[0][passage_idx]]\n",
        "    # Encode input\n",
        "    input_text = f\"Given the following passage, answer the related question.\\n\\nPassage:\\n\\n{passage}\\n\\nQ: {question}\"\n",
        "    input_ids = tokenizer(input_text, return_tensors=\"pt\").input_ids.to(device)\n",
        "    # Generate output\n",
        "    output_ids = model.generate(input_ids, max_new_tokens=64)\n",
        "    # Decode output\n",
        "    output_text = tokenizer.decode(output_ids[0], skip_special_tokens=True)\n",
        "\n",
        "    # Return result\n",
        "    return f\"Passage:\\n\\n{passage}\\n\\nQ: {question}\\n\\nA: {output_text}\""
      ]
    },
    {
      "cell_type": "markdown",
      "id": "3db6bb86-3d6c-4b2f-a963-5da9764593b6",
      "metadata": {
        "id": "3db6bb86-3d6c-4b2f-a963-5da9764593b6",
        "tags": []
      },
      "source": [
        "Try it out"
      ]
    },
    {
      "cell_type": "code",
      "execution_count": null,
      "id": "kVX3SXdtFijU",
      "metadata": {
        "id": "kVX3SXdtFijU",
        "tags": []
      },
      "outputs": [],
      "source": [
        "question = input(\"Ask a question >>> \")  # e.g., \"How many fingers in a hand?\", \"What's the meaning of life?\", ...\n",
        "print()\n",
        "\n",
        "print(qa_pipeline(question))"
      ]
    },
    {
      "cell_type": "markdown",
      "id": "e15b6bb6-2714-4654-a2be-7fe4f9db2e1f",
      "metadata": {
        "id": "e15b6bb6-2714-4654-a2be-7fe4f9db2e1f"
      },
      "source": [
        "## Generative chatbots\n",
        "\n",
        "Language models can be used to generate text in dialogues.\n",
        "Now we are going to see how to use transformer language models as generative chatbots.\n",
        "\n",
        "As usual we are going to use the Transformer library from HuggingFace.\n",
        "All generative models there implement a `generate()` methods we are going to use.\n",
        "You can find the documentation here: https://huggingface.co/docs/transformers/main_classes/text_generation"
      ]
    },
    {
      "cell_type": "markdown",
      "id": "d42e15b7-4cbf-4953-9bba-e7f48d5bc4af",
      "metadata": {
        "id": "d42e15b7-4cbf-4953-9bba-e7f48d5bc4af"
      },
      "source": [
        "### Pretrained models\n",
        "\n",
        "For starter let's play around with a pre-trained model.\n",
        "We can load the [DialoGPT](https://arxiv.org/abs/1911.00536) chatbot, a fine-tuning of GPT-2 trained o large collections of conversations crawled from Reddit.\n",
        "\n",
        "We can start seeing different ways to decode (generate) responses using this autoregressive model.\n",
        "What we want to do is use the output probability distribution to select a token compsing a response.\n",
        "Hopefully we select the most probable sequence, actually that's not feasible.\n",
        "\n",
        "Let's proceed step-by-step.\n",
        "First of all get model and tokeniser"
      ]
    },
    {
      "cell_type": "code",
      "execution_count": null,
      "id": "b5e38cc8-c30a-4fe6-97eb-e24e99401d6f",
      "metadata": {
        "tags": [],
        "id": "b5e38cc8-c30a-4fe6-97eb-e24e99401d6f"
      },
      "outputs": [],
      "source": [
        "!pip install -q transformers"
      ]
    },
    {
      "cell_type": "code",
      "execution_count": null,
      "id": "8d201fd9-c66d-429f-84f5-ec7090c13f93",
      "metadata": {
        "id": "8d201fd9-c66d-429f-84f5-ec7090c13f93",
        "tags": []
      },
      "outputs": [],
      "source": [
        "import torch\n",
        "from transformers import AutoTokenizer, AutoModelForCausalLM\n",
        "\n",
        "device = torch.device('cuda' if torch.cuda.is_available() else 'cpu')\n",
        "\n",
        "tokenizer = AutoTokenizer.from_pretrained(\"microsoft/DialoGPT-medium\")\n",
        "model = AutoModelForCausalLM.from_pretrained(\"microsoft/DialoGPT-medium\", device_map=\"auto\", torch_dtype=torch.float16)"
      ]
    },
    {
      "cell_type": "markdown",
      "id": "8f7a3e35-8a2c-420c-86d1-bd832c1c1b8c",
      "metadata": {
        "id": "8f7a3e35-8a2c-420c-86d1-bd832c1c1b8c"
      },
      "source": [
        "#### How does it work?\n",
        "\n",
        "First we need to understand how to provide data to our model\n",
        "\n",
        "Up to a couple of years ago, the standard appraoch to present the input to these models was to separate each utterance with a `end-of-sequence` token.\n",
        "The model would generate an answer and stop every time the `end-of-sequence` tokens is generated.\n",
        "\n",
        "```\n",
        "\"<|endoftext|>Summer loving had me a blast<|endoftext|>Summer loving happened so fast<|endoftext|>I met a girl crazy for me<|endoftext|>Met a boy cute as can be<|endoftext|>\"\n",
        "```\n",
        "\n",
        "Nowadays the appraoch is to have an uninterrupted stream of text, like a movie script\n",
        "\n",
        "```\n",
        "\"\n",
        "A: Hello.\n",
        "B: Is it me you're looking for?\n",
        "A: I can see it in your eyes...\n",
        "B: I can see it in your smile!\n",
        "\"\n",
        "```\n",
        "\n",
        "DialoGPT uses the `end-of-sequence` token."
      ]
    },
    {
      "cell_type": "code",
      "execution_count": null,
      "id": "BmPTK6_FaWab",
      "metadata": {
        "id": "BmPTK6_FaWab",
        "tags": []
      },
      "outputs": [],
      "source": [
        "print(tokenizer.eos_token)\n",
        "print(tokenizer.eos_token_id)"
      ]
    },
    {
      "cell_type": "markdown",
      "id": "CNa-cqd6aW7s",
      "metadata": {
        "id": "CNa-cqd6aW7s"
      },
      "source": [
        "Let's create a context to use as input for our experiments"
      ]
    },
    {
      "cell_type": "code",
      "execution_count": null,
      "id": "9017b027-48e2-49c9-9947-efc7175899f4",
      "metadata": {
        "id": "9017b027-48e2-49c9-9947-efc7175899f4",
        "tags": []
      },
      "outputs": [],
      "source": [
        "context = [\n",
        "    \"Hello, how are you?\",\n",
        "    \"I'm fine thanks, how about you?\"\n",
        "]"
      ]
    },
    {
      "cell_type": "markdown",
      "id": "krHwj4g2Zo1M",
      "metadata": {
        "id": "krHwj4g2Zo1M"
      },
      "source": [
        "Not let's create an input string from the context"
      ]
    },
    {
      "cell_type": "code",
      "execution_count": null,
      "id": "5bJ5YikpZpKD",
      "metadata": {
        "id": "5bJ5YikpZpKD",
        "tags": []
      },
      "outputs": [],
      "source": [
        "input_string = tokenizer.eos_token\n",
        "if len(context) > 0:\n",
        "    input_string = tokenizer.eos_token + tokenizer.eos_token.join(context) + input_string\n",
        "\n",
        "input_string"
      ]
    },
    {
      "cell_type": "markdown",
      "id": "66c8eae1-5c9a-4c31-8a18-119e5fb35f41",
      "metadata": {
        "id": "66c8eae1-5c9a-4c31-8a18-119e5fb35f41"
      },
      "source": [
        "Encode input"
      ]
    },
    {
      "cell_type": "code",
      "execution_count": null,
      "id": "61b00b79-1ac5-4eff-8b9f-92c20afd5601",
      "metadata": {
        "id": "61b00b79-1ac5-4eff-8b9f-92c20afd5601",
        "tags": []
      },
      "outputs": [],
      "source": [
        "input_encoding = tokenizer(input_string, return_tensors='pt').to(device)\n",
        "print(input_encoding.input_ids)\n",
        "print(input_encoding.input_ids.size())"
      ]
    },
    {
      "cell_type": "markdown",
      "id": "a4b824b7-f7f9-4c43-ab88-54edb088faff",
      "metadata": {
        "id": "a4b824b7-f7f9-4c43-ab88-54edb088faff"
      },
      "source": [
        "If we run the sequence through the model, we get a series of logits as output.\n",
        "Since we are using an autogressive models, in the last position we will have the logits of next token."
      ]
    },
    {
      "cell_type": "code",
      "execution_count": null,
      "id": "a1e39f77-7c7c-4760-bba3-6a27399813ab",
      "metadata": {
        "id": "a1e39f77-7c7c-4760-bba3-6a27399813ab",
        "tags": []
      },
      "outputs": [],
      "source": [
        "outputs = model(**input_encoding)\n",
        "print(outputs.logits)\n",
        "print(outputs.logits.size())"
      ]
    },
    {
      "cell_type": "markdown",
      "id": "36be972b-5239-453f-ba21-5848608d1b11",
      "metadata": {
        "id": "36be972b-5239-453f-ba21-5848608d1b11"
      },
      "source": [
        "We can run these logits through a $\\mathrm{softmax}(\\cdot)$ and obtain the probability distribution over tokens:\n",
        "- for each possible token we have the probability of it being the next in the sequence\n",
        "- We can sample a token from this probability distribution and recurr itin input to get a new token\n",
        "- We can iterate this process to compose a response"
      ]
    },
    {
      "cell_type": "code",
      "execution_count": null,
      "id": "dadf5181-49e9-4a77-9aa6-e5396f9f130d",
      "metadata": {
        "id": "dadf5181-49e9-4a77-9aa6-e5396f9f130d",
        "tags": []
      },
      "outputs": [],
      "source": [
        "p_dist_next = torch.softmax(outputs.logits[:, -1], dim=1)\n",
        "print(p_dist_next)\n",
        "print(p_dist_next.sum())\n",
        "print(p_dist_next.size())"
      ]
    },
    {
      "cell_type": "markdown",
      "id": "XZTr4ZoYbuZQ",
      "metadata": {
        "id": "XZTr4ZoYbuZQ"
      },
      "source": [
        "What is the most probable next token?"
      ]
    },
    {
      "cell_type": "code",
      "execution_count": null,
      "id": "MLx4yISpbu0P",
      "metadata": {
        "id": "MLx4yISpbu0P",
        "tags": []
      },
      "outputs": [],
      "source": [
        "arg_max_idx = torch.argmax(p_dist_next)\n",
        "print(arg_max_idx)\n",
        "tokenizer.decode(arg_max_idx)"
      ]
    },
    {
      "cell_type": "markdown",
      "id": "0wAujEcgb5ab",
      "metadata": {
        "id": "0wAujEcgb5ab"
      },
      "source": [
        "Note that we don't need to run the $\\mathrm{softmax}(\\cdot)$ operation if we just want to find the token with highest probability."
      ]
    },
    {
      "cell_type": "markdown",
      "id": "6599151a-ae4e-4442-90be-bae9d3d36342",
      "metadata": {
        "id": "6599151a-ae4e-4442-90be-bae9d3d36342"
      },
      "source": [
        "#### Deterministic decoding\n",
        "\n",
        "Deterministic appraoches yield always the same output for a given input"
      ]
    },
    {
      "cell_type": "markdown",
      "id": "01ac99e9-8968-4e17-84d2-629609a3ead4",
      "metadata": {
        "id": "01ac99e9-8968-4e17-84d2-629609a3ead4"
      },
      "source": [
        "##### Greedy decoding\n",
        "\n",
        "The most starightforward way is to pick each time the most probable token and recurr it as next step in input.\n",
        "Very suboptimal solution, usually yields dull responses like `\"I don't know\"` or causes degenerate generation (e.g., repeating the same token many times)."
      ]
    },
    {
      "cell_type": "code",
      "execution_count": null,
      "id": "b7406082-e460-44af-beca-c256023c1e09",
      "metadata": {
        "id": "b7406082-e460-44af-beca-c256023c1e09",
        "tags": []
      },
      "outputs": [],
      "source": [
        "output_ids = model.generate(input_encoding.input_ids, max_new_tokens=32, pad_token_id=tokenizer.eos_token_id)\n",
        "tokenizer.decode(output_ids[0, input_encoding.input_ids.size(1):], skip_special_tokens=True)"
      ]
    },
    {
      "cell_type": "markdown",
      "id": "8a59866a-0764-4b86-a055-099fc99a1f83",
      "metadata": {
        "id": "8a59866a-0764-4b86-a055-099fc99a1f83"
      },
      "source": [
        "##### Beam search\n",
        "\n",
        "We cannot do an exhaustuve search, but we can keep the top $n$ most probable sequences up to now.\n",
        "This is what beam search does"
      ]
    },
    {
      "cell_type": "code",
      "execution_count": null,
      "id": "dcbf9b6e-7e5c-4e5b-9dd1-597512bed9af",
      "metadata": {
        "id": "dcbf9b6e-7e5c-4e5b-9dd1-597512bed9af",
        "tags": []
      },
      "outputs": [],
      "source": [
        "output_ids = model.generate(input_encoding.input_ids, max_new_tokens=32, num_beams=8, pad_token_id=tokenizer.eos_token_id)\n",
        "tokenizer.decode(output_ids[0, input_encoding.input_ids.size(1):], skip_special_tokens=True)"
      ]
    },
    {
      "cell_type": "markdown",
      "id": "233a3836-857e-4e43-ae25-40fc042ae980",
      "metadata": {
        "id": "233a3836-857e-4e43-ae25-40fc042ae980"
      },
      "source": [
        "#### Sampling\n",
        "\n",
        "Sampling based decoding adds more spice to the output sampling the next token with a certain probability given by the language model.\n",
        "The nice thing is that given the same input the generated content may change (higher diversity in the text of responses), the bad thing is that given the same input the generated content may change (possibly inconsistent behaviour)."
      ]
    },
    {
      "cell_type": "markdown",
      "id": "f3b9ebd2-8734-49fa-bfa9-7c5066a3acfd",
      "metadata": {
        "id": "f3b9ebd2-8734-49fa-bfa9-7c5066a3acfd",
        "tags": []
      },
      "source": [
        "##### Top-k\n",
        "\n",
        "Consider only first $k$ most probable tokens and zero out others probabilities"
      ]
    },
    {
      "cell_type": "code",
      "execution_count": null,
      "id": "YhXiOu96iGrS",
      "metadata": {
        "id": "YhXiOu96iGrS",
        "tags": []
      },
      "outputs": [],
      "source": [
        "output_ids = model.generate(input_encoding.input_ids, max_new_tokens=32, do_sample=True, top_k=16, pad_token_id=tokenizer.eos_token_id)\n",
        "tokenizer.decode(output_ids[0, input_encoding.input_ids.size(1):], skip_special_tokens=True)"
      ]
    },
    {
      "cell_type": "markdown",
      "id": "f7a4e683-53d5-429e-b0a4-36f532327e4b",
      "metadata": {
        "id": "f7a4e683-53d5-429e-b0a4-36f532327e4b"
      },
      "source": [
        "##### Top-p (nucleus sampling)\n",
        "\n",
        "Consider only first most probable tokens so that their probability sum up to $p \\in [0, 1] \\subseteq \\mathbb{R}$ and zero out others probabilities\n",
        "Similar to top-$k$ but variable window."
      ]
    },
    {
      "cell_type": "code",
      "execution_count": null,
      "id": "0o1qdXnuiYYM",
      "metadata": {
        "id": "0o1qdXnuiYYM",
        "tags": []
      },
      "outputs": [],
      "source": [
        "output_ids = model.generate(input_encoding.input_ids, max_new_tokens=32, do_sample=True, top_p=0.95, top_k=0, pad_token_id=tokenizer.eos_token_id)\n",
        "tokenizer.decode(output_ids[0, input_encoding.input_ids.size(1):], skip_special_tokens=True)"
      ]
    },
    {
      "cell_type": "markdown",
      "id": "6ec864c9-a34f-4083-9938-47754700d4e9",
      "metadata": {
        "id": "6ec864c9-a34f-4083-9938-47754700d4e9"
      },
      "source": [
        "##### Temperature rescoring\n",
        "\n",
        "Divide the logits by a value $\\tau \\in \\mathbb{R}^+_0$:\n",
        "- if $\\tau > 1$ (high temprature) the distribution get softer (reduces probability of most probable tokens and increases that of least probable)\n",
        "- if $\\tau = 1$ the distribution is unchanged\n",
        "- if $\\tau < 1$ (low temperature) the distribution get sharper (reduces probability of least probable tokens and increases that of most probable)\n"
      ]
    },
    {
      "cell_type": "code",
      "execution_count": null,
      "id": "a50d6b87-6852-46c3-91b5-f6cf25bd3ca7",
      "metadata": {
        "id": "a50d6b87-6852-46c3-91b5-f6cf25bd3ca7",
        "tags": []
      },
      "outputs": [],
      "source": [
        "output_ids = model.generate(input_encoding.input_ids, max_new_tokens=32, do_sample=True, temperature=0.8, top_k=0, pad_token_id=tokenizer.eos_token_id)\n",
        "# output_ids = model.generate(input_encoding.input_ids, max_new_tokens=32, do_sample=True, temperature=1.2, top_k=0, pad_token_id=tokenizer.eos_token_id)\n",
        "tokenizer.decode(output_ids[0, input_encoding.input_ids.size(1):], skip_special_tokens=True)"
      ]
    },
    {
      "cell_type": "markdown",
      "id": "51f6ebb9-3a97-4c16-9f79-5578fd186fc7",
      "metadata": {
        "id": "51f6ebb9-3a97-4c16-9f79-5578fd186fc7"
      },
      "source": [
        "##### Sample multiple candidates\n",
        "\n",
        "You can also sample muliple candidates an pick one according to some criteria."
      ]
    },
    {
      "cell_type": "code",
      "execution_count": null,
      "id": "NmgGJhnqjQye",
      "metadata": {
        "id": "NmgGJhnqjQye",
        "tags": []
      },
      "outputs": [],
      "source": [
        "output_ids = model.generate(input_encoding.input_ids, max_new_tokens=32, do_sample=True, num_return_sequences=8, top_p=0.9, top_k=0, pad_token_id=tokenizer.eos_token_id)\n",
        "tokenizer.batch_decode(output_ids[:, input_encoding.input_ids.size(1):], skip_special_tokens=True)"
      ]
    },
    {
      "cell_type": "markdown",
      "id": "j0O6N-ugj6er",
      "metadata": {
        "id": "j0O6N-ugj6er"
      },
      "source": [
        "For example if you combine sampling and beam search the `generate()` method will output automatically the most probable of the samples sequences"
      ]
    },
    {
      "cell_type": "code",
      "execution_count": null,
      "id": "6o87VHHYkIg-",
      "metadata": {
        "id": "6o87VHHYkIg-",
        "tags": []
      },
      "outputs": [],
      "source": [
        "output_ids = model.generate(input_encoding.input_ids, max_new_tokens=32, do_sample=True, temperature=0.8, top_k=0, pad_token_id=tokenizer.eos_token_id)\n",
        "tokenizer.decode(output_ids[0, input_encoding.input_ids.size(1):], skip_special_tokens=True)"
      ]
    },
    {
      "cell_type": "markdown",
      "id": "BwYbVIRflJzv",
      "metadata": {
        "id": "BwYbVIRflJzv"
      },
      "source": [
        "#### Chatting\n",
        "\n",
        "Now pick your favourite appraoch and chat with DialoGPT"
      ]
    },
    {
      "cell_type": "code",
      "execution_count": null,
      "id": "J7oVpe87lRPN",
      "metadata": {
        "id": "J7oVpe87lRPN",
        "tags": []
      },
      "outputs": [],
      "source": [
        "# Maximum dialogue length (in turn pairs)\n",
        "max_len = 5\n",
        "# Initialise dialogue history\n",
        "dialogue_history = []\n",
        "\n",
        "for i in range(max_len):\n",
        "    # Read user message\n",
        "    user_message = input(\"User: \")\n",
        "    # Append message to dialogue history\n",
        "    dialogue_history.append(user_message)\n",
        "    # Convert dialogue to string\n",
        "    input_string = tokenizer.eos_token\n",
        "    if len(context) > 0:\n",
        "        input_string = tokenizer.eos_token + tokenizer.eos_token.join(dialogue_history) + input_string\n",
        "    # Encode input\n",
        "    input_encoding = tokenizer(input_string, return_tensors='pt').to(device)\n",
        "    # Generate DialoGPT response\n",
        "    output_ids = model.generate(input_encoding.input_ids, max_new_tokens=32, do_sample=True, top_p=0.9, top_k=0, pad_token_id=tokenizer.eos_token_id)\n",
        "    chatbot_response = tokenizer.decode(output_ids[0, input_encoding.input_ids.size(1):], skip_special_tokens=True)\n",
        "    # Append chatbot response to dialogue history\n",
        "    dialogue_history.append(chatbot_response)\n",
        "    # Print chatbot response\n",
        "    print(f\"DialoGPT: {chatbot_response}\")"
      ]
    },
    {
      "cell_type": "markdown",
      "id": "qZKpwC1hlWNh",
      "metadata": {
        "id": "qZKpwC1hlWNh"
      },
      "source": [
        "Notes\n",
        "1. As you go forward the model will start gettin slower. There is a way to cache the hidden outputs to avoid re-computing attention on past\n",
        "2. The context of the model is limited, at some point you should start dropping older utterances"
      ]
    },
    {
      "cell_type": "markdown",
      "id": "9e7fe2bd-3208-401e-a2f2-875dbc66910f",
      "metadata": {
        "id": "9e7fe2bd-3208-401e-a2f2-875dbc66910f"
      },
      "source": [
        "### Fine-tuning\n",
        "\n",
        "Now you are ready, you can finally fine-tune a generative chatbot and chat with it instead of studying for the exams! (Just kidding...)\n",
        "\n",
        "We will fine-tune a vanilla GPT-2 (pick your favourite version).\n",
        "Let's load the pre-trained model"
      ]
    },
    {
      "cell_type": "code",
      "execution_count": null,
      "id": "70472be8-8ef5-486b-a71d-8b95d977963f",
      "metadata": {
        "tags": [],
        "id": "70472be8-8ef5-486b-a71d-8b95d977963f"
      },
      "outputs": [],
      "source": [
        "import torch\n",
        "from transformers import AutoTokenizer, AutoModelForCausalLM\n",
        "\n",
        "# device = torch.device('cuda' if torch.cuda.is_available() else 'cpu')\n",
        "\n",
        "model_id = 'gpt2'\n",
        "\n",
        "tokenizer = AutoTokenizer.from_pretrained(model_id)\n",
        "model = AutoModelForCausalLM.from_pretrained(model_id, device_map=\"cuda\")"
      ]
    },
    {
      "cell_type": "markdown",
      "id": "e7883fed-35f6-4220-90bb-c1699ea709e5",
      "metadata": {
        "id": "e7883fed-35f6-4220-90bb-c1699ea709e5"
      },
      "source": [
        "Let's set the padding token to be the `eos_token` to simplify some passages later"
      ]
    },
    {
      "cell_type": "code",
      "execution_count": null,
      "id": "af333157-15fe-44ce-aac8-7c96cb7fc9b7",
      "metadata": {
        "tags": [],
        "id": "af333157-15fe-44ce-aac8-7c96cb7fc9b7"
      },
      "outputs": [],
      "source": [
        "tokenizer.pad_token = tokenizer.eos_token"
      ]
    },
    {
      "cell_type": "markdown",
      "id": "5c6f452a-378d-4d1f-9059-6de7c163a85e",
      "metadata": {
        "id": "5c6f452a-378d-4d1f-9059-6de7c163a85e"
      },
      "source": [
        "#### Data preparation\n",
        "\n",
        "We are going to use the [Persona-Chat](https://arxiv.org/abs/1801.07243) corpus (It was used in the ConvAI 2 challenge).\n",
        "It's a data set where conversations are grounded in the persona description of the two participants.\n",
        "\n",
        "We are going to use the [ParlAI](https://parl.ai/docs/index.html) package to get the data set."
      ]
    },
    {
      "cell_type": "code",
      "execution_count": null,
      "id": "83703547-032e-404d-9faa-f2310f1fcdfd",
      "metadata": {
        "id": "83703547-032e-404d-9faa-f2310f1fcdfd"
      },
      "outputs": [],
      "source": [
        "!pip -q install parlai"
      ]
    },
    {
      "cell_type": "markdown",
      "id": "285f6aed-edad-4d1b-88b9-83b7aad0e661",
      "metadata": {
        "id": "285f6aed-edad-4d1b-88b9-83b7aad0e661"
      },
      "source": [
        "Now let's download the data set"
      ]
    },
    {
      "cell_type": "code",
      "execution_count": null,
      "id": "1bccf187-0798-4851-8c8b-2ff3530a8cf2",
      "metadata": {
        "id": "1bccf187-0798-4851-8c8b-2ff3530a8cf2"
      },
      "outputs": [],
      "source": [
        "from parlai.tasks.convai2.build import build\n",
        "\n",
        "build({'datapath': './data/'})"
      ]
    },
    {
      "cell_type": "markdown",
      "id": "ded26e1b-864f-4b26-a63b-d95615ea7ade",
      "metadata": {
        "id": "ded26e1b-864f-4b26-a63b-d95615ea7ade"
      },
      "source": [
        "Now the samples are stored in `.txt` files we need to parse.\n",
        "We can build a simple function that given the path to one of the files parse the content into Python dictionaries"
      ]
    },
    {
      "cell_type": "code",
      "execution_count": null,
      "id": "99bfba5a-5f76-4ddd-becb-45d840c493ba",
      "metadata": {
        "id": "99bfba5a-5f76-4ddd-becb-45d840c493ba"
      },
      "outputs": [],
      "source": [
        "def parse_pc(path):\n",
        "    # Open file\n",
        "    with open(path) as f:\n",
        "        # Read raw file lines\n",
        "        data = [line.strip() for line in f]\n",
        "    # Data set container\n",
        "    persona_chat = list()\n",
        "    # Now we iterate through lines and build the data set\n",
        "    for line in data:\n",
        "        # Split line data from initial index\n",
        "        line_idx, line_data = line.split(' ', 1)\n",
        "        # Check if new conversation is started\n",
        "        if line_idx == '1':\n",
        "            # Add new empthy dialogue in data set\n",
        "            persona_chat.append(\n",
        "                {'persona_a': list(), 'persona_b': list(), 'utterances': list()}\n",
        "            )\n",
        "        # If the line is from Speaker A persona\n",
        "        if line_data.startswith('your persona: '):\n",
        "            # Append it to Persona A\n",
        "            persona_chat[-1]['persona_a'].append(line_data[len('your persona: '):])\n",
        "        # Else if the line is from Speaker B persona\n",
        "        elif line_data.startswith(\"partner's persona\"):\n",
        "            # Append it to Persona B\n",
        "            persona_chat[-1]['persona_b'].append(line_data[len(\"partner's persona: \"):])\n",
        "        # Else the line is a regular dialogue line\n",
        "        else:\n",
        "            # Split utterances from distractors and separate A and B\n",
        "            utt_a, utt_b = line_data.split('\\t\\t')[0].split('\\t')\n",
        "            # Append to dialogue utterances\n",
        "            persona_chat[-1]['utterances'].append(\n",
        "                {'speaker': 'A', 'text': utt_a}\n",
        "            )\n",
        "            persona_chat[-1]['utterances'].append(\n",
        "                {'speaker': 'B', 'text': utt_b}\n",
        "            )\n",
        "\n",
        "    return persona_chat"
      ]
    },
    {
      "cell_type": "markdown",
      "id": "398b99f5-7756-4a36-a69f-bf5f4048dbae",
      "metadata": {
        "id": "398b99f5-7756-4a36-a69f-bf5f4048dbae"
      },
      "source": [
        "Let's load training and validation data"
      ]
    },
    {
      "cell_type": "code",
      "execution_count": null,
      "id": "9727ae76-9ffe-4cce-addb-44caec48cc1b",
      "metadata": {
        "id": "9727ae76-9ffe-4cce-addb-44caec48cc1b"
      },
      "outputs": [],
      "source": [
        "training_data = parse_pc('./data/ConvAI2/train_both_original.txt')\n",
        "validation_data = parse_pc('./data/ConvAI2/valid_both_original.txt')\n",
        "\n",
        "training_data[0]"
      ]
    },
    {
      "cell_type": "markdown",
      "id": "5832ea5a-868d-4067-bc6e-d4c838175301",
      "metadata": {
        "id": "5832ea5a-868d-4067-bc6e-d4c838175301"
      },
      "source": [
        "Now we are going to convert to strings all the samples using the `eos_token` as separator.\n",
        "We will include also personae.\n",
        "\n",
        "Let's define another function to do that on a single dialogue, then we will apply it to the entire data set"
      ]
    },
    {
      "cell_type": "code",
      "execution_count": null,
      "id": "c534ee88-fda2-4f9a-ba4f-d1cfd11c726f",
      "metadata": {
        "tags": [],
        "id": "c534ee88-fda2-4f9a-ba4f-d1cfd11c726f"
      },
      "outputs": [],
      "source": [
        "def sample_to_string(sample, eos_token):\n",
        "    # Join strings of Persona A\n",
        "    persona_a = ' '.join(sample['persona_a'])\n",
        "    # Join strings of Persona B\n",
        "    persona_b = ' '.join(sample['persona_b'])\n",
        "    # Join dialogue strings\n",
        "    dialogue = eos_token.join(f\"{utterance['speaker']}: {utterance['text']}\" for utterance in sample['utterances'])\n",
        "    # Build the dialogue string\n",
        "    dialogue_string = f\"Persona A: {persona_a}{eos_token}Persona B: {persona_b}{eos_token}{dialogue}{eos_token}\"\n",
        "\n",
        "    return dialogue_string"
      ]
    },
    {
      "cell_type": "markdown",
      "id": "343d207d-58d2-449b-829b-0395df6f3ba0",
      "metadata": {
        "id": "343d207d-58d2-449b-829b-0395df6f3ba0"
      },
      "source": [
        "Apply the funtion to all samples"
      ]
    },
    {
      "cell_type": "code",
      "execution_count": null,
      "id": "efd2412d-51d2-4494-86d8-a520dd85c1fa",
      "metadata": {
        "tags": [],
        "id": "efd2412d-51d2-4494-86d8-a520dd85c1fa"
      },
      "outputs": [],
      "source": [
        "training_data_str = [sample_to_string(dialogue, tokenizer.eos_token) for dialogue in training_data]\n",
        "validation_data_str = [sample_to_string(dialogue, tokenizer.eos_token) for dialogue in validation_data]\n",
        "\n",
        "training_data_str[0]"
      ]
    },
    {
      "cell_type": "markdown",
      "id": "c212aafb-33fa-4400-85e2-382ffbabfe69",
      "metadata": {
        "id": "c212aafb-33fa-4400-85e2-382ffbabfe69"
      },
      "source": [
        "And now are samples are ready"
      ]
    },
    {
      "cell_type": "markdown",
      "id": "3e1fb3ec-83a3-4cf9-9aaf-1791e0a50e54",
      "metadata": {
        "id": "3e1fb3ec-83a3-4cf9-9aaf-1791e0a50e54"
      },
      "source": [
        "#### Training\n",
        "\n",
        "Ok we made it to fine-tuning a language model.\n",
        "We can use HuggingFace trainer to do the training.\n",
        "\n",
        "First we need to build trainer compatible Dataset object"
      ]
    },
    {
      "cell_type": "code",
      "execution_count": null,
      "id": "9315c5ea-cccc-4ecf-acd4-01096118282f",
      "metadata": {
        "tags": [],
        "id": "9315c5ea-cccc-4ecf-acd4-01096118282f"
      },
      "outputs": [],
      "source": [
        "from datasets import Dataset\n",
        "\n",
        "train_data = Dataset.from_dict({'text': training_data_str})\n",
        "valid_data = Dataset.from_dict({'text': validation_data_str})"
      ]
    },
    {
      "cell_type": "markdown",
      "id": "13d57afa-f9fc-4219-b339-e7a7e1c00f20",
      "metadata": {
        "id": "13d57afa-f9fc-4219-b339-e7a7e1c00f20"
      },
      "source": [
        "... and trainer compatible DatasetDict object"
      ]
    },
    {
      "cell_type": "code",
      "execution_count": null,
      "id": "c7803cf6-8b2b-49da-a088-343e4bbf34ab",
      "metadata": {
        "tags": [],
        "id": "c7803cf6-8b2b-49da-a088-343e4bbf34ab"
      },
      "outputs": [],
      "source": [
        "from datasets import DatasetDict\n",
        "\n",
        "data = DatasetDict()\n",
        "data['train'] = train_data\n",
        "data['validation'] = valid_data\n",
        "data['test'] = valid_data"
      ]
    },
    {
      "cell_type": "markdown",
      "id": "6d18ff25-2deb-487c-bac4-d13cbfa5fd24",
      "metadata": {
        "id": "6d18ff25-2deb-487c-bac4-d13cbfa5fd24"
      },
      "source": [
        "Finally use the tokenizer to convert the input strings into sequences of tokens."
      ]
    },
    {
      "cell_type": "code",
      "execution_count": null,
      "id": "85e0b878-f29d-423c-aa25-2f5401ce9a8e",
      "metadata": {
        "tags": [],
        "id": "85e0b878-f29d-423c-aa25-2f5401ce9a8e"
      },
      "outputs": [],
      "source": [
        "!pip -q install --upgrade ipywidgets"
      ]
    },
    {
      "cell_type": "code",
      "execution_count": null,
      "id": "6cba4743-3eda-4d59-a712-bffdbce39b61",
      "metadata": {
        "tags": [],
        "id": "6cba4743-3eda-4d59-a712-bffdbce39b61"
      },
      "outputs": [],
      "source": [
        "def tokenize_function(examples):\n",
        "    input_encodings = tokenizer(examples[\"text\"], padding=True, truncation=True)\n",
        "    sample = {\n",
        "        'input_ids': input_encodings.input_ids\n",
        "    }\n",
        "    return sample\n",
        "\n",
        "tokenized_data = data.map(tokenize_function, batched=True)"
      ]
    },
    {
      "cell_type": "markdown",
      "id": "36e8d62c-e923-40e2-9bb4-2d1d99ba47b9",
      "metadata": {
        "id": "36e8d62c-e923-40e2-9bb4-2d1d99ba47b9"
      },
      "source": [
        "The last step we are missing is to create a collator that gets together all the sequences in the same batch"
      ]
    },
    {
      "cell_type": "code",
      "execution_count": null,
      "id": "a49b65f8-ce68-44d4-9c3f-990aa2a26bef",
      "metadata": {
        "tags": [],
        "id": "a49b65f8-ce68-44d4-9c3f-990aa2a26bef"
      },
      "outputs": [],
      "source": [
        "from transformers import DataCollatorForLanguageModeling\n",
        "\n",
        "data_collator = DataCollatorForLanguageModeling(tokenizer, mlm=False)"
      ]
    },
    {
      "cell_type": "markdown",
      "source": [
        "Disable Weights and Biases default report in Trainer"
      ],
      "metadata": {
        "id": "wgsRGe1_pOBQ"
      },
      "id": "wgsRGe1_pOBQ"
    },
    {
      "cell_type": "code",
      "source": [
        "import os\n",
        "os.environ[\"WANDB_DISABLED\"] = \"true\""
      ],
      "metadata": {
        "id": "vPcbp6LOpNPM"
      },
      "id": "vPcbp6LOpNPM",
      "execution_count": null,
      "outputs": []
    },
    {
      "cell_type": "markdown",
      "id": "557a6a6e-f8aa-497c-80a8-a3f4f093cf56",
      "metadata": {
        "id": "557a6a6e-f8aa-497c-80a8-a3f4f093cf56"
      },
      "source": [
        "Now we can create an instance of the trainer specifying the training arguments"
      ]
    },
    {
      "cell_type": "code",
      "execution_count": null,
      "id": "7d7fa0fb-424e-409f-97fa-723aac4a6cb0",
      "metadata": {
        "tags": [],
        "id": "7d7fa0fb-424e-409f-97fa-723aac4a6cb0"
      },
      "outputs": [],
      "source": [
        "from transformers import TrainingArguments\n",
        "\n",
        "training_args = TrainingArguments(\n",
        "    \"cooler_trainer_name\",\n",
        "    #evaluation_strategy=\"steps\",\n",
        "    per_device_train_batch_size=4,\n",
        "    gradient_accumulation_steps=8,  # Gradient accumulation to use batch sized larger the available VRAM\n",
        "    learning_rate=6.25e-5,\n",
        "    lr_scheduler_type=\"linear\",\n",
        "    bf16=True,  # Mixed precision training, to speed up and save memory\n",
        "    report_to=None,  # Disabling wandb callbacks\n",
        "\n",
        ")"
      ]
    },
    {
      "cell_type": "markdown",
      "id": "1a3f7a2f-36af-4e09-bccb-b6eec2d406e5",
      "metadata": {
        "id": "1a3f7a2f-36af-4e09-bccb-b6eec2d406e5"
      },
      "source": [
        "Create the trainer"
      ]
    },
    {
      "cell_type": "code",
      "execution_count": null,
      "id": "a097398f-6c22-47af-9711-3ddfd95cd123",
      "metadata": {
        "tags": [],
        "id": "a097398f-6c22-47af-9711-3ddfd95cd123"
      },
      "outputs": [],
      "source": [
        "from transformers import TrainingArguments, Trainer\n",
        "\n",
        "trainer = Trainer(\n",
        "    model=model,\n",
        "    args=training_args,\n",
        "    train_dataset=tokenized_data['train'],\n",
        "    eval_dataset=tokenized_data['validation'],\n",
        "    data_collator=data_collator\n",
        ")"
      ]
    },
    {
      "cell_type": "markdown",
      "id": "df8c2e37-bbca-4afa-9c66-5a1a400bbe6d",
      "metadata": {
        "id": "df8c2e37-bbca-4afa-9c66-5a1a400bbe6d"
      },
      "source": [
        "And now let the training begin"
      ]
    },
    {
      "cell_type": "code",
      "execution_count": null,
      "id": "935c620f-9751-4f1f-a78f-33b502f5103a",
      "metadata": {
        "tags": [],
        "id": "935c620f-9751-4f1f-a78f-33b502f5103a"
      },
      "outputs": [],
      "source": [
        "trainer.train()"
      ]
    },
    {
      "cell_type": "markdown",
      "id": "1cdfcbb0-90c6-4608-8e4b-1a699ab0845e",
      "metadata": {
        "id": "1cdfcbb0-90c6-4608-8e4b-1a699ab0845e"
      },
      "source": [
        "Finally let's save the fine-tuned model"
      ]
    },
    {
      "cell_type": "code",
      "execution_count": null,
      "id": "0951341f-1524-48f5-8f5c-068254c1bd5e",
      "metadata": {
        "tags": [],
        "id": "0951341f-1524-48f5-8f5c-068254c1bd5e"
      },
      "outputs": [],
      "source": [
        "from datetime import datetime\n",
        "\n",
        "checkpoint_path = f\"persona_chat_fine_tuning_{datetime.now().strftime('%Y_%m_%d_%H_%M_%S')}\"\n",
        "tokenizer.save_pretrained(checkpoint_path)\n",
        "model.save_pretrained(checkpoint_path)\n",
        "print(f\"Checkpoint saved at: \\'{checkpoint_path}\\'\")"
      ]
    },
    {
      "cell_type": "code",
      "source": [
        "checkpoint_path = \"persona_chat_fine_tuning_2025_04_23_10_48_07\""
      ],
      "metadata": {
        "id": "iRWVOD1K5bM6"
      },
      "id": "iRWVOD1K5bM6",
      "execution_count": null,
      "outputs": []
    },
    {
      "cell_type": "markdown",
      "id": "a5dfc6b7-46a9-4e2f-bf22-62de72cdb4a0",
      "metadata": {
        "id": "a5dfc6b7-46a9-4e2f-bf22-62de72cdb4a0"
      },
      "source": [
        "#### Testing\n",
        "\n",
        "We can compute some automatc metrics to assess the quality of the chatbot.\n",
        "We can use the ParlAI utilities to compute the metrics."
      ]
    },
    {
      "cell_type": "markdown",
      "id": "d9415b82-6942-4fc6-bfa0-4e8938d063a9",
      "metadata": {
        "id": "d9415b82-6942-4fc6-bfa0-4e8938d063a9"
      },
      "source": [
        "Let's pick a random test dialogue and let's generate response.\n",
        "We will compare the original target response to the generated one"
      ]
    },
    {
      "cell_type": "code",
      "execution_count": null,
      "id": "2531a04a-a9ce-40c3-a35e-ae1727ab655d",
      "metadata": {
        "id": "2531a04a-a9ce-40c3-a35e-ae1727ab655d"
      },
      "outputs": [],
      "source": [
        "import random\n",
        "\n",
        "random.seed(1995)\n",
        "\n",
        "idx = random.choice(range(len(validation_data)))\n",
        "print(idx)\n",
        "dialogue = validation_data[idx]"
      ]
    },
    {
      "cell_type": "markdown",
      "id": "389e7d8d-cb62-4eaa-994b-6655836abd65",
      "metadata": {
        "id": "389e7d8d-cb62-4eaa-994b-6655836abd65"
      },
      "source": [
        "Now we can pick a turn from the middle of a dialogue to be our target response"
      ]
    },
    {
      "cell_type": "code",
      "execution_count": null,
      "id": "dcdcce83-a332-43a0-a42d-cd1617d79c5b",
      "metadata": {
        "tags": [],
        "id": "dcdcce83-a332-43a0-a42d-cd1617d79c5b"
      },
      "outputs": [],
      "source": [
        "response_idx = len(dialogue['utterances']) // 2\n",
        "\n",
        "original_response = dialogue['utterances'][response_idx]\n",
        "original_response_string = f\"{original_response['speaker']}: {original_response['text']}\"\n",
        "original_response_string"
      ]
    },
    {
      "cell_type": "markdown",
      "id": "f1046041-ee6a-42a0-8d43-c19adc0fd1d3",
      "metadata": {
        "id": "f1046041-ee6a-42a0-8d43-c19adc0fd1d3"
      },
      "source": [
        "And we can drop the response and all the following ones to build ourr context"
      ]
    },
    {
      "cell_type": "code",
      "execution_count": null,
      "id": "425e8a1e-d2fc-4321-bb5d-12471b3f73a4",
      "metadata": {
        "tags": [],
        "id": "425e8a1e-d2fc-4321-bb5d-12471b3f73a4"
      },
      "outputs": [],
      "source": [
        "context = {\n",
        "    'persona_a': dialogue['persona_a'],\n",
        "    'persona_b': dialogue['persona_b'],\n",
        "    'utterances': dialogue['utterances'][:response_idx]\n",
        "}\n",
        "context_string = sample_to_string(context, tokenizer.eos_token)\n",
        "print(context_string.replace(tokenizer.eos_token, '\\n'))"
      ]
    },
    {
      "cell_type": "markdown",
      "id": "d6118d7d-21a7-4df5-9867-afb76c4dfb69",
      "metadata": {
        "id": "d6118d7d-21a7-4df5-9867-afb76c4dfb69"
      },
      "source": [
        "And let's load back the model from the checkpoint"
      ]
    },
    {
      "cell_type": "code",
      "execution_count": null,
      "id": "1efaec23-1bd6-46ab-a6c3-7583a609dd47",
      "metadata": {
        "tags": [],
        "id": "1efaec23-1bd6-46ab-a6c3-7583a609dd47"
      },
      "outputs": [],
      "source": [
        "# checkpoint_path = 'persona_chat_fine_tuning_2024_05_08_11_49_58'\n",
        "device = 'cuda'\n",
        "tokenizer = AutoTokenizer.from_pretrained(checkpoint_path)\n",
        "model = AutoModelForCausalLM.from_pretrained(checkpoint_path , device_map=\"cuda\")"
      ]
    },
    {
      "cell_type": "markdown",
      "id": "b7bc98ad-cbbd-4b8c-8182-50045e33ef59",
      "metadata": {
        "id": "b7bc98ad-cbbd-4b8c-8182-50045e33ef59"
      },
      "source": [
        "Generate a response"
      ]
    },
    {
      "cell_type": "code",
      "execution_count": null,
      "id": "0ba42ba8-bb7f-4812-814c-0b8dcd266d1e",
      "metadata": {
        "tags": [],
        "id": "0ba42ba8-bb7f-4812-814c-0b8dcd266d1e"
      },
      "outputs": [],
      "source": [
        "# Encode context\n",
        "input_encoding = tokenizer(context_string, return_tensors='pt').to(device)\n",
        "# Generate response\n",
        "output_ids = model.generate(input_encoding.input_ids, max_new_tokens=64, do_sample=True, temperature=1.0, top_p=0.9, top_k=0, pad_token_id=tokenizer.eos_token_id)\n",
        "# Decode generated response\n",
        "generated_response = tokenizer.decode(output_ids[0, input_encoding.input_ids.size(1):], skip_special_tokens=True)\n",
        "generated_response"
      ]
    },
    {
      "cell_type": "markdown",
      "id": "ifOnlKvRl3e9",
      "metadata": {
        "id": "ifOnlKvRl3e9"
      },
      "source": [
        "##### Perplexity\n",
        "\n",
        "Perplexity can be computed using the cross entropy on the generated response.\n",
        "First let's process the the context and the response"
      ]
    },
    {
      "cell_type": "code",
      "execution_count": null,
      "id": "0rjR2Q9-l3zQ",
      "metadata": {
        "id": "0rjR2Q9-l3zQ"
      },
      "outputs": [],
      "source": [
        "# Encode dialogue\n",
        "input_encoding = tokenizer(context_string + original_response_string + tokenizer.eos_token, return_tensors='pt').to(device)\n",
        "# Compute model outputs\n",
        "outputs = model(**input_encoding)"
      ]
    },
    {
      "cell_type": "markdown",
      "id": "d6a7f630-c5e5-4279-a963-67cb7044b510",
      "metadata": {
        "id": "d6a7f630-c5e5-4279-a963-67cb7044b510"
      },
      "source": [
        "We get the target labels (the ids of the response)"
      ]
    },
    {
      "cell_type": "code",
      "execution_count": null,
      "id": "91787b2b-5889-4d2c-ad3a-45f64baa0133",
      "metadata": {
        "tags": [],
        "id": "91787b2b-5889-4d2c-ad3a-45f64baa0133"
      },
      "outputs": [],
      "source": [
        "labels = tokenizer(original_response_string + tokenizer.eos_token, return_tensors='pt').input_ids.to(device)\n",
        "labels.size()"
      ]
    },
    {
      "cell_type": "markdown",
      "id": "7e3f6f81-3318-42d5-bd73-562f1e1d4014",
      "metadata": {
        "id": "7e3f6f81-3318-42d5-bd73-562f1e1d4014"
      },
      "source": [
        "And then we retain only the logits from the response"
      ]
    },
    {
      "cell_type": "code",
      "execution_count": null,
      "id": "9f91c772-a045-4fe0-ade9-3442387c0bf4",
      "metadata": {
        "tags": [],
        "id": "9f91c772-a045-4fe0-ade9-3442387c0bf4"
      },
      "outputs": [],
      "source": [
        "logits = outputs.logits[:, -labels.size(1):]\n",
        "logits.size()"
      ]
    },
    {
      "cell_type": "markdown",
      "id": "ff72d697-7d5d-488f-9955-0dc8ad3bcba7",
      "metadata": {
        "id": "ff72d697-7d5d-488f-9955-0dc8ad3bcba7"
      },
      "source": [
        "Compute the average cross-entropy shifting the inputs and the outputs"
      ]
    },
    {
      "cell_type": "code",
      "execution_count": null,
      "id": "65f3f8ab-082e-4ae0-900c-3f55accff807",
      "metadata": {
        "tags": [],
        "id": "65f3f8ab-082e-4ae0-900c-3f55accff807"
      },
      "outputs": [],
      "source": [
        "import torch.nn.functional as F\n",
        "\n",
        "# Shift logits to exclude the last element\n",
        "shift_logits = logits[..., :-1, :].contiguous()\n",
        "# shift labels to exclude the first element\n",
        "shift_labels = labels[..., 1:].contiguous()\n",
        "# Compute loss\n",
        "lm_loss = F.cross_entropy(\n",
        "    shift_logits.view(-1, shift_logits.size(-1)), shift_labels.view(-1)\n",
        ")\n",
        "lm_loss"
      ]
    },
    {
      "cell_type": "markdown",
      "id": "d7a6d30b-7e04-4fc8-99ec-c7bc6e5026e3",
      "metadata": {
        "id": "d7a6d30b-7e04-4fc8-99ec-c7bc6e5026e3"
      },
      "source": [
        "Exponentiate to have PPL"
      ]
    },
    {
      "cell_type": "code",
      "execution_count": null,
      "id": "57cf90c3-2cfd-4e3d-a210-4637e8cd7205",
      "metadata": {
        "tags": [],
        "id": "57cf90c3-2cfd-4e3d-a210-4637e8cd7205"
      },
      "outputs": [],
      "source": [
        "ppl = torch.exp(lm_loss)\n",
        "ppl"
      ]
    },
    {
      "cell_type": "markdown",
      "id": "2ef11911-30a6-494d-848d-7c44addb75fe",
      "metadata": {
        "id": "2ef11911-30a6-494d-848d-7c44addb75fe"
      },
      "source": [
        "The process can be simplified but at least now you have seen all the steps"
      ]
    },
    {
      "cell_type": "markdown",
      "id": "T9by6tNYl548",
      "metadata": {
        "id": "T9by6tNYl548"
      },
      "source": [
        "BLEU"
      ]
    },
    {
      "cell_type": "code",
      "execution_count": null,
      "id": "993AnB2Fl6Gv",
      "metadata": {
        "id": "993AnB2Fl6Gv",
        "tags": []
      },
      "outputs": [],
      "source": [
        "from parlai.core.metrics import BleuMetric\n",
        "\n",
        "bleu = BleuMetric.compute(generated_response, [original_response_string])\n",
        "print(f\"BLEU: {bleu}\")"
      ]
    },
    {
      "cell_type": "markdown",
      "id": "7d33d5fa-8503-455e-9e50-af0753a6df0f",
      "metadata": {
        "id": "7d33d5fa-8503-455e-9e50-af0753a6df0f"
      },
      "source": [
        "##### F1"
      ]
    },
    {
      "cell_type": "code",
      "execution_count": null,
      "id": "36be237c-13f4-4f40-bb28-3c719d4d85e9",
      "metadata": {
        "tags": [],
        "id": "36be237c-13f4-4f40-bb28-3c719d4d85e9"
      },
      "outputs": [],
      "source": [
        "from parlai.core.metrics import F1Metric\n",
        "\n",
        "f1_score = F1Metric.compute(generated_response, [original_response_string])\n",
        "print(f\"F1: {f1_score}\")"
      ]
    },
    {
      "cell_type": "markdown",
      "id": "hjEBLEHxmFYY",
      "metadata": {
        "id": "hjEBLEHxmFYY"
      },
      "source": [
        "##### Chatting\n",
        "\n",
        "There is no better way to evalaute a generative chatbot than using it to chat.\n",
        "Define a custom persona for you and the chatbot (or sample two from the data set) and write a chatting loop."
      ]
    },
    {
      "cell_type": "code",
      "execution_count": null,
      "id": "qGArtuODmGBy",
      "metadata": {
        "id": "qGArtuODmGBy"
      },
      "outputs": [],
      "source": [
        "# TODO\n",
        "dialogue = {\n",
        "    # Write here your persona\n",
        "    'persona_a': [\n",
        "        \"i am Nico\",\n",
        "        \"i come from italy\",\n",
        "        \"i like pizza\"\n",
        "    ],\n",
        "    # Write here chatbot persona\n",
        "    'persona_b': [\n",
        "        \"i am an ai chatbot\",\n",
        "        \"i like chatting with other people\",\n",
        "        \"i want to take over human kind\"\n",
        "    ],\n",
        "    # Here we will acumulate the history\n",
        "    'utterances': list()\n",
        "}\n",
        "\n",
        "# Maximum dialogue length (in turn pairs)\n",
        "max_len = 5\n",
        "\n",
        "for i in range(max_len):\n",
        "    # Read user message\n",
        "    user_message = input(\"User: \")\n",
        "    # Append message to dialogue history\n",
        "    dialogue['utterances'].append(\n",
        "        {'speaker': 'A', 'text': user_message.lower()}\n",
        "    )\n",
        "    # Convert dialogue to string\n",
        "    input_string = sample_to_string(dialogue, tokenizer.eos_token)\n",
        "    # Encode input\n",
        "    input_encoding = tokenizer(input_string, return_tensors='pt').to(device)\n",
        "    # Generate DialoGPT response\n",
        "    output_ids = model.generate(input_encoding.input_ids, max_new_tokens=64, do_sample=True, top_p=0.9, top_k=0, pad_token_id=tokenizer.eos_token_id)\n",
        "    chatbot_response = tokenizer.decode(output_ids[0, input_encoding.input_ids.size(1):], skip_special_tokens=True)\n",
        "    # Crop initial speaker token\n",
        "    chatbot_response = chatbot_response[3:]\n",
        "    # Append chatbot response to dialogue history\n",
        "    dialogue['utterances'].append(\n",
        "        {'speaker': 'B', 'text': chatbot_response}\n",
        "    )\n",
        "    # Print chatbot response\n",
        "    print(f\"Chatbot: {chatbot_response}\")"
      ]
    },
    {
      "cell_type": "markdown",
      "id": "c027b0f6-1e3a-4db1-b826-2b1d73a3993d",
      "metadata": {
        "id": "c027b0f6-1e3a-4db1-b826-2b1d73a3993d"
      },
      "source": [
        "## ELIZA meets DialoGPT\n",
        "\n",
        "In the 70s they made ELIZA and PARRY meet each other: https://www.theatlantic.com/technology/archive/2014/06/when-parry-met-eliza-a-ridiculous-chatbot-conversation-from-1972/372428/.\n",
        "We could you have ELIZA meet ChatGPT, but since we are humble we will settle with DialoGPT.\n",
        "\n",
        "The is this implementation of ELIZA in Python we can use: https://github.com/wadetb/eliza\n",
        "Let's start by cloning the repository and adding it to our path"
      ]
    },
    {
      "cell_type": "code",
      "execution_count": null,
      "id": "628b86ea-6590-4772-ad70-3cd1d78a3758",
      "metadata": {
        "id": "628b86ea-6590-4772-ad70-3cd1d78a3758",
        "tags": []
      },
      "outputs": [],
      "source": [
        "!git clone https://github.com/wadetb/eliza.git"
      ]
    },
    {
      "cell_type": "code",
      "execution_count": null,
      "id": "934b810a-66e6-4bce-aa10-a523d125d360",
      "metadata": {
        "tags": [],
        "id": "934b810a-66e6-4bce-aa10-a523d125d360"
      },
      "outputs": [],
      "source": [
        "import sys\n",
        "\n",
        "sys.path.append('/home/vincenzoscotti/Projects/Practical_09/eliza/eliza.py')"
      ]
    },
    {
      "cell_type": "markdown",
      "id": "f09c196a-feb5-4540-a96f-1619dcaa2e22",
      "metadata": {
        "id": "f09c196a-feb5-4540-a96f-1619dcaa2e22"
      },
      "source": [
        "Now we should be able to import the package"
      ]
    },
    {
      "cell_type": "code",
      "execution_count": null,
      "id": "c3460802-729f-4fd2-95d0-745801b2e144",
      "metadata": {
        "id": "c3460802-729f-4fd2-95d0-745801b2e144",
        "tags": []
      },
      "outputs": [],
      "source": [
        "from eliza.eliza import Eliza"
      ]
    },
    {
      "cell_type": "markdown",
      "id": "33559208-537b-436d-b4c3-a103fe951bff",
      "metadata": {
        "id": "33559208-537b-436d-b4c3-a103fe951bff"
      },
      "source": [
        "Now let's create an instance of ELIZA using the available rules (https://github.com/wadetb/eliza/blob/master/doctor.txt)"
      ]
    },
    {
      "cell_type": "code",
      "execution_count": null,
      "id": "bb2e1c85-7db1-4e52-9f4f-c955176c0488",
      "metadata": {
        "id": "bb2e1c85-7db1-4e52-9f4f-c955176c0488",
        "tags": []
      },
      "outputs": [],
      "source": [
        "eliza = Eliza()\n",
        "eliza.load('./eliza/doctor.txt')"
      ]
    },
    {
      "cell_type": "markdown",
      "id": "9f0622c5-9600-419b-83c2-45cefb0a2901",
      "metadata": {
        "tags": [],
        "id": "9f0622c5-9600-419b-83c2-45cefb0a2901"
      },
      "source": [
        "Now you can chat with ELIZA.\n",
        "Note that ELIZA manages its context interanlly."
      ]
    },
    {
      "cell_type": "code",
      "execution_count": null,
      "id": "878ea019-de3b-4b2b-b2dd-a976f8eb7145",
      "metadata": {
        "tags": [],
        "id": "878ea019-de3b-4b2b-b2dd-a976f8eb7145"
      },
      "outputs": [],
      "source": [
        "# Maximum dialogue length (in turn pairs)\n",
        "max_len = 5\n",
        "\n",
        "for i in range(max_len):\n",
        "    # Read user message\n",
        "    user_message = input(\"User: \")\n",
        "    # Ask ELIZA for response\n",
        "    response = eliza.respond(user_message)\n",
        "    # Print ELIZA response\n",
        "    print(f\"ELIZA: {response}\")"
      ]
    },
    {
      "cell_type": "markdown",
      "id": "0a453651-0b0e-4b4f-bf3d-49873ddc5d35",
      "metadata": {
        "id": "0a453651-0b0e-4b4f-bf3d-49873ddc5d35"
      },
      "source": [
        "But that's not as fun as having DialoGPT chat with ELIZA, right?\n",
        "Let's load back DialoGPT"
      ]
    },
    {
      "cell_type": "code",
      "execution_count": null,
      "id": "6d272120-4469-4353-a970-a6df53c5717f",
      "metadata": {
        "tags": [],
        "id": "6d272120-4469-4353-a970-a6df53c5717f"
      },
      "outputs": [],
      "source": [
        "import torch\n",
        "from transformers import AutoTokenizer, AutoModelForCausalLM\n",
        "\n",
        "device = torch.device('cuda' if torch.cuda.is_available() else 'cpu')\n",
        "\n",
        "model_id = 'microsoft/DialoGPT-medium'\n",
        "\n",
        "tokenizer = AutoTokenizer.from_pretrained(model_id)\n",
        "model = AutoModelForCausalLM.from_pretrained(model_id , device_map=\"auto\")"
      ]
    },
    {
      "cell_type": "markdown",
      "id": "ff2cea5b-faa4-414d-8868-8263e0e41200",
      "metadata": {
        "id": "ff2cea5b-faa4-414d-8868-8263e0e41200"
      },
      "source": [
        "Now we can re-use the same chatting script from before, but instead of asking input to the user, we are going to ask ELIZA"
      ]
    },
    {
      "cell_type": "code",
      "execution_count": null,
      "id": "77561898-ae6f-459c-bc75-5bc8cae3726d",
      "metadata": {
        "tags": [],
        "id": "77561898-ae6f-459c-bc75-5bc8cae3726d"
      },
      "outputs": [],
      "source": [
        "# Reset ELIZA\n",
        "eliza = Eliza()\n",
        "eliza.load('./eliza/doctor.txt')\n",
        "# Maximum dialogue length (in turn pairs)\n",
        "max_len = 5\n",
        "# Initialise dialogue history\n",
        "dialogue_history = [\"Hello\"]\n",
        "# Print first message\n",
        "print(f\"DialoGPT: {dialogue_history[0]}\")\n",
        "\n",
        "\n",
        "for i in range(max_len):\n",
        "    # Generate ELIZA response\n",
        "    eliza_message = eliza.respond(dialogue_history[-1])\n",
        "    # Append message to dialogue history\n",
        "    dialogue_history.append(eliza_message)\n",
        "    # Print ELIZA response\n",
        "    print(f\"ELIZA: {eliza_message}\")\n",
        "    # Convert dialogue to string\n",
        "    input_string = tokenizer.eos_token\n",
        "    if len(context) > 0:\n",
        "        input_string = tokenizer.eos_token + tokenizer.eos_token.join(dialogue_history) + input_string\n",
        "    # Encode input\n",
        "    input_encoding = tokenizer(input_string, return_tensors='pt').to(device)\n",
        "    # Generate DialoGPT response\n",
        "    output_ids = model.generate(input_encoding.input_ids, max_new_tokens=32, do_sample=True, temperature=0.7, top_k=0, pad_token_id=tokenizer.eos_token_id)\n",
        "    dialogpt_message = tokenizer.decode(output_ids[0, input_encoding.input_ids.size(1):], skip_special_tokens=True)\n",
        "    # Append DialoGPT response to dialogue history\n",
        "    dialogue_history.append(dialogpt_message)\n",
        "    # Print DialoGPT response\n",
        "    print(f\"DialoGPT: {dialogpt_message}\")"
      ]
    },
    {
      "cell_type": "code",
      "execution_count": null,
      "id": "d0053dff-63f9-40d7-8be7-bd9ee29366b2",
      "metadata": {
        "id": "d0053dff-63f9-40d7-8be7-bd9ee29366b2"
      },
      "outputs": [],
      "source": []
    }
  ],
  "metadata": {
    "accelerator": "GPU",
    "colab": {
      "gpuType": "T4",
      "provenance": [],
      "collapsed_sections": [
        "32ad7316-03ba-4f90-a847-774bc3543bd8"
      ],
      "include_colab_link": true
    },
    "gpuClass": "standard",
    "kernelspec": {
      "display_name": "Python 3 (ipykernel)",
      "language": "python",
      "name": "python3"
    },
    "language_info": {
      "codemirror_mode": {
        "name": "ipython",
        "version": 3
      },
      "file_extension": ".py",
      "mimetype": "text/x-python",
      "name": "python",
      "nbconvert_exporter": "python",
      "pygments_lexer": "ipython3",
      "version": "3.10.14"
    },
    "widgets": {
      "application/vnd.jupyter.widget-state+json": {
        "f2550f7ddaa44b3f8808ab9c06c25476": {
          "model_module": "@jupyter-widgets/controls",
          "model_name": "HBoxModel",
          "model_module_version": "1.5.0",
          "state": {
            "_dom_classes": [],
            "_model_module": "@jupyter-widgets/controls",
            "_model_module_version": "1.5.0",
            "_model_name": "HBoxModel",
            "_view_count": null,
            "_view_module": "@jupyter-widgets/controls",
            "_view_module_version": "1.5.0",
            "_view_name": "HBoxView",
            "box_style": "",
            "children": [
              "IPY_MODEL_d7ec984b0c60439cbbcc37fcdcf07308",
              "IPY_MODEL_67701381c3e048bc9a1be4989d7264a4",
              "IPY_MODEL_b75aa18fc7e840a3929845f49b17132c"
            ],
            "layout": "IPY_MODEL_6b1ab9fcdb84452fa55444c8ba1d7588"
          }
        },
        "d7ec984b0c60439cbbcc37fcdcf07308": {
          "model_module": "@jupyter-widgets/controls",
          "model_name": "HTMLModel",
          "model_module_version": "1.5.0",
          "state": {
            "_dom_classes": [],
            "_model_module": "@jupyter-widgets/controls",
            "_model_module_version": "1.5.0",
            "_model_name": "HTMLModel",
            "_view_count": null,
            "_view_module": "@jupyter-widgets/controls",
            "_view_module_version": "1.5.0",
            "_view_name": "HTMLView",
            "description": "",
            "description_tooltip": null,
            "layout": "IPY_MODEL_675ca89aeee746b4953f05fc067ad648",
            "placeholder": "​",
            "style": "IPY_MODEL_62bca2ab7c1242538d5f97a29d789849",
            "value": "README.md: 100%"
          }
        },
        "67701381c3e048bc9a1be4989d7264a4": {
          "model_module": "@jupyter-widgets/controls",
          "model_name": "FloatProgressModel",
          "model_module_version": "1.5.0",
          "state": {
            "_dom_classes": [],
            "_model_module": "@jupyter-widgets/controls",
            "_model_module_version": "1.5.0",
            "_model_name": "FloatProgressModel",
            "_view_count": null,
            "_view_module": "@jupyter-widgets/controls",
            "_view_module_version": "1.5.0",
            "_view_name": "ProgressView",
            "bar_style": "success",
            "description": "",
            "description_tooltip": null,
            "layout": "IPY_MODEL_a71ce9ef6096425797aba64c3715d056",
            "max": 13770,
            "min": 0,
            "orientation": "horizontal",
            "style": "IPY_MODEL_ff7fcbf693614752b745e6485154dbbe",
            "value": 13770
          }
        },
        "b75aa18fc7e840a3929845f49b17132c": {
          "model_module": "@jupyter-widgets/controls",
          "model_name": "HTMLModel",
          "model_module_version": "1.5.0",
          "state": {
            "_dom_classes": [],
            "_model_module": "@jupyter-widgets/controls",
            "_model_module_version": "1.5.0",
            "_model_name": "HTMLModel",
            "_view_count": null,
            "_view_module": "@jupyter-widgets/controls",
            "_view_module_version": "1.5.0",
            "_view_name": "HTMLView",
            "description": "",
            "description_tooltip": null,
            "layout": "IPY_MODEL_d81b50c322354e3e8d521acc8ec241e8",
            "placeholder": "​",
            "style": "IPY_MODEL_4858317c3c0f429cb12b0a1c3109a410",
            "value": " 13.8k/13.8k [00:00&lt;00:00, 213kB/s]"
          }
        },
        "6b1ab9fcdb84452fa55444c8ba1d7588": {
          "model_module": "@jupyter-widgets/base",
          "model_name": "LayoutModel",
          "model_module_version": "1.2.0",
          "state": {
            "_model_module": "@jupyter-widgets/base",
            "_model_module_version": "1.2.0",
            "_model_name": "LayoutModel",
            "_view_count": null,
            "_view_module": "@jupyter-widgets/base",
            "_view_module_version": "1.2.0",
            "_view_name": "LayoutView",
            "align_content": null,
            "align_items": null,
            "align_self": null,
            "border": null,
            "bottom": null,
            "display": null,
            "flex": null,
            "flex_flow": null,
            "grid_area": null,
            "grid_auto_columns": null,
            "grid_auto_flow": null,
            "grid_auto_rows": null,
            "grid_column": null,
            "grid_gap": null,
            "grid_row": null,
            "grid_template_areas": null,
            "grid_template_columns": null,
            "grid_template_rows": null,
            "height": null,
            "justify_content": null,
            "justify_items": null,
            "left": null,
            "margin": null,
            "max_height": null,
            "max_width": null,
            "min_height": null,
            "min_width": null,
            "object_fit": null,
            "object_position": null,
            "order": null,
            "overflow": null,
            "overflow_x": null,
            "overflow_y": null,
            "padding": null,
            "right": null,
            "top": null,
            "visibility": null,
            "width": null
          }
        },
        "675ca89aeee746b4953f05fc067ad648": {
          "model_module": "@jupyter-widgets/base",
          "model_name": "LayoutModel",
          "model_module_version": "1.2.0",
          "state": {
            "_model_module": "@jupyter-widgets/base",
            "_model_module_version": "1.2.0",
            "_model_name": "LayoutModel",
            "_view_count": null,
            "_view_module": "@jupyter-widgets/base",
            "_view_module_version": "1.2.0",
            "_view_name": "LayoutView",
            "align_content": null,
            "align_items": null,
            "align_self": null,
            "border": null,
            "bottom": null,
            "display": null,
            "flex": null,
            "flex_flow": null,
            "grid_area": null,
            "grid_auto_columns": null,
            "grid_auto_flow": null,
            "grid_auto_rows": null,
            "grid_column": null,
            "grid_gap": null,
            "grid_row": null,
            "grid_template_areas": null,
            "grid_template_columns": null,
            "grid_template_rows": null,
            "height": null,
            "justify_content": null,
            "justify_items": null,
            "left": null,
            "margin": null,
            "max_height": null,
            "max_width": null,
            "min_height": null,
            "min_width": null,
            "object_fit": null,
            "object_position": null,
            "order": null,
            "overflow": null,
            "overflow_x": null,
            "overflow_y": null,
            "padding": null,
            "right": null,
            "top": null,
            "visibility": null,
            "width": null
          }
        },
        "62bca2ab7c1242538d5f97a29d789849": {
          "model_module": "@jupyter-widgets/controls",
          "model_name": "DescriptionStyleModel",
          "model_module_version": "1.5.0",
          "state": {
            "_model_module": "@jupyter-widgets/controls",
            "_model_module_version": "1.5.0",
            "_model_name": "DescriptionStyleModel",
            "_view_count": null,
            "_view_module": "@jupyter-widgets/base",
            "_view_module_version": "1.2.0",
            "_view_name": "StyleView",
            "description_width": ""
          }
        },
        "a71ce9ef6096425797aba64c3715d056": {
          "model_module": "@jupyter-widgets/base",
          "model_name": "LayoutModel",
          "model_module_version": "1.2.0",
          "state": {
            "_model_module": "@jupyter-widgets/base",
            "_model_module_version": "1.2.0",
            "_model_name": "LayoutModel",
            "_view_count": null,
            "_view_module": "@jupyter-widgets/base",
            "_view_module_version": "1.2.0",
            "_view_name": "LayoutView",
            "align_content": null,
            "align_items": null,
            "align_self": null,
            "border": null,
            "bottom": null,
            "display": null,
            "flex": null,
            "flex_flow": null,
            "grid_area": null,
            "grid_auto_columns": null,
            "grid_auto_flow": null,
            "grid_auto_rows": null,
            "grid_column": null,
            "grid_gap": null,
            "grid_row": null,
            "grid_template_areas": null,
            "grid_template_columns": null,
            "grid_template_rows": null,
            "height": null,
            "justify_content": null,
            "justify_items": null,
            "left": null,
            "margin": null,
            "max_height": null,
            "max_width": null,
            "min_height": null,
            "min_width": null,
            "object_fit": null,
            "object_position": null,
            "order": null,
            "overflow": null,
            "overflow_x": null,
            "overflow_y": null,
            "padding": null,
            "right": null,
            "top": null,
            "visibility": null,
            "width": null
          }
        },
        "ff7fcbf693614752b745e6485154dbbe": {
          "model_module": "@jupyter-widgets/controls",
          "model_name": "ProgressStyleModel",
          "model_module_version": "1.5.0",
          "state": {
            "_model_module": "@jupyter-widgets/controls",
            "_model_module_version": "1.5.0",
            "_model_name": "ProgressStyleModel",
            "_view_count": null,
            "_view_module": "@jupyter-widgets/base",
            "_view_module_version": "1.2.0",
            "_view_name": "StyleView",
            "bar_color": null,
            "description_width": ""
          }
        },
        "d81b50c322354e3e8d521acc8ec241e8": {
          "model_module": "@jupyter-widgets/base",
          "model_name": "LayoutModel",
          "model_module_version": "1.2.0",
          "state": {
            "_model_module": "@jupyter-widgets/base",
            "_model_module_version": "1.2.0",
            "_model_name": "LayoutModel",
            "_view_count": null,
            "_view_module": "@jupyter-widgets/base",
            "_view_module_version": "1.2.0",
            "_view_name": "LayoutView",
            "align_content": null,
            "align_items": null,
            "align_self": null,
            "border": null,
            "bottom": null,
            "display": null,
            "flex": null,
            "flex_flow": null,
            "grid_area": null,
            "grid_auto_columns": null,
            "grid_auto_flow": null,
            "grid_auto_rows": null,
            "grid_column": null,
            "grid_gap": null,
            "grid_row": null,
            "grid_template_areas": null,
            "grid_template_columns": null,
            "grid_template_rows": null,
            "height": null,
            "justify_content": null,
            "justify_items": null,
            "left": null,
            "margin": null,
            "max_height": null,
            "max_width": null,
            "min_height": null,
            "min_width": null,
            "object_fit": null,
            "object_position": null,
            "order": null,
            "overflow": null,
            "overflow_x": null,
            "overflow_y": null,
            "padding": null,
            "right": null,
            "top": null,
            "visibility": null,
            "width": null
          }
        },
        "4858317c3c0f429cb12b0a1c3109a410": {
          "model_module": "@jupyter-widgets/controls",
          "model_name": "DescriptionStyleModel",
          "model_module_version": "1.5.0",
          "state": {
            "_model_module": "@jupyter-widgets/controls",
            "_model_module_version": "1.5.0",
            "_model_name": "DescriptionStyleModel",
            "_view_count": null,
            "_view_module": "@jupyter-widgets/base",
            "_view_module_version": "1.2.0",
            "_view_name": "StyleView",
            "description_width": ""
          }
        },
        "d8811f1204f2470d8207351981ae4585": {
          "model_module": "@jupyter-widgets/controls",
          "model_name": "HBoxModel",
          "model_module_version": "1.5.0",
          "state": {
            "_dom_classes": [],
            "_model_module": "@jupyter-widgets/controls",
            "_model_module_version": "1.5.0",
            "_model_name": "HBoxModel",
            "_view_count": null,
            "_view_module": "@jupyter-widgets/controls",
            "_view_module_version": "1.5.0",
            "_view_name": "HBoxView",
            "box_style": "",
            "children": [
              "IPY_MODEL_40350d41bc8c4e80950ec0b8878c836a",
              "IPY_MODEL_0286e9e91896444cad391b06cd188be6",
              "IPY_MODEL_171cbfc219824172b51fe7bb61f018bc"
            ],
            "layout": "IPY_MODEL_66249af5b92f49198267a67a6dea8098"
          }
        },
        "40350d41bc8c4e80950ec0b8878c836a": {
          "model_module": "@jupyter-widgets/controls",
          "model_name": "HTMLModel",
          "model_module_version": "1.5.0",
          "state": {
            "_dom_classes": [],
            "_model_module": "@jupyter-widgets/controls",
            "_model_module_version": "1.5.0",
            "_model_name": "HTMLModel",
            "_view_count": null,
            "_view_module": "@jupyter-widgets/controls",
            "_view_module_version": "1.5.0",
            "_view_name": "HTMLView",
            "description": "",
            "description_tooltip": null,
            "layout": "IPY_MODEL_325c87f89fec4380a17b5aa6020f08a4",
            "placeholder": "​",
            "style": "IPY_MODEL_8fd544dad4984081800eaf0f6b068b12",
            "value": "test-00000-of-00001.parquet: 100%"
          }
        },
        "0286e9e91896444cad391b06cd188be6": {
          "model_module": "@jupyter-widgets/controls",
          "model_name": "FloatProgressModel",
          "model_module_version": "1.5.0",
          "state": {
            "_dom_classes": [],
            "_model_module": "@jupyter-widgets/controls",
            "_model_module_version": "1.5.0",
            "_model_name": "FloatProgressModel",
            "_view_count": null,
            "_view_module": "@jupyter-widgets/controls",
            "_view_module_version": "1.5.0",
            "_view_name": "ProgressView",
            "bar_style": "success",
            "description": "",
            "description_tooltip": null,
            "layout": "IPY_MODEL_6720b47697f54f05bdd65643c4c8a243",
            "max": 593691,
            "min": 0,
            "orientation": "horizontal",
            "style": "IPY_MODEL_d7f7810335ba47e5a4510a4ee5340fd6",
            "value": 593691
          }
        },
        "171cbfc219824172b51fe7bb61f018bc": {
          "model_module": "@jupyter-widgets/controls",
          "model_name": "HTMLModel",
          "model_module_version": "1.5.0",
          "state": {
            "_dom_classes": [],
            "_model_module": "@jupyter-widgets/controls",
            "_model_module_version": "1.5.0",
            "_model_name": "HTMLModel",
            "_view_count": null,
            "_view_module": "@jupyter-widgets/controls",
            "_view_module_version": "1.5.0",
            "_view_name": "HTMLView",
            "description": "",
            "description_tooltip": null,
            "layout": "IPY_MODEL_b81290a39a4145d187ac86e68dbba6c0",
            "placeholder": "​",
            "style": "IPY_MODEL_e579177eab0e4db38c5ae648efb080ea",
            "value": " 594k/594k [00:00&lt;00:00, 3.94MB/s]"
          }
        },
        "66249af5b92f49198267a67a6dea8098": {
          "model_module": "@jupyter-widgets/base",
          "model_name": "LayoutModel",
          "model_module_version": "1.2.0",
          "state": {
            "_model_module": "@jupyter-widgets/base",
            "_model_module_version": "1.2.0",
            "_model_name": "LayoutModel",
            "_view_count": null,
            "_view_module": "@jupyter-widgets/base",
            "_view_module_version": "1.2.0",
            "_view_name": "LayoutView",
            "align_content": null,
            "align_items": null,
            "align_self": null,
            "border": null,
            "bottom": null,
            "display": null,
            "flex": null,
            "flex_flow": null,
            "grid_area": null,
            "grid_auto_columns": null,
            "grid_auto_flow": null,
            "grid_auto_rows": null,
            "grid_column": null,
            "grid_gap": null,
            "grid_row": null,
            "grid_template_areas": null,
            "grid_template_columns": null,
            "grid_template_rows": null,
            "height": null,
            "justify_content": null,
            "justify_items": null,
            "left": null,
            "margin": null,
            "max_height": null,
            "max_width": null,
            "min_height": null,
            "min_width": null,
            "object_fit": null,
            "object_position": null,
            "order": null,
            "overflow": null,
            "overflow_x": null,
            "overflow_y": null,
            "padding": null,
            "right": null,
            "top": null,
            "visibility": null,
            "width": null
          }
        },
        "325c87f89fec4380a17b5aa6020f08a4": {
          "model_module": "@jupyter-widgets/base",
          "model_name": "LayoutModel",
          "model_module_version": "1.2.0",
          "state": {
            "_model_module": "@jupyter-widgets/base",
            "_model_module_version": "1.2.0",
            "_model_name": "LayoutModel",
            "_view_count": null,
            "_view_module": "@jupyter-widgets/base",
            "_view_module_version": "1.2.0",
            "_view_name": "LayoutView",
            "align_content": null,
            "align_items": null,
            "align_self": null,
            "border": null,
            "bottom": null,
            "display": null,
            "flex": null,
            "flex_flow": null,
            "grid_area": null,
            "grid_auto_columns": null,
            "grid_auto_flow": null,
            "grid_auto_rows": null,
            "grid_column": null,
            "grid_gap": null,
            "grid_row": null,
            "grid_template_areas": null,
            "grid_template_columns": null,
            "grid_template_rows": null,
            "height": null,
            "justify_content": null,
            "justify_items": null,
            "left": null,
            "margin": null,
            "max_height": null,
            "max_width": null,
            "min_height": null,
            "min_width": null,
            "object_fit": null,
            "object_position": null,
            "order": null,
            "overflow": null,
            "overflow_x": null,
            "overflow_y": null,
            "padding": null,
            "right": null,
            "top": null,
            "visibility": null,
            "width": null
          }
        },
        "8fd544dad4984081800eaf0f6b068b12": {
          "model_module": "@jupyter-widgets/controls",
          "model_name": "DescriptionStyleModel",
          "model_module_version": "1.5.0",
          "state": {
            "_model_module": "@jupyter-widgets/controls",
            "_model_module_version": "1.5.0",
            "_model_name": "DescriptionStyleModel",
            "_view_count": null,
            "_view_module": "@jupyter-widgets/base",
            "_view_module_version": "1.2.0",
            "_view_name": "StyleView",
            "description_width": ""
          }
        },
        "6720b47697f54f05bdd65643c4c8a243": {
          "model_module": "@jupyter-widgets/base",
          "model_name": "LayoutModel",
          "model_module_version": "1.2.0",
          "state": {
            "_model_module": "@jupyter-widgets/base",
            "_model_module_version": "1.2.0",
            "_model_name": "LayoutModel",
            "_view_count": null,
            "_view_module": "@jupyter-widgets/base",
            "_view_module_version": "1.2.0",
            "_view_name": "LayoutView",
            "align_content": null,
            "align_items": null,
            "align_self": null,
            "border": null,
            "bottom": null,
            "display": null,
            "flex": null,
            "flex_flow": null,
            "grid_area": null,
            "grid_auto_columns": null,
            "grid_auto_flow": null,
            "grid_auto_rows": null,
            "grid_column": null,
            "grid_gap": null,
            "grid_row": null,
            "grid_template_areas": null,
            "grid_template_columns": null,
            "grid_template_rows": null,
            "height": null,
            "justify_content": null,
            "justify_items": null,
            "left": null,
            "margin": null,
            "max_height": null,
            "max_width": null,
            "min_height": null,
            "min_width": null,
            "object_fit": null,
            "object_position": null,
            "order": null,
            "overflow": null,
            "overflow_x": null,
            "overflow_y": null,
            "padding": null,
            "right": null,
            "top": null,
            "visibility": null,
            "width": null
          }
        },
        "d7f7810335ba47e5a4510a4ee5340fd6": {
          "model_module": "@jupyter-widgets/controls",
          "model_name": "ProgressStyleModel",
          "model_module_version": "1.5.0",
          "state": {
            "_model_module": "@jupyter-widgets/controls",
            "_model_module_version": "1.5.0",
            "_model_name": "ProgressStyleModel",
            "_view_count": null,
            "_view_module": "@jupyter-widgets/base",
            "_view_module_version": "1.2.0",
            "_view_name": "StyleView",
            "bar_color": null,
            "description_width": ""
          }
        },
        "b81290a39a4145d187ac86e68dbba6c0": {
          "model_module": "@jupyter-widgets/base",
          "model_name": "LayoutModel",
          "model_module_version": "1.2.0",
          "state": {
            "_model_module": "@jupyter-widgets/base",
            "_model_module_version": "1.2.0",
            "_model_name": "LayoutModel",
            "_view_count": null,
            "_view_module": "@jupyter-widgets/base",
            "_view_module_version": "1.2.0",
            "_view_name": "LayoutView",
            "align_content": null,
            "align_items": null,
            "align_self": null,
            "border": null,
            "bottom": null,
            "display": null,
            "flex": null,
            "flex_flow": null,
            "grid_area": null,
            "grid_auto_columns": null,
            "grid_auto_flow": null,
            "grid_auto_rows": null,
            "grid_column": null,
            "grid_gap": null,
            "grid_row": null,
            "grid_template_areas": null,
            "grid_template_columns": null,
            "grid_template_rows": null,
            "height": null,
            "justify_content": null,
            "justify_items": null,
            "left": null,
            "margin": null,
            "max_height": null,
            "max_width": null,
            "min_height": null,
            "min_width": null,
            "object_fit": null,
            "object_position": null,
            "order": null,
            "overflow": null,
            "overflow_x": null,
            "overflow_y": null,
            "padding": null,
            "right": null,
            "top": null,
            "visibility": null,
            "width": null
          }
        },
        "e579177eab0e4db38c5ae648efb080ea": {
          "model_module": "@jupyter-widgets/controls",
          "model_name": "DescriptionStyleModel",
          "model_module_version": "1.5.0",
          "state": {
            "_model_module": "@jupyter-widgets/controls",
            "_model_module_version": "1.5.0",
            "_model_name": "DescriptionStyleModel",
            "_view_count": null,
            "_view_module": "@jupyter-widgets/base",
            "_view_module_version": "1.2.0",
            "_view_name": "StyleView",
            "description_width": ""
          }
        },
        "ea28f904e6f04efcb894940b9fb31fd2": {
          "model_module": "@jupyter-widgets/controls",
          "model_name": "HBoxModel",
          "model_module_version": "1.5.0",
          "state": {
            "_dom_classes": [],
            "_model_module": "@jupyter-widgets/controls",
            "_model_module_version": "1.5.0",
            "_model_name": "HBoxModel",
            "_view_count": null,
            "_view_module": "@jupyter-widgets/controls",
            "_view_module_version": "1.5.0",
            "_view_name": "HBoxView",
            "box_style": "",
            "children": [
              "IPY_MODEL_2e4fd097a64043fe9e47c17611ce633e",
              "IPY_MODEL_82337d3d22aa4b91a4edf13375eeaa88",
              "IPY_MODEL_24aea410cfea4535b4bddd2991cdff47"
            ],
            "layout": "IPY_MODEL_c4d466d4ea8c448f8b3d73f0a7731a3f"
          }
        },
        "2e4fd097a64043fe9e47c17611ce633e": {
          "model_module": "@jupyter-widgets/controls",
          "model_name": "HTMLModel",
          "model_module_version": "1.5.0",
          "state": {
            "_dom_classes": [],
            "_model_module": "@jupyter-widgets/controls",
            "_model_module_version": "1.5.0",
            "_model_name": "HTMLModel",
            "_view_count": null,
            "_view_module": "@jupyter-widgets/controls",
            "_view_module_version": "1.5.0",
            "_view_name": "HTMLView",
            "description": "",
            "description_tooltip": null,
            "layout": "IPY_MODEL_88b3b6d2d8794bcdb3e297862d7b7550",
            "placeholder": "​",
            "style": "IPY_MODEL_79370b4a32b64cf1aded37a2ba97a6e7",
            "value": "validation-00000-of-00001.parquet: 100%"
          }
        },
        "82337d3d22aa4b91a4edf13375eeaa88": {
          "model_module": "@jupyter-widgets/controls",
          "model_name": "FloatProgressModel",
          "model_module_version": "1.5.0",
          "state": {
            "_dom_classes": [],
            "_model_module": "@jupyter-widgets/controls",
            "_model_module_version": "1.5.0",
            "_model_name": "FloatProgressModel",
            "_view_count": null,
            "_view_module": "@jupyter-widgets/controls",
            "_view_module_version": "1.5.0",
            "_view_name": "ProgressView",
            "bar_style": "success",
            "description": "",
            "description_tooltip": null,
            "layout": "IPY_MODEL_12265d8f4d0d4f95ad537c064c80b762",
            "max": 263516,
            "min": 0,
            "orientation": "horizontal",
            "style": "IPY_MODEL_ed1b8b463eef4d95b343e539bbfe68a7",
            "value": 263516
          }
        },
        "24aea410cfea4535b4bddd2991cdff47": {
          "model_module": "@jupyter-widgets/controls",
          "model_name": "HTMLModel",
          "model_module_version": "1.5.0",
          "state": {
            "_dom_classes": [],
            "_model_module": "@jupyter-widgets/controls",
            "_model_module_version": "1.5.0",
            "_model_name": "HTMLModel",
            "_view_count": null,
            "_view_module": "@jupyter-widgets/controls",
            "_view_module_version": "1.5.0",
            "_view_name": "HTMLView",
            "description": "",
            "description_tooltip": null,
            "layout": "IPY_MODEL_df9fe7d3cf66425787e2e5677e9721b8",
            "placeholder": "​",
            "style": "IPY_MODEL_362c561e792943e588900c15c7cb4071",
            "value": " 264k/264k [00:00&lt;00:00, 3.94MB/s]"
          }
        },
        "c4d466d4ea8c448f8b3d73f0a7731a3f": {
          "model_module": "@jupyter-widgets/base",
          "model_name": "LayoutModel",
          "model_module_version": "1.2.0",
          "state": {
            "_model_module": "@jupyter-widgets/base",
            "_model_module_version": "1.2.0",
            "_model_name": "LayoutModel",
            "_view_count": null,
            "_view_module": "@jupyter-widgets/base",
            "_view_module_version": "1.2.0",
            "_view_name": "LayoutView",
            "align_content": null,
            "align_items": null,
            "align_self": null,
            "border": null,
            "bottom": null,
            "display": null,
            "flex": null,
            "flex_flow": null,
            "grid_area": null,
            "grid_auto_columns": null,
            "grid_auto_flow": null,
            "grid_auto_rows": null,
            "grid_column": null,
            "grid_gap": null,
            "grid_row": null,
            "grid_template_areas": null,
            "grid_template_columns": null,
            "grid_template_rows": null,
            "height": null,
            "justify_content": null,
            "justify_items": null,
            "left": null,
            "margin": null,
            "max_height": null,
            "max_width": null,
            "min_height": null,
            "min_width": null,
            "object_fit": null,
            "object_position": null,
            "order": null,
            "overflow": null,
            "overflow_x": null,
            "overflow_y": null,
            "padding": null,
            "right": null,
            "top": null,
            "visibility": null,
            "width": null
          }
        },
        "88b3b6d2d8794bcdb3e297862d7b7550": {
          "model_module": "@jupyter-widgets/base",
          "model_name": "LayoutModel",
          "model_module_version": "1.2.0",
          "state": {
            "_model_module": "@jupyter-widgets/base",
            "_model_module_version": "1.2.0",
            "_model_name": "LayoutModel",
            "_view_count": null,
            "_view_module": "@jupyter-widgets/base",
            "_view_module_version": "1.2.0",
            "_view_name": "LayoutView",
            "align_content": null,
            "align_items": null,
            "align_self": null,
            "border": null,
            "bottom": null,
            "display": null,
            "flex": null,
            "flex_flow": null,
            "grid_area": null,
            "grid_auto_columns": null,
            "grid_auto_flow": null,
            "grid_auto_rows": null,
            "grid_column": null,
            "grid_gap": null,
            "grid_row": null,
            "grid_template_areas": null,
            "grid_template_columns": null,
            "grid_template_rows": null,
            "height": null,
            "justify_content": null,
            "justify_items": null,
            "left": null,
            "margin": null,
            "max_height": null,
            "max_width": null,
            "min_height": null,
            "min_width": null,
            "object_fit": null,
            "object_position": null,
            "order": null,
            "overflow": null,
            "overflow_x": null,
            "overflow_y": null,
            "padding": null,
            "right": null,
            "top": null,
            "visibility": null,
            "width": null
          }
        },
        "79370b4a32b64cf1aded37a2ba97a6e7": {
          "model_module": "@jupyter-widgets/controls",
          "model_name": "DescriptionStyleModel",
          "model_module_version": "1.5.0",
          "state": {
            "_model_module": "@jupyter-widgets/controls",
            "_model_module_version": "1.5.0",
            "_model_name": "DescriptionStyleModel",
            "_view_count": null,
            "_view_module": "@jupyter-widgets/base",
            "_view_module_version": "1.2.0",
            "_view_name": "StyleView",
            "description_width": ""
          }
        },
        "12265d8f4d0d4f95ad537c064c80b762": {
          "model_module": "@jupyter-widgets/base",
          "model_name": "LayoutModel",
          "model_module_version": "1.2.0",
          "state": {
            "_model_module": "@jupyter-widgets/base",
            "_model_module_version": "1.2.0",
            "_model_name": "LayoutModel",
            "_view_count": null,
            "_view_module": "@jupyter-widgets/base",
            "_view_module_version": "1.2.0",
            "_view_name": "LayoutView",
            "align_content": null,
            "align_items": null,
            "align_self": null,
            "border": null,
            "bottom": null,
            "display": null,
            "flex": null,
            "flex_flow": null,
            "grid_area": null,
            "grid_auto_columns": null,
            "grid_auto_flow": null,
            "grid_auto_rows": null,
            "grid_column": null,
            "grid_gap": null,
            "grid_row": null,
            "grid_template_areas": null,
            "grid_template_columns": null,
            "grid_template_rows": null,
            "height": null,
            "justify_content": null,
            "justify_items": null,
            "left": null,
            "margin": null,
            "max_height": null,
            "max_width": null,
            "min_height": null,
            "min_width": null,
            "object_fit": null,
            "object_position": null,
            "order": null,
            "overflow": null,
            "overflow_x": null,
            "overflow_y": null,
            "padding": null,
            "right": null,
            "top": null,
            "visibility": null,
            "width": null
          }
        },
        "ed1b8b463eef4d95b343e539bbfe68a7": {
          "model_module": "@jupyter-widgets/controls",
          "model_name": "ProgressStyleModel",
          "model_module_version": "1.5.0",
          "state": {
            "_model_module": "@jupyter-widgets/controls",
            "_model_module_version": "1.5.0",
            "_model_name": "ProgressStyleModel",
            "_view_count": null,
            "_view_module": "@jupyter-widgets/base",
            "_view_module_version": "1.2.0",
            "_view_name": "StyleView",
            "bar_color": null,
            "description_width": ""
          }
        },
        "df9fe7d3cf66425787e2e5677e9721b8": {
          "model_module": "@jupyter-widgets/base",
          "model_name": "LayoutModel",
          "model_module_version": "1.2.0",
          "state": {
            "_model_module": "@jupyter-widgets/base",
            "_model_module_version": "1.2.0",
            "_model_name": "LayoutModel",
            "_view_count": null,
            "_view_module": "@jupyter-widgets/base",
            "_view_module_version": "1.2.0",
            "_view_name": "LayoutView",
            "align_content": null,
            "align_items": null,
            "align_self": null,
            "border": null,
            "bottom": null,
            "display": null,
            "flex": null,
            "flex_flow": null,
            "grid_area": null,
            "grid_auto_columns": null,
            "grid_auto_flow": null,
            "grid_auto_rows": null,
            "grid_column": null,
            "grid_gap": null,
            "grid_row": null,
            "grid_template_areas": null,
            "grid_template_columns": null,
            "grid_template_rows": null,
            "height": null,
            "justify_content": null,
            "justify_items": null,
            "left": null,
            "margin": null,
            "max_height": null,
            "max_width": null,
            "min_height": null,
            "min_width": null,
            "object_fit": null,
            "object_position": null,
            "order": null,
            "overflow": null,
            "overflow_x": null,
            "overflow_y": null,
            "padding": null,
            "right": null,
            "top": null,
            "visibility": null,
            "width": null
          }
        },
        "362c561e792943e588900c15c7cb4071": {
          "model_module": "@jupyter-widgets/controls",
          "model_name": "DescriptionStyleModel",
          "model_module_version": "1.5.0",
          "state": {
            "_model_module": "@jupyter-widgets/controls",
            "_model_module_version": "1.5.0",
            "_model_name": "DescriptionStyleModel",
            "_view_count": null,
            "_view_module": "@jupyter-widgets/base",
            "_view_module_version": "1.2.0",
            "_view_name": "StyleView",
            "description_width": ""
          }
        },
        "ad5a6d8d122c4abb9cf915c50987e249": {
          "model_module": "@jupyter-widgets/controls",
          "model_name": "HBoxModel",
          "model_module_version": "1.5.0",
          "state": {
            "_dom_classes": [],
            "_model_module": "@jupyter-widgets/controls",
            "_model_module_version": "1.5.0",
            "_model_name": "HBoxModel",
            "_view_count": null,
            "_view_module": "@jupyter-widgets/controls",
            "_view_module_version": "1.5.0",
            "_view_name": "HBoxView",
            "box_style": "",
            "children": [
              "IPY_MODEL_696d8d60f42e4a79aceba62433d51679",
              "IPY_MODEL_4e9dc48e58994fa685777c89f33ab75d",
              "IPY_MODEL_830f9b122659434facb381b02b64410f"
            ],
            "layout": "IPY_MODEL_e877d3ce345347c6b065043db7a7f84a"
          }
        },
        "696d8d60f42e4a79aceba62433d51679": {
          "model_module": "@jupyter-widgets/controls",
          "model_name": "HTMLModel",
          "model_module_version": "1.5.0",
          "state": {
            "_dom_classes": [],
            "_model_module": "@jupyter-widgets/controls",
            "_model_module_version": "1.5.0",
            "_model_name": "HTMLModel",
            "_view_count": null,
            "_view_module": "@jupyter-widgets/controls",
            "_view_module_version": "1.5.0",
            "_view_name": "HTMLView",
            "description": "",
            "description_tooltip": null,
            "layout": "IPY_MODEL_fed054a77d29454ea7265e6e9f91125f",
            "placeholder": "​",
            "style": "IPY_MODEL_d429bec0aec746a0956814377dc0e23d",
            "value": "train-00000-of-00001.parquet: 100%"
          }
        },
        "4e9dc48e58994fa685777c89f33ab75d": {
          "model_module": "@jupyter-widgets/controls",
          "model_name": "FloatProgressModel",
          "model_module_version": "1.5.0",
          "state": {
            "_dom_classes": [],
            "_model_module": "@jupyter-widgets/controls",
            "_model_module_version": "1.5.0",
            "_model_name": "FloatProgressModel",
            "_view_count": null,
            "_view_module": "@jupyter-widgets/controls",
            "_view_module_version": "1.5.0",
            "_view_name": "ProgressView",
            "bar_style": "success",
            "description": "",
            "description_tooltip": null,
            "layout": "IPY_MODEL_e60e77b6ccbb4c589ceabc3ce970b85f",
            "max": 2004001,
            "min": 0,
            "orientation": "horizontal",
            "style": "IPY_MODEL_b7023e8440d94484b98fe61cad312a30",
            "value": 2004001
          }
        },
        "830f9b122659434facb381b02b64410f": {
          "model_module": "@jupyter-widgets/controls",
          "model_name": "HTMLModel",
          "model_module_version": "1.5.0",
          "state": {
            "_dom_classes": [],
            "_model_module": "@jupyter-widgets/controls",
            "_model_module_version": "1.5.0",
            "_model_name": "HTMLModel",
            "_view_count": null,
            "_view_module": "@jupyter-widgets/controls",
            "_view_module_version": "1.5.0",
            "_view_name": "HTMLView",
            "description": "",
            "description_tooltip": null,
            "layout": "IPY_MODEL_ef65009fa5fd41b8a6de508babd2d20d",
            "placeholder": "​",
            "style": "IPY_MODEL_8ac4c521a70f4c69a1041fd4b858c6d1",
            "value": " 2.00M/2.00M [00:00&lt;00:00, 24.7MB/s]"
          }
        },
        "e877d3ce345347c6b065043db7a7f84a": {
          "model_module": "@jupyter-widgets/base",
          "model_name": "LayoutModel",
          "model_module_version": "1.2.0",
          "state": {
            "_model_module": "@jupyter-widgets/base",
            "_model_module_version": "1.2.0",
            "_model_name": "LayoutModel",
            "_view_count": null,
            "_view_module": "@jupyter-widgets/base",
            "_view_module_version": "1.2.0",
            "_view_name": "LayoutView",
            "align_content": null,
            "align_items": null,
            "align_self": null,
            "border": null,
            "bottom": null,
            "display": null,
            "flex": null,
            "flex_flow": null,
            "grid_area": null,
            "grid_auto_columns": null,
            "grid_auto_flow": null,
            "grid_auto_rows": null,
            "grid_column": null,
            "grid_gap": null,
            "grid_row": null,
            "grid_template_areas": null,
            "grid_template_columns": null,
            "grid_template_rows": null,
            "height": null,
            "justify_content": null,
            "justify_items": null,
            "left": null,
            "margin": null,
            "max_height": null,
            "max_width": null,
            "min_height": null,
            "min_width": null,
            "object_fit": null,
            "object_position": null,
            "order": null,
            "overflow": null,
            "overflow_x": null,
            "overflow_y": null,
            "padding": null,
            "right": null,
            "top": null,
            "visibility": null,
            "width": null
          }
        },
        "fed054a77d29454ea7265e6e9f91125f": {
          "model_module": "@jupyter-widgets/base",
          "model_name": "LayoutModel",
          "model_module_version": "1.2.0",
          "state": {
            "_model_module": "@jupyter-widgets/base",
            "_model_module_version": "1.2.0",
            "_model_name": "LayoutModel",
            "_view_count": null,
            "_view_module": "@jupyter-widgets/base",
            "_view_module_version": "1.2.0",
            "_view_name": "LayoutView",
            "align_content": null,
            "align_items": null,
            "align_self": null,
            "border": null,
            "bottom": null,
            "display": null,
            "flex": null,
            "flex_flow": null,
            "grid_area": null,
            "grid_auto_columns": null,
            "grid_auto_flow": null,
            "grid_auto_rows": null,
            "grid_column": null,
            "grid_gap": null,
            "grid_row": null,
            "grid_template_areas": null,
            "grid_template_columns": null,
            "grid_template_rows": null,
            "height": null,
            "justify_content": null,
            "justify_items": null,
            "left": null,
            "margin": null,
            "max_height": null,
            "max_width": null,
            "min_height": null,
            "min_width": null,
            "object_fit": null,
            "object_position": null,
            "order": null,
            "overflow": null,
            "overflow_x": null,
            "overflow_y": null,
            "padding": null,
            "right": null,
            "top": null,
            "visibility": null,
            "width": null
          }
        },
        "d429bec0aec746a0956814377dc0e23d": {
          "model_module": "@jupyter-widgets/controls",
          "model_name": "DescriptionStyleModel",
          "model_module_version": "1.5.0",
          "state": {
            "_model_module": "@jupyter-widgets/controls",
            "_model_module_version": "1.5.0",
            "_model_name": "DescriptionStyleModel",
            "_view_count": null,
            "_view_module": "@jupyter-widgets/base",
            "_view_module_version": "1.2.0",
            "_view_name": "StyleView",
            "description_width": ""
          }
        },
        "e60e77b6ccbb4c589ceabc3ce970b85f": {
          "model_module": "@jupyter-widgets/base",
          "model_name": "LayoutModel",
          "model_module_version": "1.2.0",
          "state": {
            "_model_module": "@jupyter-widgets/base",
            "_model_module_version": "1.2.0",
            "_model_name": "LayoutModel",
            "_view_count": null,
            "_view_module": "@jupyter-widgets/base",
            "_view_module_version": "1.2.0",
            "_view_name": "LayoutView",
            "align_content": null,
            "align_items": null,
            "align_self": null,
            "border": null,
            "bottom": null,
            "display": null,
            "flex": null,
            "flex_flow": null,
            "grid_area": null,
            "grid_auto_columns": null,
            "grid_auto_flow": null,
            "grid_auto_rows": null,
            "grid_column": null,
            "grid_gap": null,
            "grid_row": null,
            "grid_template_areas": null,
            "grid_template_columns": null,
            "grid_template_rows": null,
            "height": null,
            "justify_content": null,
            "justify_items": null,
            "left": null,
            "margin": null,
            "max_height": null,
            "max_width": null,
            "min_height": null,
            "min_width": null,
            "object_fit": null,
            "object_position": null,
            "order": null,
            "overflow": null,
            "overflow_x": null,
            "overflow_y": null,
            "padding": null,
            "right": null,
            "top": null,
            "visibility": null,
            "width": null
          }
        },
        "b7023e8440d94484b98fe61cad312a30": {
          "model_module": "@jupyter-widgets/controls",
          "model_name": "ProgressStyleModel",
          "model_module_version": "1.5.0",
          "state": {
            "_model_module": "@jupyter-widgets/controls",
            "_model_module_version": "1.5.0",
            "_model_name": "ProgressStyleModel",
            "_view_count": null,
            "_view_module": "@jupyter-widgets/base",
            "_view_module_version": "1.2.0",
            "_view_name": "StyleView",
            "bar_color": null,
            "description_width": ""
          }
        },
        "ef65009fa5fd41b8a6de508babd2d20d": {
          "model_module": "@jupyter-widgets/base",
          "model_name": "LayoutModel",
          "model_module_version": "1.2.0",
          "state": {
            "_model_module": "@jupyter-widgets/base",
            "_model_module_version": "1.2.0",
            "_model_name": "LayoutModel",
            "_view_count": null,
            "_view_module": "@jupyter-widgets/base",
            "_view_module_version": "1.2.0",
            "_view_name": "LayoutView",
            "align_content": null,
            "align_items": null,
            "align_self": null,
            "border": null,
            "bottom": null,
            "display": null,
            "flex": null,
            "flex_flow": null,
            "grid_area": null,
            "grid_auto_columns": null,
            "grid_auto_flow": null,
            "grid_auto_rows": null,
            "grid_column": null,
            "grid_gap": null,
            "grid_row": null,
            "grid_template_areas": null,
            "grid_template_columns": null,
            "grid_template_rows": null,
            "height": null,
            "justify_content": null,
            "justify_items": null,
            "left": null,
            "margin": null,
            "max_height": null,
            "max_width": null,
            "min_height": null,
            "min_width": null,
            "object_fit": null,
            "object_position": null,
            "order": null,
            "overflow": null,
            "overflow_x": null,
            "overflow_y": null,
            "padding": null,
            "right": null,
            "top": null,
            "visibility": null,
            "width": null
          }
        },
        "8ac4c521a70f4c69a1041fd4b858c6d1": {
          "model_module": "@jupyter-widgets/controls",
          "model_name": "DescriptionStyleModel",
          "model_module_version": "1.5.0",
          "state": {
            "_model_module": "@jupyter-widgets/controls",
            "_model_module_version": "1.5.0",
            "_model_name": "DescriptionStyleModel",
            "_view_count": null,
            "_view_module": "@jupyter-widgets/base",
            "_view_module_version": "1.2.0",
            "_view_name": "StyleView",
            "description_width": ""
          }
        },
        "36c487bc6c8c489d8f168640401ca144": {
          "model_module": "@jupyter-widgets/controls",
          "model_name": "HBoxModel",
          "model_module_version": "1.5.0",
          "state": {
            "_dom_classes": [],
            "_model_module": "@jupyter-widgets/controls",
            "_model_module_version": "1.5.0",
            "_model_name": "HBoxModel",
            "_view_count": null,
            "_view_module": "@jupyter-widgets/controls",
            "_view_module_version": "1.5.0",
            "_view_name": "HBoxView",
            "box_style": "",
            "children": [
              "IPY_MODEL_3064ce339d59431d8fa27b189f4d83c4",
              "IPY_MODEL_1ad9d762ea5c4658abb2855489736283",
              "IPY_MODEL_487e2ea9399b443cbc64e24cc25fba9a"
            ],
            "layout": "IPY_MODEL_710ed48336a2459288be5597f499e170"
          }
        },
        "3064ce339d59431d8fa27b189f4d83c4": {
          "model_module": "@jupyter-widgets/controls",
          "model_name": "HTMLModel",
          "model_module_version": "1.5.0",
          "state": {
            "_dom_classes": [],
            "_model_module": "@jupyter-widgets/controls",
            "_model_module_version": "1.5.0",
            "_model_name": "HTMLModel",
            "_view_count": null,
            "_view_module": "@jupyter-widgets/controls",
            "_view_module_version": "1.5.0",
            "_view_name": "HTMLView",
            "description": "",
            "description_tooltip": null,
            "layout": "IPY_MODEL_c1d303c1ba7b445a8571414e2ff0bf58",
            "placeholder": "​",
            "style": "IPY_MODEL_7167f121fa944486915603f9f1600d22",
            "value": "Generating test split: 100%"
          }
        },
        "1ad9d762ea5c4658abb2855489736283": {
          "model_module": "@jupyter-widgets/controls",
          "model_name": "FloatProgressModel",
          "model_module_version": "1.5.0",
          "state": {
            "_dom_classes": [],
            "_model_module": "@jupyter-widgets/controls",
            "_model_module_version": "1.5.0",
            "_model_name": "FloatProgressModel",
            "_view_count": null,
            "_view_module": "@jupyter-widgets/controls",
            "_view_module_version": "1.5.0",
            "_view_name": "ProgressView",
            "bar_style": "success",
            "description": "",
            "description_tooltip": null,
            "layout": "IPY_MODEL_7951e9ab2ca240f0908fb4b4509416f0",
            "max": 6165,
            "min": 0,
            "orientation": "horizontal",
            "style": "IPY_MODEL_c8f09f028d22403b809f795ffe46abfe",
            "value": 6165
          }
        },
        "487e2ea9399b443cbc64e24cc25fba9a": {
          "model_module": "@jupyter-widgets/controls",
          "model_name": "HTMLModel",
          "model_module_version": "1.5.0",
          "state": {
            "_dom_classes": [],
            "_model_module": "@jupyter-widgets/controls",
            "_model_module_version": "1.5.0",
            "_model_name": "HTMLModel",
            "_view_count": null,
            "_view_module": "@jupyter-widgets/controls",
            "_view_module_version": "1.5.0",
            "_view_name": "HTMLView",
            "description": "",
            "description_tooltip": null,
            "layout": "IPY_MODEL_0596bea0ea9740229f2793cbf8144a19",
            "placeholder": "​",
            "style": "IPY_MODEL_46b652cdf85f459695532b3f039253bc",
            "value": " 6165/6165 [00:00&lt;00:00, 6746.20 examples/s]"
          }
        },
        "710ed48336a2459288be5597f499e170": {
          "model_module": "@jupyter-widgets/base",
          "model_name": "LayoutModel",
          "model_module_version": "1.2.0",
          "state": {
            "_model_module": "@jupyter-widgets/base",
            "_model_module_version": "1.2.0",
            "_model_name": "LayoutModel",
            "_view_count": null,
            "_view_module": "@jupyter-widgets/base",
            "_view_module_version": "1.2.0",
            "_view_name": "LayoutView",
            "align_content": null,
            "align_items": null,
            "align_self": null,
            "border": null,
            "bottom": null,
            "display": null,
            "flex": null,
            "flex_flow": null,
            "grid_area": null,
            "grid_auto_columns": null,
            "grid_auto_flow": null,
            "grid_auto_rows": null,
            "grid_column": null,
            "grid_gap": null,
            "grid_row": null,
            "grid_template_areas": null,
            "grid_template_columns": null,
            "grid_template_rows": null,
            "height": null,
            "justify_content": null,
            "justify_items": null,
            "left": null,
            "margin": null,
            "max_height": null,
            "max_width": null,
            "min_height": null,
            "min_width": null,
            "object_fit": null,
            "object_position": null,
            "order": null,
            "overflow": null,
            "overflow_x": null,
            "overflow_y": null,
            "padding": null,
            "right": null,
            "top": null,
            "visibility": null,
            "width": null
          }
        },
        "c1d303c1ba7b445a8571414e2ff0bf58": {
          "model_module": "@jupyter-widgets/base",
          "model_name": "LayoutModel",
          "model_module_version": "1.2.0",
          "state": {
            "_model_module": "@jupyter-widgets/base",
            "_model_module_version": "1.2.0",
            "_model_name": "LayoutModel",
            "_view_count": null,
            "_view_module": "@jupyter-widgets/base",
            "_view_module_version": "1.2.0",
            "_view_name": "LayoutView",
            "align_content": null,
            "align_items": null,
            "align_self": null,
            "border": null,
            "bottom": null,
            "display": null,
            "flex": null,
            "flex_flow": null,
            "grid_area": null,
            "grid_auto_columns": null,
            "grid_auto_flow": null,
            "grid_auto_rows": null,
            "grid_column": null,
            "grid_gap": null,
            "grid_row": null,
            "grid_template_areas": null,
            "grid_template_columns": null,
            "grid_template_rows": null,
            "height": null,
            "justify_content": null,
            "justify_items": null,
            "left": null,
            "margin": null,
            "max_height": null,
            "max_width": null,
            "min_height": null,
            "min_width": null,
            "object_fit": null,
            "object_position": null,
            "order": null,
            "overflow": null,
            "overflow_x": null,
            "overflow_y": null,
            "padding": null,
            "right": null,
            "top": null,
            "visibility": null,
            "width": null
          }
        },
        "7167f121fa944486915603f9f1600d22": {
          "model_module": "@jupyter-widgets/controls",
          "model_name": "DescriptionStyleModel",
          "model_module_version": "1.5.0",
          "state": {
            "_model_module": "@jupyter-widgets/controls",
            "_model_module_version": "1.5.0",
            "_model_name": "DescriptionStyleModel",
            "_view_count": null,
            "_view_module": "@jupyter-widgets/base",
            "_view_module_version": "1.2.0",
            "_view_name": "StyleView",
            "description_width": ""
          }
        },
        "7951e9ab2ca240f0908fb4b4509416f0": {
          "model_module": "@jupyter-widgets/base",
          "model_name": "LayoutModel",
          "model_module_version": "1.2.0",
          "state": {
            "_model_module": "@jupyter-widgets/base",
            "_model_module_version": "1.2.0",
            "_model_name": "LayoutModel",
            "_view_count": null,
            "_view_module": "@jupyter-widgets/base",
            "_view_module_version": "1.2.0",
            "_view_name": "LayoutView",
            "align_content": null,
            "align_items": null,
            "align_self": null,
            "border": null,
            "bottom": null,
            "display": null,
            "flex": null,
            "flex_flow": null,
            "grid_area": null,
            "grid_auto_columns": null,
            "grid_auto_flow": null,
            "grid_auto_rows": null,
            "grid_column": null,
            "grid_gap": null,
            "grid_row": null,
            "grid_template_areas": null,
            "grid_template_columns": null,
            "grid_template_rows": null,
            "height": null,
            "justify_content": null,
            "justify_items": null,
            "left": null,
            "margin": null,
            "max_height": null,
            "max_width": null,
            "min_height": null,
            "min_width": null,
            "object_fit": null,
            "object_position": null,
            "order": null,
            "overflow": null,
            "overflow_x": null,
            "overflow_y": null,
            "padding": null,
            "right": null,
            "top": null,
            "visibility": null,
            "width": null
          }
        },
        "c8f09f028d22403b809f795ffe46abfe": {
          "model_module": "@jupyter-widgets/controls",
          "model_name": "ProgressStyleModel",
          "model_module_version": "1.5.0",
          "state": {
            "_model_module": "@jupyter-widgets/controls",
            "_model_module_version": "1.5.0",
            "_model_name": "ProgressStyleModel",
            "_view_count": null,
            "_view_module": "@jupyter-widgets/base",
            "_view_module_version": "1.2.0",
            "_view_name": "StyleView",
            "bar_color": null,
            "description_width": ""
          }
        },
        "0596bea0ea9740229f2793cbf8144a19": {
          "model_module": "@jupyter-widgets/base",
          "model_name": "LayoutModel",
          "model_module_version": "1.2.0",
          "state": {
            "_model_module": "@jupyter-widgets/base",
            "_model_module_version": "1.2.0",
            "_model_name": "LayoutModel",
            "_view_count": null,
            "_view_module": "@jupyter-widgets/base",
            "_view_module_version": "1.2.0",
            "_view_name": "LayoutView",
            "align_content": null,
            "align_items": null,
            "align_self": null,
            "border": null,
            "bottom": null,
            "display": null,
            "flex": null,
            "flex_flow": null,
            "grid_area": null,
            "grid_auto_columns": null,
            "grid_auto_flow": null,
            "grid_auto_rows": null,
            "grid_column": null,
            "grid_gap": null,
            "grid_row": null,
            "grid_template_areas": null,
            "grid_template_columns": null,
            "grid_template_rows": null,
            "height": null,
            "justify_content": null,
            "justify_items": null,
            "left": null,
            "margin": null,
            "max_height": null,
            "max_width": null,
            "min_height": null,
            "min_width": null,
            "object_fit": null,
            "object_position": null,
            "order": null,
            "overflow": null,
            "overflow_x": null,
            "overflow_y": null,
            "padding": null,
            "right": null,
            "top": null,
            "visibility": null,
            "width": null
          }
        },
        "46b652cdf85f459695532b3f039253bc": {
          "model_module": "@jupyter-widgets/controls",
          "model_name": "DescriptionStyleModel",
          "model_module_version": "1.5.0",
          "state": {
            "_model_module": "@jupyter-widgets/controls",
            "_model_module_version": "1.5.0",
            "_model_name": "DescriptionStyleModel",
            "_view_count": null,
            "_view_module": "@jupyter-widgets/base",
            "_view_module_version": "1.2.0",
            "_view_name": "StyleView",
            "description_width": ""
          }
        },
        "1cde566b0fda4d8f90e2b6910a3cc7a7": {
          "model_module": "@jupyter-widgets/controls",
          "model_name": "HBoxModel",
          "model_module_version": "1.5.0",
          "state": {
            "_dom_classes": [],
            "_model_module": "@jupyter-widgets/controls",
            "_model_module_version": "1.5.0",
            "_model_name": "HBoxModel",
            "_view_count": null,
            "_view_module": "@jupyter-widgets/controls",
            "_view_module_version": "1.5.0",
            "_view_name": "HBoxView",
            "box_style": "",
            "children": [
              "IPY_MODEL_10b75d13eb8f439eb4c2663c146518d3",
              "IPY_MODEL_0087e809997749b685670bb144bdc71f",
              "IPY_MODEL_0de0ab6305634d17974e9d004318acac"
            ],
            "layout": "IPY_MODEL_717a543c8a464a3187717a74db466481"
          }
        },
        "10b75d13eb8f439eb4c2663c146518d3": {
          "model_module": "@jupyter-widgets/controls",
          "model_name": "HTMLModel",
          "model_module_version": "1.5.0",
          "state": {
            "_dom_classes": [],
            "_model_module": "@jupyter-widgets/controls",
            "_model_module_version": "1.5.0",
            "_model_name": "HTMLModel",
            "_view_count": null,
            "_view_module": "@jupyter-widgets/controls",
            "_view_module_version": "1.5.0",
            "_view_name": "HTMLView",
            "description": "",
            "description_tooltip": null,
            "layout": "IPY_MODEL_a21d57e60e1f4bc9995290875c828640",
            "placeholder": "​",
            "style": "IPY_MODEL_0ee9825e0c734436bc1d0ec0214dc1ec",
            "value": "Generating validation split: 100%"
          }
        },
        "0087e809997749b685670bb144bdc71f": {
          "model_module": "@jupyter-widgets/controls",
          "model_name": "FloatProgressModel",
          "model_module_version": "1.5.0",
          "state": {
            "_dom_classes": [],
            "_model_module": "@jupyter-widgets/controls",
            "_model_module_version": "1.5.0",
            "_model_name": "FloatProgressModel",
            "_view_count": null,
            "_view_module": "@jupyter-widgets/controls",
            "_view_module_version": "1.5.0",
            "_view_name": "ProgressView",
            "bar_style": "success",
            "description": "",
            "description_tooltip": null,
            "layout": "IPY_MODEL_1dbf97d9555a40c4a7f6c48a37983dda",
            "max": 2733,
            "min": 0,
            "orientation": "horizontal",
            "style": "IPY_MODEL_923a0c6ea67f4de482e7b4cfe4a314e2",
            "value": 2733
          }
        },
        "0de0ab6305634d17974e9d004318acac": {
          "model_module": "@jupyter-widgets/controls",
          "model_name": "HTMLModel",
          "model_module_version": "1.5.0",
          "state": {
            "_dom_classes": [],
            "_model_module": "@jupyter-widgets/controls",
            "_model_module_version": "1.5.0",
            "_model_name": "HTMLModel",
            "_view_count": null,
            "_view_module": "@jupyter-widgets/controls",
            "_view_module_version": "1.5.0",
            "_view_name": "HTMLView",
            "description": "",
            "description_tooltip": null,
            "layout": "IPY_MODEL_c2b4a210bb35409e9f75693728b9b260",
            "placeholder": "​",
            "style": "IPY_MODEL_d061e856f47546638e0a2d3d5757d479",
            "value": " 2733/2733 [00:00&lt;00:00, 18290.46 examples/s]"
          }
        },
        "717a543c8a464a3187717a74db466481": {
          "model_module": "@jupyter-widgets/base",
          "model_name": "LayoutModel",
          "model_module_version": "1.2.0",
          "state": {
            "_model_module": "@jupyter-widgets/base",
            "_model_module_version": "1.2.0",
            "_model_name": "LayoutModel",
            "_view_count": null,
            "_view_module": "@jupyter-widgets/base",
            "_view_module_version": "1.2.0",
            "_view_name": "LayoutView",
            "align_content": null,
            "align_items": null,
            "align_self": null,
            "border": null,
            "bottom": null,
            "display": null,
            "flex": null,
            "flex_flow": null,
            "grid_area": null,
            "grid_auto_columns": null,
            "grid_auto_flow": null,
            "grid_auto_rows": null,
            "grid_column": null,
            "grid_gap": null,
            "grid_row": null,
            "grid_template_areas": null,
            "grid_template_columns": null,
            "grid_template_rows": null,
            "height": null,
            "justify_content": null,
            "justify_items": null,
            "left": null,
            "margin": null,
            "max_height": null,
            "max_width": null,
            "min_height": null,
            "min_width": null,
            "object_fit": null,
            "object_position": null,
            "order": null,
            "overflow": null,
            "overflow_x": null,
            "overflow_y": null,
            "padding": null,
            "right": null,
            "top": null,
            "visibility": null,
            "width": null
          }
        },
        "a21d57e60e1f4bc9995290875c828640": {
          "model_module": "@jupyter-widgets/base",
          "model_name": "LayoutModel",
          "model_module_version": "1.2.0",
          "state": {
            "_model_module": "@jupyter-widgets/base",
            "_model_module_version": "1.2.0",
            "_model_name": "LayoutModel",
            "_view_count": null,
            "_view_module": "@jupyter-widgets/base",
            "_view_module_version": "1.2.0",
            "_view_name": "LayoutView",
            "align_content": null,
            "align_items": null,
            "align_self": null,
            "border": null,
            "bottom": null,
            "display": null,
            "flex": null,
            "flex_flow": null,
            "grid_area": null,
            "grid_auto_columns": null,
            "grid_auto_flow": null,
            "grid_auto_rows": null,
            "grid_column": null,
            "grid_gap": null,
            "grid_row": null,
            "grid_template_areas": null,
            "grid_template_columns": null,
            "grid_template_rows": null,
            "height": null,
            "justify_content": null,
            "justify_items": null,
            "left": null,
            "margin": null,
            "max_height": null,
            "max_width": null,
            "min_height": null,
            "min_width": null,
            "object_fit": null,
            "object_position": null,
            "order": null,
            "overflow": null,
            "overflow_x": null,
            "overflow_y": null,
            "padding": null,
            "right": null,
            "top": null,
            "visibility": null,
            "width": null
          }
        },
        "0ee9825e0c734436bc1d0ec0214dc1ec": {
          "model_module": "@jupyter-widgets/controls",
          "model_name": "DescriptionStyleModel",
          "model_module_version": "1.5.0",
          "state": {
            "_model_module": "@jupyter-widgets/controls",
            "_model_module_version": "1.5.0",
            "_model_name": "DescriptionStyleModel",
            "_view_count": null,
            "_view_module": "@jupyter-widgets/base",
            "_view_module_version": "1.2.0",
            "_view_name": "StyleView",
            "description_width": ""
          }
        },
        "1dbf97d9555a40c4a7f6c48a37983dda": {
          "model_module": "@jupyter-widgets/base",
          "model_name": "LayoutModel",
          "model_module_version": "1.2.0",
          "state": {
            "_model_module": "@jupyter-widgets/base",
            "_model_module_version": "1.2.0",
            "_model_name": "LayoutModel",
            "_view_count": null,
            "_view_module": "@jupyter-widgets/base",
            "_view_module_version": "1.2.0",
            "_view_name": "LayoutView",
            "align_content": null,
            "align_items": null,
            "align_self": null,
            "border": null,
            "bottom": null,
            "display": null,
            "flex": null,
            "flex_flow": null,
            "grid_area": null,
            "grid_auto_columns": null,
            "grid_auto_flow": null,
            "grid_auto_rows": null,
            "grid_column": null,
            "grid_gap": null,
            "grid_row": null,
            "grid_template_areas": null,
            "grid_template_columns": null,
            "grid_template_rows": null,
            "height": null,
            "justify_content": null,
            "justify_items": null,
            "left": null,
            "margin": null,
            "max_height": null,
            "max_width": null,
            "min_height": null,
            "min_width": null,
            "object_fit": null,
            "object_position": null,
            "order": null,
            "overflow": null,
            "overflow_x": null,
            "overflow_y": null,
            "padding": null,
            "right": null,
            "top": null,
            "visibility": null,
            "width": null
          }
        },
        "923a0c6ea67f4de482e7b4cfe4a314e2": {
          "model_module": "@jupyter-widgets/controls",
          "model_name": "ProgressStyleModel",
          "model_module_version": "1.5.0",
          "state": {
            "_model_module": "@jupyter-widgets/controls",
            "_model_module_version": "1.5.0",
            "_model_name": "ProgressStyleModel",
            "_view_count": null,
            "_view_module": "@jupyter-widgets/base",
            "_view_module_version": "1.2.0",
            "_view_name": "StyleView",
            "bar_color": null,
            "description_width": ""
          }
        },
        "c2b4a210bb35409e9f75693728b9b260": {
          "model_module": "@jupyter-widgets/base",
          "model_name": "LayoutModel",
          "model_module_version": "1.2.0",
          "state": {
            "_model_module": "@jupyter-widgets/base",
            "_model_module_version": "1.2.0",
            "_model_name": "LayoutModel",
            "_view_count": null,
            "_view_module": "@jupyter-widgets/base",
            "_view_module_version": "1.2.0",
            "_view_name": "LayoutView",
            "align_content": null,
            "align_items": null,
            "align_self": null,
            "border": null,
            "bottom": null,
            "display": null,
            "flex": null,
            "flex_flow": null,
            "grid_area": null,
            "grid_auto_columns": null,
            "grid_auto_flow": null,
            "grid_auto_rows": null,
            "grid_column": null,
            "grid_gap": null,
            "grid_row": null,
            "grid_template_areas": null,
            "grid_template_columns": null,
            "grid_template_rows": null,
            "height": null,
            "justify_content": null,
            "justify_items": null,
            "left": null,
            "margin": null,
            "max_height": null,
            "max_width": null,
            "min_height": null,
            "min_width": null,
            "object_fit": null,
            "object_position": null,
            "order": null,
            "overflow": null,
            "overflow_x": null,
            "overflow_y": null,
            "padding": null,
            "right": null,
            "top": null,
            "visibility": null,
            "width": null
          }
        },
        "d061e856f47546638e0a2d3d5757d479": {
          "model_module": "@jupyter-widgets/controls",
          "model_name": "DescriptionStyleModel",
          "model_module_version": "1.5.0",
          "state": {
            "_model_module": "@jupyter-widgets/controls",
            "_model_module_version": "1.5.0",
            "_model_name": "DescriptionStyleModel",
            "_view_count": null,
            "_view_module": "@jupyter-widgets/base",
            "_view_module_version": "1.2.0",
            "_view_name": "StyleView",
            "description_width": ""
          }
        },
        "f508353e6a09492980951157ab006040": {
          "model_module": "@jupyter-widgets/controls",
          "model_name": "HBoxModel",
          "model_module_version": "1.5.0",
          "state": {
            "_dom_classes": [],
            "_model_module": "@jupyter-widgets/controls",
            "_model_module_version": "1.5.0",
            "_model_name": "HBoxModel",
            "_view_count": null,
            "_view_module": "@jupyter-widgets/controls",
            "_view_module_version": "1.5.0",
            "_view_name": "HBoxView",
            "box_style": "",
            "children": [
              "IPY_MODEL_b1206e3befac49e8a40b53d9f43cba04",
              "IPY_MODEL_aec40ee4b141426297a20d1b3181cae8",
              "IPY_MODEL_98b35fe842354bc99e0c88a60b61f5e8"
            ],
            "layout": "IPY_MODEL_88172aaf31ad4887ba27e5b8d07bc9b9"
          }
        },
        "b1206e3befac49e8a40b53d9f43cba04": {
          "model_module": "@jupyter-widgets/controls",
          "model_name": "HTMLModel",
          "model_module_version": "1.5.0",
          "state": {
            "_dom_classes": [],
            "_model_module": "@jupyter-widgets/controls",
            "_model_module_version": "1.5.0",
            "_model_name": "HTMLModel",
            "_view_count": null,
            "_view_module": "@jupyter-widgets/controls",
            "_view_module_version": "1.5.0",
            "_view_name": "HTMLView",
            "description": "",
            "description_tooltip": null,
            "layout": "IPY_MODEL_6bd81b3ca1d447cca372a92260bd6444",
            "placeholder": "​",
            "style": "IPY_MODEL_81906b70a9e543af9a1a6489ccb1e389",
            "value": "Generating train split: 100%"
          }
        },
        "aec40ee4b141426297a20d1b3181cae8": {
          "model_module": "@jupyter-widgets/controls",
          "model_name": "FloatProgressModel",
          "model_module_version": "1.5.0",
          "state": {
            "_dom_classes": [],
            "_model_module": "@jupyter-widgets/controls",
            "_model_module_version": "1.5.0",
            "_model_name": "FloatProgressModel",
            "_view_count": null,
            "_view_module": "@jupyter-widgets/controls",
            "_view_module_version": "1.5.0",
            "_view_name": "ProgressView",
            "bar_style": "success",
            "description": "",
            "description_tooltip": null,
            "layout": "IPY_MODEL_b1c8a5e1543b472e8440a561477aef52",
            "max": 20360,
            "min": 0,
            "orientation": "horizontal",
            "style": "IPY_MODEL_6827190e631642d4a96969e282209e68",
            "value": 20360
          }
        },
        "98b35fe842354bc99e0c88a60b61f5e8": {
          "model_module": "@jupyter-widgets/controls",
          "model_name": "HTMLModel",
          "model_module_version": "1.5.0",
          "state": {
            "_dom_classes": [],
            "_model_module": "@jupyter-widgets/controls",
            "_model_module_version": "1.5.0",
            "_model_name": "HTMLModel",
            "_view_count": null,
            "_view_module": "@jupyter-widgets/controls",
            "_view_module_version": "1.5.0",
            "_view_name": "HTMLView",
            "description": "",
            "description_tooltip": null,
            "layout": "IPY_MODEL_1d12ad0a5ed1496691875198422c2fd4",
            "placeholder": "​",
            "style": "IPY_MODEL_f83868fcfd514915861ef1db24d00822",
            "value": " 20360/20360 [00:00&lt;00:00, 27458.84 examples/s]"
          }
        },
        "88172aaf31ad4887ba27e5b8d07bc9b9": {
          "model_module": "@jupyter-widgets/base",
          "model_name": "LayoutModel",
          "model_module_version": "1.2.0",
          "state": {
            "_model_module": "@jupyter-widgets/base",
            "_model_module_version": "1.2.0",
            "_model_name": "LayoutModel",
            "_view_count": null,
            "_view_module": "@jupyter-widgets/base",
            "_view_module_version": "1.2.0",
            "_view_name": "LayoutView",
            "align_content": null,
            "align_items": null,
            "align_self": null,
            "border": null,
            "bottom": null,
            "display": null,
            "flex": null,
            "flex_flow": null,
            "grid_area": null,
            "grid_auto_columns": null,
            "grid_auto_flow": null,
            "grid_auto_rows": null,
            "grid_column": null,
            "grid_gap": null,
            "grid_row": null,
            "grid_template_areas": null,
            "grid_template_columns": null,
            "grid_template_rows": null,
            "height": null,
            "justify_content": null,
            "justify_items": null,
            "left": null,
            "margin": null,
            "max_height": null,
            "max_width": null,
            "min_height": null,
            "min_width": null,
            "object_fit": null,
            "object_position": null,
            "order": null,
            "overflow": null,
            "overflow_x": null,
            "overflow_y": null,
            "padding": null,
            "right": null,
            "top": null,
            "visibility": null,
            "width": null
          }
        },
        "6bd81b3ca1d447cca372a92260bd6444": {
          "model_module": "@jupyter-widgets/base",
          "model_name": "LayoutModel",
          "model_module_version": "1.2.0",
          "state": {
            "_model_module": "@jupyter-widgets/base",
            "_model_module_version": "1.2.0",
            "_model_name": "LayoutModel",
            "_view_count": null,
            "_view_module": "@jupyter-widgets/base",
            "_view_module_version": "1.2.0",
            "_view_name": "LayoutView",
            "align_content": null,
            "align_items": null,
            "align_self": null,
            "border": null,
            "bottom": null,
            "display": null,
            "flex": null,
            "flex_flow": null,
            "grid_area": null,
            "grid_auto_columns": null,
            "grid_auto_flow": null,
            "grid_auto_rows": null,
            "grid_column": null,
            "grid_gap": null,
            "grid_row": null,
            "grid_template_areas": null,
            "grid_template_columns": null,
            "grid_template_rows": null,
            "height": null,
            "justify_content": null,
            "justify_items": null,
            "left": null,
            "margin": null,
            "max_height": null,
            "max_width": null,
            "min_height": null,
            "min_width": null,
            "object_fit": null,
            "object_position": null,
            "order": null,
            "overflow": null,
            "overflow_x": null,
            "overflow_y": null,
            "padding": null,
            "right": null,
            "top": null,
            "visibility": null,
            "width": null
          }
        },
        "81906b70a9e543af9a1a6489ccb1e389": {
          "model_module": "@jupyter-widgets/controls",
          "model_name": "DescriptionStyleModel",
          "model_module_version": "1.5.0",
          "state": {
            "_model_module": "@jupyter-widgets/controls",
            "_model_module_version": "1.5.0",
            "_model_name": "DescriptionStyleModel",
            "_view_count": null,
            "_view_module": "@jupyter-widgets/base",
            "_view_module_version": "1.2.0",
            "_view_name": "StyleView",
            "description_width": ""
          }
        },
        "b1c8a5e1543b472e8440a561477aef52": {
          "model_module": "@jupyter-widgets/base",
          "model_name": "LayoutModel",
          "model_module_version": "1.2.0",
          "state": {
            "_model_module": "@jupyter-widgets/base",
            "_model_module_version": "1.2.0",
            "_model_name": "LayoutModel",
            "_view_count": null,
            "_view_module": "@jupyter-widgets/base",
            "_view_module_version": "1.2.0",
            "_view_name": "LayoutView",
            "align_content": null,
            "align_items": null,
            "align_self": null,
            "border": null,
            "bottom": null,
            "display": null,
            "flex": null,
            "flex_flow": null,
            "grid_area": null,
            "grid_auto_columns": null,
            "grid_auto_flow": null,
            "grid_auto_rows": null,
            "grid_column": null,
            "grid_gap": null,
            "grid_row": null,
            "grid_template_areas": null,
            "grid_template_columns": null,
            "grid_template_rows": null,
            "height": null,
            "justify_content": null,
            "justify_items": null,
            "left": null,
            "margin": null,
            "max_height": null,
            "max_width": null,
            "min_height": null,
            "min_width": null,
            "object_fit": null,
            "object_position": null,
            "order": null,
            "overflow": null,
            "overflow_x": null,
            "overflow_y": null,
            "padding": null,
            "right": null,
            "top": null,
            "visibility": null,
            "width": null
          }
        },
        "6827190e631642d4a96969e282209e68": {
          "model_module": "@jupyter-widgets/controls",
          "model_name": "ProgressStyleModel",
          "model_module_version": "1.5.0",
          "state": {
            "_model_module": "@jupyter-widgets/controls",
            "_model_module_version": "1.5.0",
            "_model_name": "ProgressStyleModel",
            "_view_count": null,
            "_view_module": "@jupyter-widgets/base",
            "_view_module_version": "1.2.0",
            "_view_name": "StyleView",
            "bar_color": null,
            "description_width": ""
          }
        },
        "1d12ad0a5ed1496691875198422c2fd4": {
          "model_module": "@jupyter-widgets/base",
          "model_name": "LayoutModel",
          "model_module_version": "1.2.0",
          "state": {
            "_model_module": "@jupyter-widgets/base",
            "_model_module_version": "1.2.0",
            "_model_name": "LayoutModel",
            "_view_count": null,
            "_view_module": "@jupyter-widgets/base",
            "_view_module_version": "1.2.0",
            "_view_name": "LayoutView",
            "align_content": null,
            "align_items": null,
            "align_self": null,
            "border": null,
            "bottom": null,
            "display": null,
            "flex": null,
            "flex_flow": null,
            "grid_area": null,
            "grid_auto_columns": null,
            "grid_auto_flow": null,
            "grid_auto_rows": null,
            "grid_column": null,
            "grid_gap": null,
            "grid_row": null,
            "grid_template_areas": null,
            "grid_template_columns": null,
            "grid_template_rows": null,
            "height": null,
            "justify_content": null,
            "justify_items": null,
            "left": null,
            "margin": null,
            "max_height": null,
            "max_width": null,
            "min_height": null,
            "min_width": null,
            "object_fit": null,
            "object_position": null,
            "order": null,
            "overflow": null,
            "overflow_x": null,
            "overflow_y": null,
            "padding": null,
            "right": null,
            "top": null,
            "visibility": null,
            "width": null
          }
        },
        "f83868fcfd514915861ef1db24d00822": {
          "model_module": "@jupyter-widgets/controls",
          "model_name": "DescriptionStyleModel",
          "model_module_version": "1.5.0",
          "state": {
            "_model_module": "@jupyter-widgets/controls",
            "_model_module_version": "1.5.0",
            "_model_name": "DescriptionStyleModel",
            "_view_count": null,
            "_view_module": "@jupyter-widgets/base",
            "_view_module_version": "1.2.0",
            "_view_name": "StyleView",
            "description_width": ""
          }
        },
        "5327b6bc1f8340b19a863acac593c80b": {
          "model_module": "@jupyter-widgets/controls",
          "model_name": "HBoxModel",
          "model_module_version": "1.5.0",
          "state": {
            "_dom_classes": [],
            "_model_module": "@jupyter-widgets/controls",
            "_model_module_version": "1.5.0",
            "_model_name": "HBoxModel",
            "_view_count": null,
            "_view_module": "@jupyter-widgets/controls",
            "_view_module_version": "1.5.0",
            "_view_name": "HBoxView",
            "box_style": "",
            "children": [
              "IPY_MODEL_f1b40ae0c6304f9f84362df2e1a4ab9e",
              "IPY_MODEL_653ef93bc239466982143320edd4ac0d",
              "IPY_MODEL_d9ae9e9ea33643199f1ef820360a72f2"
            ],
            "layout": "IPY_MODEL_e0301d246b374f3494342f9c228bcbee"
          }
        },
        "f1b40ae0c6304f9f84362df2e1a4ab9e": {
          "model_module": "@jupyter-widgets/controls",
          "model_name": "HTMLModel",
          "model_module_version": "1.5.0",
          "state": {
            "_dom_classes": [],
            "_model_module": "@jupyter-widgets/controls",
            "_model_module_version": "1.5.0",
            "_model_name": "HTMLModel",
            "_view_count": null,
            "_view_module": "@jupyter-widgets/controls",
            "_view_module_version": "1.5.0",
            "_view_name": "HTMLView",
            "description": "",
            "description_tooltip": null,
            "layout": "IPY_MODEL_a331cd5fd72d48bfbc8ec8845b1819a7",
            "placeholder": "​",
            "style": "IPY_MODEL_acca9709d5cf4a688e3305c3fc09aaef",
            "value": "Filter: 100%"
          }
        },
        "653ef93bc239466982143320edd4ac0d": {
          "model_module": "@jupyter-widgets/controls",
          "model_name": "FloatProgressModel",
          "model_module_version": "1.5.0",
          "state": {
            "_dom_classes": [],
            "_model_module": "@jupyter-widgets/controls",
            "_model_module_version": "1.5.0",
            "_model_name": "FloatProgressModel",
            "_view_count": null,
            "_view_module": "@jupyter-widgets/controls",
            "_view_module_version": "1.5.0",
            "_view_name": "ProgressView",
            "bar_style": "success",
            "description": "",
            "description_tooltip": null,
            "layout": "IPY_MODEL_66e9b1f011a0481bacde7b9fc389719f",
            "max": 2733,
            "min": 0,
            "orientation": "horizontal",
            "style": "IPY_MODEL_f73456c5525b4942947f34f35b0d81a9",
            "value": 2733
          }
        },
        "d9ae9e9ea33643199f1ef820360a72f2": {
          "model_module": "@jupyter-widgets/controls",
          "model_name": "HTMLModel",
          "model_module_version": "1.5.0",
          "state": {
            "_dom_classes": [],
            "_model_module": "@jupyter-widgets/controls",
            "_model_module_version": "1.5.0",
            "_model_name": "HTMLModel",
            "_view_count": null,
            "_view_module": "@jupyter-widgets/controls",
            "_view_module_version": "1.5.0",
            "_view_name": "HTMLView",
            "description": "",
            "description_tooltip": null,
            "layout": "IPY_MODEL_12130c460b4044f98652e95ae9a5f405",
            "placeholder": "​",
            "style": "IPY_MODEL_8d475c2e4b054e8baba123bfe80bed6b",
            "value": " 2733/2733 [00:00&lt;00:00, 50846.02 examples/s]"
          }
        },
        "e0301d246b374f3494342f9c228bcbee": {
          "model_module": "@jupyter-widgets/base",
          "model_name": "LayoutModel",
          "model_module_version": "1.2.0",
          "state": {
            "_model_module": "@jupyter-widgets/base",
            "_model_module_version": "1.2.0",
            "_model_name": "LayoutModel",
            "_view_count": null,
            "_view_module": "@jupyter-widgets/base",
            "_view_module_version": "1.2.0",
            "_view_name": "LayoutView",
            "align_content": null,
            "align_items": null,
            "align_self": null,
            "border": null,
            "bottom": null,
            "display": null,
            "flex": null,
            "flex_flow": null,
            "grid_area": null,
            "grid_auto_columns": null,
            "grid_auto_flow": null,
            "grid_auto_rows": null,
            "grid_column": null,
            "grid_gap": null,
            "grid_row": null,
            "grid_template_areas": null,
            "grid_template_columns": null,
            "grid_template_rows": null,
            "height": null,
            "justify_content": null,
            "justify_items": null,
            "left": null,
            "margin": null,
            "max_height": null,
            "max_width": null,
            "min_height": null,
            "min_width": null,
            "object_fit": null,
            "object_position": null,
            "order": null,
            "overflow": null,
            "overflow_x": null,
            "overflow_y": null,
            "padding": null,
            "right": null,
            "top": null,
            "visibility": null,
            "width": null
          }
        },
        "a331cd5fd72d48bfbc8ec8845b1819a7": {
          "model_module": "@jupyter-widgets/base",
          "model_name": "LayoutModel",
          "model_module_version": "1.2.0",
          "state": {
            "_model_module": "@jupyter-widgets/base",
            "_model_module_version": "1.2.0",
            "_model_name": "LayoutModel",
            "_view_count": null,
            "_view_module": "@jupyter-widgets/base",
            "_view_module_version": "1.2.0",
            "_view_name": "LayoutView",
            "align_content": null,
            "align_items": null,
            "align_self": null,
            "border": null,
            "bottom": null,
            "display": null,
            "flex": null,
            "flex_flow": null,
            "grid_area": null,
            "grid_auto_columns": null,
            "grid_auto_flow": null,
            "grid_auto_rows": null,
            "grid_column": null,
            "grid_gap": null,
            "grid_row": null,
            "grid_template_areas": null,
            "grid_template_columns": null,
            "grid_template_rows": null,
            "height": null,
            "justify_content": null,
            "justify_items": null,
            "left": null,
            "margin": null,
            "max_height": null,
            "max_width": null,
            "min_height": null,
            "min_width": null,
            "object_fit": null,
            "object_position": null,
            "order": null,
            "overflow": null,
            "overflow_x": null,
            "overflow_y": null,
            "padding": null,
            "right": null,
            "top": null,
            "visibility": null,
            "width": null
          }
        },
        "acca9709d5cf4a688e3305c3fc09aaef": {
          "model_module": "@jupyter-widgets/controls",
          "model_name": "DescriptionStyleModel",
          "model_module_version": "1.5.0",
          "state": {
            "_model_module": "@jupyter-widgets/controls",
            "_model_module_version": "1.5.0",
            "_model_name": "DescriptionStyleModel",
            "_view_count": null,
            "_view_module": "@jupyter-widgets/base",
            "_view_module_version": "1.2.0",
            "_view_name": "StyleView",
            "description_width": ""
          }
        },
        "66e9b1f011a0481bacde7b9fc389719f": {
          "model_module": "@jupyter-widgets/base",
          "model_name": "LayoutModel",
          "model_module_version": "1.2.0",
          "state": {
            "_model_module": "@jupyter-widgets/base",
            "_model_module_version": "1.2.0",
            "_model_name": "LayoutModel",
            "_view_count": null,
            "_view_module": "@jupyter-widgets/base",
            "_view_module_version": "1.2.0",
            "_view_name": "LayoutView",
            "align_content": null,
            "align_items": null,
            "align_self": null,
            "border": null,
            "bottom": null,
            "display": null,
            "flex": null,
            "flex_flow": null,
            "grid_area": null,
            "grid_auto_columns": null,
            "grid_auto_flow": null,
            "grid_auto_rows": null,
            "grid_column": null,
            "grid_gap": null,
            "grid_row": null,
            "grid_template_areas": null,
            "grid_template_columns": null,
            "grid_template_rows": null,
            "height": null,
            "justify_content": null,
            "justify_items": null,
            "left": null,
            "margin": null,
            "max_height": null,
            "max_width": null,
            "min_height": null,
            "min_width": null,
            "object_fit": null,
            "object_position": null,
            "order": null,
            "overflow": null,
            "overflow_x": null,
            "overflow_y": null,
            "padding": null,
            "right": null,
            "top": null,
            "visibility": null,
            "width": null
          }
        },
        "f73456c5525b4942947f34f35b0d81a9": {
          "model_module": "@jupyter-widgets/controls",
          "model_name": "ProgressStyleModel",
          "model_module_version": "1.5.0",
          "state": {
            "_model_module": "@jupyter-widgets/controls",
            "_model_module_version": "1.5.0",
            "_model_name": "ProgressStyleModel",
            "_view_count": null,
            "_view_module": "@jupyter-widgets/base",
            "_view_module_version": "1.2.0",
            "_view_name": "StyleView",
            "bar_color": null,
            "description_width": ""
          }
        },
        "12130c460b4044f98652e95ae9a5f405": {
          "model_module": "@jupyter-widgets/base",
          "model_name": "LayoutModel",
          "model_module_version": "1.2.0",
          "state": {
            "_model_module": "@jupyter-widgets/base",
            "_model_module_version": "1.2.0",
            "_model_name": "LayoutModel",
            "_view_count": null,
            "_view_module": "@jupyter-widgets/base",
            "_view_module_version": "1.2.0",
            "_view_name": "LayoutView",
            "align_content": null,
            "align_items": null,
            "align_self": null,
            "border": null,
            "bottom": null,
            "display": null,
            "flex": null,
            "flex_flow": null,
            "grid_area": null,
            "grid_auto_columns": null,
            "grid_auto_flow": null,
            "grid_auto_rows": null,
            "grid_column": null,
            "grid_gap": null,
            "grid_row": null,
            "grid_template_areas": null,
            "grid_template_columns": null,
            "grid_template_rows": null,
            "height": null,
            "justify_content": null,
            "justify_items": null,
            "left": null,
            "margin": null,
            "max_height": null,
            "max_width": null,
            "min_height": null,
            "min_width": null,
            "object_fit": null,
            "object_position": null,
            "order": null,
            "overflow": null,
            "overflow_x": null,
            "overflow_y": null,
            "padding": null,
            "right": null,
            "top": null,
            "visibility": null,
            "width": null
          }
        },
        "8d475c2e4b054e8baba123bfe80bed6b": {
          "model_module": "@jupyter-widgets/controls",
          "model_name": "DescriptionStyleModel",
          "model_module_version": "1.5.0",
          "state": {
            "_model_module": "@jupyter-widgets/controls",
            "_model_module_version": "1.5.0",
            "_model_name": "DescriptionStyleModel",
            "_view_count": null,
            "_view_module": "@jupyter-widgets/base",
            "_view_module_version": "1.2.0",
            "_view_name": "StyleView",
            "description_width": ""
          }
        },
        "e1ff2f305bcf4ff883310cc46e0798f8": {
          "model_module": "@jupyter-widgets/controls",
          "model_name": "HBoxModel",
          "model_module_version": "1.5.0",
          "state": {
            "_dom_classes": [],
            "_model_module": "@jupyter-widgets/controls",
            "_model_module_version": "1.5.0",
            "_model_name": "HBoxModel",
            "_view_count": null,
            "_view_module": "@jupyter-widgets/controls",
            "_view_module_version": "1.5.0",
            "_view_name": "HBoxView",
            "box_style": "",
            "children": [
              "IPY_MODEL_14095d164ad349409f42f6128c6c129f",
              "IPY_MODEL_09aaa41a8a3243b3af3ba22d42d32bb8",
              "IPY_MODEL_3695e49cd3db4542922790bff1c403ed"
            ],
            "layout": "IPY_MODEL_722bf9049fdb42a0a9c16531c87956f2"
          }
        },
        "14095d164ad349409f42f6128c6c129f": {
          "model_module": "@jupyter-widgets/controls",
          "model_name": "HTMLModel",
          "model_module_version": "1.5.0",
          "state": {
            "_dom_classes": [],
            "_model_module": "@jupyter-widgets/controls",
            "_model_module_version": "1.5.0",
            "_model_name": "HTMLModel",
            "_view_count": null,
            "_view_module": "@jupyter-widgets/controls",
            "_view_module_version": "1.5.0",
            "_view_name": "HTMLView",
            "description": "",
            "description_tooltip": null,
            "layout": "IPY_MODEL_05c8add6db294d59b4bd2afa2252433a",
            "placeholder": "​",
            "style": "IPY_MODEL_fb90c9c1508f4720816ff822db12e960",
            "value": "modules.json: 100%"
          }
        },
        "09aaa41a8a3243b3af3ba22d42d32bb8": {
          "model_module": "@jupyter-widgets/controls",
          "model_name": "FloatProgressModel",
          "model_module_version": "1.5.0",
          "state": {
            "_dom_classes": [],
            "_model_module": "@jupyter-widgets/controls",
            "_model_module_version": "1.5.0",
            "_model_name": "FloatProgressModel",
            "_view_count": null,
            "_view_module": "@jupyter-widgets/controls",
            "_view_module_version": "1.5.0",
            "_view_name": "ProgressView",
            "bar_style": "success",
            "description": "",
            "description_tooltip": null,
            "layout": "IPY_MODEL_246ecb2e91174938965f7746a514b43e",
            "max": 349,
            "min": 0,
            "orientation": "horizontal",
            "style": "IPY_MODEL_36e9b7d0fe5148629e7651e96b4f5cfd",
            "value": 349
          }
        },
        "3695e49cd3db4542922790bff1c403ed": {
          "model_module": "@jupyter-widgets/controls",
          "model_name": "HTMLModel",
          "model_module_version": "1.5.0",
          "state": {
            "_dom_classes": [],
            "_model_module": "@jupyter-widgets/controls",
            "_model_module_version": "1.5.0",
            "_model_name": "HTMLModel",
            "_view_count": null,
            "_view_module": "@jupyter-widgets/controls",
            "_view_module_version": "1.5.0",
            "_view_name": "HTMLView",
            "description": "",
            "description_tooltip": null,
            "layout": "IPY_MODEL_839c69a6f70c45e993a83e27e7f50ddd",
            "placeholder": "​",
            "style": "IPY_MODEL_4e14233451654ee0b0d95c7c4fd72c00",
            "value": " 349/349 [00:00&lt;00:00, 26.1kB/s]"
          }
        },
        "722bf9049fdb42a0a9c16531c87956f2": {
          "model_module": "@jupyter-widgets/base",
          "model_name": "LayoutModel",
          "model_module_version": "1.2.0",
          "state": {
            "_model_module": "@jupyter-widgets/base",
            "_model_module_version": "1.2.0",
            "_model_name": "LayoutModel",
            "_view_count": null,
            "_view_module": "@jupyter-widgets/base",
            "_view_module_version": "1.2.0",
            "_view_name": "LayoutView",
            "align_content": null,
            "align_items": null,
            "align_self": null,
            "border": null,
            "bottom": null,
            "display": null,
            "flex": null,
            "flex_flow": null,
            "grid_area": null,
            "grid_auto_columns": null,
            "grid_auto_flow": null,
            "grid_auto_rows": null,
            "grid_column": null,
            "grid_gap": null,
            "grid_row": null,
            "grid_template_areas": null,
            "grid_template_columns": null,
            "grid_template_rows": null,
            "height": null,
            "justify_content": null,
            "justify_items": null,
            "left": null,
            "margin": null,
            "max_height": null,
            "max_width": null,
            "min_height": null,
            "min_width": null,
            "object_fit": null,
            "object_position": null,
            "order": null,
            "overflow": null,
            "overflow_x": null,
            "overflow_y": null,
            "padding": null,
            "right": null,
            "top": null,
            "visibility": null,
            "width": null
          }
        },
        "05c8add6db294d59b4bd2afa2252433a": {
          "model_module": "@jupyter-widgets/base",
          "model_name": "LayoutModel",
          "model_module_version": "1.2.0",
          "state": {
            "_model_module": "@jupyter-widgets/base",
            "_model_module_version": "1.2.0",
            "_model_name": "LayoutModel",
            "_view_count": null,
            "_view_module": "@jupyter-widgets/base",
            "_view_module_version": "1.2.0",
            "_view_name": "LayoutView",
            "align_content": null,
            "align_items": null,
            "align_self": null,
            "border": null,
            "bottom": null,
            "display": null,
            "flex": null,
            "flex_flow": null,
            "grid_area": null,
            "grid_auto_columns": null,
            "grid_auto_flow": null,
            "grid_auto_rows": null,
            "grid_column": null,
            "grid_gap": null,
            "grid_row": null,
            "grid_template_areas": null,
            "grid_template_columns": null,
            "grid_template_rows": null,
            "height": null,
            "justify_content": null,
            "justify_items": null,
            "left": null,
            "margin": null,
            "max_height": null,
            "max_width": null,
            "min_height": null,
            "min_width": null,
            "object_fit": null,
            "object_position": null,
            "order": null,
            "overflow": null,
            "overflow_x": null,
            "overflow_y": null,
            "padding": null,
            "right": null,
            "top": null,
            "visibility": null,
            "width": null
          }
        },
        "fb90c9c1508f4720816ff822db12e960": {
          "model_module": "@jupyter-widgets/controls",
          "model_name": "DescriptionStyleModel",
          "model_module_version": "1.5.0",
          "state": {
            "_model_module": "@jupyter-widgets/controls",
            "_model_module_version": "1.5.0",
            "_model_name": "DescriptionStyleModel",
            "_view_count": null,
            "_view_module": "@jupyter-widgets/base",
            "_view_module_version": "1.2.0",
            "_view_name": "StyleView",
            "description_width": ""
          }
        },
        "246ecb2e91174938965f7746a514b43e": {
          "model_module": "@jupyter-widgets/base",
          "model_name": "LayoutModel",
          "model_module_version": "1.2.0",
          "state": {
            "_model_module": "@jupyter-widgets/base",
            "_model_module_version": "1.2.0",
            "_model_name": "LayoutModel",
            "_view_count": null,
            "_view_module": "@jupyter-widgets/base",
            "_view_module_version": "1.2.0",
            "_view_name": "LayoutView",
            "align_content": null,
            "align_items": null,
            "align_self": null,
            "border": null,
            "bottom": null,
            "display": null,
            "flex": null,
            "flex_flow": null,
            "grid_area": null,
            "grid_auto_columns": null,
            "grid_auto_flow": null,
            "grid_auto_rows": null,
            "grid_column": null,
            "grid_gap": null,
            "grid_row": null,
            "grid_template_areas": null,
            "grid_template_columns": null,
            "grid_template_rows": null,
            "height": null,
            "justify_content": null,
            "justify_items": null,
            "left": null,
            "margin": null,
            "max_height": null,
            "max_width": null,
            "min_height": null,
            "min_width": null,
            "object_fit": null,
            "object_position": null,
            "order": null,
            "overflow": null,
            "overflow_x": null,
            "overflow_y": null,
            "padding": null,
            "right": null,
            "top": null,
            "visibility": null,
            "width": null
          }
        },
        "36e9b7d0fe5148629e7651e96b4f5cfd": {
          "model_module": "@jupyter-widgets/controls",
          "model_name": "ProgressStyleModel",
          "model_module_version": "1.5.0",
          "state": {
            "_model_module": "@jupyter-widgets/controls",
            "_model_module_version": "1.5.0",
            "_model_name": "ProgressStyleModel",
            "_view_count": null,
            "_view_module": "@jupyter-widgets/base",
            "_view_module_version": "1.2.0",
            "_view_name": "StyleView",
            "bar_color": null,
            "description_width": ""
          }
        },
        "839c69a6f70c45e993a83e27e7f50ddd": {
          "model_module": "@jupyter-widgets/base",
          "model_name": "LayoutModel",
          "model_module_version": "1.2.0",
          "state": {
            "_model_module": "@jupyter-widgets/base",
            "_model_module_version": "1.2.0",
            "_model_name": "LayoutModel",
            "_view_count": null,
            "_view_module": "@jupyter-widgets/base",
            "_view_module_version": "1.2.0",
            "_view_name": "LayoutView",
            "align_content": null,
            "align_items": null,
            "align_self": null,
            "border": null,
            "bottom": null,
            "display": null,
            "flex": null,
            "flex_flow": null,
            "grid_area": null,
            "grid_auto_columns": null,
            "grid_auto_flow": null,
            "grid_auto_rows": null,
            "grid_column": null,
            "grid_gap": null,
            "grid_row": null,
            "grid_template_areas": null,
            "grid_template_columns": null,
            "grid_template_rows": null,
            "height": null,
            "justify_content": null,
            "justify_items": null,
            "left": null,
            "margin": null,
            "max_height": null,
            "max_width": null,
            "min_height": null,
            "min_width": null,
            "object_fit": null,
            "object_position": null,
            "order": null,
            "overflow": null,
            "overflow_x": null,
            "overflow_y": null,
            "padding": null,
            "right": null,
            "top": null,
            "visibility": null,
            "width": null
          }
        },
        "4e14233451654ee0b0d95c7c4fd72c00": {
          "model_module": "@jupyter-widgets/controls",
          "model_name": "DescriptionStyleModel",
          "model_module_version": "1.5.0",
          "state": {
            "_model_module": "@jupyter-widgets/controls",
            "_model_module_version": "1.5.0",
            "_model_name": "DescriptionStyleModel",
            "_view_count": null,
            "_view_module": "@jupyter-widgets/base",
            "_view_module_version": "1.2.0",
            "_view_name": "StyleView",
            "description_width": ""
          }
        },
        "aaff130ba6ef483e8f275f2db0bca074": {
          "model_module": "@jupyter-widgets/controls",
          "model_name": "HBoxModel",
          "model_module_version": "1.5.0",
          "state": {
            "_dom_classes": [],
            "_model_module": "@jupyter-widgets/controls",
            "_model_module_version": "1.5.0",
            "_model_name": "HBoxModel",
            "_view_count": null,
            "_view_module": "@jupyter-widgets/controls",
            "_view_module_version": "1.5.0",
            "_view_name": "HBoxView",
            "box_style": "",
            "children": [
              "IPY_MODEL_2e8267cabc314856bbbb1fa12f35797c",
              "IPY_MODEL_1a7288be931a494eae155a6b1d367d84",
              "IPY_MODEL_a8525aa849b14e5fa95a8c4694fed64e"
            ],
            "layout": "IPY_MODEL_2031b546c9f340738967c2cc090d316c"
          }
        },
        "2e8267cabc314856bbbb1fa12f35797c": {
          "model_module": "@jupyter-widgets/controls",
          "model_name": "HTMLModel",
          "model_module_version": "1.5.0",
          "state": {
            "_dom_classes": [],
            "_model_module": "@jupyter-widgets/controls",
            "_model_module_version": "1.5.0",
            "_model_name": "HTMLModel",
            "_view_count": null,
            "_view_module": "@jupyter-widgets/controls",
            "_view_module_version": "1.5.0",
            "_view_name": "HTMLView",
            "description": "",
            "description_tooltip": null,
            "layout": "IPY_MODEL_04a88a2a26574636a6ec1906b913e3d5",
            "placeholder": "​",
            "style": "IPY_MODEL_832cc06f43ae47069e31a2521affffda",
            "value": "config_sentence_transformers.json: 100%"
          }
        },
        "1a7288be931a494eae155a6b1d367d84": {
          "model_module": "@jupyter-widgets/controls",
          "model_name": "FloatProgressModel",
          "model_module_version": "1.5.0",
          "state": {
            "_dom_classes": [],
            "_model_module": "@jupyter-widgets/controls",
            "_model_module_version": "1.5.0",
            "_model_name": "FloatProgressModel",
            "_view_count": null,
            "_view_module": "@jupyter-widgets/controls",
            "_view_module_version": "1.5.0",
            "_view_name": "ProgressView",
            "bar_style": "success",
            "description": "",
            "description_tooltip": null,
            "layout": "IPY_MODEL_18d7254a27884760a3f04dea37316781",
            "max": 116,
            "min": 0,
            "orientation": "horizontal",
            "style": "IPY_MODEL_c9621fd02b564f179e0d9816f741d1d0",
            "value": 116
          }
        },
        "a8525aa849b14e5fa95a8c4694fed64e": {
          "model_module": "@jupyter-widgets/controls",
          "model_name": "HTMLModel",
          "model_module_version": "1.5.0",
          "state": {
            "_dom_classes": [],
            "_model_module": "@jupyter-widgets/controls",
            "_model_module_version": "1.5.0",
            "_model_name": "HTMLModel",
            "_view_count": null,
            "_view_module": "@jupyter-widgets/controls",
            "_view_module_version": "1.5.0",
            "_view_name": "HTMLView",
            "description": "",
            "description_tooltip": null,
            "layout": "IPY_MODEL_50eee9ce0b794faf89a795a08993ec6b",
            "placeholder": "​",
            "style": "IPY_MODEL_ec942eaf045146c384bc8e7cb8568c2f",
            "value": " 116/116 [00:00&lt;00:00, 3.65kB/s]"
          }
        },
        "2031b546c9f340738967c2cc090d316c": {
          "model_module": "@jupyter-widgets/base",
          "model_name": "LayoutModel",
          "model_module_version": "1.2.0",
          "state": {
            "_model_module": "@jupyter-widgets/base",
            "_model_module_version": "1.2.0",
            "_model_name": "LayoutModel",
            "_view_count": null,
            "_view_module": "@jupyter-widgets/base",
            "_view_module_version": "1.2.0",
            "_view_name": "LayoutView",
            "align_content": null,
            "align_items": null,
            "align_self": null,
            "border": null,
            "bottom": null,
            "display": null,
            "flex": null,
            "flex_flow": null,
            "grid_area": null,
            "grid_auto_columns": null,
            "grid_auto_flow": null,
            "grid_auto_rows": null,
            "grid_column": null,
            "grid_gap": null,
            "grid_row": null,
            "grid_template_areas": null,
            "grid_template_columns": null,
            "grid_template_rows": null,
            "height": null,
            "justify_content": null,
            "justify_items": null,
            "left": null,
            "margin": null,
            "max_height": null,
            "max_width": null,
            "min_height": null,
            "min_width": null,
            "object_fit": null,
            "object_position": null,
            "order": null,
            "overflow": null,
            "overflow_x": null,
            "overflow_y": null,
            "padding": null,
            "right": null,
            "top": null,
            "visibility": null,
            "width": null
          }
        },
        "04a88a2a26574636a6ec1906b913e3d5": {
          "model_module": "@jupyter-widgets/base",
          "model_name": "LayoutModel",
          "model_module_version": "1.2.0",
          "state": {
            "_model_module": "@jupyter-widgets/base",
            "_model_module_version": "1.2.0",
            "_model_name": "LayoutModel",
            "_view_count": null,
            "_view_module": "@jupyter-widgets/base",
            "_view_module_version": "1.2.0",
            "_view_name": "LayoutView",
            "align_content": null,
            "align_items": null,
            "align_self": null,
            "border": null,
            "bottom": null,
            "display": null,
            "flex": null,
            "flex_flow": null,
            "grid_area": null,
            "grid_auto_columns": null,
            "grid_auto_flow": null,
            "grid_auto_rows": null,
            "grid_column": null,
            "grid_gap": null,
            "grid_row": null,
            "grid_template_areas": null,
            "grid_template_columns": null,
            "grid_template_rows": null,
            "height": null,
            "justify_content": null,
            "justify_items": null,
            "left": null,
            "margin": null,
            "max_height": null,
            "max_width": null,
            "min_height": null,
            "min_width": null,
            "object_fit": null,
            "object_position": null,
            "order": null,
            "overflow": null,
            "overflow_x": null,
            "overflow_y": null,
            "padding": null,
            "right": null,
            "top": null,
            "visibility": null,
            "width": null
          }
        },
        "832cc06f43ae47069e31a2521affffda": {
          "model_module": "@jupyter-widgets/controls",
          "model_name": "DescriptionStyleModel",
          "model_module_version": "1.5.0",
          "state": {
            "_model_module": "@jupyter-widgets/controls",
            "_model_module_version": "1.5.0",
            "_model_name": "DescriptionStyleModel",
            "_view_count": null,
            "_view_module": "@jupyter-widgets/base",
            "_view_module_version": "1.2.0",
            "_view_name": "StyleView",
            "description_width": ""
          }
        },
        "18d7254a27884760a3f04dea37316781": {
          "model_module": "@jupyter-widgets/base",
          "model_name": "LayoutModel",
          "model_module_version": "1.2.0",
          "state": {
            "_model_module": "@jupyter-widgets/base",
            "_model_module_version": "1.2.0",
            "_model_name": "LayoutModel",
            "_view_count": null,
            "_view_module": "@jupyter-widgets/base",
            "_view_module_version": "1.2.0",
            "_view_name": "LayoutView",
            "align_content": null,
            "align_items": null,
            "align_self": null,
            "border": null,
            "bottom": null,
            "display": null,
            "flex": null,
            "flex_flow": null,
            "grid_area": null,
            "grid_auto_columns": null,
            "grid_auto_flow": null,
            "grid_auto_rows": null,
            "grid_column": null,
            "grid_gap": null,
            "grid_row": null,
            "grid_template_areas": null,
            "grid_template_columns": null,
            "grid_template_rows": null,
            "height": null,
            "justify_content": null,
            "justify_items": null,
            "left": null,
            "margin": null,
            "max_height": null,
            "max_width": null,
            "min_height": null,
            "min_width": null,
            "object_fit": null,
            "object_position": null,
            "order": null,
            "overflow": null,
            "overflow_x": null,
            "overflow_y": null,
            "padding": null,
            "right": null,
            "top": null,
            "visibility": null,
            "width": null
          }
        },
        "c9621fd02b564f179e0d9816f741d1d0": {
          "model_module": "@jupyter-widgets/controls",
          "model_name": "ProgressStyleModel",
          "model_module_version": "1.5.0",
          "state": {
            "_model_module": "@jupyter-widgets/controls",
            "_model_module_version": "1.5.0",
            "_model_name": "ProgressStyleModel",
            "_view_count": null,
            "_view_module": "@jupyter-widgets/base",
            "_view_module_version": "1.2.0",
            "_view_name": "StyleView",
            "bar_color": null,
            "description_width": ""
          }
        },
        "50eee9ce0b794faf89a795a08993ec6b": {
          "model_module": "@jupyter-widgets/base",
          "model_name": "LayoutModel",
          "model_module_version": "1.2.0",
          "state": {
            "_model_module": "@jupyter-widgets/base",
            "_model_module_version": "1.2.0",
            "_model_name": "LayoutModel",
            "_view_count": null,
            "_view_module": "@jupyter-widgets/base",
            "_view_module_version": "1.2.0",
            "_view_name": "LayoutView",
            "align_content": null,
            "align_items": null,
            "align_self": null,
            "border": null,
            "bottom": null,
            "display": null,
            "flex": null,
            "flex_flow": null,
            "grid_area": null,
            "grid_auto_columns": null,
            "grid_auto_flow": null,
            "grid_auto_rows": null,
            "grid_column": null,
            "grid_gap": null,
            "grid_row": null,
            "grid_template_areas": null,
            "grid_template_columns": null,
            "grid_template_rows": null,
            "height": null,
            "justify_content": null,
            "justify_items": null,
            "left": null,
            "margin": null,
            "max_height": null,
            "max_width": null,
            "min_height": null,
            "min_width": null,
            "object_fit": null,
            "object_position": null,
            "order": null,
            "overflow": null,
            "overflow_x": null,
            "overflow_y": null,
            "padding": null,
            "right": null,
            "top": null,
            "visibility": null,
            "width": null
          }
        },
        "ec942eaf045146c384bc8e7cb8568c2f": {
          "model_module": "@jupyter-widgets/controls",
          "model_name": "DescriptionStyleModel",
          "model_module_version": "1.5.0",
          "state": {
            "_model_module": "@jupyter-widgets/controls",
            "_model_module_version": "1.5.0",
            "_model_name": "DescriptionStyleModel",
            "_view_count": null,
            "_view_module": "@jupyter-widgets/base",
            "_view_module_version": "1.2.0",
            "_view_name": "StyleView",
            "description_width": ""
          }
        },
        "675e15e76d9145b6bc865896f3c924f8": {
          "model_module": "@jupyter-widgets/controls",
          "model_name": "HBoxModel",
          "model_module_version": "1.5.0",
          "state": {
            "_dom_classes": [],
            "_model_module": "@jupyter-widgets/controls",
            "_model_module_version": "1.5.0",
            "_model_name": "HBoxModel",
            "_view_count": null,
            "_view_module": "@jupyter-widgets/controls",
            "_view_module_version": "1.5.0",
            "_view_name": "HBoxView",
            "box_style": "",
            "children": [
              "IPY_MODEL_3badd119b8a34283a6c39e49248760d3",
              "IPY_MODEL_9f697821a3a84c83a3fe9856f8d56a48",
              "IPY_MODEL_ce978ee605fb4ee7bc0b2691b6152872"
            ],
            "layout": "IPY_MODEL_b192d89aeefe483f8e298706ad54d97c"
          }
        },
        "3badd119b8a34283a6c39e49248760d3": {
          "model_module": "@jupyter-widgets/controls",
          "model_name": "HTMLModel",
          "model_module_version": "1.5.0",
          "state": {
            "_dom_classes": [],
            "_model_module": "@jupyter-widgets/controls",
            "_model_module_version": "1.5.0",
            "_model_name": "HTMLModel",
            "_view_count": null,
            "_view_module": "@jupyter-widgets/controls",
            "_view_module_version": "1.5.0",
            "_view_name": "HTMLView",
            "description": "",
            "description_tooltip": null,
            "layout": "IPY_MODEL_d7cca1531c4a425bb7f70e2568788a8a",
            "placeholder": "​",
            "style": "IPY_MODEL_6b5126a2b85045b095c544469118155c",
            "value": "README.md: 100%"
          }
        },
        "9f697821a3a84c83a3fe9856f8d56a48": {
          "model_module": "@jupyter-widgets/controls",
          "model_name": "FloatProgressModel",
          "model_module_version": "1.5.0",
          "state": {
            "_dom_classes": [],
            "_model_module": "@jupyter-widgets/controls",
            "_model_module_version": "1.5.0",
            "_model_name": "FloatProgressModel",
            "_view_count": null,
            "_view_module": "@jupyter-widgets/controls",
            "_view_module_version": "1.5.0",
            "_view_name": "ProgressView",
            "bar_style": "success",
            "description": "",
            "description_tooltip": null,
            "layout": "IPY_MODEL_b31bce31fedd441ab0c050546c69d828",
            "max": 11586,
            "min": 0,
            "orientation": "horizontal",
            "style": "IPY_MODEL_8827bc844a5b4cfebfb1eac06ffffcbf",
            "value": 11586
          }
        },
        "ce978ee605fb4ee7bc0b2691b6152872": {
          "model_module": "@jupyter-widgets/controls",
          "model_name": "HTMLModel",
          "model_module_version": "1.5.0",
          "state": {
            "_dom_classes": [],
            "_model_module": "@jupyter-widgets/controls",
            "_model_module_version": "1.5.0",
            "_model_name": "HTMLModel",
            "_view_count": null,
            "_view_module": "@jupyter-widgets/controls",
            "_view_module_version": "1.5.0",
            "_view_name": "HTMLView",
            "description": "",
            "description_tooltip": null,
            "layout": "IPY_MODEL_18a94f68df76423896475a90f88bef05",
            "placeholder": "​",
            "style": "IPY_MODEL_949147b5a1f44d6ca773c56131500c66",
            "value": " 11.6k/11.6k [00:00&lt;00:00, 736kB/s]"
          }
        },
        "b192d89aeefe483f8e298706ad54d97c": {
          "model_module": "@jupyter-widgets/base",
          "model_name": "LayoutModel",
          "model_module_version": "1.2.0",
          "state": {
            "_model_module": "@jupyter-widgets/base",
            "_model_module_version": "1.2.0",
            "_model_name": "LayoutModel",
            "_view_count": null,
            "_view_module": "@jupyter-widgets/base",
            "_view_module_version": "1.2.0",
            "_view_name": "LayoutView",
            "align_content": null,
            "align_items": null,
            "align_self": null,
            "border": null,
            "bottom": null,
            "display": null,
            "flex": null,
            "flex_flow": null,
            "grid_area": null,
            "grid_auto_columns": null,
            "grid_auto_flow": null,
            "grid_auto_rows": null,
            "grid_column": null,
            "grid_gap": null,
            "grid_row": null,
            "grid_template_areas": null,
            "grid_template_columns": null,
            "grid_template_rows": null,
            "height": null,
            "justify_content": null,
            "justify_items": null,
            "left": null,
            "margin": null,
            "max_height": null,
            "max_width": null,
            "min_height": null,
            "min_width": null,
            "object_fit": null,
            "object_position": null,
            "order": null,
            "overflow": null,
            "overflow_x": null,
            "overflow_y": null,
            "padding": null,
            "right": null,
            "top": null,
            "visibility": null,
            "width": null
          }
        },
        "d7cca1531c4a425bb7f70e2568788a8a": {
          "model_module": "@jupyter-widgets/base",
          "model_name": "LayoutModel",
          "model_module_version": "1.2.0",
          "state": {
            "_model_module": "@jupyter-widgets/base",
            "_model_module_version": "1.2.0",
            "_model_name": "LayoutModel",
            "_view_count": null,
            "_view_module": "@jupyter-widgets/base",
            "_view_module_version": "1.2.0",
            "_view_name": "LayoutView",
            "align_content": null,
            "align_items": null,
            "align_self": null,
            "border": null,
            "bottom": null,
            "display": null,
            "flex": null,
            "flex_flow": null,
            "grid_area": null,
            "grid_auto_columns": null,
            "grid_auto_flow": null,
            "grid_auto_rows": null,
            "grid_column": null,
            "grid_gap": null,
            "grid_row": null,
            "grid_template_areas": null,
            "grid_template_columns": null,
            "grid_template_rows": null,
            "height": null,
            "justify_content": null,
            "justify_items": null,
            "left": null,
            "margin": null,
            "max_height": null,
            "max_width": null,
            "min_height": null,
            "min_width": null,
            "object_fit": null,
            "object_position": null,
            "order": null,
            "overflow": null,
            "overflow_x": null,
            "overflow_y": null,
            "padding": null,
            "right": null,
            "top": null,
            "visibility": null,
            "width": null
          }
        },
        "6b5126a2b85045b095c544469118155c": {
          "model_module": "@jupyter-widgets/controls",
          "model_name": "DescriptionStyleModel",
          "model_module_version": "1.5.0",
          "state": {
            "_model_module": "@jupyter-widgets/controls",
            "_model_module_version": "1.5.0",
            "_model_name": "DescriptionStyleModel",
            "_view_count": null,
            "_view_module": "@jupyter-widgets/base",
            "_view_module_version": "1.2.0",
            "_view_name": "StyleView",
            "description_width": ""
          }
        },
        "b31bce31fedd441ab0c050546c69d828": {
          "model_module": "@jupyter-widgets/base",
          "model_name": "LayoutModel",
          "model_module_version": "1.2.0",
          "state": {
            "_model_module": "@jupyter-widgets/base",
            "_model_module_version": "1.2.0",
            "_model_name": "LayoutModel",
            "_view_count": null,
            "_view_module": "@jupyter-widgets/base",
            "_view_module_version": "1.2.0",
            "_view_name": "LayoutView",
            "align_content": null,
            "align_items": null,
            "align_self": null,
            "border": null,
            "bottom": null,
            "display": null,
            "flex": null,
            "flex_flow": null,
            "grid_area": null,
            "grid_auto_columns": null,
            "grid_auto_flow": null,
            "grid_auto_rows": null,
            "grid_column": null,
            "grid_gap": null,
            "grid_row": null,
            "grid_template_areas": null,
            "grid_template_columns": null,
            "grid_template_rows": null,
            "height": null,
            "justify_content": null,
            "justify_items": null,
            "left": null,
            "margin": null,
            "max_height": null,
            "max_width": null,
            "min_height": null,
            "min_width": null,
            "object_fit": null,
            "object_position": null,
            "order": null,
            "overflow": null,
            "overflow_x": null,
            "overflow_y": null,
            "padding": null,
            "right": null,
            "top": null,
            "visibility": null,
            "width": null
          }
        },
        "8827bc844a5b4cfebfb1eac06ffffcbf": {
          "model_module": "@jupyter-widgets/controls",
          "model_name": "ProgressStyleModel",
          "model_module_version": "1.5.0",
          "state": {
            "_model_module": "@jupyter-widgets/controls",
            "_model_module_version": "1.5.0",
            "_model_name": "ProgressStyleModel",
            "_view_count": null,
            "_view_module": "@jupyter-widgets/base",
            "_view_module_version": "1.2.0",
            "_view_name": "StyleView",
            "bar_color": null,
            "description_width": ""
          }
        },
        "18a94f68df76423896475a90f88bef05": {
          "model_module": "@jupyter-widgets/base",
          "model_name": "LayoutModel",
          "model_module_version": "1.2.0",
          "state": {
            "_model_module": "@jupyter-widgets/base",
            "_model_module_version": "1.2.0",
            "_model_name": "LayoutModel",
            "_view_count": null,
            "_view_module": "@jupyter-widgets/base",
            "_view_module_version": "1.2.0",
            "_view_name": "LayoutView",
            "align_content": null,
            "align_items": null,
            "align_self": null,
            "border": null,
            "bottom": null,
            "display": null,
            "flex": null,
            "flex_flow": null,
            "grid_area": null,
            "grid_auto_columns": null,
            "grid_auto_flow": null,
            "grid_auto_rows": null,
            "grid_column": null,
            "grid_gap": null,
            "grid_row": null,
            "grid_template_areas": null,
            "grid_template_columns": null,
            "grid_template_rows": null,
            "height": null,
            "justify_content": null,
            "justify_items": null,
            "left": null,
            "margin": null,
            "max_height": null,
            "max_width": null,
            "min_height": null,
            "min_width": null,
            "object_fit": null,
            "object_position": null,
            "order": null,
            "overflow": null,
            "overflow_x": null,
            "overflow_y": null,
            "padding": null,
            "right": null,
            "top": null,
            "visibility": null,
            "width": null
          }
        },
        "949147b5a1f44d6ca773c56131500c66": {
          "model_module": "@jupyter-widgets/controls",
          "model_name": "DescriptionStyleModel",
          "model_module_version": "1.5.0",
          "state": {
            "_model_module": "@jupyter-widgets/controls",
            "_model_module_version": "1.5.0",
            "_model_name": "DescriptionStyleModel",
            "_view_count": null,
            "_view_module": "@jupyter-widgets/base",
            "_view_module_version": "1.2.0",
            "_view_name": "StyleView",
            "description_width": ""
          }
        },
        "8ec787aee2f442dab1ec31ed9d5be627": {
          "model_module": "@jupyter-widgets/controls",
          "model_name": "HBoxModel",
          "model_module_version": "1.5.0",
          "state": {
            "_dom_classes": [],
            "_model_module": "@jupyter-widgets/controls",
            "_model_module_version": "1.5.0",
            "_model_name": "HBoxModel",
            "_view_count": null,
            "_view_module": "@jupyter-widgets/controls",
            "_view_module_version": "1.5.0",
            "_view_name": "HBoxView",
            "box_style": "",
            "children": [
              "IPY_MODEL_58317c62f3e14515a0b775d34c0ea2ae",
              "IPY_MODEL_6537f55ec22b419b825358f7851d1256",
              "IPY_MODEL_b2c147a7d788499b98bbe05d5b3d6b66"
            ],
            "layout": "IPY_MODEL_66704bc41ef748bb86c2aca9a1ce4df1"
          }
        },
        "58317c62f3e14515a0b775d34c0ea2ae": {
          "model_module": "@jupyter-widgets/controls",
          "model_name": "HTMLModel",
          "model_module_version": "1.5.0",
          "state": {
            "_dom_classes": [],
            "_model_module": "@jupyter-widgets/controls",
            "_model_module_version": "1.5.0",
            "_model_name": "HTMLModel",
            "_view_count": null,
            "_view_module": "@jupyter-widgets/controls",
            "_view_module_version": "1.5.0",
            "_view_name": "HTMLView",
            "description": "",
            "description_tooltip": null,
            "layout": "IPY_MODEL_cee84d87f07a4deaac368cb2c6649d22",
            "placeholder": "​",
            "style": "IPY_MODEL_7a7b82cdf3f24be2b6d479aeee45b250",
            "value": "sentence_bert_config.json: 100%"
          }
        },
        "6537f55ec22b419b825358f7851d1256": {
          "model_module": "@jupyter-widgets/controls",
          "model_name": "FloatProgressModel",
          "model_module_version": "1.5.0",
          "state": {
            "_dom_classes": [],
            "_model_module": "@jupyter-widgets/controls",
            "_model_module_version": "1.5.0",
            "_model_name": "FloatProgressModel",
            "_view_count": null,
            "_view_module": "@jupyter-widgets/controls",
            "_view_module_version": "1.5.0",
            "_view_name": "ProgressView",
            "bar_style": "success",
            "description": "",
            "description_tooltip": null,
            "layout": "IPY_MODEL_8696fc18e8e74be28a347b1ff9129c36",
            "max": 53,
            "min": 0,
            "orientation": "horizontal",
            "style": "IPY_MODEL_1f4cfe32816249ed812b0476452f460b",
            "value": 53
          }
        },
        "b2c147a7d788499b98bbe05d5b3d6b66": {
          "model_module": "@jupyter-widgets/controls",
          "model_name": "HTMLModel",
          "model_module_version": "1.5.0",
          "state": {
            "_dom_classes": [],
            "_model_module": "@jupyter-widgets/controls",
            "_model_module_version": "1.5.0",
            "_model_name": "HTMLModel",
            "_view_count": null,
            "_view_module": "@jupyter-widgets/controls",
            "_view_module_version": "1.5.0",
            "_view_name": "HTMLView",
            "description": "",
            "description_tooltip": null,
            "layout": "IPY_MODEL_f4235aec01d24e438ab7db908c0eedb2",
            "placeholder": "​",
            "style": "IPY_MODEL_b322ef5fb39743bbb4aa8c3117b3a654",
            "value": " 53.0/53.0 [00:00&lt;00:00, 2.51kB/s]"
          }
        },
        "66704bc41ef748bb86c2aca9a1ce4df1": {
          "model_module": "@jupyter-widgets/base",
          "model_name": "LayoutModel",
          "model_module_version": "1.2.0",
          "state": {
            "_model_module": "@jupyter-widgets/base",
            "_model_module_version": "1.2.0",
            "_model_name": "LayoutModel",
            "_view_count": null,
            "_view_module": "@jupyter-widgets/base",
            "_view_module_version": "1.2.0",
            "_view_name": "LayoutView",
            "align_content": null,
            "align_items": null,
            "align_self": null,
            "border": null,
            "bottom": null,
            "display": null,
            "flex": null,
            "flex_flow": null,
            "grid_area": null,
            "grid_auto_columns": null,
            "grid_auto_flow": null,
            "grid_auto_rows": null,
            "grid_column": null,
            "grid_gap": null,
            "grid_row": null,
            "grid_template_areas": null,
            "grid_template_columns": null,
            "grid_template_rows": null,
            "height": null,
            "justify_content": null,
            "justify_items": null,
            "left": null,
            "margin": null,
            "max_height": null,
            "max_width": null,
            "min_height": null,
            "min_width": null,
            "object_fit": null,
            "object_position": null,
            "order": null,
            "overflow": null,
            "overflow_x": null,
            "overflow_y": null,
            "padding": null,
            "right": null,
            "top": null,
            "visibility": null,
            "width": null
          }
        },
        "cee84d87f07a4deaac368cb2c6649d22": {
          "model_module": "@jupyter-widgets/base",
          "model_name": "LayoutModel",
          "model_module_version": "1.2.0",
          "state": {
            "_model_module": "@jupyter-widgets/base",
            "_model_module_version": "1.2.0",
            "_model_name": "LayoutModel",
            "_view_count": null,
            "_view_module": "@jupyter-widgets/base",
            "_view_module_version": "1.2.0",
            "_view_name": "LayoutView",
            "align_content": null,
            "align_items": null,
            "align_self": null,
            "border": null,
            "bottom": null,
            "display": null,
            "flex": null,
            "flex_flow": null,
            "grid_area": null,
            "grid_auto_columns": null,
            "grid_auto_flow": null,
            "grid_auto_rows": null,
            "grid_column": null,
            "grid_gap": null,
            "grid_row": null,
            "grid_template_areas": null,
            "grid_template_columns": null,
            "grid_template_rows": null,
            "height": null,
            "justify_content": null,
            "justify_items": null,
            "left": null,
            "margin": null,
            "max_height": null,
            "max_width": null,
            "min_height": null,
            "min_width": null,
            "object_fit": null,
            "object_position": null,
            "order": null,
            "overflow": null,
            "overflow_x": null,
            "overflow_y": null,
            "padding": null,
            "right": null,
            "top": null,
            "visibility": null,
            "width": null
          }
        },
        "7a7b82cdf3f24be2b6d479aeee45b250": {
          "model_module": "@jupyter-widgets/controls",
          "model_name": "DescriptionStyleModel",
          "model_module_version": "1.5.0",
          "state": {
            "_model_module": "@jupyter-widgets/controls",
            "_model_module_version": "1.5.0",
            "_model_name": "DescriptionStyleModel",
            "_view_count": null,
            "_view_module": "@jupyter-widgets/base",
            "_view_module_version": "1.2.0",
            "_view_name": "StyleView",
            "description_width": ""
          }
        },
        "8696fc18e8e74be28a347b1ff9129c36": {
          "model_module": "@jupyter-widgets/base",
          "model_name": "LayoutModel",
          "model_module_version": "1.2.0",
          "state": {
            "_model_module": "@jupyter-widgets/base",
            "_model_module_version": "1.2.0",
            "_model_name": "LayoutModel",
            "_view_count": null,
            "_view_module": "@jupyter-widgets/base",
            "_view_module_version": "1.2.0",
            "_view_name": "LayoutView",
            "align_content": null,
            "align_items": null,
            "align_self": null,
            "border": null,
            "bottom": null,
            "display": null,
            "flex": null,
            "flex_flow": null,
            "grid_area": null,
            "grid_auto_columns": null,
            "grid_auto_flow": null,
            "grid_auto_rows": null,
            "grid_column": null,
            "grid_gap": null,
            "grid_row": null,
            "grid_template_areas": null,
            "grid_template_columns": null,
            "grid_template_rows": null,
            "height": null,
            "justify_content": null,
            "justify_items": null,
            "left": null,
            "margin": null,
            "max_height": null,
            "max_width": null,
            "min_height": null,
            "min_width": null,
            "object_fit": null,
            "object_position": null,
            "order": null,
            "overflow": null,
            "overflow_x": null,
            "overflow_y": null,
            "padding": null,
            "right": null,
            "top": null,
            "visibility": null,
            "width": null
          }
        },
        "1f4cfe32816249ed812b0476452f460b": {
          "model_module": "@jupyter-widgets/controls",
          "model_name": "ProgressStyleModel",
          "model_module_version": "1.5.0",
          "state": {
            "_model_module": "@jupyter-widgets/controls",
            "_model_module_version": "1.5.0",
            "_model_name": "ProgressStyleModel",
            "_view_count": null,
            "_view_module": "@jupyter-widgets/base",
            "_view_module_version": "1.2.0",
            "_view_name": "StyleView",
            "bar_color": null,
            "description_width": ""
          }
        },
        "f4235aec01d24e438ab7db908c0eedb2": {
          "model_module": "@jupyter-widgets/base",
          "model_name": "LayoutModel",
          "model_module_version": "1.2.0",
          "state": {
            "_model_module": "@jupyter-widgets/base",
            "_model_module_version": "1.2.0",
            "_model_name": "LayoutModel",
            "_view_count": null,
            "_view_module": "@jupyter-widgets/base",
            "_view_module_version": "1.2.0",
            "_view_name": "LayoutView",
            "align_content": null,
            "align_items": null,
            "align_self": null,
            "border": null,
            "bottom": null,
            "display": null,
            "flex": null,
            "flex_flow": null,
            "grid_area": null,
            "grid_auto_columns": null,
            "grid_auto_flow": null,
            "grid_auto_rows": null,
            "grid_column": null,
            "grid_gap": null,
            "grid_row": null,
            "grid_template_areas": null,
            "grid_template_columns": null,
            "grid_template_rows": null,
            "height": null,
            "justify_content": null,
            "justify_items": null,
            "left": null,
            "margin": null,
            "max_height": null,
            "max_width": null,
            "min_height": null,
            "min_width": null,
            "object_fit": null,
            "object_position": null,
            "order": null,
            "overflow": null,
            "overflow_x": null,
            "overflow_y": null,
            "padding": null,
            "right": null,
            "top": null,
            "visibility": null,
            "width": null
          }
        },
        "b322ef5fb39743bbb4aa8c3117b3a654": {
          "model_module": "@jupyter-widgets/controls",
          "model_name": "DescriptionStyleModel",
          "model_module_version": "1.5.0",
          "state": {
            "_model_module": "@jupyter-widgets/controls",
            "_model_module_version": "1.5.0",
            "_model_name": "DescriptionStyleModel",
            "_view_count": null,
            "_view_module": "@jupyter-widgets/base",
            "_view_module_version": "1.2.0",
            "_view_name": "StyleView",
            "description_width": ""
          }
        },
        "a36f6ac58dcf4b8980b00d4420a7048b": {
          "model_module": "@jupyter-widgets/controls",
          "model_name": "HBoxModel",
          "model_module_version": "1.5.0",
          "state": {
            "_dom_classes": [],
            "_model_module": "@jupyter-widgets/controls",
            "_model_module_version": "1.5.0",
            "_model_name": "HBoxModel",
            "_view_count": null,
            "_view_module": "@jupyter-widgets/controls",
            "_view_module_version": "1.5.0",
            "_view_name": "HBoxView",
            "box_style": "",
            "children": [
              "IPY_MODEL_2c97960b9135443e84a9c669697b956f",
              "IPY_MODEL_3224f43154924a8eae6ed925194db36d",
              "IPY_MODEL_fd68574837b6452bb88fa9f56ff5658d"
            ],
            "layout": "IPY_MODEL_06b8c8e5eae24992aa0ba917eaac904b"
          }
        },
        "2c97960b9135443e84a9c669697b956f": {
          "model_module": "@jupyter-widgets/controls",
          "model_name": "HTMLModel",
          "model_module_version": "1.5.0",
          "state": {
            "_dom_classes": [],
            "_model_module": "@jupyter-widgets/controls",
            "_model_module_version": "1.5.0",
            "_model_name": "HTMLModel",
            "_view_count": null,
            "_view_module": "@jupyter-widgets/controls",
            "_view_module_version": "1.5.0",
            "_view_name": "HTMLView",
            "description": "",
            "description_tooltip": null,
            "layout": "IPY_MODEL_31c1fe5f2ca247d381913661b3f6fa53",
            "placeholder": "​",
            "style": "IPY_MODEL_315b80c06ad84bf6a0cf197ffa202832",
            "value": "config.json: 100%"
          }
        },
        "3224f43154924a8eae6ed925194db36d": {
          "model_module": "@jupyter-widgets/controls",
          "model_name": "FloatProgressModel",
          "model_module_version": "1.5.0",
          "state": {
            "_dom_classes": [],
            "_model_module": "@jupyter-widgets/controls",
            "_model_module_version": "1.5.0",
            "_model_name": "FloatProgressModel",
            "_view_count": null,
            "_view_module": "@jupyter-widgets/controls",
            "_view_module_version": "1.5.0",
            "_view_name": "ProgressView",
            "bar_style": "success",
            "description": "",
            "description_tooltip": null,
            "layout": "IPY_MODEL_18909254c5024a2cb27d26d24f0d7f77",
            "max": 612,
            "min": 0,
            "orientation": "horizontal",
            "style": "IPY_MODEL_bba6e04b7fa34da19e6e41f58bf322d5",
            "value": 612
          }
        },
        "fd68574837b6452bb88fa9f56ff5658d": {
          "model_module": "@jupyter-widgets/controls",
          "model_name": "HTMLModel",
          "model_module_version": "1.5.0",
          "state": {
            "_dom_classes": [],
            "_model_module": "@jupyter-widgets/controls",
            "_model_module_version": "1.5.0",
            "_model_name": "HTMLModel",
            "_view_count": null,
            "_view_module": "@jupyter-widgets/controls",
            "_view_module_version": "1.5.0",
            "_view_name": "HTMLView",
            "description": "",
            "description_tooltip": null,
            "layout": "IPY_MODEL_c0c3a4dc7a5c46a6b87bd9618759c9aa",
            "placeholder": "​",
            "style": "IPY_MODEL_f3b741a4f84847cb99a766729029f4f2",
            "value": " 612/612 [00:00&lt;00:00, 14.2kB/s]"
          }
        },
        "06b8c8e5eae24992aa0ba917eaac904b": {
          "model_module": "@jupyter-widgets/base",
          "model_name": "LayoutModel",
          "model_module_version": "1.2.0",
          "state": {
            "_model_module": "@jupyter-widgets/base",
            "_model_module_version": "1.2.0",
            "_model_name": "LayoutModel",
            "_view_count": null,
            "_view_module": "@jupyter-widgets/base",
            "_view_module_version": "1.2.0",
            "_view_name": "LayoutView",
            "align_content": null,
            "align_items": null,
            "align_self": null,
            "border": null,
            "bottom": null,
            "display": null,
            "flex": null,
            "flex_flow": null,
            "grid_area": null,
            "grid_auto_columns": null,
            "grid_auto_flow": null,
            "grid_auto_rows": null,
            "grid_column": null,
            "grid_gap": null,
            "grid_row": null,
            "grid_template_areas": null,
            "grid_template_columns": null,
            "grid_template_rows": null,
            "height": null,
            "justify_content": null,
            "justify_items": null,
            "left": null,
            "margin": null,
            "max_height": null,
            "max_width": null,
            "min_height": null,
            "min_width": null,
            "object_fit": null,
            "object_position": null,
            "order": null,
            "overflow": null,
            "overflow_x": null,
            "overflow_y": null,
            "padding": null,
            "right": null,
            "top": null,
            "visibility": null,
            "width": null
          }
        },
        "31c1fe5f2ca247d381913661b3f6fa53": {
          "model_module": "@jupyter-widgets/base",
          "model_name": "LayoutModel",
          "model_module_version": "1.2.0",
          "state": {
            "_model_module": "@jupyter-widgets/base",
            "_model_module_version": "1.2.0",
            "_model_name": "LayoutModel",
            "_view_count": null,
            "_view_module": "@jupyter-widgets/base",
            "_view_module_version": "1.2.0",
            "_view_name": "LayoutView",
            "align_content": null,
            "align_items": null,
            "align_self": null,
            "border": null,
            "bottom": null,
            "display": null,
            "flex": null,
            "flex_flow": null,
            "grid_area": null,
            "grid_auto_columns": null,
            "grid_auto_flow": null,
            "grid_auto_rows": null,
            "grid_column": null,
            "grid_gap": null,
            "grid_row": null,
            "grid_template_areas": null,
            "grid_template_columns": null,
            "grid_template_rows": null,
            "height": null,
            "justify_content": null,
            "justify_items": null,
            "left": null,
            "margin": null,
            "max_height": null,
            "max_width": null,
            "min_height": null,
            "min_width": null,
            "object_fit": null,
            "object_position": null,
            "order": null,
            "overflow": null,
            "overflow_x": null,
            "overflow_y": null,
            "padding": null,
            "right": null,
            "top": null,
            "visibility": null,
            "width": null
          }
        },
        "315b80c06ad84bf6a0cf197ffa202832": {
          "model_module": "@jupyter-widgets/controls",
          "model_name": "DescriptionStyleModel",
          "model_module_version": "1.5.0",
          "state": {
            "_model_module": "@jupyter-widgets/controls",
            "_model_module_version": "1.5.0",
            "_model_name": "DescriptionStyleModel",
            "_view_count": null,
            "_view_module": "@jupyter-widgets/base",
            "_view_module_version": "1.2.0",
            "_view_name": "StyleView",
            "description_width": ""
          }
        },
        "18909254c5024a2cb27d26d24f0d7f77": {
          "model_module": "@jupyter-widgets/base",
          "model_name": "LayoutModel",
          "model_module_version": "1.2.0",
          "state": {
            "_model_module": "@jupyter-widgets/base",
            "_model_module_version": "1.2.0",
            "_model_name": "LayoutModel",
            "_view_count": null,
            "_view_module": "@jupyter-widgets/base",
            "_view_module_version": "1.2.0",
            "_view_name": "LayoutView",
            "align_content": null,
            "align_items": null,
            "align_self": null,
            "border": null,
            "bottom": null,
            "display": null,
            "flex": null,
            "flex_flow": null,
            "grid_area": null,
            "grid_auto_columns": null,
            "grid_auto_flow": null,
            "grid_auto_rows": null,
            "grid_column": null,
            "grid_gap": null,
            "grid_row": null,
            "grid_template_areas": null,
            "grid_template_columns": null,
            "grid_template_rows": null,
            "height": null,
            "justify_content": null,
            "justify_items": null,
            "left": null,
            "margin": null,
            "max_height": null,
            "max_width": null,
            "min_height": null,
            "min_width": null,
            "object_fit": null,
            "object_position": null,
            "order": null,
            "overflow": null,
            "overflow_x": null,
            "overflow_y": null,
            "padding": null,
            "right": null,
            "top": null,
            "visibility": null,
            "width": null
          }
        },
        "bba6e04b7fa34da19e6e41f58bf322d5": {
          "model_module": "@jupyter-widgets/controls",
          "model_name": "ProgressStyleModel",
          "model_module_version": "1.5.0",
          "state": {
            "_model_module": "@jupyter-widgets/controls",
            "_model_module_version": "1.5.0",
            "_model_name": "ProgressStyleModel",
            "_view_count": null,
            "_view_module": "@jupyter-widgets/base",
            "_view_module_version": "1.2.0",
            "_view_name": "StyleView",
            "bar_color": null,
            "description_width": ""
          }
        },
        "c0c3a4dc7a5c46a6b87bd9618759c9aa": {
          "model_module": "@jupyter-widgets/base",
          "model_name": "LayoutModel",
          "model_module_version": "1.2.0",
          "state": {
            "_model_module": "@jupyter-widgets/base",
            "_model_module_version": "1.2.0",
            "_model_name": "LayoutModel",
            "_view_count": null,
            "_view_module": "@jupyter-widgets/base",
            "_view_module_version": "1.2.0",
            "_view_name": "LayoutView",
            "align_content": null,
            "align_items": null,
            "align_self": null,
            "border": null,
            "bottom": null,
            "display": null,
            "flex": null,
            "flex_flow": null,
            "grid_area": null,
            "grid_auto_columns": null,
            "grid_auto_flow": null,
            "grid_auto_rows": null,
            "grid_column": null,
            "grid_gap": null,
            "grid_row": null,
            "grid_template_areas": null,
            "grid_template_columns": null,
            "grid_template_rows": null,
            "height": null,
            "justify_content": null,
            "justify_items": null,
            "left": null,
            "margin": null,
            "max_height": null,
            "max_width": null,
            "min_height": null,
            "min_width": null,
            "object_fit": null,
            "object_position": null,
            "order": null,
            "overflow": null,
            "overflow_x": null,
            "overflow_y": null,
            "padding": null,
            "right": null,
            "top": null,
            "visibility": null,
            "width": null
          }
        },
        "f3b741a4f84847cb99a766729029f4f2": {
          "model_module": "@jupyter-widgets/controls",
          "model_name": "DescriptionStyleModel",
          "model_module_version": "1.5.0",
          "state": {
            "_model_module": "@jupyter-widgets/controls",
            "_model_module_version": "1.5.0",
            "_model_name": "DescriptionStyleModel",
            "_view_count": null,
            "_view_module": "@jupyter-widgets/base",
            "_view_module_version": "1.2.0",
            "_view_name": "StyleView",
            "description_width": ""
          }
        },
        "ddfbbf72c8cd4554823bf11786778974": {
          "model_module": "@jupyter-widgets/controls",
          "model_name": "HBoxModel",
          "model_module_version": "1.5.0",
          "state": {
            "_dom_classes": [],
            "_model_module": "@jupyter-widgets/controls",
            "_model_module_version": "1.5.0",
            "_model_name": "HBoxModel",
            "_view_count": null,
            "_view_module": "@jupyter-widgets/controls",
            "_view_module_version": "1.5.0",
            "_view_name": "HBoxView",
            "box_style": "",
            "children": [
              "IPY_MODEL_1883148bbd944415872f2a4639a439de",
              "IPY_MODEL_88999867fb984cba8140a72cf294e7c2",
              "IPY_MODEL_0525285e20314dad8a891d36cff2122e"
            ],
            "layout": "IPY_MODEL_116f121aa8f04562ba4f9087fe1b8dd6"
          }
        },
        "1883148bbd944415872f2a4639a439de": {
          "model_module": "@jupyter-widgets/controls",
          "model_name": "HTMLModel",
          "model_module_version": "1.5.0",
          "state": {
            "_dom_classes": [],
            "_model_module": "@jupyter-widgets/controls",
            "_model_module_version": "1.5.0",
            "_model_name": "HTMLModel",
            "_view_count": null,
            "_view_module": "@jupyter-widgets/controls",
            "_view_module_version": "1.5.0",
            "_view_name": "HTMLView",
            "description": "",
            "description_tooltip": null,
            "layout": "IPY_MODEL_ecb065071f9649d4b2e9002062e105f4",
            "placeholder": "​",
            "style": "IPY_MODEL_b0f71d48a11f422a8cc4116b45dfb568",
            "value": "model.safetensors: 100%"
          }
        },
        "88999867fb984cba8140a72cf294e7c2": {
          "model_module": "@jupyter-widgets/controls",
          "model_name": "FloatProgressModel",
          "model_module_version": "1.5.0",
          "state": {
            "_dom_classes": [],
            "_model_module": "@jupyter-widgets/controls",
            "_model_module_version": "1.5.0",
            "_model_name": "FloatProgressModel",
            "_view_count": null,
            "_view_module": "@jupyter-widgets/controls",
            "_view_module_version": "1.5.0",
            "_view_name": "ProgressView",
            "bar_style": "success",
            "description": "",
            "description_tooltip": null,
            "layout": "IPY_MODEL_316259b6be614d858a4a3dd2b1c03c12",
            "max": 90868376,
            "min": 0,
            "orientation": "horizontal",
            "style": "IPY_MODEL_adcbd7f2644e42a0a70e60a53bdab6ee",
            "value": 90868376
          }
        },
        "0525285e20314dad8a891d36cff2122e": {
          "model_module": "@jupyter-widgets/controls",
          "model_name": "HTMLModel",
          "model_module_version": "1.5.0",
          "state": {
            "_dom_classes": [],
            "_model_module": "@jupyter-widgets/controls",
            "_model_module_version": "1.5.0",
            "_model_name": "HTMLModel",
            "_view_count": null,
            "_view_module": "@jupyter-widgets/controls",
            "_view_module_version": "1.5.0",
            "_view_name": "HTMLView",
            "description": "",
            "description_tooltip": null,
            "layout": "IPY_MODEL_53b9bcd5a2e943a097761be3d93bed29",
            "placeholder": "​",
            "style": "IPY_MODEL_111561ca7f884dd3b562f1f736743bbe",
            "value": " 90.9M/90.9M [00:00&lt;00:00, 171MB/s]"
          }
        },
        "116f121aa8f04562ba4f9087fe1b8dd6": {
          "model_module": "@jupyter-widgets/base",
          "model_name": "LayoutModel",
          "model_module_version": "1.2.0",
          "state": {
            "_model_module": "@jupyter-widgets/base",
            "_model_module_version": "1.2.0",
            "_model_name": "LayoutModel",
            "_view_count": null,
            "_view_module": "@jupyter-widgets/base",
            "_view_module_version": "1.2.0",
            "_view_name": "LayoutView",
            "align_content": null,
            "align_items": null,
            "align_self": null,
            "border": null,
            "bottom": null,
            "display": null,
            "flex": null,
            "flex_flow": null,
            "grid_area": null,
            "grid_auto_columns": null,
            "grid_auto_flow": null,
            "grid_auto_rows": null,
            "grid_column": null,
            "grid_gap": null,
            "grid_row": null,
            "grid_template_areas": null,
            "grid_template_columns": null,
            "grid_template_rows": null,
            "height": null,
            "justify_content": null,
            "justify_items": null,
            "left": null,
            "margin": null,
            "max_height": null,
            "max_width": null,
            "min_height": null,
            "min_width": null,
            "object_fit": null,
            "object_position": null,
            "order": null,
            "overflow": null,
            "overflow_x": null,
            "overflow_y": null,
            "padding": null,
            "right": null,
            "top": null,
            "visibility": null,
            "width": null
          }
        },
        "ecb065071f9649d4b2e9002062e105f4": {
          "model_module": "@jupyter-widgets/base",
          "model_name": "LayoutModel",
          "model_module_version": "1.2.0",
          "state": {
            "_model_module": "@jupyter-widgets/base",
            "_model_module_version": "1.2.0",
            "_model_name": "LayoutModel",
            "_view_count": null,
            "_view_module": "@jupyter-widgets/base",
            "_view_module_version": "1.2.0",
            "_view_name": "LayoutView",
            "align_content": null,
            "align_items": null,
            "align_self": null,
            "border": null,
            "bottom": null,
            "display": null,
            "flex": null,
            "flex_flow": null,
            "grid_area": null,
            "grid_auto_columns": null,
            "grid_auto_flow": null,
            "grid_auto_rows": null,
            "grid_column": null,
            "grid_gap": null,
            "grid_row": null,
            "grid_template_areas": null,
            "grid_template_columns": null,
            "grid_template_rows": null,
            "height": null,
            "justify_content": null,
            "justify_items": null,
            "left": null,
            "margin": null,
            "max_height": null,
            "max_width": null,
            "min_height": null,
            "min_width": null,
            "object_fit": null,
            "object_position": null,
            "order": null,
            "overflow": null,
            "overflow_x": null,
            "overflow_y": null,
            "padding": null,
            "right": null,
            "top": null,
            "visibility": null,
            "width": null
          }
        },
        "b0f71d48a11f422a8cc4116b45dfb568": {
          "model_module": "@jupyter-widgets/controls",
          "model_name": "DescriptionStyleModel",
          "model_module_version": "1.5.0",
          "state": {
            "_model_module": "@jupyter-widgets/controls",
            "_model_module_version": "1.5.0",
            "_model_name": "DescriptionStyleModel",
            "_view_count": null,
            "_view_module": "@jupyter-widgets/base",
            "_view_module_version": "1.2.0",
            "_view_name": "StyleView",
            "description_width": ""
          }
        },
        "316259b6be614d858a4a3dd2b1c03c12": {
          "model_module": "@jupyter-widgets/base",
          "model_name": "LayoutModel",
          "model_module_version": "1.2.0",
          "state": {
            "_model_module": "@jupyter-widgets/base",
            "_model_module_version": "1.2.0",
            "_model_name": "LayoutModel",
            "_view_count": null,
            "_view_module": "@jupyter-widgets/base",
            "_view_module_version": "1.2.0",
            "_view_name": "LayoutView",
            "align_content": null,
            "align_items": null,
            "align_self": null,
            "border": null,
            "bottom": null,
            "display": null,
            "flex": null,
            "flex_flow": null,
            "grid_area": null,
            "grid_auto_columns": null,
            "grid_auto_flow": null,
            "grid_auto_rows": null,
            "grid_column": null,
            "grid_gap": null,
            "grid_row": null,
            "grid_template_areas": null,
            "grid_template_columns": null,
            "grid_template_rows": null,
            "height": null,
            "justify_content": null,
            "justify_items": null,
            "left": null,
            "margin": null,
            "max_height": null,
            "max_width": null,
            "min_height": null,
            "min_width": null,
            "object_fit": null,
            "object_position": null,
            "order": null,
            "overflow": null,
            "overflow_x": null,
            "overflow_y": null,
            "padding": null,
            "right": null,
            "top": null,
            "visibility": null,
            "width": null
          }
        },
        "adcbd7f2644e42a0a70e60a53bdab6ee": {
          "model_module": "@jupyter-widgets/controls",
          "model_name": "ProgressStyleModel",
          "model_module_version": "1.5.0",
          "state": {
            "_model_module": "@jupyter-widgets/controls",
            "_model_module_version": "1.5.0",
            "_model_name": "ProgressStyleModel",
            "_view_count": null,
            "_view_module": "@jupyter-widgets/base",
            "_view_module_version": "1.2.0",
            "_view_name": "StyleView",
            "bar_color": null,
            "description_width": ""
          }
        },
        "53b9bcd5a2e943a097761be3d93bed29": {
          "model_module": "@jupyter-widgets/base",
          "model_name": "LayoutModel",
          "model_module_version": "1.2.0",
          "state": {
            "_model_module": "@jupyter-widgets/base",
            "_model_module_version": "1.2.0",
            "_model_name": "LayoutModel",
            "_view_count": null,
            "_view_module": "@jupyter-widgets/base",
            "_view_module_version": "1.2.0",
            "_view_name": "LayoutView",
            "align_content": null,
            "align_items": null,
            "align_self": null,
            "border": null,
            "bottom": null,
            "display": null,
            "flex": null,
            "flex_flow": null,
            "grid_area": null,
            "grid_auto_columns": null,
            "grid_auto_flow": null,
            "grid_auto_rows": null,
            "grid_column": null,
            "grid_gap": null,
            "grid_row": null,
            "grid_template_areas": null,
            "grid_template_columns": null,
            "grid_template_rows": null,
            "height": null,
            "justify_content": null,
            "justify_items": null,
            "left": null,
            "margin": null,
            "max_height": null,
            "max_width": null,
            "min_height": null,
            "min_width": null,
            "object_fit": null,
            "object_position": null,
            "order": null,
            "overflow": null,
            "overflow_x": null,
            "overflow_y": null,
            "padding": null,
            "right": null,
            "top": null,
            "visibility": null,
            "width": null
          }
        },
        "111561ca7f884dd3b562f1f736743bbe": {
          "model_module": "@jupyter-widgets/controls",
          "model_name": "DescriptionStyleModel",
          "model_module_version": "1.5.0",
          "state": {
            "_model_module": "@jupyter-widgets/controls",
            "_model_module_version": "1.5.0",
            "_model_name": "DescriptionStyleModel",
            "_view_count": null,
            "_view_module": "@jupyter-widgets/base",
            "_view_module_version": "1.2.0",
            "_view_name": "StyleView",
            "description_width": ""
          }
        },
        "d2a65f3fbbbe447aafc4c9aedbd3c295": {
          "model_module": "@jupyter-widgets/controls",
          "model_name": "HBoxModel",
          "model_module_version": "1.5.0",
          "state": {
            "_dom_classes": [],
            "_model_module": "@jupyter-widgets/controls",
            "_model_module_version": "1.5.0",
            "_model_name": "HBoxModel",
            "_view_count": null,
            "_view_module": "@jupyter-widgets/controls",
            "_view_module_version": "1.5.0",
            "_view_name": "HBoxView",
            "box_style": "",
            "children": [
              "IPY_MODEL_5ca75744985848348304699fa1c4ef38",
              "IPY_MODEL_b1ce4f5034dd4fbca5a9a2143613d66a",
              "IPY_MODEL_d2c2c25ea3fc4bb19a7fbeac6249ee06"
            ],
            "layout": "IPY_MODEL_46fb31e7020f4e10adfbc1e6cb5d0986"
          }
        },
        "5ca75744985848348304699fa1c4ef38": {
          "model_module": "@jupyter-widgets/controls",
          "model_name": "HTMLModel",
          "model_module_version": "1.5.0",
          "state": {
            "_dom_classes": [],
            "_model_module": "@jupyter-widgets/controls",
            "_model_module_version": "1.5.0",
            "_model_name": "HTMLModel",
            "_view_count": null,
            "_view_module": "@jupyter-widgets/controls",
            "_view_module_version": "1.5.0",
            "_view_name": "HTMLView",
            "description": "",
            "description_tooltip": null,
            "layout": "IPY_MODEL_bbc0b51d7a8d4ed8b3597c119b28bea0",
            "placeholder": "​",
            "style": "IPY_MODEL_f543c08f46a3455ba3ae699e0b5d4687",
            "value": "tokenizer_config.json: 100%"
          }
        },
        "b1ce4f5034dd4fbca5a9a2143613d66a": {
          "model_module": "@jupyter-widgets/controls",
          "model_name": "FloatProgressModel",
          "model_module_version": "1.5.0",
          "state": {
            "_dom_classes": [],
            "_model_module": "@jupyter-widgets/controls",
            "_model_module_version": "1.5.0",
            "_model_name": "FloatProgressModel",
            "_view_count": null,
            "_view_module": "@jupyter-widgets/controls",
            "_view_module_version": "1.5.0",
            "_view_name": "ProgressView",
            "bar_style": "success",
            "description": "",
            "description_tooltip": null,
            "layout": "IPY_MODEL_4369dc5cde524c00aa8e6a831aae56e9",
            "max": 383,
            "min": 0,
            "orientation": "horizontal",
            "style": "IPY_MODEL_bcef6e4376aa423c91d387089c91f255",
            "value": 383
          }
        },
        "d2c2c25ea3fc4bb19a7fbeac6249ee06": {
          "model_module": "@jupyter-widgets/controls",
          "model_name": "HTMLModel",
          "model_module_version": "1.5.0",
          "state": {
            "_dom_classes": [],
            "_model_module": "@jupyter-widgets/controls",
            "_model_module_version": "1.5.0",
            "_model_name": "HTMLModel",
            "_view_count": null,
            "_view_module": "@jupyter-widgets/controls",
            "_view_module_version": "1.5.0",
            "_view_name": "HTMLView",
            "description": "",
            "description_tooltip": null,
            "layout": "IPY_MODEL_04100771ed034a61aa0605ffad3db361",
            "placeholder": "​",
            "style": "IPY_MODEL_97a879cef0ac49be860b25e04c434c93",
            "value": " 383/383 [00:00&lt;00:00, 21.2kB/s]"
          }
        },
        "46fb31e7020f4e10adfbc1e6cb5d0986": {
          "model_module": "@jupyter-widgets/base",
          "model_name": "LayoutModel",
          "model_module_version": "1.2.0",
          "state": {
            "_model_module": "@jupyter-widgets/base",
            "_model_module_version": "1.2.0",
            "_model_name": "LayoutModel",
            "_view_count": null,
            "_view_module": "@jupyter-widgets/base",
            "_view_module_version": "1.2.0",
            "_view_name": "LayoutView",
            "align_content": null,
            "align_items": null,
            "align_self": null,
            "border": null,
            "bottom": null,
            "display": null,
            "flex": null,
            "flex_flow": null,
            "grid_area": null,
            "grid_auto_columns": null,
            "grid_auto_flow": null,
            "grid_auto_rows": null,
            "grid_column": null,
            "grid_gap": null,
            "grid_row": null,
            "grid_template_areas": null,
            "grid_template_columns": null,
            "grid_template_rows": null,
            "height": null,
            "justify_content": null,
            "justify_items": null,
            "left": null,
            "margin": null,
            "max_height": null,
            "max_width": null,
            "min_height": null,
            "min_width": null,
            "object_fit": null,
            "object_position": null,
            "order": null,
            "overflow": null,
            "overflow_x": null,
            "overflow_y": null,
            "padding": null,
            "right": null,
            "top": null,
            "visibility": null,
            "width": null
          }
        },
        "bbc0b51d7a8d4ed8b3597c119b28bea0": {
          "model_module": "@jupyter-widgets/base",
          "model_name": "LayoutModel",
          "model_module_version": "1.2.0",
          "state": {
            "_model_module": "@jupyter-widgets/base",
            "_model_module_version": "1.2.0",
            "_model_name": "LayoutModel",
            "_view_count": null,
            "_view_module": "@jupyter-widgets/base",
            "_view_module_version": "1.2.0",
            "_view_name": "LayoutView",
            "align_content": null,
            "align_items": null,
            "align_self": null,
            "border": null,
            "bottom": null,
            "display": null,
            "flex": null,
            "flex_flow": null,
            "grid_area": null,
            "grid_auto_columns": null,
            "grid_auto_flow": null,
            "grid_auto_rows": null,
            "grid_column": null,
            "grid_gap": null,
            "grid_row": null,
            "grid_template_areas": null,
            "grid_template_columns": null,
            "grid_template_rows": null,
            "height": null,
            "justify_content": null,
            "justify_items": null,
            "left": null,
            "margin": null,
            "max_height": null,
            "max_width": null,
            "min_height": null,
            "min_width": null,
            "object_fit": null,
            "object_position": null,
            "order": null,
            "overflow": null,
            "overflow_x": null,
            "overflow_y": null,
            "padding": null,
            "right": null,
            "top": null,
            "visibility": null,
            "width": null
          }
        },
        "f543c08f46a3455ba3ae699e0b5d4687": {
          "model_module": "@jupyter-widgets/controls",
          "model_name": "DescriptionStyleModel",
          "model_module_version": "1.5.0",
          "state": {
            "_model_module": "@jupyter-widgets/controls",
            "_model_module_version": "1.5.0",
            "_model_name": "DescriptionStyleModel",
            "_view_count": null,
            "_view_module": "@jupyter-widgets/base",
            "_view_module_version": "1.2.0",
            "_view_name": "StyleView",
            "description_width": ""
          }
        },
        "4369dc5cde524c00aa8e6a831aae56e9": {
          "model_module": "@jupyter-widgets/base",
          "model_name": "LayoutModel",
          "model_module_version": "1.2.0",
          "state": {
            "_model_module": "@jupyter-widgets/base",
            "_model_module_version": "1.2.0",
            "_model_name": "LayoutModel",
            "_view_count": null,
            "_view_module": "@jupyter-widgets/base",
            "_view_module_version": "1.2.0",
            "_view_name": "LayoutView",
            "align_content": null,
            "align_items": null,
            "align_self": null,
            "border": null,
            "bottom": null,
            "display": null,
            "flex": null,
            "flex_flow": null,
            "grid_area": null,
            "grid_auto_columns": null,
            "grid_auto_flow": null,
            "grid_auto_rows": null,
            "grid_column": null,
            "grid_gap": null,
            "grid_row": null,
            "grid_template_areas": null,
            "grid_template_columns": null,
            "grid_template_rows": null,
            "height": null,
            "justify_content": null,
            "justify_items": null,
            "left": null,
            "margin": null,
            "max_height": null,
            "max_width": null,
            "min_height": null,
            "min_width": null,
            "object_fit": null,
            "object_position": null,
            "order": null,
            "overflow": null,
            "overflow_x": null,
            "overflow_y": null,
            "padding": null,
            "right": null,
            "top": null,
            "visibility": null,
            "width": null
          }
        },
        "bcef6e4376aa423c91d387089c91f255": {
          "model_module": "@jupyter-widgets/controls",
          "model_name": "ProgressStyleModel",
          "model_module_version": "1.5.0",
          "state": {
            "_model_module": "@jupyter-widgets/controls",
            "_model_module_version": "1.5.0",
            "_model_name": "ProgressStyleModel",
            "_view_count": null,
            "_view_module": "@jupyter-widgets/base",
            "_view_module_version": "1.2.0",
            "_view_name": "StyleView",
            "bar_color": null,
            "description_width": ""
          }
        },
        "04100771ed034a61aa0605ffad3db361": {
          "model_module": "@jupyter-widgets/base",
          "model_name": "LayoutModel",
          "model_module_version": "1.2.0",
          "state": {
            "_model_module": "@jupyter-widgets/base",
            "_model_module_version": "1.2.0",
            "_model_name": "LayoutModel",
            "_view_count": null,
            "_view_module": "@jupyter-widgets/base",
            "_view_module_version": "1.2.0",
            "_view_name": "LayoutView",
            "align_content": null,
            "align_items": null,
            "align_self": null,
            "border": null,
            "bottom": null,
            "display": null,
            "flex": null,
            "flex_flow": null,
            "grid_area": null,
            "grid_auto_columns": null,
            "grid_auto_flow": null,
            "grid_auto_rows": null,
            "grid_column": null,
            "grid_gap": null,
            "grid_row": null,
            "grid_template_areas": null,
            "grid_template_columns": null,
            "grid_template_rows": null,
            "height": null,
            "justify_content": null,
            "justify_items": null,
            "left": null,
            "margin": null,
            "max_height": null,
            "max_width": null,
            "min_height": null,
            "min_width": null,
            "object_fit": null,
            "object_position": null,
            "order": null,
            "overflow": null,
            "overflow_x": null,
            "overflow_y": null,
            "padding": null,
            "right": null,
            "top": null,
            "visibility": null,
            "width": null
          }
        },
        "97a879cef0ac49be860b25e04c434c93": {
          "model_module": "@jupyter-widgets/controls",
          "model_name": "DescriptionStyleModel",
          "model_module_version": "1.5.0",
          "state": {
            "_model_module": "@jupyter-widgets/controls",
            "_model_module_version": "1.5.0",
            "_model_name": "DescriptionStyleModel",
            "_view_count": null,
            "_view_module": "@jupyter-widgets/base",
            "_view_module_version": "1.2.0",
            "_view_name": "StyleView",
            "description_width": ""
          }
        },
        "800ddd26eb7249389463a25eb4de92b4": {
          "model_module": "@jupyter-widgets/controls",
          "model_name": "HBoxModel",
          "model_module_version": "1.5.0",
          "state": {
            "_dom_classes": [],
            "_model_module": "@jupyter-widgets/controls",
            "_model_module_version": "1.5.0",
            "_model_name": "HBoxModel",
            "_view_count": null,
            "_view_module": "@jupyter-widgets/controls",
            "_view_module_version": "1.5.0",
            "_view_name": "HBoxView",
            "box_style": "",
            "children": [
              "IPY_MODEL_25d1e6372f33434c997e34ff0894a4e7",
              "IPY_MODEL_4e0ec69578b54bd493d2231e7717dec7",
              "IPY_MODEL_fe545be46daa42c9aa5ccbe7b1daed94"
            ],
            "layout": "IPY_MODEL_a1e48270a2e24b01a1c1e2b2690c7180"
          }
        },
        "25d1e6372f33434c997e34ff0894a4e7": {
          "model_module": "@jupyter-widgets/controls",
          "model_name": "HTMLModel",
          "model_module_version": "1.5.0",
          "state": {
            "_dom_classes": [],
            "_model_module": "@jupyter-widgets/controls",
            "_model_module_version": "1.5.0",
            "_model_name": "HTMLModel",
            "_view_count": null,
            "_view_module": "@jupyter-widgets/controls",
            "_view_module_version": "1.5.0",
            "_view_name": "HTMLView",
            "description": "",
            "description_tooltip": null,
            "layout": "IPY_MODEL_a287d7ccddfd43359c4fcfe1f33afac3",
            "placeholder": "​",
            "style": "IPY_MODEL_28634863a58843dca6c222d904e484e3",
            "value": "vocab.txt: 100%"
          }
        },
        "4e0ec69578b54bd493d2231e7717dec7": {
          "model_module": "@jupyter-widgets/controls",
          "model_name": "FloatProgressModel",
          "model_module_version": "1.5.0",
          "state": {
            "_dom_classes": [],
            "_model_module": "@jupyter-widgets/controls",
            "_model_module_version": "1.5.0",
            "_model_name": "FloatProgressModel",
            "_view_count": null,
            "_view_module": "@jupyter-widgets/controls",
            "_view_module_version": "1.5.0",
            "_view_name": "ProgressView",
            "bar_style": "success",
            "description": "",
            "description_tooltip": null,
            "layout": "IPY_MODEL_04f44e309caa4ec2b43b9d06de699d31",
            "max": 231508,
            "min": 0,
            "orientation": "horizontal",
            "style": "IPY_MODEL_9edb5e66cb7d4a81818ffb6db4e6e244",
            "value": 231508
          }
        },
        "fe545be46daa42c9aa5ccbe7b1daed94": {
          "model_module": "@jupyter-widgets/controls",
          "model_name": "HTMLModel",
          "model_module_version": "1.5.0",
          "state": {
            "_dom_classes": [],
            "_model_module": "@jupyter-widgets/controls",
            "_model_module_version": "1.5.0",
            "_model_name": "HTMLModel",
            "_view_count": null,
            "_view_module": "@jupyter-widgets/controls",
            "_view_module_version": "1.5.0",
            "_view_name": "HTMLView",
            "description": "",
            "description_tooltip": null,
            "layout": "IPY_MODEL_33ca62a8a7684ed38cffd94bfb8afac8",
            "placeholder": "​",
            "style": "IPY_MODEL_e33d8c41f77b4fd5810c2c1462a97786",
            "value": " 232k/232k [00:00&lt;00:00, 644kB/s]"
          }
        },
        "a1e48270a2e24b01a1c1e2b2690c7180": {
          "model_module": "@jupyter-widgets/base",
          "model_name": "LayoutModel",
          "model_module_version": "1.2.0",
          "state": {
            "_model_module": "@jupyter-widgets/base",
            "_model_module_version": "1.2.0",
            "_model_name": "LayoutModel",
            "_view_count": null,
            "_view_module": "@jupyter-widgets/base",
            "_view_module_version": "1.2.0",
            "_view_name": "LayoutView",
            "align_content": null,
            "align_items": null,
            "align_self": null,
            "border": null,
            "bottom": null,
            "display": null,
            "flex": null,
            "flex_flow": null,
            "grid_area": null,
            "grid_auto_columns": null,
            "grid_auto_flow": null,
            "grid_auto_rows": null,
            "grid_column": null,
            "grid_gap": null,
            "grid_row": null,
            "grid_template_areas": null,
            "grid_template_columns": null,
            "grid_template_rows": null,
            "height": null,
            "justify_content": null,
            "justify_items": null,
            "left": null,
            "margin": null,
            "max_height": null,
            "max_width": null,
            "min_height": null,
            "min_width": null,
            "object_fit": null,
            "object_position": null,
            "order": null,
            "overflow": null,
            "overflow_x": null,
            "overflow_y": null,
            "padding": null,
            "right": null,
            "top": null,
            "visibility": null,
            "width": null
          }
        },
        "a287d7ccddfd43359c4fcfe1f33afac3": {
          "model_module": "@jupyter-widgets/base",
          "model_name": "LayoutModel",
          "model_module_version": "1.2.0",
          "state": {
            "_model_module": "@jupyter-widgets/base",
            "_model_module_version": "1.2.0",
            "_model_name": "LayoutModel",
            "_view_count": null,
            "_view_module": "@jupyter-widgets/base",
            "_view_module_version": "1.2.0",
            "_view_name": "LayoutView",
            "align_content": null,
            "align_items": null,
            "align_self": null,
            "border": null,
            "bottom": null,
            "display": null,
            "flex": null,
            "flex_flow": null,
            "grid_area": null,
            "grid_auto_columns": null,
            "grid_auto_flow": null,
            "grid_auto_rows": null,
            "grid_column": null,
            "grid_gap": null,
            "grid_row": null,
            "grid_template_areas": null,
            "grid_template_columns": null,
            "grid_template_rows": null,
            "height": null,
            "justify_content": null,
            "justify_items": null,
            "left": null,
            "margin": null,
            "max_height": null,
            "max_width": null,
            "min_height": null,
            "min_width": null,
            "object_fit": null,
            "object_position": null,
            "order": null,
            "overflow": null,
            "overflow_x": null,
            "overflow_y": null,
            "padding": null,
            "right": null,
            "top": null,
            "visibility": null,
            "width": null
          }
        },
        "28634863a58843dca6c222d904e484e3": {
          "model_module": "@jupyter-widgets/controls",
          "model_name": "DescriptionStyleModel",
          "model_module_version": "1.5.0",
          "state": {
            "_model_module": "@jupyter-widgets/controls",
            "_model_module_version": "1.5.0",
            "_model_name": "DescriptionStyleModel",
            "_view_count": null,
            "_view_module": "@jupyter-widgets/base",
            "_view_module_version": "1.2.0",
            "_view_name": "StyleView",
            "description_width": ""
          }
        },
        "04f44e309caa4ec2b43b9d06de699d31": {
          "model_module": "@jupyter-widgets/base",
          "model_name": "LayoutModel",
          "model_module_version": "1.2.0",
          "state": {
            "_model_module": "@jupyter-widgets/base",
            "_model_module_version": "1.2.0",
            "_model_name": "LayoutModel",
            "_view_count": null,
            "_view_module": "@jupyter-widgets/base",
            "_view_module_version": "1.2.0",
            "_view_name": "LayoutView",
            "align_content": null,
            "align_items": null,
            "align_self": null,
            "border": null,
            "bottom": null,
            "display": null,
            "flex": null,
            "flex_flow": null,
            "grid_area": null,
            "grid_auto_columns": null,
            "grid_auto_flow": null,
            "grid_auto_rows": null,
            "grid_column": null,
            "grid_gap": null,
            "grid_row": null,
            "grid_template_areas": null,
            "grid_template_columns": null,
            "grid_template_rows": null,
            "height": null,
            "justify_content": null,
            "justify_items": null,
            "left": null,
            "margin": null,
            "max_height": null,
            "max_width": null,
            "min_height": null,
            "min_width": null,
            "object_fit": null,
            "object_position": null,
            "order": null,
            "overflow": null,
            "overflow_x": null,
            "overflow_y": null,
            "padding": null,
            "right": null,
            "top": null,
            "visibility": null,
            "width": null
          }
        },
        "9edb5e66cb7d4a81818ffb6db4e6e244": {
          "model_module": "@jupyter-widgets/controls",
          "model_name": "ProgressStyleModel",
          "model_module_version": "1.5.0",
          "state": {
            "_model_module": "@jupyter-widgets/controls",
            "_model_module_version": "1.5.0",
            "_model_name": "ProgressStyleModel",
            "_view_count": null,
            "_view_module": "@jupyter-widgets/base",
            "_view_module_version": "1.2.0",
            "_view_name": "StyleView",
            "bar_color": null,
            "description_width": ""
          }
        },
        "33ca62a8a7684ed38cffd94bfb8afac8": {
          "model_module": "@jupyter-widgets/base",
          "model_name": "LayoutModel",
          "model_module_version": "1.2.0",
          "state": {
            "_model_module": "@jupyter-widgets/base",
            "_model_module_version": "1.2.0",
            "_model_name": "LayoutModel",
            "_view_count": null,
            "_view_module": "@jupyter-widgets/base",
            "_view_module_version": "1.2.0",
            "_view_name": "LayoutView",
            "align_content": null,
            "align_items": null,
            "align_self": null,
            "border": null,
            "bottom": null,
            "display": null,
            "flex": null,
            "flex_flow": null,
            "grid_area": null,
            "grid_auto_columns": null,
            "grid_auto_flow": null,
            "grid_auto_rows": null,
            "grid_column": null,
            "grid_gap": null,
            "grid_row": null,
            "grid_template_areas": null,
            "grid_template_columns": null,
            "grid_template_rows": null,
            "height": null,
            "justify_content": null,
            "justify_items": null,
            "left": null,
            "margin": null,
            "max_height": null,
            "max_width": null,
            "min_height": null,
            "min_width": null,
            "object_fit": null,
            "object_position": null,
            "order": null,
            "overflow": null,
            "overflow_x": null,
            "overflow_y": null,
            "padding": null,
            "right": null,
            "top": null,
            "visibility": null,
            "width": null
          }
        },
        "e33d8c41f77b4fd5810c2c1462a97786": {
          "model_module": "@jupyter-widgets/controls",
          "model_name": "DescriptionStyleModel",
          "model_module_version": "1.5.0",
          "state": {
            "_model_module": "@jupyter-widgets/controls",
            "_model_module_version": "1.5.0",
            "_model_name": "DescriptionStyleModel",
            "_view_count": null,
            "_view_module": "@jupyter-widgets/base",
            "_view_module_version": "1.2.0",
            "_view_name": "StyleView",
            "description_width": ""
          }
        },
        "4cab0ca156e8426995ddef77e62fcaa5": {
          "model_module": "@jupyter-widgets/controls",
          "model_name": "HBoxModel",
          "model_module_version": "1.5.0",
          "state": {
            "_dom_classes": [],
            "_model_module": "@jupyter-widgets/controls",
            "_model_module_version": "1.5.0",
            "_model_name": "HBoxModel",
            "_view_count": null,
            "_view_module": "@jupyter-widgets/controls",
            "_view_module_version": "1.5.0",
            "_view_name": "HBoxView",
            "box_style": "",
            "children": [
              "IPY_MODEL_75c6b46a6f3c4411b53ea667c1d53aec",
              "IPY_MODEL_c14ca04da660435089337bd1a6691074",
              "IPY_MODEL_306c47919be343508fb9c6bc22c4d90a"
            ],
            "layout": "IPY_MODEL_3ad85f6309754c6d9b335ce0d38d4bd2"
          }
        },
        "75c6b46a6f3c4411b53ea667c1d53aec": {
          "model_module": "@jupyter-widgets/controls",
          "model_name": "HTMLModel",
          "model_module_version": "1.5.0",
          "state": {
            "_dom_classes": [],
            "_model_module": "@jupyter-widgets/controls",
            "_model_module_version": "1.5.0",
            "_model_name": "HTMLModel",
            "_view_count": null,
            "_view_module": "@jupyter-widgets/controls",
            "_view_module_version": "1.5.0",
            "_view_name": "HTMLView",
            "description": "",
            "description_tooltip": null,
            "layout": "IPY_MODEL_c27d125fa54247b886c060415b8a37cf",
            "placeholder": "​",
            "style": "IPY_MODEL_242d4d9cf7e54313bc0ec5421f496cfc",
            "value": "tokenizer.json: 100%"
          }
        },
        "c14ca04da660435089337bd1a6691074": {
          "model_module": "@jupyter-widgets/controls",
          "model_name": "FloatProgressModel",
          "model_module_version": "1.5.0",
          "state": {
            "_dom_classes": [],
            "_model_module": "@jupyter-widgets/controls",
            "_model_module_version": "1.5.0",
            "_model_name": "FloatProgressModel",
            "_view_count": null,
            "_view_module": "@jupyter-widgets/controls",
            "_view_module_version": "1.5.0",
            "_view_name": "ProgressView",
            "bar_style": "success",
            "description": "",
            "description_tooltip": null,
            "layout": "IPY_MODEL_5d8b9fbe9bf24957a3a8c3442faee962",
            "max": 466247,
            "min": 0,
            "orientation": "horizontal",
            "style": "IPY_MODEL_22fcfe4adf2b41dcbfaddf7467fdcd2a",
            "value": 466247
          }
        },
        "306c47919be343508fb9c6bc22c4d90a": {
          "model_module": "@jupyter-widgets/controls",
          "model_name": "HTMLModel",
          "model_module_version": "1.5.0",
          "state": {
            "_dom_classes": [],
            "_model_module": "@jupyter-widgets/controls",
            "_model_module_version": "1.5.0",
            "_model_name": "HTMLModel",
            "_view_count": null,
            "_view_module": "@jupyter-widgets/controls",
            "_view_module_version": "1.5.0",
            "_view_name": "HTMLView",
            "description": "",
            "description_tooltip": null,
            "layout": "IPY_MODEL_0a286c82f67643d3a9e2b240bb763b93",
            "placeholder": "​",
            "style": "IPY_MODEL_22c88fd807b843d38b3faaf5524d4cd1",
            "value": " 466k/466k [00:00&lt;00:00, 1.30MB/s]"
          }
        },
        "3ad85f6309754c6d9b335ce0d38d4bd2": {
          "model_module": "@jupyter-widgets/base",
          "model_name": "LayoutModel",
          "model_module_version": "1.2.0",
          "state": {
            "_model_module": "@jupyter-widgets/base",
            "_model_module_version": "1.2.0",
            "_model_name": "LayoutModel",
            "_view_count": null,
            "_view_module": "@jupyter-widgets/base",
            "_view_module_version": "1.2.0",
            "_view_name": "LayoutView",
            "align_content": null,
            "align_items": null,
            "align_self": null,
            "border": null,
            "bottom": null,
            "display": null,
            "flex": null,
            "flex_flow": null,
            "grid_area": null,
            "grid_auto_columns": null,
            "grid_auto_flow": null,
            "grid_auto_rows": null,
            "grid_column": null,
            "grid_gap": null,
            "grid_row": null,
            "grid_template_areas": null,
            "grid_template_columns": null,
            "grid_template_rows": null,
            "height": null,
            "justify_content": null,
            "justify_items": null,
            "left": null,
            "margin": null,
            "max_height": null,
            "max_width": null,
            "min_height": null,
            "min_width": null,
            "object_fit": null,
            "object_position": null,
            "order": null,
            "overflow": null,
            "overflow_x": null,
            "overflow_y": null,
            "padding": null,
            "right": null,
            "top": null,
            "visibility": null,
            "width": null
          }
        },
        "c27d125fa54247b886c060415b8a37cf": {
          "model_module": "@jupyter-widgets/base",
          "model_name": "LayoutModel",
          "model_module_version": "1.2.0",
          "state": {
            "_model_module": "@jupyter-widgets/base",
            "_model_module_version": "1.2.0",
            "_model_name": "LayoutModel",
            "_view_count": null,
            "_view_module": "@jupyter-widgets/base",
            "_view_module_version": "1.2.0",
            "_view_name": "LayoutView",
            "align_content": null,
            "align_items": null,
            "align_self": null,
            "border": null,
            "bottom": null,
            "display": null,
            "flex": null,
            "flex_flow": null,
            "grid_area": null,
            "grid_auto_columns": null,
            "grid_auto_flow": null,
            "grid_auto_rows": null,
            "grid_column": null,
            "grid_gap": null,
            "grid_row": null,
            "grid_template_areas": null,
            "grid_template_columns": null,
            "grid_template_rows": null,
            "height": null,
            "justify_content": null,
            "justify_items": null,
            "left": null,
            "margin": null,
            "max_height": null,
            "max_width": null,
            "min_height": null,
            "min_width": null,
            "object_fit": null,
            "object_position": null,
            "order": null,
            "overflow": null,
            "overflow_x": null,
            "overflow_y": null,
            "padding": null,
            "right": null,
            "top": null,
            "visibility": null,
            "width": null
          }
        },
        "242d4d9cf7e54313bc0ec5421f496cfc": {
          "model_module": "@jupyter-widgets/controls",
          "model_name": "DescriptionStyleModel",
          "model_module_version": "1.5.0",
          "state": {
            "_model_module": "@jupyter-widgets/controls",
            "_model_module_version": "1.5.0",
            "_model_name": "DescriptionStyleModel",
            "_view_count": null,
            "_view_module": "@jupyter-widgets/base",
            "_view_module_version": "1.2.0",
            "_view_name": "StyleView",
            "description_width": ""
          }
        },
        "5d8b9fbe9bf24957a3a8c3442faee962": {
          "model_module": "@jupyter-widgets/base",
          "model_name": "LayoutModel",
          "model_module_version": "1.2.0",
          "state": {
            "_model_module": "@jupyter-widgets/base",
            "_model_module_version": "1.2.0",
            "_model_name": "LayoutModel",
            "_view_count": null,
            "_view_module": "@jupyter-widgets/base",
            "_view_module_version": "1.2.0",
            "_view_name": "LayoutView",
            "align_content": null,
            "align_items": null,
            "align_self": null,
            "border": null,
            "bottom": null,
            "display": null,
            "flex": null,
            "flex_flow": null,
            "grid_area": null,
            "grid_auto_columns": null,
            "grid_auto_flow": null,
            "grid_auto_rows": null,
            "grid_column": null,
            "grid_gap": null,
            "grid_row": null,
            "grid_template_areas": null,
            "grid_template_columns": null,
            "grid_template_rows": null,
            "height": null,
            "justify_content": null,
            "justify_items": null,
            "left": null,
            "margin": null,
            "max_height": null,
            "max_width": null,
            "min_height": null,
            "min_width": null,
            "object_fit": null,
            "object_position": null,
            "order": null,
            "overflow": null,
            "overflow_x": null,
            "overflow_y": null,
            "padding": null,
            "right": null,
            "top": null,
            "visibility": null,
            "width": null
          }
        },
        "22fcfe4adf2b41dcbfaddf7467fdcd2a": {
          "model_module": "@jupyter-widgets/controls",
          "model_name": "ProgressStyleModel",
          "model_module_version": "1.5.0",
          "state": {
            "_model_module": "@jupyter-widgets/controls",
            "_model_module_version": "1.5.0",
            "_model_name": "ProgressStyleModel",
            "_view_count": null,
            "_view_module": "@jupyter-widgets/base",
            "_view_module_version": "1.2.0",
            "_view_name": "StyleView",
            "bar_color": null,
            "description_width": ""
          }
        },
        "0a286c82f67643d3a9e2b240bb763b93": {
          "model_module": "@jupyter-widgets/base",
          "model_name": "LayoutModel",
          "model_module_version": "1.2.0",
          "state": {
            "_model_module": "@jupyter-widgets/base",
            "_model_module_version": "1.2.0",
            "_model_name": "LayoutModel",
            "_view_count": null,
            "_view_module": "@jupyter-widgets/base",
            "_view_module_version": "1.2.0",
            "_view_name": "LayoutView",
            "align_content": null,
            "align_items": null,
            "align_self": null,
            "border": null,
            "bottom": null,
            "display": null,
            "flex": null,
            "flex_flow": null,
            "grid_area": null,
            "grid_auto_columns": null,
            "grid_auto_flow": null,
            "grid_auto_rows": null,
            "grid_column": null,
            "grid_gap": null,
            "grid_row": null,
            "grid_template_areas": null,
            "grid_template_columns": null,
            "grid_template_rows": null,
            "height": null,
            "justify_content": null,
            "justify_items": null,
            "left": null,
            "margin": null,
            "max_height": null,
            "max_width": null,
            "min_height": null,
            "min_width": null,
            "object_fit": null,
            "object_position": null,
            "order": null,
            "overflow": null,
            "overflow_x": null,
            "overflow_y": null,
            "padding": null,
            "right": null,
            "top": null,
            "visibility": null,
            "width": null
          }
        },
        "22c88fd807b843d38b3faaf5524d4cd1": {
          "model_module": "@jupyter-widgets/controls",
          "model_name": "DescriptionStyleModel",
          "model_module_version": "1.5.0",
          "state": {
            "_model_module": "@jupyter-widgets/controls",
            "_model_module_version": "1.5.0",
            "_model_name": "DescriptionStyleModel",
            "_view_count": null,
            "_view_module": "@jupyter-widgets/base",
            "_view_module_version": "1.2.0",
            "_view_name": "StyleView",
            "description_width": ""
          }
        },
        "bd858502d36a49578412b14e313d50f5": {
          "model_module": "@jupyter-widgets/controls",
          "model_name": "HBoxModel",
          "model_module_version": "1.5.0",
          "state": {
            "_dom_classes": [],
            "_model_module": "@jupyter-widgets/controls",
            "_model_module_version": "1.5.0",
            "_model_name": "HBoxModel",
            "_view_count": null,
            "_view_module": "@jupyter-widgets/controls",
            "_view_module_version": "1.5.0",
            "_view_name": "HBoxView",
            "box_style": "",
            "children": [
              "IPY_MODEL_099dc087a78b4ababc56197afeb04769",
              "IPY_MODEL_37c8af2acb934aef843cf47f95993355",
              "IPY_MODEL_99d12381bd1f4fa7a09cc54841ff7152"
            ],
            "layout": "IPY_MODEL_a68a4d1bc8724f9481a8e8f54ab21082"
          }
        },
        "099dc087a78b4ababc56197afeb04769": {
          "model_module": "@jupyter-widgets/controls",
          "model_name": "HTMLModel",
          "model_module_version": "1.5.0",
          "state": {
            "_dom_classes": [],
            "_model_module": "@jupyter-widgets/controls",
            "_model_module_version": "1.5.0",
            "_model_name": "HTMLModel",
            "_view_count": null,
            "_view_module": "@jupyter-widgets/controls",
            "_view_module_version": "1.5.0",
            "_view_name": "HTMLView",
            "description": "",
            "description_tooltip": null,
            "layout": "IPY_MODEL_27bf4e112ad5442c95c8607a4f6885cb",
            "placeholder": "​",
            "style": "IPY_MODEL_45fd8fac421c46ab97aaa22c171ff777",
            "value": "special_tokens_map.json: 100%"
          }
        },
        "37c8af2acb934aef843cf47f95993355": {
          "model_module": "@jupyter-widgets/controls",
          "model_name": "FloatProgressModel",
          "model_module_version": "1.5.0",
          "state": {
            "_dom_classes": [],
            "_model_module": "@jupyter-widgets/controls",
            "_model_module_version": "1.5.0",
            "_model_name": "FloatProgressModel",
            "_view_count": null,
            "_view_module": "@jupyter-widgets/controls",
            "_view_module_version": "1.5.0",
            "_view_name": "ProgressView",
            "bar_style": "success",
            "description": "",
            "description_tooltip": null,
            "layout": "IPY_MODEL_3431e2a9be014f6a83ea1f729fedb6f8",
            "max": 112,
            "min": 0,
            "orientation": "horizontal",
            "style": "IPY_MODEL_2777f8d78c444c4cb05bd88385ec7a11",
            "value": 112
          }
        },
        "99d12381bd1f4fa7a09cc54841ff7152": {
          "model_module": "@jupyter-widgets/controls",
          "model_name": "HTMLModel",
          "model_module_version": "1.5.0",
          "state": {
            "_dom_classes": [],
            "_model_module": "@jupyter-widgets/controls",
            "_model_module_version": "1.5.0",
            "_model_name": "HTMLModel",
            "_view_count": null,
            "_view_module": "@jupyter-widgets/controls",
            "_view_module_version": "1.5.0",
            "_view_name": "HTMLView",
            "description": "",
            "description_tooltip": null,
            "layout": "IPY_MODEL_ead7821e089a44219a322c9fb26cbeed",
            "placeholder": "​",
            "style": "IPY_MODEL_7364e061de404b2f849468fe6540c7e1",
            "value": " 112/112 [00:00&lt;00:00, 6.76kB/s]"
          }
        },
        "a68a4d1bc8724f9481a8e8f54ab21082": {
          "model_module": "@jupyter-widgets/base",
          "model_name": "LayoutModel",
          "model_module_version": "1.2.0",
          "state": {
            "_model_module": "@jupyter-widgets/base",
            "_model_module_version": "1.2.0",
            "_model_name": "LayoutModel",
            "_view_count": null,
            "_view_module": "@jupyter-widgets/base",
            "_view_module_version": "1.2.0",
            "_view_name": "LayoutView",
            "align_content": null,
            "align_items": null,
            "align_self": null,
            "border": null,
            "bottom": null,
            "display": null,
            "flex": null,
            "flex_flow": null,
            "grid_area": null,
            "grid_auto_columns": null,
            "grid_auto_flow": null,
            "grid_auto_rows": null,
            "grid_column": null,
            "grid_gap": null,
            "grid_row": null,
            "grid_template_areas": null,
            "grid_template_columns": null,
            "grid_template_rows": null,
            "height": null,
            "justify_content": null,
            "justify_items": null,
            "left": null,
            "margin": null,
            "max_height": null,
            "max_width": null,
            "min_height": null,
            "min_width": null,
            "object_fit": null,
            "object_position": null,
            "order": null,
            "overflow": null,
            "overflow_x": null,
            "overflow_y": null,
            "padding": null,
            "right": null,
            "top": null,
            "visibility": null,
            "width": null
          }
        },
        "27bf4e112ad5442c95c8607a4f6885cb": {
          "model_module": "@jupyter-widgets/base",
          "model_name": "LayoutModel",
          "model_module_version": "1.2.0",
          "state": {
            "_model_module": "@jupyter-widgets/base",
            "_model_module_version": "1.2.0",
            "_model_name": "LayoutModel",
            "_view_count": null,
            "_view_module": "@jupyter-widgets/base",
            "_view_module_version": "1.2.0",
            "_view_name": "LayoutView",
            "align_content": null,
            "align_items": null,
            "align_self": null,
            "border": null,
            "bottom": null,
            "display": null,
            "flex": null,
            "flex_flow": null,
            "grid_area": null,
            "grid_auto_columns": null,
            "grid_auto_flow": null,
            "grid_auto_rows": null,
            "grid_column": null,
            "grid_gap": null,
            "grid_row": null,
            "grid_template_areas": null,
            "grid_template_columns": null,
            "grid_template_rows": null,
            "height": null,
            "justify_content": null,
            "justify_items": null,
            "left": null,
            "margin": null,
            "max_height": null,
            "max_width": null,
            "min_height": null,
            "min_width": null,
            "object_fit": null,
            "object_position": null,
            "order": null,
            "overflow": null,
            "overflow_x": null,
            "overflow_y": null,
            "padding": null,
            "right": null,
            "top": null,
            "visibility": null,
            "width": null
          }
        },
        "45fd8fac421c46ab97aaa22c171ff777": {
          "model_module": "@jupyter-widgets/controls",
          "model_name": "DescriptionStyleModel",
          "model_module_version": "1.5.0",
          "state": {
            "_model_module": "@jupyter-widgets/controls",
            "_model_module_version": "1.5.0",
            "_model_name": "DescriptionStyleModel",
            "_view_count": null,
            "_view_module": "@jupyter-widgets/base",
            "_view_module_version": "1.2.0",
            "_view_name": "StyleView",
            "description_width": ""
          }
        },
        "3431e2a9be014f6a83ea1f729fedb6f8": {
          "model_module": "@jupyter-widgets/base",
          "model_name": "LayoutModel",
          "model_module_version": "1.2.0",
          "state": {
            "_model_module": "@jupyter-widgets/base",
            "_model_module_version": "1.2.0",
            "_model_name": "LayoutModel",
            "_view_count": null,
            "_view_module": "@jupyter-widgets/base",
            "_view_module_version": "1.2.0",
            "_view_name": "LayoutView",
            "align_content": null,
            "align_items": null,
            "align_self": null,
            "border": null,
            "bottom": null,
            "display": null,
            "flex": null,
            "flex_flow": null,
            "grid_area": null,
            "grid_auto_columns": null,
            "grid_auto_flow": null,
            "grid_auto_rows": null,
            "grid_column": null,
            "grid_gap": null,
            "grid_row": null,
            "grid_template_areas": null,
            "grid_template_columns": null,
            "grid_template_rows": null,
            "height": null,
            "justify_content": null,
            "justify_items": null,
            "left": null,
            "margin": null,
            "max_height": null,
            "max_width": null,
            "min_height": null,
            "min_width": null,
            "object_fit": null,
            "object_position": null,
            "order": null,
            "overflow": null,
            "overflow_x": null,
            "overflow_y": null,
            "padding": null,
            "right": null,
            "top": null,
            "visibility": null,
            "width": null
          }
        },
        "2777f8d78c444c4cb05bd88385ec7a11": {
          "model_module": "@jupyter-widgets/controls",
          "model_name": "ProgressStyleModel",
          "model_module_version": "1.5.0",
          "state": {
            "_model_module": "@jupyter-widgets/controls",
            "_model_module_version": "1.5.0",
            "_model_name": "ProgressStyleModel",
            "_view_count": null,
            "_view_module": "@jupyter-widgets/base",
            "_view_module_version": "1.2.0",
            "_view_name": "StyleView",
            "bar_color": null,
            "description_width": ""
          }
        },
        "ead7821e089a44219a322c9fb26cbeed": {
          "model_module": "@jupyter-widgets/base",
          "model_name": "LayoutModel",
          "model_module_version": "1.2.0",
          "state": {
            "_model_module": "@jupyter-widgets/base",
            "_model_module_version": "1.2.0",
            "_model_name": "LayoutModel",
            "_view_count": null,
            "_view_module": "@jupyter-widgets/base",
            "_view_module_version": "1.2.0",
            "_view_name": "LayoutView",
            "align_content": null,
            "align_items": null,
            "align_self": null,
            "border": null,
            "bottom": null,
            "display": null,
            "flex": null,
            "flex_flow": null,
            "grid_area": null,
            "grid_auto_columns": null,
            "grid_auto_flow": null,
            "grid_auto_rows": null,
            "grid_column": null,
            "grid_gap": null,
            "grid_row": null,
            "grid_template_areas": null,
            "grid_template_columns": null,
            "grid_template_rows": null,
            "height": null,
            "justify_content": null,
            "justify_items": null,
            "left": null,
            "margin": null,
            "max_height": null,
            "max_width": null,
            "min_height": null,
            "min_width": null,
            "object_fit": null,
            "object_position": null,
            "order": null,
            "overflow": null,
            "overflow_x": null,
            "overflow_y": null,
            "padding": null,
            "right": null,
            "top": null,
            "visibility": null,
            "width": null
          }
        },
        "7364e061de404b2f849468fe6540c7e1": {
          "model_module": "@jupyter-widgets/controls",
          "model_name": "DescriptionStyleModel",
          "model_module_version": "1.5.0",
          "state": {
            "_model_module": "@jupyter-widgets/controls",
            "_model_module_version": "1.5.0",
            "_model_name": "DescriptionStyleModel",
            "_view_count": null,
            "_view_module": "@jupyter-widgets/base",
            "_view_module_version": "1.2.0",
            "_view_name": "StyleView",
            "description_width": ""
          }
        },
        "884e215a6f374dc3832016246ac74336": {
          "model_module": "@jupyter-widgets/controls",
          "model_name": "HBoxModel",
          "model_module_version": "1.5.0",
          "state": {
            "_dom_classes": [],
            "_model_module": "@jupyter-widgets/controls",
            "_model_module_version": "1.5.0",
            "_model_name": "HBoxModel",
            "_view_count": null,
            "_view_module": "@jupyter-widgets/controls",
            "_view_module_version": "1.5.0",
            "_view_name": "HBoxView",
            "box_style": "",
            "children": [
              "IPY_MODEL_e86bfc2000f245d6b7229a1cd5b0e600",
              "IPY_MODEL_0de7691c05774b58abdaca3a909c2ea4",
              "IPY_MODEL_35b6484a36fd4d6dadf65851b668a8b3"
            ],
            "layout": "IPY_MODEL_3642d529b5c34b4f89ed7b3119a754e8"
          }
        },
        "e86bfc2000f245d6b7229a1cd5b0e600": {
          "model_module": "@jupyter-widgets/controls",
          "model_name": "HTMLModel",
          "model_module_version": "1.5.0",
          "state": {
            "_dom_classes": [],
            "_model_module": "@jupyter-widgets/controls",
            "_model_module_version": "1.5.0",
            "_model_name": "HTMLModel",
            "_view_count": null,
            "_view_module": "@jupyter-widgets/controls",
            "_view_module_version": "1.5.0",
            "_view_name": "HTMLView",
            "description": "",
            "description_tooltip": null,
            "layout": "IPY_MODEL_2e5ce57b96a0424888d8826b7137ef2e",
            "placeholder": "​",
            "style": "IPY_MODEL_2e058703dc0c4f758c0e8bb6f8cbe26b",
            "value": "config.json: 100%"
          }
        },
        "0de7691c05774b58abdaca3a909c2ea4": {
          "model_module": "@jupyter-widgets/controls",
          "model_name": "FloatProgressModel",
          "model_module_version": "1.5.0",
          "state": {
            "_dom_classes": [],
            "_model_module": "@jupyter-widgets/controls",
            "_model_module_version": "1.5.0",
            "_model_name": "FloatProgressModel",
            "_view_count": null,
            "_view_module": "@jupyter-widgets/controls",
            "_view_module_version": "1.5.0",
            "_view_name": "ProgressView",
            "bar_style": "success",
            "description": "",
            "description_tooltip": null,
            "layout": "IPY_MODEL_f73cd5bb00b14b09b68217f9be9aed82",
            "max": 190,
            "min": 0,
            "orientation": "horizontal",
            "style": "IPY_MODEL_f8105e53e9364e528f52ea42d8129f44",
            "value": 190
          }
        },
        "35b6484a36fd4d6dadf65851b668a8b3": {
          "model_module": "@jupyter-widgets/controls",
          "model_name": "HTMLModel",
          "model_module_version": "1.5.0",
          "state": {
            "_dom_classes": [],
            "_model_module": "@jupyter-widgets/controls",
            "_model_module_version": "1.5.0",
            "_model_name": "HTMLModel",
            "_view_count": null,
            "_view_module": "@jupyter-widgets/controls",
            "_view_module_version": "1.5.0",
            "_view_name": "HTMLView",
            "description": "",
            "description_tooltip": null,
            "layout": "IPY_MODEL_5e174be9fd7241c69cf4c6ee61da3825",
            "placeholder": "​",
            "style": "IPY_MODEL_e26858eadd064a098bed4d703ce1fa7c",
            "value": " 190/190 [00:00&lt;00:00, 15.1kB/s]"
          }
        },
        "3642d529b5c34b4f89ed7b3119a754e8": {
          "model_module": "@jupyter-widgets/base",
          "model_name": "LayoutModel",
          "model_module_version": "1.2.0",
          "state": {
            "_model_module": "@jupyter-widgets/base",
            "_model_module_version": "1.2.0",
            "_model_name": "LayoutModel",
            "_view_count": null,
            "_view_module": "@jupyter-widgets/base",
            "_view_module_version": "1.2.0",
            "_view_name": "LayoutView",
            "align_content": null,
            "align_items": null,
            "align_self": null,
            "border": null,
            "bottom": null,
            "display": null,
            "flex": null,
            "flex_flow": null,
            "grid_area": null,
            "grid_auto_columns": null,
            "grid_auto_flow": null,
            "grid_auto_rows": null,
            "grid_column": null,
            "grid_gap": null,
            "grid_row": null,
            "grid_template_areas": null,
            "grid_template_columns": null,
            "grid_template_rows": null,
            "height": null,
            "justify_content": null,
            "justify_items": null,
            "left": null,
            "margin": null,
            "max_height": null,
            "max_width": null,
            "min_height": null,
            "min_width": null,
            "object_fit": null,
            "object_position": null,
            "order": null,
            "overflow": null,
            "overflow_x": null,
            "overflow_y": null,
            "padding": null,
            "right": null,
            "top": null,
            "visibility": null,
            "width": null
          }
        },
        "2e5ce57b96a0424888d8826b7137ef2e": {
          "model_module": "@jupyter-widgets/base",
          "model_name": "LayoutModel",
          "model_module_version": "1.2.0",
          "state": {
            "_model_module": "@jupyter-widgets/base",
            "_model_module_version": "1.2.0",
            "_model_name": "LayoutModel",
            "_view_count": null,
            "_view_module": "@jupyter-widgets/base",
            "_view_module_version": "1.2.0",
            "_view_name": "LayoutView",
            "align_content": null,
            "align_items": null,
            "align_self": null,
            "border": null,
            "bottom": null,
            "display": null,
            "flex": null,
            "flex_flow": null,
            "grid_area": null,
            "grid_auto_columns": null,
            "grid_auto_flow": null,
            "grid_auto_rows": null,
            "grid_column": null,
            "grid_gap": null,
            "grid_row": null,
            "grid_template_areas": null,
            "grid_template_columns": null,
            "grid_template_rows": null,
            "height": null,
            "justify_content": null,
            "justify_items": null,
            "left": null,
            "margin": null,
            "max_height": null,
            "max_width": null,
            "min_height": null,
            "min_width": null,
            "object_fit": null,
            "object_position": null,
            "order": null,
            "overflow": null,
            "overflow_x": null,
            "overflow_y": null,
            "padding": null,
            "right": null,
            "top": null,
            "visibility": null,
            "width": null
          }
        },
        "2e058703dc0c4f758c0e8bb6f8cbe26b": {
          "model_module": "@jupyter-widgets/controls",
          "model_name": "DescriptionStyleModel",
          "model_module_version": "1.5.0",
          "state": {
            "_model_module": "@jupyter-widgets/controls",
            "_model_module_version": "1.5.0",
            "_model_name": "DescriptionStyleModel",
            "_view_count": null,
            "_view_module": "@jupyter-widgets/base",
            "_view_module_version": "1.2.0",
            "_view_name": "StyleView",
            "description_width": ""
          }
        },
        "f73cd5bb00b14b09b68217f9be9aed82": {
          "model_module": "@jupyter-widgets/base",
          "model_name": "LayoutModel",
          "model_module_version": "1.2.0",
          "state": {
            "_model_module": "@jupyter-widgets/base",
            "_model_module_version": "1.2.0",
            "_model_name": "LayoutModel",
            "_view_count": null,
            "_view_module": "@jupyter-widgets/base",
            "_view_module_version": "1.2.0",
            "_view_name": "LayoutView",
            "align_content": null,
            "align_items": null,
            "align_self": null,
            "border": null,
            "bottom": null,
            "display": null,
            "flex": null,
            "flex_flow": null,
            "grid_area": null,
            "grid_auto_columns": null,
            "grid_auto_flow": null,
            "grid_auto_rows": null,
            "grid_column": null,
            "grid_gap": null,
            "grid_row": null,
            "grid_template_areas": null,
            "grid_template_columns": null,
            "grid_template_rows": null,
            "height": null,
            "justify_content": null,
            "justify_items": null,
            "left": null,
            "margin": null,
            "max_height": null,
            "max_width": null,
            "min_height": null,
            "min_width": null,
            "object_fit": null,
            "object_position": null,
            "order": null,
            "overflow": null,
            "overflow_x": null,
            "overflow_y": null,
            "padding": null,
            "right": null,
            "top": null,
            "visibility": null,
            "width": null
          }
        },
        "f8105e53e9364e528f52ea42d8129f44": {
          "model_module": "@jupyter-widgets/controls",
          "model_name": "ProgressStyleModel",
          "model_module_version": "1.5.0",
          "state": {
            "_model_module": "@jupyter-widgets/controls",
            "_model_module_version": "1.5.0",
            "_model_name": "ProgressStyleModel",
            "_view_count": null,
            "_view_module": "@jupyter-widgets/base",
            "_view_module_version": "1.2.0",
            "_view_name": "StyleView",
            "bar_color": null,
            "description_width": ""
          }
        },
        "5e174be9fd7241c69cf4c6ee61da3825": {
          "model_module": "@jupyter-widgets/base",
          "model_name": "LayoutModel",
          "model_module_version": "1.2.0",
          "state": {
            "_model_module": "@jupyter-widgets/base",
            "_model_module_version": "1.2.0",
            "_model_name": "LayoutModel",
            "_view_count": null,
            "_view_module": "@jupyter-widgets/base",
            "_view_module_version": "1.2.0",
            "_view_name": "LayoutView",
            "align_content": null,
            "align_items": null,
            "align_self": null,
            "border": null,
            "bottom": null,
            "display": null,
            "flex": null,
            "flex_flow": null,
            "grid_area": null,
            "grid_auto_columns": null,
            "grid_auto_flow": null,
            "grid_auto_rows": null,
            "grid_column": null,
            "grid_gap": null,
            "grid_row": null,
            "grid_template_areas": null,
            "grid_template_columns": null,
            "grid_template_rows": null,
            "height": null,
            "justify_content": null,
            "justify_items": null,
            "left": null,
            "margin": null,
            "max_height": null,
            "max_width": null,
            "min_height": null,
            "min_width": null,
            "object_fit": null,
            "object_position": null,
            "order": null,
            "overflow": null,
            "overflow_x": null,
            "overflow_y": null,
            "padding": null,
            "right": null,
            "top": null,
            "visibility": null,
            "width": null
          }
        },
        "e26858eadd064a098bed4d703ce1fa7c": {
          "model_module": "@jupyter-widgets/controls",
          "model_name": "DescriptionStyleModel",
          "model_module_version": "1.5.0",
          "state": {
            "_model_module": "@jupyter-widgets/controls",
            "_model_module_version": "1.5.0",
            "_model_name": "DescriptionStyleModel",
            "_view_count": null,
            "_view_module": "@jupyter-widgets/base",
            "_view_module_version": "1.2.0",
            "_view_name": "StyleView",
            "description_width": ""
          }
        },
        "2a08b98e341645b0adf02d345edd16fc": {
          "model_module": "@jupyter-widgets/controls",
          "model_name": "HBoxModel",
          "model_module_version": "1.5.0",
          "state": {
            "_dom_classes": [],
            "_model_module": "@jupyter-widgets/controls",
            "_model_module_version": "1.5.0",
            "_model_name": "HBoxModel",
            "_view_count": null,
            "_view_module": "@jupyter-widgets/controls",
            "_view_module_version": "1.5.0",
            "_view_name": "HBoxView",
            "box_style": "",
            "children": [
              "IPY_MODEL_b4ec2d06b33944ada60a26d417dfdc60",
              "IPY_MODEL_f3a3b57d736645ef9bceb3dadaf4f182",
              "IPY_MODEL_96638491092b4dff9e168add7e6cabac"
            ],
            "layout": "IPY_MODEL_717be7743f2a4d0bb8b5cec859c658c5"
          }
        },
        "b4ec2d06b33944ada60a26d417dfdc60": {
          "model_module": "@jupyter-widgets/controls",
          "model_name": "HTMLModel",
          "model_module_version": "1.5.0",
          "state": {
            "_dom_classes": [],
            "_model_module": "@jupyter-widgets/controls",
            "_model_module_version": "1.5.0",
            "_model_name": "HTMLModel",
            "_view_count": null,
            "_view_module": "@jupyter-widgets/controls",
            "_view_module_version": "1.5.0",
            "_view_name": "HTMLView",
            "description": "",
            "description_tooltip": null,
            "layout": "IPY_MODEL_6957f5e1732542abb7b5c89356f70552",
            "placeholder": "​",
            "style": "IPY_MODEL_515f3cc6cebd4c9094ab7d1c804234de",
            "value": "config.json: 100%"
          }
        },
        "f3a3b57d736645ef9bceb3dadaf4f182": {
          "model_module": "@jupyter-widgets/controls",
          "model_name": "FloatProgressModel",
          "model_module_version": "1.5.0",
          "state": {
            "_dom_classes": [],
            "_model_module": "@jupyter-widgets/controls",
            "_model_module_version": "1.5.0",
            "_model_name": "FloatProgressModel",
            "_view_count": null,
            "_view_module": "@jupyter-widgets/controls",
            "_view_module_version": "1.5.0",
            "_view_name": "ProgressView",
            "bar_style": "success",
            "description": "",
            "description_tooltip": null,
            "layout": "IPY_MODEL_3bc3c4f68f494e63b0e318d8da124329",
            "max": 794,
            "min": 0,
            "orientation": "horizontal",
            "style": "IPY_MODEL_7bc3f5d8af8d482681cf6ac65608d58e",
            "value": 794
          }
        },
        "96638491092b4dff9e168add7e6cabac": {
          "model_module": "@jupyter-widgets/controls",
          "model_name": "HTMLModel",
          "model_module_version": "1.5.0",
          "state": {
            "_dom_classes": [],
            "_model_module": "@jupyter-widgets/controls",
            "_model_module_version": "1.5.0",
            "_model_name": "HTMLModel",
            "_view_count": null,
            "_view_module": "@jupyter-widgets/controls",
            "_view_module_version": "1.5.0",
            "_view_name": "HTMLView",
            "description": "",
            "description_tooltip": null,
            "layout": "IPY_MODEL_e1b30c7e0a69462ca1ee51209c8c559c",
            "placeholder": "​",
            "style": "IPY_MODEL_02278f5e07cb4385ac1ca591b4b72195",
            "value": " 794/794 [00:00&lt;00:00, 62.7kB/s]"
          }
        },
        "717be7743f2a4d0bb8b5cec859c658c5": {
          "model_module": "@jupyter-widgets/base",
          "model_name": "LayoutModel",
          "model_module_version": "1.2.0",
          "state": {
            "_model_module": "@jupyter-widgets/base",
            "_model_module_version": "1.2.0",
            "_model_name": "LayoutModel",
            "_view_count": null,
            "_view_module": "@jupyter-widgets/base",
            "_view_module_version": "1.2.0",
            "_view_name": "LayoutView",
            "align_content": null,
            "align_items": null,
            "align_self": null,
            "border": null,
            "bottom": null,
            "display": null,
            "flex": null,
            "flex_flow": null,
            "grid_area": null,
            "grid_auto_columns": null,
            "grid_auto_flow": null,
            "grid_auto_rows": null,
            "grid_column": null,
            "grid_gap": null,
            "grid_row": null,
            "grid_template_areas": null,
            "grid_template_columns": null,
            "grid_template_rows": null,
            "height": null,
            "justify_content": null,
            "justify_items": null,
            "left": null,
            "margin": null,
            "max_height": null,
            "max_width": null,
            "min_height": null,
            "min_width": null,
            "object_fit": null,
            "object_position": null,
            "order": null,
            "overflow": null,
            "overflow_x": null,
            "overflow_y": null,
            "padding": null,
            "right": null,
            "top": null,
            "visibility": null,
            "width": null
          }
        },
        "6957f5e1732542abb7b5c89356f70552": {
          "model_module": "@jupyter-widgets/base",
          "model_name": "LayoutModel",
          "model_module_version": "1.2.0",
          "state": {
            "_model_module": "@jupyter-widgets/base",
            "_model_module_version": "1.2.0",
            "_model_name": "LayoutModel",
            "_view_count": null,
            "_view_module": "@jupyter-widgets/base",
            "_view_module_version": "1.2.0",
            "_view_name": "LayoutView",
            "align_content": null,
            "align_items": null,
            "align_self": null,
            "border": null,
            "bottom": null,
            "display": null,
            "flex": null,
            "flex_flow": null,
            "grid_area": null,
            "grid_auto_columns": null,
            "grid_auto_flow": null,
            "grid_auto_rows": null,
            "grid_column": null,
            "grid_gap": null,
            "grid_row": null,
            "grid_template_areas": null,
            "grid_template_columns": null,
            "grid_template_rows": null,
            "height": null,
            "justify_content": null,
            "justify_items": null,
            "left": null,
            "margin": null,
            "max_height": null,
            "max_width": null,
            "min_height": null,
            "min_width": null,
            "object_fit": null,
            "object_position": null,
            "order": null,
            "overflow": null,
            "overflow_x": null,
            "overflow_y": null,
            "padding": null,
            "right": null,
            "top": null,
            "visibility": null,
            "width": null
          }
        },
        "515f3cc6cebd4c9094ab7d1c804234de": {
          "model_module": "@jupyter-widgets/controls",
          "model_name": "DescriptionStyleModel",
          "model_module_version": "1.5.0",
          "state": {
            "_model_module": "@jupyter-widgets/controls",
            "_model_module_version": "1.5.0",
            "_model_name": "DescriptionStyleModel",
            "_view_count": null,
            "_view_module": "@jupyter-widgets/base",
            "_view_module_version": "1.2.0",
            "_view_name": "StyleView",
            "description_width": ""
          }
        },
        "3bc3c4f68f494e63b0e318d8da124329": {
          "model_module": "@jupyter-widgets/base",
          "model_name": "LayoutModel",
          "model_module_version": "1.2.0",
          "state": {
            "_model_module": "@jupyter-widgets/base",
            "_model_module_version": "1.2.0",
            "_model_name": "LayoutModel",
            "_view_count": null,
            "_view_module": "@jupyter-widgets/base",
            "_view_module_version": "1.2.0",
            "_view_name": "LayoutView",
            "align_content": null,
            "align_items": null,
            "align_self": null,
            "border": null,
            "bottom": null,
            "display": null,
            "flex": null,
            "flex_flow": null,
            "grid_area": null,
            "grid_auto_columns": null,
            "grid_auto_flow": null,
            "grid_auto_rows": null,
            "grid_column": null,
            "grid_gap": null,
            "grid_row": null,
            "grid_template_areas": null,
            "grid_template_columns": null,
            "grid_template_rows": null,
            "height": null,
            "justify_content": null,
            "justify_items": null,
            "left": null,
            "margin": null,
            "max_height": null,
            "max_width": null,
            "min_height": null,
            "min_width": null,
            "object_fit": null,
            "object_position": null,
            "order": null,
            "overflow": null,
            "overflow_x": null,
            "overflow_y": null,
            "padding": null,
            "right": null,
            "top": null,
            "visibility": null,
            "width": null
          }
        },
        "7bc3f5d8af8d482681cf6ac65608d58e": {
          "model_module": "@jupyter-widgets/controls",
          "model_name": "ProgressStyleModel",
          "model_module_version": "1.5.0",
          "state": {
            "_model_module": "@jupyter-widgets/controls",
            "_model_module_version": "1.5.0",
            "_model_name": "ProgressStyleModel",
            "_view_count": null,
            "_view_module": "@jupyter-widgets/base",
            "_view_module_version": "1.2.0",
            "_view_name": "StyleView",
            "bar_color": null,
            "description_width": ""
          }
        },
        "e1b30c7e0a69462ca1ee51209c8c559c": {
          "model_module": "@jupyter-widgets/base",
          "model_name": "LayoutModel",
          "model_module_version": "1.2.0",
          "state": {
            "_model_module": "@jupyter-widgets/base",
            "_model_module_version": "1.2.0",
            "_model_name": "LayoutModel",
            "_view_count": null,
            "_view_module": "@jupyter-widgets/base",
            "_view_module_version": "1.2.0",
            "_view_name": "LayoutView",
            "align_content": null,
            "align_items": null,
            "align_self": null,
            "border": null,
            "bottom": null,
            "display": null,
            "flex": null,
            "flex_flow": null,
            "grid_area": null,
            "grid_auto_columns": null,
            "grid_auto_flow": null,
            "grid_auto_rows": null,
            "grid_column": null,
            "grid_gap": null,
            "grid_row": null,
            "grid_template_areas": null,
            "grid_template_columns": null,
            "grid_template_rows": null,
            "height": null,
            "justify_content": null,
            "justify_items": null,
            "left": null,
            "margin": null,
            "max_height": null,
            "max_width": null,
            "min_height": null,
            "min_width": null,
            "object_fit": null,
            "object_position": null,
            "order": null,
            "overflow": null,
            "overflow_x": null,
            "overflow_y": null,
            "padding": null,
            "right": null,
            "top": null,
            "visibility": null,
            "width": null
          }
        },
        "02278f5e07cb4385ac1ca591b4b72195": {
          "model_module": "@jupyter-widgets/controls",
          "model_name": "DescriptionStyleModel",
          "model_module_version": "1.5.0",
          "state": {
            "_model_module": "@jupyter-widgets/controls",
            "_model_module_version": "1.5.0",
            "_model_name": "DescriptionStyleModel",
            "_view_count": null,
            "_view_module": "@jupyter-widgets/base",
            "_view_module_version": "1.2.0",
            "_view_name": "StyleView",
            "description_width": ""
          }
        },
        "3cc1e74870854d6382ea9ecc5bdd188f": {
          "model_module": "@jupyter-widgets/controls",
          "model_name": "HBoxModel",
          "model_module_version": "1.5.0",
          "state": {
            "_dom_classes": [],
            "_model_module": "@jupyter-widgets/controls",
            "_model_module_version": "1.5.0",
            "_model_name": "HBoxModel",
            "_view_count": null,
            "_view_module": "@jupyter-widgets/controls",
            "_view_module_version": "1.5.0",
            "_view_name": "HBoxView",
            "box_style": "",
            "children": [
              "IPY_MODEL_bde48660319f442b8192b3debc5a07a2",
              "IPY_MODEL_a0643fced004499f9969ae27f2a966da",
              "IPY_MODEL_39f8bd1a85ba4f8fb22990e33834648b"
            ],
            "layout": "IPY_MODEL_693c37caa13b4c39bf63d9485fd83fe4"
          }
        },
        "bde48660319f442b8192b3debc5a07a2": {
          "model_module": "@jupyter-widgets/controls",
          "model_name": "HTMLModel",
          "model_module_version": "1.5.0",
          "state": {
            "_dom_classes": [],
            "_model_module": "@jupyter-widgets/controls",
            "_model_module_version": "1.5.0",
            "_model_name": "HTMLModel",
            "_view_count": null,
            "_view_module": "@jupyter-widgets/controls",
            "_view_module_version": "1.5.0",
            "_view_name": "HTMLView",
            "description": "",
            "description_tooltip": null,
            "layout": "IPY_MODEL_d53792a4a10d409586623d0649e67468",
            "placeholder": "​",
            "style": "IPY_MODEL_3a8a2b1ee5f94ea698a864c4690a70e1",
            "value": "model.safetensors: 100%"
          }
        },
        "a0643fced004499f9969ae27f2a966da": {
          "model_module": "@jupyter-widgets/controls",
          "model_name": "FloatProgressModel",
          "model_module_version": "1.5.0",
          "state": {
            "_dom_classes": [],
            "_model_module": "@jupyter-widgets/controls",
            "_model_module_version": "1.5.0",
            "_model_name": "FloatProgressModel",
            "_view_count": null,
            "_view_module": "@jupyter-widgets/controls",
            "_view_module_version": "1.5.0",
            "_view_name": "ProgressView",
            "bar_style": "success",
            "description": "",
            "description_tooltip": null,
            "layout": "IPY_MODEL_7ca1b22747e047f7a9889f4553f25530",
            "max": 90870598,
            "min": 0,
            "orientation": "horizontal",
            "style": "IPY_MODEL_c41ca1367ff941da9e9277514f3c6c59",
            "value": 90870598
          }
        },
        "39f8bd1a85ba4f8fb22990e33834648b": {
          "model_module": "@jupyter-widgets/controls",
          "model_name": "HTMLModel",
          "model_module_version": "1.5.0",
          "state": {
            "_dom_classes": [],
            "_model_module": "@jupyter-widgets/controls",
            "_model_module_version": "1.5.0",
            "_model_name": "HTMLModel",
            "_view_count": null,
            "_view_module": "@jupyter-widgets/controls",
            "_view_module_version": "1.5.0",
            "_view_name": "HTMLView",
            "description": "",
            "description_tooltip": null,
            "layout": "IPY_MODEL_1aef2f8c09424be0bee4cd91e9791ce3",
            "placeholder": "​",
            "style": "IPY_MODEL_985febd796cd4c0f96c6c8dd47026aa6",
            "value": " 90.9M/90.9M [00:00&lt;00:00, 259MB/s]"
          }
        },
        "693c37caa13b4c39bf63d9485fd83fe4": {
          "model_module": "@jupyter-widgets/base",
          "model_name": "LayoutModel",
          "model_module_version": "1.2.0",
          "state": {
            "_model_module": "@jupyter-widgets/base",
            "_model_module_version": "1.2.0",
            "_model_name": "LayoutModel",
            "_view_count": null,
            "_view_module": "@jupyter-widgets/base",
            "_view_module_version": "1.2.0",
            "_view_name": "LayoutView",
            "align_content": null,
            "align_items": null,
            "align_self": null,
            "border": null,
            "bottom": null,
            "display": null,
            "flex": null,
            "flex_flow": null,
            "grid_area": null,
            "grid_auto_columns": null,
            "grid_auto_flow": null,
            "grid_auto_rows": null,
            "grid_column": null,
            "grid_gap": null,
            "grid_row": null,
            "grid_template_areas": null,
            "grid_template_columns": null,
            "grid_template_rows": null,
            "height": null,
            "justify_content": null,
            "justify_items": null,
            "left": null,
            "margin": null,
            "max_height": null,
            "max_width": null,
            "min_height": null,
            "min_width": null,
            "object_fit": null,
            "object_position": null,
            "order": null,
            "overflow": null,
            "overflow_x": null,
            "overflow_y": null,
            "padding": null,
            "right": null,
            "top": null,
            "visibility": null,
            "width": null
          }
        },
        "d53792a4a10d409586623d0649e67468": {
          "model_module": "@jupyter-widgets/base",
          "model_name": "LayoutModel",
          "model_module_version": "1.2.0",
          "state": {
            "_model_module": "@jupyter-widgets/base",
            "_model_module_version": "1.2.0",
            "_model_name": "LayoutModel",
            "_view_count": null,
            "_view_module": "@jupyter-widgets/base",
            "_view_module_version": "1.2.0",
            "_view_name": "LayoutView",
            "align_content": null,
            "align_items": null,
            "align_self": null,
            "border": null,
            "bottom": null,
            "display": null,
            "flex": null,
            "flex_flow": null,
            "grid_area": null,
            "grid_auto_columns": null,
            "grid_auto_flow": null,
            "grid_auto_rows": null,
            "grid_column": null,
            "grid_gap": null,
            "grid_row": null,
            "grid_template_areas": null,
            "grid_template_columns": null,
            "grid_template_rows": null,
            "height": null,
            "justify_content": null,
            "justify_items": null,
            "left": null,
            "margin": null,
            "max_height": null,
            "max_width": null,
            "min_height": null,
            "min_width": null,
            "object_fit": null,
            "object_position": null,
            "order": null,
            "overflow": null,
            "overflow_x": null,
            "overflow_y": null,
            "padding": null,
            "right": null,
            "top": null,
            "visibility": null,
            "width": null
          }
        },
        "3a8a2b1ee5f94ea698a864c4690a70e1": {
          "model_module": "@jupyter-widgets/controls",
          "model_name": "DescriptionStyleModel",
          "model_module_version": "1.5.0",
          "state": {
            "_model_module": "@jupyter-widgets/controls",
            "_model_module_version": "1.5.0",
            "_model_name": "DescriptionStyleModel",
            "_view_count": null,
            "_view_module": "@jupyter-widgets/base",
            "_view_module_version": "1.2.0",
            "_view_name": "StyleView",
            "description_width": ""
          }
        },
        "7ca1b22747e047f7a9889f4553f25530": {
          "model_module": "@jupyter-widgets/base",
          "model_name": "LayoutModel",
          "model_module_version": "1.2.0",
          "state": {
            "_model_module": "@jupyter-widgets/base",
            "_model_module_version": "1.2.0",
            "_model_name": "LayoutModel",
            "_view_count": null,
            "_view_module": "@jupyter-widgets/base",
            "_view_module_version": "1.2.0",
            "_view_name": "LayoutView",
            "align_content": null,
            "align_items": null,
            "align_self": null,
            "border": null,
            "bottom": null,
            "display": null,
            "flex": null,
            "flex_flow": null,
            "grid_area": null,
            "grid_auto_columns": null,
            "grid_auto_flow": null,
            "grid_auto_rows": null,
            "grid_column": null,
            "grid_gap": null,
            "grid_row": null,
            "grid_template_areas": null,
            "grid_template_columns": null,
            "grid_template_rows": null,
            "height": null,
            "justify_content": null,
            "justify_items": null,
            "left": null,
            "margin": null,
            "max_height": null,
            "max_width": null,
            "min_height": null,
            "min_width": null,
            "object_fit": null,
            "object_position": null,
            "order": null,
            "overflow": null,
            "overflow_x": null,
            "overflow_y": null,
            "padding": null,
            "right": null,
            "top": null,
            "visibility": null,
            "width": null
          }
        },
        "c41ca1367ff941da9e9277514f3c6c59": {
          "model_module": "@jupyter-widgets/controls",
          "model_name": "ProgressStyleModel",
          "model_module_version": "1.5.0",
          "state": {
            "_model_module": "@jupyter-widgets/controls",
            "_model_module_version": "1.5.0",
            "_model_name": "ProgressStyleModel",
            "_view_count": null,
            "_view_module": "@jupyter-widgets/base",
            "_view_module_version": "1.2.0",
            "_view_name": "StyleView",
            "bar_color": null,
            "description_width": ""
          }
        },
        "1aef2f8c09424be0bee4cd91e9791ce3": {
          "model_module": "@jupyter-widgets/base",
          "model_name": "LayoutModel",
          "model_module_version": "1.2.0",
          "state": {
            "_model_module": "@jupyter-widgets/base",
            "_model_module_version": "1.2.0",
            "_model_name": "LayoutModel",
            "_view_count": null,
            "_view_module": "@jupyter-widgets/base",
            "_view_module_version": "1.2.0",
            "_view_name": "LayoutView",
            "align_content": null,
            "align_items": null,
            "align_self": null,
            "border": null,
            "bottom": null,
            "display": null,
            "flex": null,
            "flex_flow": null,
            "grid_area": null,
            "grid_auto_columns": null,
            "grid_auto_flow": null,
            "grid_auto_rows": null,
            "grid_column": null,
            "grid_gap": null,
            "grid_row": null,
            "grid_template_areas": null,
            "grid_template_columns": null,
            "grid_template_rows": null,
            "height": null,
            "justify_content": null,
            "justify_items": null,
            "left": null,
            "margin": null,
            "max_height": null,
            "max_width": null,
            "min_height": null,
            "min_width": null,
            "object_fit": null,
            "object_position": null,
            "order": null,
            "overflow": null,
            "overflow_x": null,
            "overflow_y": null,
            "padding": null,
            "right": null,
            "top": null,
            "visibility": null,
            "width": null
          }
        },
        "985febd796cd4c0f96c6c8dd47026aa6": {
          "model_module": "@jupyter-widgets/controls",
          "model_name": "DescriptionStyleModel",
          "model_module_version": "1.5.0",
          "state": {
            "_model_module": "@jupyter-widgets/controls",
            "_model_module_version": "1.5.0",
            "_model_name": "DescriptionStyleModel",
            "_view_count": null,
            "_view_module": "@jupyter-widgets/base",
            "_view_module_version": "1.2.0",
            "_view_name": "StyleView",
            "description_width": ""
          }
        },
        "7834faa03da14e0ca45914f6b8278c59": {
          "model_module": "@jupyter-widgets/controls",
          "model_name": "HBoxModel",
          "model_module_version": "1.5.0",
          "state": {
            "_dom_classes": [],
            "_model_module": "@jupyter-widgets/controls",
            "_model_module_version": "1.5.0",
            "_model_name": "HBoxModel",
            "_view_count": null,
            "_view_module": "@jupyter-widgets/controls",
            "_view_module_version": "1.5.0",
            "_view_name": "HBoxView",
            "box_style": "",
            "children": [
              "IPY_MODEL_92e3b89d30514b4bae13c7533be4500c",
              "IPY_MODEL_998c8fea563c4d5c93f77573296fa2f7",
              "IPY_MODEL_8214346ba45b45bc80e118c879d9c659"
            ],
            "layout": "IPY_MODEL_931149cf09084f4e804b5c2d29480935"
          }
        },
        "92e3b89d30514b4bae13c7533be4500c": {
          "model_module": "@jupyter-widgets/controls",
          "model_name": "HTMLModel",
          "model_module_version": "1.5.0",
          "state": {
            "_dom_classes": [],
            "_model_module": "@jupyter-widgets/controls",
            "_model_module_version": "1.5.0",
            "_model_name": "HTMLModel",
            "_view_count": null,
            "_view_module": "@jupyter-widgets/controls",
            "_view_module_version": "1.5.0",
            "_view_name": "HTMLView",
            "description": "",
            "description_tooltip": null,
            "layout": "IPY_MODEL_6c34eccf919f4c96bd4cece391a77ec6",
            "placeholder": "​",
            "style": "IPY_MODEL_fd79e03fffbb43c6acfcfcbdbb8bc51d",
            "value": "tokenizer_config.json: 100%"
          }
        },
        "998c8fea563c4d5c93f77573296fa2f7": {
          "model_module": "@jupyter-widgets/controls",
          "model_name": "FloatProgressModel",
          "model_module_version": "1.5.0",
          "state": {
            "_dom_classes": [],
            "_model_module": "@jupyter-widgets/controls",
            "_model_module_version": "1.5.0",
            "_model_name": "FloatProgressModel",
            "_view_count": null,
            "_view_module": "@jupyter-widgets/controls",
            "_view_module_version": "1.5.0",
            "_view_name": "ProgressView",
            "bar_style": "success",
            "description": "",
            "description_tooltip": null,
            "layout": "IPY_MODEL_83b46f16b47b4380b2d2aa568cb91f44",
            "max": 1330,
            "min": 0,
            "orientation": "horizontal",
            "style": "IPY_MODEL_66b30248d7494ac8a61ce2fd509cc07d",
            "value": 1330
          }
        },
        "8214346ba45b45bc80e118c879d9c659": {
          "model_module": "@jupyter-widgets/controls",
          "model_name": "HTMLModel",
          "model_module_version": "1.5.0",
          "state": {
            "_dom_classes": [],
            "_model_module": "@jupyter-widgets/controls",
            "_model_module_version": "1.5.0",
            "_model_name": "HTMLModel",
            "_view_count": null,
            "_view_module": "@jupyter-widgets/controls",
            "_view_module_version": "1.5.0",
            "_view_name": "HTMLView",
            "description": "",
            "description_tooltip": null,
            "layout": "IPY_MODEL_fd89223c569940cf9bb907fdba91519f",
            "placeholder": "​",
            "style": "IPY_MODEL_13c750849ac64f73a43f35b7ed3dbfd3",
            "value": " 1.33k/1.33k [00:00&lt;00:00, 67.5kB/s]"
          }
        },
        "931149cf09084f4e804b5c2d29480935": {
          "model_module": "@jupyter-widgets/base",
          "model_name": "LayoutModel",
          "model_module_version": "1.2.0",
          "state": {
            "_model_module": "@jupyter-widgets/base",
            "_model_module_version": "1.2.0",
            "_model_name": "LayoutModel",
            "_view_count": null,
            "_view_module": "@jupyter-widgets/base",
            "_view_module_version": "1.2.0",
            "_view_name": "LayoutView",
            "align_content": null,
            "align_items": null,
            "align_self": null,
            "border": null,
            "bottom": null,
            "display": null,
            "flex": null,
            "flex_flow": null,
            "grid_area": null,
            "grid_auto_columns": null,
            "grid_auto_flow": null,
            "grid_auto_rows": null,
            "grid_column": null,
            "grid_gap": null,
            "grid_row": null,
            "grid_template_areas": null,
            "grid_template_columns": null,
            "grid_template_rows": null,
            "height": null,
            "justify_content": null,
            "justify_items": null,
            "left": null,
            "margin": null,
            "max_height": null,
            "max_width": null,
            "min_height": null,
            "min_width": null,
            "object_fit": null,
            "object_position": null,
            "order": null,
            "overflow": null,
            "overflow_x": null,
            "overflow_y": null,
            "padding": null,
            "right": null,
            "top": null,
            "visibility": null,
            "width": null
          }
        },
        "6c34eccf919f4c96bd4cece391a77ec6": {
          "model_module": "@jupyter-widgets/base",
          "model_name": "LayoutModel",
          "model_module_version": "1.2.0",
          "state": {
            "_model_module": "@jupyter-widgets/base",
            "_model_module_version": "1.2.0",
            "_model_name": "LayoutModel",
            "_view_count": null,
            "_view_module": "@jupyter-widgets/base",
            "_view_module_version": "1.2.0",
            "_view_name": "LayoutView",
            "align_content": null,
            "align_items": null,
            "align_self": null,
            "border": null,
            "bottom": null,
            "display": null,
            "flex": null,
            "flex_flow": null,
            "grid_area": null,
            "grid_auto_columns": null,
            "grid_auto_flow": null,
            "grid_auto_rows": null,
            "grid_column": null,
            "grid_gap": null,
            "grid_row": null,
            "grid_template_areas": null,
            "grid_template_columns": null,
            "grid_template_rows": null,
            "height": null,
            "justify_content": null,
            "justify_items": null,
            "left": null,
            "margin": null,
            "max_height": null,
            "max_width": null,
            "min_height": null,
            "min_width": null,
            "object_fit": null,
            "object_position": null,
            "order": null,
            "overflow": null,
            "overflow_x": null,
            "overflow_y": null,
            "padding": null,
            "right": null,
            "top": null,
            "visibility": null,
            "width": null
          }
        },
        "fd79e03fffbb43c6acfcfcbdbb8bc51d": {
          "model_module": "@jupyter-widgets/controls",
          "model_name": "DescriptionStyleModel",
          "model_module_version": "1.5.0",
          "state": {
            "_model_module": "@jupyter-widgets/controls",
            "_model_module_version": "1.5.0",
            "_model_name": "DescriptionStyleModel",
            "_view_count": null,
            "_view_module": "@jupyter-widgets/base",
            "_view_module_version": "1.2.0",
            "_view_name": "StyleView",
            "description_width": ""
          }
        },
        "83b46f16b47b4380b2d2aa568cb91f44": {
          "model_module": "@jupyter-widgets/base",
          "model_name": "LayoutModel",
          "model_module_version": "1.2.0",
          "state": {
            "_model_module": "@jupyter-widgets/base",
            "_model_module_version": "1.2.0",
            "_model_name": "LayoutModel",
            "_view_count": null,
            "_view_module": "@jupyter-widgets/base",
            "_view_module_version": "1.2.0",
            "_view_name": "LayoutView",
            "align_content": null,
            "align_items": null,
            "align_self": null,
            "border": null,
            "bottom": null,
            "display": null,
            "flex": null,
            "flex_flow": null,
            "grid_area": null,
            "grid_auto_columns": null,
            "grid_auto_flow": null,
            "grid_auto_rows": null,
            "grid_column": null,
            "grid_gap": null,
            "grid_row": null,
            "grid_template_areas": null,
            "grid_template_columns": null,
            "grid_template_rows": null,
            "height": null,
            "justify_content": null,
            "justify_items": null,
            "left": null,
            "margin": null,
            "max_height": null,
            "max_width": null,
            "min_height": null,
            "min_width": null,
            "object_fit": null,
            "object_position": null,
            "order": null,
            "overflow": null,
            "overflow_x": null,
            "overflow_y": null,
            "padding": null,
            "right": null,
            "top": null,
            "visibility": null,
            "width": null
          }
        },
        "66b30248d7494ac8a61ce2fd509cc07d": {
          "model_module": "@jupyter-widgets/controls",
          "model_name": "ProgressStyleModel",
          "model_module_version": "1.5.0",
          "state": {
            "_model_module": "@jupyter-widgets/controls",
            "_model_module_version": "1.5.0",
            "_model_name": "ProgressStyleModel",
            "_view_count": null,
            "_view_module": "@jupyter-widgets/base",
            "_view_module_version": "1.2.0",
            "_view_name": "StyleView",
            "bar_color": null,
            "description_width": ""
          }
        },
        "fd89223c569940cf9bb907fdba91519f": {
          "model_module": "@jupyter-widgets/base",
          "model_name": "LayoutModel",
          "model_module_version": "1.2.0",
          "state": {
            "_model_module": "@jupyter-widgets/base",
            "_model_module_version": "1.2.0",
            "_model_name": "LayoutModel",
            "_view_count": null,
            "_view_module": "@jupyter-widgets/base",
            "_view_module_version": "1.2.0",
            "_view_name": "LayoutView",
            "align_content": null,
            "align_items": null,
            "align_self": null,
            "border": null,
            "bottom": null,
            "display": null,
            "flex": null,
            "flex_flow": null,
            "grid_area": null,
            "grid_auto_columns": null,
            "grid_auto_flow": null,
            "grid_auto_rows": null,
            "grid_column": null,
            "grid_gap": null,
            "grid_row": null,
            "grid_template_areas": null,
            "grid_template_columns": null,
            "grid_template_rows": null,
            "height": null,
            "justify_content": null,
            "justify_items": null,
            "left": null,
            "margin": null,
            "max_height": null,
            "max_width": null,
            "min_height": null,
            "min_width": null,
            "object_fit": null,
            "object_position": null,
            "order": null,
            "overflow": null,
            "overflow_x": null,
            "overflow_y": null,
            "padding": null,
            "right": null,
            "top": null,
            "visibility": null,
            "width": null
          }
        },
        "13c750849ac64f73a43f35b7ed3dbfd3": {
          "model_module": "@jupyter-widgets/controls",
          "model_name": "DescriptionStyleModel",
          "model_module_version": "1.5.0",
          "state": {
            "_model_module": "@jupyter-widgets/controls",
            "_model_module_version": "1.5.0",
            "_model_name": "DescriptionStyleModel",
            "_view_count": null,
            "_view_module": "@jupyter-widgets/base",
            "_view_module_version": "1.2.0",
            "_view_name": "StyleView",
            "description_width": ""
          }
        },
        "2d15ff11ff364c93a5b9c36b0971d5ff": {
          "model_module": "@jupyter-widgets/controls",
          "model_name": "HBoxModel",
          "model_module_version": "1.5.0",
          "state": {
            "_dom_classes": [],
            "_model_module": "@jupyter-widgets/controls",
            "_model_module_version": "1.5.0",
            "_model_name": "HBoxModel",
            "_view_count": null,
            "_view_module": "@jupyter-widgets/controls",
            "_view_module_version": "1.5.0",
            "_view_name": "HBoxView",
            "box_style": "",
            "children": [
              "IPY_MODEL_5caf05e21c0e4cdb8e4c82e10024511e",
              "IPY_MODEL_b2008e4d4f844799bcf4f24b51f08de3",
              "IPY_MODEL_6587180dca154a1585d723fbbbfd1251"
            ],
            "layout": "IPY_MODEL_8b6c601990534b7896d04b23feef56f6"
          }
        },
        "5caf05e21c0e4cdb8e4c82e10024511e": {
          "model_module": "@jupyter-widgets/controls",
          "model_name": "HTMLModel",
          "model_module_version": "1.5.0",
          "state": {
            "_dom_classes": [],
            "_model_module": "@jupyter-widgets/controls",
            "_model_module_version": "1.5.0",
            "_model_name": "HTMLModel",
            "_view_count": null,
            "_view_module": "@jupyter-widgets/controls",
            "_view_module_version": "1.5.0",
            "_view_name": "HTMLView",
            "description": "",
            "description_tooltip": null,
            "layout": "IPY_MODEL_0724e9a0af9941d9a116a62060c79d3a",
            "placeholder": "​",
            "style": "IPY_MODEL_602d83d790924383a5beaf617ee4c936",
            "value": "vocab.txt: 100%"
          }
        },
        "b2008e4d4f844799bcf4f24b51f08de3": {
          "model_module": "@jupyter-widgets/controls",
          "model_name": "FloatProgressModel",
          "model_module_version": "1.5.0",
          "state": {
            "_dom_classes": [],
            "_model_module": "@jupyter-widgets/controls",
            "_model_module_version": "1.5.0",
            "_model_name": "FloatProgressModel",
            "_view_count": null,
            "_view_module": "@jupyter-widgets/controls",
            "_view_module_version": "1.5.0",
            "_view_name": "ProgressView",
            "bar_style": "success",
            "description": "",
            "description_tooltip": null,
            "layout": "IPY_MODEL_f5d8453b32f94419a5311d3ada95ceae",
            "max": 231508,
            "min": 0,
            "orientation": "horizontal",
            "style": "IPY_MODEL_38bd563c94344a88a2293f1449fc5306",
            "value": 231508
          }
        },
        "6587180dca154a1585d723fbbbfd1251": {
          "model_module": "@jupyter-widgets/controls",
          "model_name": "HTMLModel",
          "model_module_version": "1.5.0",
          "state": {
            "_dom_classes": [],
            "_model_module": "@jupyter-widgets/controls",
            "_model_module_version": "1.5.0",
            "_model_name": "HTMLModel",
            "_view_count": null,
            "_view_module": "@jupyter-widgets/controls",
            "_view_module_version": "1.5.0",
            "_view_name": "HTMLView",
            "description": "",
            "description_tooltip": null,
            "layout": "IPY_MODEL_eb550c57848b4facaf04b3f7a37fbd34",
            "placeholder": "​",
            "style": "IPY_MODEL_d787b60fcb574e5093644dc4364b8cb8",
            "value": " 232k/232k [00:00&lt;00:00, 1.33MB/s]"
          }
        },
        "8b6c601990534b7896d04b23feef56f6": {
          "model_module": "@jupyter-widgets/base",
          "model_name": "LayoutModel",
          "model_module_version": "1.2.0",
          "state": {
            "_model_module": "@jupyter-widgets/base",
            "_model_module_version": "1.2.0",
            "_model_name": "LayoutModel",
            "_view_count": null,
            "_view_module": "@jupyter-widgets/base",
            "_view_module_version": "1.2.0",
            "_view_name": "LayoutView",
            "align_content": null,
            "align_items": null,
            "align_self": null,
            "border": null,
            "bottom": null,
            "display": null,
            "flex": null,
            "flex_flow": null,
            "grid_area": null,
            "grid_auto_columns": null,
            "grid_auto_flow": null,
            "grid_auto_rows": null,
            "grid_column": null,
            "grid_gap": null,
            "grid_row": null,
            "grid_template_areas": null,
            "grid_template_columns": null,
            "grid_template_rows": null,
            "height": null,
            "justify_content": null,
            "justify_items": null,
            "left": null,
            "margin": null,
            "max_height": null,
            "max_width": null,
            "min_height": null,
            "min_width": null,
            "object_fit": null,
            "object_position": null,
            "order": null,
            "overflow": null,
            "overflow_x": null,
            "overflow_y": null,
            "padding": null,
            "right": null,
            "top": null,
            "visibility": null,
            "width": null
          }
        },
        "0724e9a0af9941d9a116a62060c79d3a": {
          "model_module": "@jupyter-widgets/base",
          "model_name": "LayoutModel",
          "model_module_version": "1.2.0",
          "state": {
            "_model_module": "@jupyter-widgets/base",
            "_model_module_version": "1.2.0",
            "_model_name": "LayoutModel",
            "_view_count": null,
            "_view_module": "@jupyter-widgets/base",
            "_view_module_version": "1.2.0",
            "_view_name": "LayoutView",
            "align_content": null,
            "align_items": null,
            "align_self": null,
            "border": null,
            "bottom": null,
            "display": null,
            "flex": null,
            "flex_flow": null,
            "grid_area": null,
            "grid_auto_columns": null,
            "grid_auto_flow": null,
            "grid_auto_rows": null,
            "grid_column": null,
            "grid_gap": null,
            "grid_row": null,
            "grid_template_areas": null,
            "grid_template_columns": null,
            "grid_template_rows": null,
            "height": null,
            "justify_content": null,
            "justify_items": null,
            "left": null,
            "margin": null,
            "max_height": null,
            "max_width": null,
            "min_height": null,
            "min_width": null,
            "object_fit": null,
            "object_position": null,
            "order": null,
            "overflow": null,
            "overflow_x": null,
            "overflow_y": null,
            "padding": null,
            "right": null,
            "top": null,
            "visibility": null,
            "width": null
          }
        },
        "602d83d790924383a5beaf617ee4c936": {
          "model_module": "@jupyter-widgets/controls",
          "model_name": "DescriptionStyleModel",
          "model_module_version": "1.5.0",
          "state": {
            "_model_module": "@jupyter-widgets/controls",
            "_model_module_version": "1.5.0",
            "_model_name": "DescriptionStyleModel",
            "_view_count": null,
            "_view_module": "@jupyter-widgets/base",
            "_view_module_version": "1.2.0",
            "_view_name": "StyleView",
            "description_width": ""
          }
        },
        "f5d8453b32f94419a5311d3ada95ceae": {
          "model_module": "@jupyter-widgets/base",
          "model_name": "LayoutModel",
          "model_module_version": "1.2.0",
          "state": {
            "_model_module": "@jupyter-widgets/base",
            "_model_module_version": "1.2.0",
            "_model_name": "LayoutModel",
            "_view_count": null,
            "_view_module": "@jupyter-widgets/base",
            "_view_module_version": "1.2.0",
            "_view_name": "LayoutView",
            "align_content": null,
            "align_items": null,
            "align_self": null,
            "border": null,
            "bottom": null,
            "display": null,
            "flex": null,
            "flex_flow": null,
            "grid_area": null,
            "grid_auto_columns": null,
            "grid_auto_flow": null,
            "grid_auto_rows": null,
            "grid_column": null,
            "grid_gap": null,
            "grid_row": null,
            "grid_template_areas": null,
            "grid_template_columns": null,
            "grid_template_rows": null,
            "height": null,
            "justify_content": null,
            "justify_items": null,
            "left": null,
            "margin": null,
            "max_height": null,
            "max_width": null,
            "min_height": null,
            "min_width": null,
            "object_fit": null,
            "object_position": null,
            "order": null,
            "overflow": null,
            "overflow_x": null,
            "overflow_y": null,
            "padding": null,
            "right": null,
            "top": null,
            "visibility": null,
            "width": null
          }
        },
        "38bd563c94344a88a2293f1449fc5306": {
          "model_module": "@jupyter-widgets/controls",
          "model_name": "ProgressStyleModel",
          "model_module_version": "1.5.0",
          "state": {
            "_model_module": "@jupyter-widgets/controls",
            "_model_module_version": "1.5.0",
            "_model_name": "ProgressStyleModel",
            "_view_count": null,
            "_view_module": "@jupyter-widgets/base",
            "_view_module_version": "1.2.0",
            "_view_name": "StyleView",
            "bar_color": null,
            "description_width": ""
          }
        },
        "eb550c57848b4facaf04b3f7a37fbd34": {
          "model_module": "@jupyter-widgets/base",
          "model_name": "LayoutModel",
          "model_module_version": "1.2.0",
          "state": {
            "_model_module": "@jupyter-widgets/base",
            "_model_module_version": "1.2.0",
            "_model_name": "LayoutModel",
            "_view_count": null,
            "_view_module": "@jupyter-widgets/base",
            "_view_module_version": "1.2.0",
            "_view_name": "LayoutView",
            "align_content": null,
            "align_items": null,
            "align_self": null,
            "border": null,
            "bottom": null,
            "display": null,
            "flex": null,
            "flex_flow": null,
            "grid_area": null,
            "grid_auto_columns": null,
            "grid_auto_flow": null,
            "grid_auto_rows": null,
            "grid_column": null,
            "grid_gap": null,
            "grid_row": null,
            "grid_template_areas": null,
            "grid_template_columns": null,
            "grid_template_rows": null,
            "height": null,
            "justify_content": null,
            "justify_items": null,
            "left": null,
            "margin": null,
            "max_height": null,
            "max_width": null,
            "min_height": null,
            "min_width": null,
            "object_fit": null,
            "object_position": null,
            "order": null,
            "overflow": null,
            "overflow_x": null,
            "overflow_y": null,
            "padding": null,
            "right": null,
            "top": null,
            "visibility": null,
            "width": null
          }
        },
        "d787b60fcb574e5093644dc4364b8cb8": {
          "model_module": "@jupyter-widgets/controls",
          "model_name": "DescriptionStyleModel",
          "model_module_version": "1.5.0",
          "state": {
            "_model_module": "@jupyter-widgets/controls",
            "_model_module_version": "1.5.0",
            "_model_name": "DescriptionStyleModel",
            "_view_count": null,
            "_view_module": "@jupyter-widgets/base",
            "_view_module_version": "1.2.0",
            "_view_name": "StyleView",
            "description_width": ""
          }
        },
        "a3e0d32b5bcd4d86b45d2f9e21e11f9f": {
          "model_module": "@jupyter-widgets/controls",
          "model_name": "HBoxModel",
          "model_module_version": "1.5.0",
          "state": {
            "_dom_classes": [],
            "_model_module": "@jupyter-widgets/controls",
            "_model_module_version": "1.5.0",
            "_model_name": "HBoxModel",
            "_view_count": null,
            "_view_module": "@jupyter-widgets/controls",
            "_view_module_version": "1.5.0",
            "_view_name": "HBoxView",
            "box_style": "",
            "children": [
              "IPY_MODEL_78594002ac21479bb113e742580c3327",
              "IPY_MODEL_7b051e656a8c4c32a03b5e998e65a35d",
              "IPY_MODEL_59238884fe5342f88b7493e90adb17d1"
            ],
            "layout": "IPY_MODEL_661f5075f97d49f2a6b3bbdf3082737a"
          }
        },
        "78594002ac21479bb113e742580c3327": {
          "model_module": "@jupyter-widgets/controls",
          "model_name": "HTMLModel",
          "model_module_version": "1.5.0",
          "state": {
            "_dom_classes": [],
            "_model_module": "@jupyter-widgets/controls",
            "_model_module_version": "1.5.0",
            "_model_name": "HTMLModel",
            "_view_count": null,
            "_view_module": "@jupyter-widgets/controls",
            "_view_module_version": "1.5.0",
            "_view_name": "HTMLView",
            "description": "",
            "description_tooltip": null,
            "layout": "IPY_MODEL_daf61732bc544549b6e7a7cb49fd3412",
            "placeholder": "​",
            "style": "IPY_MODEL_f28bc1d1a7d54a679726ed855fd6e02e",
            "value": "tokenizer.json: 100%"
          }
        },
        "7b051e656a8c4c32a03b5e998e65a35d": {
          "model_module": "@jupyter-widgets/controls",
          "model_name": "FloatProgressModel",
          "model_module_version": "1.5.0",
          "state": {
            "_dom_classes": [],
            "_model_module": "@jupyter-widgets/controls",
            "_model_module_version": "1.5.0",
            "_model_name": "FloatProgressModel",
            "_view_count": null,
            "_view_module": "@jupyter-widgets/controls",
            "_view_module_version": "1.5.0",
            "_view_name": "ProgressView",
            "bar_style": "success",
            "description": "",
            "description_tooltip": null,
            "layout": "IPY_MODEL_192a517a517c45a08f7be3ad0a340ca2",
            "max": 711396,
            "min": 0,
            "orientation": "horizontal",
            "style": "IPY_MODEL_14c775ed0f474fbaa3872d1f91108a84",
            "value": 711396
          }
        },
        "59238884fe5342f88b7493e90adb17d1": {
          "model_module": "@jupyter-widgets/controls",
          "model_name": "HTMLModel",
          "model_module_version": "1.5.0",
          "state": {
            "_dom_classes": [],
            "_model_module": "@jupyter-widgets/controls",
            "_model_module_version": "1.5.0",
            "_model_name": "HTMLModel",
            "_view_count": null,
            "_view_module": "@jupyter-widgets/controls",
            "_view_module_version": "1.5.0",
            "_view_name": "HTMLView",
            "description": "",
            "description_tooltip": null,
            "layout": "IPY_MODEL_b08ebb69ce664b0fb53eeec593f98697",
            "placeholder": "​",
            "style": "IPY_MODEL_9061e4345a6145e283d2e7ded11ae9dc",
            "value": " 711k/711k [00:00&lt;00:00, 3.86MB/s]"
          }
        },
        "661f5075f97d49f2a6b3bbdf3082737a": {
          "model_module": "@jupyter-widgets/base",
          "model_name": "LayoutModel",
          "model_module_version": "1.2.0",
          "state": {
            "_model_module": "@jupyter-widgets/base",
            "_model_module_version": "1.2.0",
            "_model_name": "LayoutModel",
            "_view_count": null,
            "_view_module": "@jupyter-widgets/base",
            "_view_module_version": "1.2.0",
            "_view_name": "LayoutView",
            "align_content": null,
            "align_items": null,
            "align_self": null,
            "border": null,
            "bottom": null,
            "display": null,
            "flex": null,
            "flex_flow": null,
            "grid_area": null,
            "grid_auto_columns": null,
            "grid_auto_flow": null,
            "grid_auto_rows": null,
            "grid_column": null,
            "grid_gap": null,
            "grid_row": null,
            "grid_template_areas": null,
            "grid_template_columns": null,
            "grid_template_rows": null,
            "height": null,
            "justify_content": null,
            "justify_items": null,
            "left": null,
            "margin": null,
            "max_height": null,
            "max_width": null,
            "min_height": null,
            "min_width": null,
            "object_fit": null,
            "object_position": null,
            "order": null,
            "overflow": null,
            "overflow_x": null,
            "overflow_y": null,
            "padding": null,
            "right": null,
            "top": null,
            "visibility": null,
            "width": null
          }
        },
        "daf61732bc544549b6e7a7cb49fd3412": {
          "model_module": "@jupyter-widgets/base",
          "model_name": "LayoutModel",
          "model_module_version": "1.2.0",
          "state": {
            "_model_module": "@jupyter-widgets/base",
            "_model_module_version": "1.2.0",
            "_model_name": "LayoutModel",
            "_view_count": null,
            "_view_module": "@jupyter-widgets/base",
            "_view_module_version": "1.2.0",
            "_view_name": "LayoutView",
            "align_content": null,
            "align_items": null,
            "align_self": null,
            "border": null,
            "bottom": null,
            "display": null,
            "flex": null,
            "flex_flow": null,
            "grid_area": null,
            "grid_auto_columns": null,
            "grid_auto_flow": null,
            "grid_auto_rows": null,
            "grid_column": null,
            "grid_gap": null,
            "grid_row": null,
            "grid_template_areas": null,
            "grid_template_columns": null,
            "grid_template_rows": null,
            "height": null,
            "justify_content": null,
            "justify_items": null,
            "left": null,
            "margin": null,
            "max_height": null,
            "max_width": null,
            "min_height": null,
            "min_width": null,
            "object_fit": null,
            "object_position": null,
            "order": null,
            "overflow": null,
            "overflow_x": null,
            "overflow_y": null,
            "padding": null,
            "right": null,
            "top": null,
            "visibility": null,
            "width": null
          }
        },
        "f28bc1d1a7d54a679726ed855fd6e02e": {
          "model_module": "@jupyter-widgets/controls",
          "model_name": "DescriptionStyleModel",
          "model_module_version": "1.5.0",
          "state": {
            "_model_module": "@jupyter-widgets/controls",
            "_model_module_version": "1.5.0",
            "_model_name": "DescriptionStyleModel",
            "_view_count": null,
            "_view_module": "@jupyter-widgets/base",
            "_view_module_version": "1.2.0",
            "_view_name": "StyleView",
            "description_width": ""
          }
        },
        "192a517a517c45a08f7be3ad0a340ca2": {
          "model_module": "@jupyter-widgets/base",
          "model_name": "LayoutModel",
          "model_module_version": "1.2.0",
          "state": {
            "_model_module": "@jupyter-widgets/base",
            "_model_module_version": "1.2.0",
            "_model_name": "LayoutModel",
            "_view_count": null,
            "_view_module": "@jupyter-widgets/base",
            "_view_module_version": "1.2.0",
            "_view_name": "LayoutView",
            "align_content": null,
            "align_items": null,
            "align_self": null,
            "border": null,
            "bottom": null,
            "display": null,
            "flex": null,
            "flex_flow": null,
            "grid_area": null,
            "grid_auto_columns": null,
            "grid_auto_flow": null,
            "grid_auto_rows": null,
            "grid_column": null,
            "grid_gap": null,
            "grid_row": null,
            "grid_template_areas": null,
            "grid_template_columns": null,
            "grid_template_rows": null,
            "height": null,
            "justify_content": null,
            "justify_items": null,
            "left": null,
            "margin": null,
            "max_height": null,
            "max_width": null,
            "min_height": null,
            "min_width": null,
            "object_fit": null,
            "object_position": null,
            "order": null,
            "overflow": null,
            "overflow_x": null,
            "overflow_y": null,
            "padding": null,
            "right": null,
            "top": null,
            "visibility": null,
            "width": null
          }
        },
        "14c775ed0f474fbaa3872d1f91108a84": {
          "model_module": "@jupyter-widgets/controls",
          "model_name": "ProgressStyleModel",
          "model_module_version": "1.5.0",
          "state": {
            "_model_module": "@jupyter-widgets/controls",
            "_model_module_version": "1.5.0",
            "_model_name": "ProgressStyleModel",
            "_view_count": null,
            "_view_module": "@jupyter-widgets/base",
            "_view_module_version": "1.2.0",
            "_view_name": "StyleView",
            "bar_color": null,
            "description_width": ""
          }
        },
        "b08ebb69ce664b0fb53eeec593f98697": {
          "model_module": "@jupyter-widgets/base",
          "model_name": "LayoutModel",
          "model_module_version": "1.2.0",
          "state": {
            "_model_module": "@jupyter-widgets/base",
            "_model_module_version": "1.2.0",
            "_model_name": "LayoutModel",
            "_view_count": null,
            "_view_module": "@jupyter-widgets/base",
            "_view_module_version": "1.2.0",
            "_view_name": "LayoutView",
            "align_content": null,
            "align_items": null,
            "align_self": null,
            "border": null,
            "bottom": null,
            "display": null,
            "flex": null,
            "flex_flow": null,
            "grid_area": null,
            "grid_auto_columns": null,
            "grid_auto_flow": null,
            "grid_auto_rows": null,
            "grid_column": null,
            "grid_gap": null,
            "grid_row": null,
            "grid_template_areas": null,
            "grid_template_columns": null,
            "grid_template_rows": null,
            "height": null,
            "justify_content": null,
            "justify_items": null,
            "left": null,
            "margin": null,
            "max_height": null,
            "max_width": null,
            "min_height": null,
            "min_width": null,
            "object_fit": null,
            "object_position": null,
            "order": null,
            "overflow": null,
            "overflow_x": null,
            "overflow_y": null,
            "padding": null,
            "right": null,
            "top": null,
            "visibility": null,
            "width": null
          }
        },
        "9061e4345a6145e283d2e7ded11ae9dc": {
          "model_module": "@jupyter-widgets/controls",
          "model_name": "DescriptionStyleModel",
          "model_module_version": "1.5.0",
          "state": {
            "_model_module": "@jupyter-widgets/controls",
            "_model_module_version": "1.5.0",
            "_model_name": "DescriptionStyleModel",
            "_view_count": null,
            "_view_module": "@jupyter-widgets/base",
            "_view_module_version": "1.2.0",
            "_view_name": "StyleView",
            "description_width": ""
          }
        },
        "f6d52feea934418da5082177dede84a3": {
          "model_module": "@jupyter-widgets/controls",
          "model_name": "HBoxModel",
          "model_module_version": "1.5.0",
          "state": {
            "_dom_classes": [],
            "_model_module": "@jupyter-widgets/controls",
            "_model_module_version": "1.5.0",
            "_model_name": "HBoxModel",
            "_view_count": null,
            "_view_module": "@jupyter-widgets/controls",
            "_view_module_version": "1.5.0",
            "_view_name": "HBoxView",
            "box_style": "",
            "children": [
              "IPY_MODEL_78b5b981e42e4aca97b928b5df5e89b0",
              "IPY_MODEL_378a575cfebb42f9a5609ede0646fe0f",
              "IPY_MODEL_62128703af1b423aa096f8b3dbc8d108"
            ],
            "layout": "IPY_MODEL_4a40e91e750042e8b231f6ceb6f5003e"
          }
        },
        "78b5b981e42e4aca97b928b5df5e89b0": {
          "model_module": "@jupyter-widgets/controls",
          "model_name": "HTMLModel",
          "model_module_version": "1.5.0",
          "state": {
            "_dom_classes": [],
            "_model_module": "@jupyter-widgets/controls",
            "_model_module_version": "1.5.0",
            "_model_name": "HTMLModel",
            "_view_count": null,
            "_view_module": "@jupyter-widgets/controls",
            "_view_module_version": "1.5.0",
            "_view_name": "HTMLView",
            "description": "",
            "description_tooltip": null,
            "layout": "IPY_MODEL_97724611d0414e08bfa8a4c2c70bcbb5",
            "placeholder": "​",
            "style": "IPY_MODEL_e535f06c9e614fc3b36b1ecaeb172ff6",
            "value": "special_tokens_map.json: 100%"
          }
        },
        "378a575cfebb42f9a5609ede0646fe0f": {
          "model_module": "@jupyter-widgets/controls",
          "model_name": "FloatProgressModel",
          "model_module_version": "1.5.0",
          "state": {
            "_dom_classes": [],
            "_model_module": "@jupyter-widgets/controls",
            "_model_module_version": "1.5.0",
            "_model_name": "FloatProgressModel",
            "_view_count": null,
            "_view_module": "@jupyter-widgets/controls",
            "_view_module_version": "1.5.0",
            "_view_name": "ProgressView",
            "bar_style": "success",
            "description": "",
            "description_tooltip": null,
            "layout": "IPY_MODEL_a3a8daeee50842ca9c75a509cda63504",
            "max": 132,
            "min": 0,
            "orientation": "horizontal",
            "style": "IPY_MODEL_5f6817f990da4e83b2df933eb922886b",
            "value": 132
          }
        },
        "62128703af1b423aa096f8b3dbc8d108": {
          "model_module": "@jupyter-widgets/controls",
          "model_name": "HTMLModel",
          "model_module_version": "1.5.0",
          "state": {
            "_dom_classes": [],
            "_model_module": "@jupyter-widgets/controls",
            "_model_module_version": "1.5.0",
            "_model_name": "HTMLModel",
            "_view_count": null,
            "_view_module": "@jupyter-widgets/controls",
            "_view_module_version": "1.5.0",
            "_view_name": "HTMLView",
            "description": "",
            "description_tooltip": null,
            "layout": "IPY_MODEL_8d5b1e986fce47aebf24177274812061",
            "placeholder": "​",
            "style": "IPY_MODEL_b83ab0420c714320a7136afca223ad5a",
            "value": " 132/132 [00:00&lt;00:00, 9.78kB/s]"
          }
        },
        "4a40e91e750042e8b231f6ceb6f5003e": {
          "model_module": "@jupyter-widgets/base",
          "model_name": "LayoutModel",
          "model_module_version": "1.2.0",
          "state": {
            "_model_module": "@jupyter-widgets/base",
            "_model_module_version": "1.2.0",
            "_model_name": "LayoutModel",
            "_view_count": null,
            "_view_module": "@jupyter-widgets/base",
            "_view_module_version": "1.2.0",
            "_view_name": "LayoutView",
            "align_content": null,
            "align_items": null,
            "align_self": null,
            "border": null,
            "bottom": null,
            "display": null,
            "flex": null,
            "flex_flow": null,
            "grid_area": null,
            "grid_auto_columns": null,
            "grid_auto_flow": null,
            "grid_auto_rows": null,
            "grid_column": null,
            "grid_gap": null,
            "grid_row": null,
            "grid_template_areas": null,
            "grid_template_columns": null,
            "grid_template_rows": null,
            "height": null,
            "justify_content": null,
            "justify_items": null,
            "left": null,
            "margin": null,
            "max_height": null,
            "max_width": null,
            "min_height": null,
            "min_width": null,
            "object_fit": null,
            "object_position": null,
            "order": null,
            "overflow": null,
            "overflow_x": null,
            "overflow_y": null,
            "padding": null,
            "right": null,
            "top": null,
            "visibility": null,
            "width": null
          }
        },
        "97724611d0414e08bfa8a4c2c70bcbb5": {
          "model_module": "@jupyter-widgets/base",
          "model_name": "LayoutModel",
          "model_module_version": "1.2.0",
          "state": {
            "_model_module": "@jupyter-widgets/base",
            "_model_module_version": "1.2.0",
            "_model_name": "LayoutModel",
            "_view_count": null,
            "_view_module": "@jupyter-widgets/base",
            "_view_module_version": "1.2.0",
            "_view_name": "LayoutView",
            "align_content": null,
            "align_items": null,
            "align_self": null,
            "border": null,
            "bottom": null,
            "display": null,
            "flex": null,
            "flex_flow": null,
            "grid_area": null,
            "grid_auto_columns": null,
            "grid_auto_flow": null,
            "grid_auto_rows": null,
            "grid_column": null,
            "grid_gap": null,
            "grid_row": null,
            "grid_template_areas": null,
            "grid_template_columns": null,
            "grid_template_rows": null,
            "height": null,
            "justify_content": null,
            "justify_items": null,
            "left": null,
            "margin": null,
            "max_height": null,
            "max_width": null,
            "min_height": null,
            "min_width": null,
            "object_fit": null,
            "object_position": null,
            "order": null,
            "overflow": null,
            "overflow_x": null,
            "overflow_y": null,
            "padding": null,
            "right": null,
            "top": null,
            "visibility": null,
            "width": null
          }
        },
        "e535f06c9e614fc3b36b1ecaeb172ff6": {
          "model_module": "@jupyter-widgets/controls",
          "model_name": "DescriptionStyleModel",
          "model_module_version": "1.5.0",
          "state": {
            "_model_module": "@jupyter-widgets/controls",
            "_model_module_version": "1.5.0",
            "_model_name": "DescriptionStyleModel",
            "_view_count": null,
            "_view_module": "@jupyter-widgets/base",
            "_view_module_version": "1.2.0",
            "_view_name": "StyleView",
            "description_width": ""
          }
        },
        "a3a8daeee50842ca9c75a509cda63504": {
          "model_module": "@jupyter-widgets/base",
          "model_name": "LayoutModel",
          "model_module_version": "1.2.0",
          "state": {
            "_model_module": "@jupyter-widgets/base",
            "_model_module_version": "1.2.0",
            "_model_name": "LayoutModel",
            "_view_count": null,
            "_view_module": "@jupyter-widgets/base",
            "_view_module_version": "1.2.0",
            "_view_name": "LayoutView",
            "align_content": null,
            "align_items": null,
            "align_self": null,
            "border": null,
            "bottom": null,
            "display": null,
            "flex": null,
            "flex_flow": null,
            "grid_area": null,
            "grid_auto_columns": null,
            "grid_auto_flow": null,
            "grid_auto_rows": null,
            "grid_column": null,
            "grid_gap": null,
            "grid_row": null,
            "grid_template_areas": null,
            "grid_template_columns": null,
            "grid_template_rows": null,
            "height": null,
            "justify_content": null,
            "justify_items": null,
            "left": null,
            "margin": null,
            "max_height": null,
            "max_width": null,
            "min_height": null,
            "min_width": null,
            "object_fit": null,
            "object_position": null,
            "order": null,
            "overflow": null,
            "overflow_x": null,
            "overflow_y": null,
            "padding": null,
            "right": null,
            "top": null,
            "visibility": null,
            "width": null
          }
        },
        "5f6817f990da4e83b2df933eb922886b": {
          "model_module": "@jupyter-widgets/controls",
          "model_name": "ProgressStyleModel",
          "model_module_version": "1.5.0",
          "state": {
            "_model_module": "@jupyter-widgets/controls",
            "_model_module_version": "1.5.0",
            "_model_name": "ProgressStyleModel",
            "_view_count": null,
            "_view_module": "@jupyter-widgets/base",
            "_view_module_version": "1.2.0",
            "_view_name": "StyleView",
            "bar_color": null,
            "description_width": ""
          }
        },
        "8d5b1e986fce47aebf24177274812061": {
          "model_module": "@jupyter-widgets/base",
          "model_name": "LayoutModel",
          "model_module_version": "1.2.0",
          "state": {
            "_model_module": "@jupyter-widgets/base",
            "_model_module_version": "1.2.0",
            "_model_name": "LayoutModel",
            "_view_count": null,
            "_view_module": "@jupyter-widgets/base",
            "_view_module_version": "1.2.0",
            "_view_name": "LayoutView",
            "align_content": null,
            "align_items": null,
            "align_self": null,
            "border": null,
            "bottom": null,
            "display": null,
            "flex": null,
            "flex_flow": null,
            "grid_area": null,
            "grid_auto_columns": null,
            "grid_auto_flow": null,
            "grid_auto_rows": null,
            "grid_column": null,
            "grid_gap": null,
            "grid_row": null,
            "grid_template_areas": null,
            "grid_template_columns": null,
            "grid_template_rows": null,
            "height": null,
            "justify_content": null,
            "justify_items": null,
            "left": null,
            "margin": null,
            "max_height": null,
            "max_width": null,
            "min_height": null,
            "min_width": null,
            "object_fit": null,
            "object_position": null,
            "order": null,
            "overflow": null,
            "overflow_x": null,
            "overflow_y": null,
            "padding": null,
            "right": null,
            "top": null,
            "visibility": null,
            "width": null
          }
        },
        "b83ab0420c714320a7136afca223ad5a": {
          "model_module": "@jupyter-widgets/controls",
          "model_name": "DescriptionStyleModel",
          "model_module_version": "1.5.0",
          "state": {
            "_model_module": "@jupyter-widgets/controls",
            "_model_module_version": "1.5.0",
            "_model_name": "DescriptionStyleModel",
            "_view_count": null,
            "_view_module": "@jupyter-widgets/base",
            "_view_module_version": "1.2.0",
            "_view_name": "StyleView",
            "description_width": ""
          }
        },
        "144a80a7c8d14bb597bef0ed990b952b": {
          "model_module": "@jupyter-widgets/controls",
          "model_name": "HBoxModel",
          "model_module_version": "1.5.0",
          "state": {
            "_dom_classes": [],
            "_model_module": "@jupyter-widgets/controls",
            "_model_module_version": "1.5.0",
            "_model_name": "HBoxModel",
            "_view_count": null,
            "_view_module": "@jupyter-widgets/controls",
            "_view_module_version": "1.5.0",
            "_view_name": "HBoxView",
            "box_style": "",
            "children": [
              "IPY_MODEL_e5bd804227324c89a557ca7ea668a049",
              "IPY_MODEL_612cbf79baed47e6a57f55f6d334314b",
              "IPY_MODEL_0bcac9f55940403aa34085b87cd1dce8"
            ],
            "layout": "IPY_MODEL_935ca1c3c68a4cbdb1eb43f1df92da3f"
          }
        },
        "e5bd804227324c89a557ca7ea668a049": {
          "model_module": "@jupyter-widgets/controls",
          "model_name": "HTMLModel",
          "model_module_version": "1.5.0",
          "state": {
            "_dom_classes": [],
            "_model_module": "@jupyter-widgets/controls",
            "_model_module_version": "1.5.0",
            "_model_name": "HTMLModel",
            "_view_count": null,
            "_view_module": "@jupyter-widgets/controls",
            "_view_module_version": "1.5.0",
            "_view_name": "HTMLView",
            "description": "",
            "description_tooltip": null,
            "layout": "IPY_MODEL_997c02b298b84953bdf6ff5317fca9e1",
            "placeholder": "​",
            "style": "IPY_MODEL_f5d9ecb5037f4e26a69849036e54e1a4",
            "value": "README.md: 100%"
          }
        },
        "612cbf79baed47e6a57f55f6d334314b": {
          "model_module": "@jupyter-widgets/controls",
          "model_name": "FloatProgressModel",
          "model_module_version": "1.5.0",
          "state": {
            "_dom_classes": [],
            "_model_module": "@jupyter-widgets/controls",
            "_model_module_version": "1.5.0",
            "_model_name": "FloatProgressModel",
            "_view_count": null,
            "_view_module": "@jupyter-widgets/controls",
            "_view_module_version": "1.5.0",
            "_view_name": "ProgressView",
            "bar_style": "success",
            "description": "",
            "description_tooltip": null,
            "layout": "IPY_MODEL_3e5e9857aa9c4cbe8adb4e1d38230cd4",
            "max": 3659,
            "min": 0,
            "orientation": "horizontal",
            "style": "IPY_MODEL_d1b5ae444b3c4ab7a4025b848f791de7",
            "value": 3659
          }
        },
        "0bcac9f55940403aa34085b87cd1dce8": {
          "model_module": "@jupyter-widgets/controls",
          "model_name": "HTMLModel",
          "model_module_version": "1.5.0",
          "state": {
            "_dom_classes": [],
            "_model_module": "@jupyter-widgets/controls",
            "_model_module_version": "1.5.0",
            "_model_name": "HTMLModel",
            "_view_count": null,
            "_view_module": "@jupyter-widgets/controls",
            "_view_module_version": "1.5.0",
            "_view_name": "HTMLView",
            "description": "",
            "description_tooltip": null,
            "layout": "IPY_MODEL_c8001f66029848d7805e0f015d59927e",
            "placeholder": "​",
            "style": "IPY_MODEL_0bfc141c62a94ae5be9e9adf0835b5f4",
            "value": " 3.66k/3.66k [00:00&lt;00:00, 282kB/s]"
          }
        },
        "935ca1c3c68a4cbdb1eb43f1df92da3f": {
          "model_module": "@jupyter-widgets/base",
          "model_name": "LayoutModel",
          "model_module_version": "1.2.0",
          "state": {
            "_model_module": "@jupyter-widgets/base",
            "_model_module_version": "1.2.0",
            "_model_name": "LayoutModel",
            "_view_count": null,
            "_view_module": "@jupyter-widgets/base",
            "_view_module_version": "1.2.0",
            "_view_name": "LayoutView",
            "align_content": null,
            "align_items": null,
            "align_self": null,
            "border": null,
            "bottom": null,
            "display": null,
            "flex": null,
            "flex_flow": null,
            "grid_area": null,
            "grid_auto_columns": null,
            "grid_auto_flow": null,
            "grid_auto_rows": null,
            "grid_column": null,
            "grid_gap": null,
            "grid_row": null,
            "grid_template_areas": null,
            "grid_template_columns": null,
            "grid_template_rows": null,
            "height": null,
            "justify_content": null,
            "justify_items": null,
            "left": null,
            "margin": null,
            "max_height": null,
            "max_width": null,
            "min_height": null,
            "min_width": null,
            "object_fit": null,
            "object_position": null,
            "order": null,
            "overflow": null,
            "overflow_x": null,
            "overflow_y": null,
            "padding": null,
            "right": null,
            "top": null,
            "visibility": null,
            "width": null
          }
        },
        "997c02b298b84953bdf6ff5317fca9e1": {
          "model_module": "@jupyter-widgets/base",
          "model_name": "LayoutModel",
          "model_module_version": "1.2.0",
          "state": {
            "_model_module": "@jupyter-widgets/base",
            "_model_module_version": "1.2.0",
            "_model_name": "LayoutModel",
            "_view_count": null,
            "_view_module": "@jupyter-widgets/base",
            "_view_module_version": "1.2.0",
            "_view_name": "LayoutView",
            "align_content": null,
            "align_items": null,
            "align_self": null,
            "border": null,
            "bottom": null,
            "display": null,
            "flex": null,
            "flex_flow": null,
            "grid_area": null,
            "grid_auto_columns": null,
            "grid_auto_flow": null,
            "grid_auto_rows": null,
            "grid_column": null,
            "grid_gap": null,
            "grid_row": null,
            "grid_template_areas": null,
            "grid_template_columns": null,
            "grid_template_rows": null,
            "height": null,
            "justify_content": null,
            "justify_items": null,
            "left": null,
            "margin": null,
            "max_height": null,
            "max_width": null,
            "min_height": null,
            "min_width": null,
            "object_fit": null,
            "object_position": null,
            "order": null,
            "overflow": null,
            "overflow_x": null,
            "overflow_y": null,
            "padding": null,
            "right": null,
            "top": null,
            "visibility": null,
            "width": null
          }
        },
        "f5d9ecb5037f4e26a69849036e54e1a4": {
          "model_module": "@jupyter-widgets/controls",
          "model_name": "DescriptionStyleModel",
          "model_module_version": "1.5.0",
          "state": {
            "_model_module": "@jupyter-widgets/controls",
            "_model_module_version": "1.5.0",
            "_model_name": "DescriptionStyleModel",
            "_view_count": null,
            "_view_module": "@jupyter-widgets/base",
            "_view_module_version": "1.2.0",
            "_view_name": "StyleView",
            "description_width": ""
          }
        },
        "3e5e9857aa9c4cbe8adb4e1d38230cd4": {
          "model_module": "@jupyter-widgets/base",
          "model_name": "LayoutModel",
          "model_module_version": "1.2.0",
          "state": {
            "_model_module": "@jupyter-widgets/base",
            "_model_module_version": "1.2.0",
            "_model_name": "LayoutModel",
            "_view_count": null,
            "_view_module": "@jupyter-widgets/base",
            "_view_module_version": "1.2.0",
            "_view_name": "LayoutView",
            "align_content": null,
            "align_items": null,
            "align_self": null,
            "border": null,
            "bottom": null,
            "display": null,
            "flex": null,
            "flex_flow": null,
            "grid_area": null,
            "grid_auto_columns": null,
            "grid_auto_flow": null,
            "grid_auto_rows": null,
            "grid_column": null,
            "grid_gap": null,
            "grid_row": null,
            "grid_template_areas": null,
            "grid_template_columns": null,
            "grid_template_rows": null,
            "height": null,
            "justify_content": null,
            "justify_items": null,
            "left": null,
            "margin": null,
            "max_height": null,
            "max_width": null,
            "min_height": null,
            "min_width": null,
            "object_fit": null,
            "object_position": null,
            "order": null,
            "overflow": null,
            "overflow_x": null,
            "overflow_y": null,
            "padding": null,
            "right": null,
            "top": null,
            "visibility": null,
            "width": null
          }
        },
        "d1b5ae444b3c4ab7a4025b848f791de7": {
          "model_module": "@jupyter-widgets/controls",
          "model_name": "ProgressStyleModel",
          "model_module_version": "1.5.0",
          "state": {
            "_model_module": "@jupyter-widgets/controls",
            "_model_module_version": "1.5.0",
            "_model_name": "ProgressStyleModel",
            "_view_count": null,
            "_view_module": "@jupyter-widgets/base",
            "_view_module_version": "1.2.0",
            "_view_name": "StyleView",
            "bar_color": null,
            "description_width": ""
          }
        },
        "c8001f66029848d7805e0f015d59927e": {
          "model_module": "@jupyter-widgets/base",
          "model_name": "LayoutModel",
          "model_module_version": "1.2.0",
          "state": {
            "_model_module": "@jupyter-widgets/base",
            "_model_module_version": "1.2.0",
            "_model_name": "LayoutModel",
            "_view_count": null,
            "_view_module": "@jupyter-widgets/base",
            "_view_module_version": "1.2.0",
            "_view_name": "LayoutView",
            "align_content": null,
            "align_items": null,
            "align_self": null,
            "border": null,
            "bottom": null,
            "display": null,
            "flex": null,
            "flex_flow": null,
            "grid_area": null,
            "grid_auto_columns": null,
            "grid_auto_flow": null,
            "grid_auto_rows": null,
            "grid_column": null,
            "grid_gap": null,
            "grid_row": null,
            "grid_template_areas": null,
            "grid_template_columns": null,
            "grid_template_rows": null,
            "height": null,
            "justify_content": null,
            "justify_items": null,
            "left": null,
            "margin": null,
            "max_height": null,
            "max_width": null,
            "min_height": null,
            "min_width": null,
            "object_fit": null,
            "object_position": null,
            "order": null,
            "overflow": null,
            "overflow_x": null,
            "overflow_y": null,
            "padding": null,
            "right": null,
            "top": null,
            "visibility": null,
            "width": null
          }
        },
        "0bfc141c62a94ae5be9e9adf0835b5f4": {
          "model_module": "@jupyter-widgets/controls",
          "model_name": "DescriptionStyleModel",
          "model_module_version": "1.5.0",
          "state": {
            "_model_module": "@jupyter-widgets/controls",
            "_model_module_version": "1.5.0",
            "_model_name": "DescriptionStyleModel",
            "_view_count": null,
            "_view_module": "@jupyter-widgets/base",
            "_view_module_version": "1.2.0",
            "_view_name": "StyleView",
            "description_width": ""
          }
        }
      }
    }
  },
  "nbformat": 4,
  "nbformat_minor": 5
}