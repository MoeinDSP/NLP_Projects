{
  "cells": [
    {
      "cell_type": "markdown",
      "metadata": {
        "id": "view-in-github",
        "colab_type": "text"
      },
      "source": [
        "<a href=\"https://colab.research.google.com/github/MoeinDSP/NLP_Projects/blob/main/Word%20Embeddings/05_Word_Embeddings.ipynb\" target=\"_parent\"><img src=\"https://colab.research.google.com/assets/colab-badge.svg\" alt=\"Open In Colab\"/></a>"
      ]
    },
    {
      "cell_type": "markdown",
      "metadata": {
        "id": "auM3jLkGYHk5"
      },
      "source": [
        "# Word Embeddings\n",
        "\n",
        "In this session we will make use of Word2Vec to learn distributed representations of words based on the context within which they appear in sentences."
      ]
    },
    {
      "cell_type": "markdown",
      "metadata": {
        "id": "sHv1LsPley3G"
      },
      "source": [
        "**Optional for Colab users**\n",
        "\n",
        "Before starting, we can set up the connection with the Google Dive storage, to keep there our documents.\n",
        "Just execute the following passages:"
      ]
    },
    {
      "cell_type": "code",
      "execution_count": 29,
      "metadata": {
        "id": "UIa6j0dXey3H",
        "colab": {
          "base_uri": "https://localhost:8080/"
        },
        "outputId": "3e3f6d50-0f47-47f9-89e7-ecb486b1e2f4"
      },
      "outputs": [
        {
          "output_type": "stream",
          "name": "stdout",
          "text": [
            "Drive already mounted at /content/drive; to attempt to forcibly remount, call drive.mount(\"/content/drive\", force_remount=True).\n"
          ]
        }
      ],
      "source": [
        "from google.colab import drive\n",
        "drive.mount('/content/drive')"
      ]
    },
    {
      "cell_type": "markdown",
      "metadata": {
        "id": "L6nd2Gsmey3I"
      },
      "source": [
        "Make sure that the variable path contains the correct sequence of folders separate by a `'/'` to get to your lecture files"
      ]
    },
    {
      "cell_type": "code",
      "execution_count": null,
      "metadata": {
        "id": "5PqaF2l7ey3J",
        "colab": {
          "base_uri": "https://localhost:8080/",
          "height": 36
        },
        "outputId": "af119eda-26c3-46e0-827b-cc2bd591d46f"
      },
      "outputs": [
        {
          "output_type": "execute_result",
          "data": {
            "text/plain": [
              "'/content/drive/MyDrive/Practical_05__Word-Embeddings'"
            ],
            "application/vnd.google.colaboratory.intrinsic+json": {
              "type": "string"
            }
          },
          "metadata": {},
          "execution_count": 3
        }
      ],
      "source": [
        "import os\n",
        "\n",
        "path = '/content/drive/MyDrive/Practical_05__Word-Embeddings'\n",
        "\n",
        "os.chdir(f'{path}')\n",
        "os.getcwd()"
      ]
    },
    {
      "cell_type": "markdown",
      "metadata": {
        "id": "DPtKB1FNYHlH"
      },
      "source": [
        "## Learning word embeddings\n",
        "\n",
        "We'll first try to learn word embeddings using the Word2Vec implementation provided by the gensim package.\n",
        "- Information on gensim's word2vec implementation is available here: https://radimrehurek.com/gensim/models/word2vec.html\n",
        "- First install the package using pip:"
      ]
    },
    {
      "cell_type": "code",
      "execution_count": null,
      "metadata": {
        "id": "TmJqt2NRYHlH",
        "colab": {
          "base_uri": "https://localhost:8080/"
        },
        "outputId": "7ab36b3e-518a-4231-f343-e3823fa334a1"
      },
      "outputs": [
        {
          "output_type": "stream",
          "name": "stdout",
          "text": [
            "Collecting gensim\n",
            "  Downloading gensim-4.3.3-cp311-cp311-manylinux_2_17_x86_64.manylinux2014_x86_64.whl.metadata (8.1 kB)\n",
            "Requirement already satisfied: numpy<2.0,>=1.18.5 in /usr/local/lib/python3.11/dist-packages (from gensim) (1.26.4)\n",
            "Collecting scipy<1.14.0,>=1.7.0 (from gensim)\n",
            "  Downloading scipy-1.13.1-cp311-cp311-manylinux_2_17_x86_64.manylinux2014_x86_64.whl.metadata (60 kB)\n",
            "\u001b[2K     \u001b[90m━━━━━━━━━━━━━━━━━━━━━━━━━━━━━━━━━━━━━━━━\u001b[0m \u001b[32m60.6/60.6 kB\u001b[0m \u001b[31m2.2 MB/s\u001b[0m eta \u001b[36m0:00:00\u001b[0m\n",
            "\u001b[?25hRequirement already satisfied: smart-open>=1.8.1 in /usr/local/lib/python3.11/dist-packages (from gensim) (7.1.0)\n",
            "Requirement already satisfied: wrapt in /usr/local/lib/python3.11/dist-packages (from smart-open>=1.8.1->gensim) (1.17.2)\n",
            "Downloading gensim-4.3.3-cp311-cp311-manylinux_2_17_x86_64.manylinux2014_x86_64.whl (26.7 MB)\n",
            "\u001b[2K   \u001b[90m━━━━━━━━━━━━━━━━━━━━━━━━━━━━━━━━━━━━━━━━\u001b[0m \u001b[32m26.7/26.7 MB\u001b[0m \u001b[31m40.0 MB/s\u001b[0m eta \u001b[36m0:00:00\u001b[0m\n",
            "\u001b[?25hDownloading scipy-1.13.1-cp311-cp311-manylinux_2_17_x86_64.manylinux2014_x86_64.whl (38.6 MB)\n",
            "\u001b[2K   \u001b[90m━━━━━━━━━━━━━━━━━━━━━━━━━━━━━━━━━━━━━━━━\u001b[0m \u001b[32m38.6/38.6 MB\u001b[0m \u001b[31m17.6 MB/s\u001b[0m eta \u001b[36m0:00:00\u001b[0m\n",
            "\u001b[?25hInstalling collected packages: scipy, gensim\n",
            "  Attempting uninstall: scipy\n",
            "    Found existing installation: scipy 1.14.1\n",
            "    Uninstalling scipy-1.14.1:\n",
            "      Successfully uninstalled scipy-1.14.1\n",
            "Successfully installed gensim-4.3.3 scipy-1.13.1\n"
          ]
        }
      ],
      "source": [
        "!pip install --upgrade gensim"
      ]
    },
    {
      "cell_type": "markdown",
      "metadata": {
        "id": "KdrV0qU6YHlH"
      },
      "source": [
        "We will build a Word2Vec embedding using the 20 Newsgroup data:"
      ]
    },
    {
      "cell_type": "code",
      "execution_count": null,
      "metadata": {
        "id": "v_erNR7XIrDh"
      },
      "outputs": [],
      "source": [
        "from sklearn.datasets import fetch_20newsgroups\n",
        "\n",
        "dataset_train = fetch_20newsgroups(subset='train', remove=('headers', 'footers', 'quotes'))\n",
        "dataset_test = fetch_20newsgroups(subset='test', remove=('headers', 'footers', 'quotes'))"
      ]
    },
    {
      "cell_type": "markdown",
      "metadata": {
        "id": "qTTluJ3TYHlH"
      },
      "source": [
        "In order to train Word2Vec on the data we first need to convert it to the right format.\n",
        "- For training Word2Vec, it is usual to **separate data into individual sentences** and then tokenize those sentences separately\n",
        "- So let's use regular expressions to remove the end-of-line characters from each document and then split the documents into sentences using a regular expression that looks for question marks, exclamation marks, and periods, followed by a space:"
      ]
    },
    {
      "cell_type": "code",
      "execution_count": null,
      "metadata": {
        "id": "_jCPB46UYHlH",
        "colab": {
          "base_uri": "https://localhost:8080/"
        },
        "outputId": "65f713c7-b095-450c-8273-742fc19ba193"
      },
      "outputs": [
        {
          "output_type": "execute_result",
          "data": {
            "text/plain": [
              "[['I was wondering if anyone out there could enlighten me on this car I saw the other day',\n",
              "  'It was a 2-door sports car, looked to be from the late 60s/ early 70s',\n",
              "  'It was called a Bricklin',\n",
              "  'The doors were really small',\n",
              "  'In addition, the front bumper was separate from the rest of the body',\n",
              "  'This is  all I know',\n",
              "  'If anyone can tellme a model name, engine specs, years of production, where this car is made, history, or whatever info you have on this funky looking car, please e-mail.'],\n",
              " ['A fair number of brave souls who upgraded their SI clock oscillator have shared their experiences for this poll',\n",
              "  'Please send a brief message detailing your experiences with the procedure',\n",
              "  'Top speed attained, CPU rated speed, add on cards and adapters, heat sinks, hour of usage per day, floppy disk functionality with 800 and 1.4 m floppies are especially requested',\n",
              "  \" I will be summarizing in the next two days, so please add to the network knowledge base if you have done the clock upgrade and haven't answered this poll\",\n",
              "  'Thanks.'],\n",
              " ['well folks, my mac plus finally gave up the ghost this weekend after starting life as a 512k way back in 1985',\n",
              "  \" sooo, i'm in the market for a new machine a bit sooner than i intended to be..\",\n",
              "  \" i'm looking into picking up a powerbook 160 or maybe 180 and have a bunch of questions that (hopefully) somebody can answer:  * does anybody know any dirt on when the next round of powerbook introductions are expected\",\n",
              "  ' i\\'d heard the 185c was supposed to make an appearence \"this summer\" but haven\\'t heard anymore on it - and since i don\\'t have access to macleak, i was wondering if anybody out there had more info..',\n",
              "  \" * has anybody heard rumors about price drops to the powerbook line like the ones the duo's just went through recently\",\n",
              "  \" * what's the impression of the display on the 180\",\n",
              "  ' i could probably swing a 180 if i got the 80Mb disk rather than the 120, but i don\\'t really have a feel for how much \"better\" the display is (yea, it looks great in the store, but is that all \"wow\" or is it really that good?)',\n",
              "  ' could i solicit some opinions of people who use the 160 and 180 day-to-day on if its worth taking the disk size and money hit to get the active display',\n",
              "  \" (i realize this is a real subjective question, but i've only played around with the machines in a computer store breifly and figured the opinions of somebody who actually uses the machine daily might prove helpful)\",\n",
              "  ' * how well does hellcats perform',\n",
              "  \" ;)  thanks a bunch in advance for any info - if you could email, i'll post a summary (news reading time is at a premium with finals just around the corner..\",\n",
              "  ':( ) -- Tom Willis  \\\\      \\\\    Purdue Electrical Engineering']]"
            ]
          },
          "metadata": {},
          "execution_count": 6
        }
      ],
      "source": [
        "import re\n",
        "\n",
        "# remove newline characters\n",
        "docs = [re.sub('\\n', ' ', doc) for doc in dataset_train.data]\n",
        "# remove email addresses\n",
        "docs = [re.sub('[a-zA-Z0-9._%+-]+@[a-zA-Z0-9.-]+\\.[a-zA-Z]{2,}', '', doc) for doc in docs]\n",
        "# split sentences\n",
        "sentences = [re.split('[?!.]\\s', doc) for doc in docs]\n",
        "sentences[:3]"
      ]
    },
    {
      "cell_type": "markdown",
      "metadata": {
        "id": "FIucFhmVYHlI"
      },
      "source": [
        "Above, we've printed out the first two documents, which have been split into arrays of sentences.\n",
        "- We'll need to flatten the structure into one big array of sentences (remove the distinction between documents) before providing it to Word2Vec.\n",
        "- We can do that using the flatten command from the pandas library:"
      ]
    },
    {
      "cell_type": "code",
      "execution_count": null,
      "metadata": {
        "id": "HB2YTCX1YHlI",
        "colab": {
          "base_uri": "https://localhost:8080/"
        },
        "outputId": "53913b83-fd26-478c-9035-d82daf6c34fa"
      },
      "outputs": [
        {
          "output_type": "execute_result",
          "data": {
            "text/plain": [
              "['I was wondering if anyone out there could enlighten me on this car I saw the other day',\n",
              " 'It was a 2-door sports car, looked to be from the late 60s/ early 70s',\n",
              " 'It was called a Bricklin',\n",
              " 'The doors were really small',\n",
              " 'In addition, the front bumper was separate from the rest of the body',\n",
              " 'This is  all I know',\n",
              " 'If anyone can tellme a model name, engine specs, years of production, where this car is made, history, or whatever info you have on this funky looking car, please e-mail.',\n",
              " 'A fair number of brave souls who upgraded their SI clock oscillator have shared their experiences for this poll',\n",
              " 'Please send a brief message detailing your experiences with the procedure',\n",
              " 'Top speed attained, CPU rated speed, add on cards and adapters, heat sinks, hour of usage per day, floppy disk functionality with 800 and 1.4 m floppies are especially requested',\n",
              " \" I will be summarizing in the next two days, so please add to the network knowledge base if you have done the clock upgrade and haven't answered this poll\",\n",
              " 'Thanks.',\n",
              " 'well folks, my mac plus finally gave up the ghost this weekend after starting life as a 512k way back in 1985',\n",
              " \" sooo, i'm in the market for a new machine a bit sooner than i intended to be..\",\n",
              " \" i'm looking into picking up a powerbook 160 or maybe 180 and have a bunch of questions that (hopefully) somebody can answer:  * does anybody know any dirt on when the next round of powerbook introductions are expected\",\n",
              " ' i\\'d heard the 185c was supposed to make an appearence \"this summer\" but haven\\'t heard anymore on it - and since i don\\'t have access to macleak, i was wondering if anybody out there had more info..',\n",
              " \" * has anybody heard rumors about price drops to the powerbook line like the ones the duo's just went through recently\",\n",
              " \" * what's the impression of the display on the 180\",\n",
              " ' i could probably swing a 180 if i got the 80Mb disk rather than the 120, but i don\\'t really have a feel for how much \"better\" the display is (yea, it looks great in the store, but is that all \"wow\" or is it really that good?)',\n",
              " ' could i solicit some opinions of people who use the 160 and 180 day-to-day on if its worth taking the disk size and money hit to get the active display']"
            ]
          },
          "metadata": {},
          "execution_count": 7
        }
      ],
      "source": [
        "from pandas.core.common import flatten\n",
        "\n",
        "sentences = list(flatten(sentences))\n",
        "sentences[:20]"
      ]
    },
    {
      "cell_type": "markdown",
      "metadata": {
        "id": "OAQ0LlmEYHlI"
      },
      "source": [
        "Now we can proceed to do some cleaning of the data:\n",
        "- remove non-letter characters from each sentence\n",
        "- lowercase\n",
        "- tokenize the sentences based on whitespace\n",
        "- remove any sentence with length less than 2 since it won't be useful for training Word2Vec."
      ]
    },
    {
      "cell_type": "code",
      "execution_count": null,
      "metadata": {
        "id": "kgpm3IvQYHlI",
        "colab": {
          "base_uri": "https://localhost:8080/"
        },
        "outputId": "75463782-b6e6-4b4c-a565-3fae3cdcf761"
      },
      "outputs": [
        {
          "output_type": "stream",
          "name": "stdout",
          "text": [
            "['i', 'was', 'wondering', 'if', 'anyone', 'out', 'there', 'could', 'enlighten', 'me', 'on', 'this', 'car', 'i', 'saw', 'the', 'other', 'day']\n",
            "['it', 'was', 'a', '2', 'door', 'sports', 'car', 'looked', 'to', 'be', 'from', 'the', 'late', '60s', 'early', '70s']\n",
            "['it', 'was', 'called', 'a', 'bricklin']\n",
            "['the', 'doors', 'were', 'really', 'small']\n",
            "['in', 'addition', 'the', 'front', 'bumper', 'was', 'separate', 'from', 'the', 'rest', 'of', 'the', 'body']\n",
            "['this', 'is', 'all', 'i', 'know']\n",
            "['if', 'anyone', 'can', 'tellme', 'a', 'model', 'name', 'engine', 'specs', 'years', 'of', 'production', 'where', 'this', 'car', 'is', 'made', 'history', 'or', 'whatever', 'info', 'you', 'have', 'on', 'this', 'funky', 'looking', 'car', 'please', 'e', 'mail']\n",
            "['a', 'fair', 'number', 'of', 'brave', 'souls', 'who', 'upgraded', 'their', 'si', 'clock', 'oscillator', 'have', 'shared', 'their', 'experiences', 'for', 'this', 'poll']\n",
            "['please', 'send', 'a', 'brief', 'message', 'detailing', 'your', 'experiences', 'with', 'the', 'procedure']\n",
            "['top', 'speed', 'attained', 'cpu', 'rated', 'speed', 'add', 'on', 'cards', 'and', 'adapters', 'heat', 'sinks', 'hour', 'of', 'usage', 'per', 'day', 'floppy', 'disk', 'functionality', 'with', '800', 'and', '1', '4', 'm', 'floppies', 'are', 'especially', 'requested']\n"
          ]
        }
      ],
      "source": [
        "tokenized_sentences = [re.sub('\\W', ' ', sentence).lower().split() for sentence in sentences]\n",
        "# remove sentences that are only 1 word long\n",
        "tokenized_sentences = [sentence for sentence in tokenized_sentences if len(sentence) > 1]\n",
        "\n",
        "for sentence in tokenized_sentences[:10]:\n",
        "    print(sentence)"
      ]
    },
    {
      "cell_type": "markdown",
      "metadata": {
        "id": "_xYG3RKRYHlI"
      },
      "source": [
        "Finally we have the data in the right format for training Word2Vec, so we can provide it to the model. For parameters, we set:\n",
        "- the embedding size to be 30,\n",
        "- the minimum count for any vocabulary term to be 5\n",
        "- the size of the context window to 10."
      ]
    },
    {
      "cell_type": "code",
      "execution_count": null,
      "metadata": {
        "id": "fXolbjAXYHlJ"
      },
      "outputs": [],
      "source": [
        "from gensim.models.word2vec import Word2Vec\n",
        "\n",
        "model = Word2Vec(tokenized_sentences, vector_size=30, min_count=5, window=10)"
      ]
    },
    {
      "cell_type": "markdown",
      "metadata": {
        "id": "3BP16EM3YHlJ"
      },
      "source": [
        "Let's see how big the vocabulary is that Word2Vec ended up using, i.e. how many word vectors did it learn:"
      ]
    },
    {
      "cell_type": "code",
      "execution_count": 12,
      "metadata": {
        "id": "Z7ZYKyxcYHlJ",
        "colab": {
          "base_uri": "https://localhost:8080/"
        },
        "outputId": "96dfdc5b-d755-4960-9216-4ff579585469"
      },
      "outputs": [
        {
          "output_type": "execute_result",
          "data": {
            "text/plain": [
              "22069"
            ]
          },
          "metadata": {},
          "execution_count": 12
        }
      ],
      "source": [
        "len(model.wv)"
      ]
    },
    {
      "cell_type": "markdown",
      "metadata": {
        "id": "DHRbIkEYYHlJ"
      },
      "source": [
        "## Inspecting embeddings and finding similar words\n",
        "\n",
        "Now that we have a word2vec model trained, what can we do with it?\n",
        "- Let's print out one of the vectors to see what it looks like:"
      ]
    },
    {
      "cell_type": "code",
      "execution_count": 13,
      "metadata": {
        "id": "1XJtGX3YYHlJ",
        "colab": {
          "base_uri": "https://localhost:8080/"
        },
        "outputId": "2a202ad2-49ad-4f5d-8ffc-b64f72a06128"
      },
      "outputs": [
        {
          "output_type": "execute_result",
          "data": {
            "text/plain": [
              "array([-0.7559625 ,  0.6472946 ,  2.1280231 , -2.4135783 ,  0.18323535,\n",
              "       -0.01846329,  0.1828807 , -1.0578258 , -0.4933687 ,  0.16063736,\n",
              "        1.9403836 ,  1.1408741 ,  2.1406827 ,  1.3721251 ,  1.1260915 ,\n",
              "       -0.26965767,  3.4714174 , -0.2595292 ,  1.9821072 ,  0.6344573 ,\n",
              "       -2.9201436 , -0.8415183 , -1.1564403 ,  1.0165981 , -2.1505692 ,\n",
              "       -0.9173762 ,  2.6843123 , -0.4237848 ,  4.656776  ,  1.2577894 ],\n",
              "      dtype=float32)"
            ]
          },
          "metadata": {},
          "execution_count": 13
        }
      ],
      "source": [
        "term = 'car'\n",
        "model.wv[term]"
      ]
    },
    {
      "cell_type": "markdown",
      "metadata": {
        "id": "jAcJZJmyYHlJ"
      },
      "source": [
        "Unlike LDA's document topic vector, this one has both positive and negative values.\n",
        "\n",
        "We could now use the model to compute similarities between terms based on their cosine distance in the embedding space.\n",
        "- Try modifying the terms below to see what their closest neighbouring terms are:\n",
        "  - Some good terms to try are: hockey, mouse, god, microsoft, clinton, bush, etc.\n",
        "  - (If yuo see an error, that is because the term you chose is not in the dictionary.)"
      ]
    },
    {
      "cell_type": "code",
      "execution_count": 15,
      "metadata": {
        "id": "Ej6ij-9-YHlK",
        "colab": {
          "base_uri": "https://localhost:8080/"
        },
        "outputId": "e6e5bd97-f24e-4116-9a86-a568700a7705"
      },
      "outputs": [
        {
          "output_type": "execute_result",
          "data": {
            "text/plain": [
              "[('bike', 0.8872411251068115),\n",
              " ('driving', 0.7769379019737244),\n",
              " ('helmet', 0.7254648208618164),\n",
              " ('pain', 0.7240407466888428),\n",
              " ('off', 0.708210289478302),\n",
              " ('getting', 0.7050493955612183),\n",
              " ('front', 0.6968792676925659),\n",
              " ('truck', 0.6960998773574829),\n",
              " ('tires', 0.6852160096168518),\n",
              " ('just', 0.6842147707939148)]"
            ]
          },
          "metadata": {},
          "execution_count": 15
        }
      ],
      "source": [
        "# term = 'gun'\n",
        "# term = 'microsoft'\n",
        "# term ='clinton'\n",
        "\n",
        "model.wv.most_similar(term)\n",
        "#the most similar wrod with car"
      ]
    },
    {
      "cell_type": "markdown",
      "metadata": {
        "id": "ldnMBi7qYHlK"
      },
      "source": [
        "Do the similar terms agree with your intuition?"
      ]
    },
    {
      "cell_type": "markdown",
      "metadata": {
        "id": "Y4Su5jmKYHlK"
      },
      "source": [
        "## Visualising the embedding vectors using t-SNE\n",
        "\n",
        "We'll now visualise some of the word vectors in a 3 dimensional space using t-SNE.\n",
        "\n",
        "The vocabulary of word vectors is quite large (around 25,000). Giving them all to t-SNE will cause it to take far too long to converge.\n",
        "- So let's first choose a random subset of 500 terms to show:"
      ]
    },
    {
      "cell_type": "code",
      "execution_count": 16,
      "metadata": {
        "id": "X3GC2wXgYHlK",
        "colab": {
          "base_uri": "https://localhost:8080/"
        },
        "outputId": "0382675c-d3b2-40a4-b2ac-f928f1832696"
      },
      "outputs": [
        {
          "output_type": "stream",
          "name": "stdout",
          "text": [
            "['fined', 'fe', '1400', 'decree', 'shielding', 'bursters', 'retard', 'sc2', 'visits', 'atf', 'malaria', 'news', 'keypad', 'merge', 'fully', 'collider', 'ciphertext', 'podium', 'catching', 'oversteer', 'expenditures', 'payloads', 'banks', 'openwin', 'ludwig', '2626', 'sympathies', 'toyota', 'presented', 'allegory', 'cdr', 'inmates', 'pascal', 'hers', 'harmful', 'involve', 'fjr', 'integral', 'layout', 'msu', 'muscle', 'yogi', 'spark', 'fluorescent', 'adopted', 'effort', '24x', 'nl', 'multiplexer', 'conceive', 'msc', 'destroying', 'electronics', 'studio', 'died', 'bios', 'venusian', 'chuckle', 'spared', 'intercept', 'nightline', 'fuses', 'difficulties', 'thursday', 'committees', 'collegiate', 'excommunication', 'terrorist', 'perspectives', 'military', 'misconduct', 'saviour', 'using', 'israels', 'solid', 'discouraged', 'invalidate', '163', 'bunning', 'effectively', 'ohmite', 'nice', 'wri', 'iqr', 'unorganized', 'kodak', 'counter', 'od', 'metafile', 'raised', '9c', 'duplicate', 'parallax', 'peaceful', 'indicate', '294', 'amongst', 'bosnian', 'dramatic', 'vehicles', 'relating', 'heyman', 'dimension', 'myopic', '4368', 'ship', '234', 'compatable', 'separate', 'account', 'holland', 'antennae', 'seidov', '143', 'm4u', 'end', '9j', 'melted', 'proverbial', 'massaged', 'seemed', 'undertook', 'implemented', 'frontal', 'sternlight', 'deceptive', 'rinks', '1976', 'dangerous', 'approval', '293', 'wbt', 'wins', 'backgrounds', 'aerospace', 'anatol', 'oval', 'marc', 'crystal', 'prof', 'permits', 'admiral', 'moisture', 'found', 'kj', 'proper', '642', 'behold', 'thugs', 'frankly', 'attendees', '_y', 'subscribe', 'references', 'demanding', 'mask', 'a86r', 'alicea', 'overseas', 'joslin', 'blanked', '8c', 'bastard', 'tubing', 'spelling', 'feeds', 'qs7', 'aborted', 'rockies', 'crux', 'cook', '72q', 'uw1', 'rk', 'humanist', 'sank', 'ttddd', 'bpl', 'urbana', 'bx', 'gosselin', 'amend', 'unlimited', 'ultra', 'february', 'shootout', 'uw0', 'luck', 'culture', 'articulated', 'lives', 'xsi', 'kolstad', 'os2', 'readable', 'omc', '914', 'plastic', 'carlson', 'call', '242', 'minor', 'comms', 'unlock', 'drunken', 'balloon', 'hal9k', 'lc4u', 'warrantee', 'discrimination', 'rafik', 'gals', 'wz', 'o', 'db25', 'donate', 'psize', 'swinburne', 'pos', 'compiling', 'coalition', 'sizes', 'cipher', 'typos', 'oklahoma', 'crown', 'xtpointer', 'pumped', 'shelf', 'daughter', 'harass', 'basis', 'motors', 'denying', 'promised', 'ch9', 'infallible', '3dg', '962', 'charlie', 'unconvincing', 'recurring', '4wd', 'dos6', 'shouldn', 'briefing', 'rambo', 'avenue', 'pat', 'beam', '707', 'goverment', 'goodyear', 'tu', '646', 'rack', 'healy', 'wsj', 'contributor', '802', 'raz', 'yer', 'telegrams', 'recognise', 'a9', 'paradigm', 'process', 'minimize', 'lafontaine', 'nyr', 'ignored', 'patients', 'retarded', 'w3s', '369', 'noticing', 'bs3', 'gathered', 'decline', '99', 'kaiser', 'parameter', 'baseball', 'ver', '450', 'toll', 'moslem', 'p13', 'ei0mfq', 'practical', '68020', 'freezes', 'claims', 'vw', 'popovic', 'psych', 'md1', 'wisdom', 'latest', 'immensely', '1046', 'extra', 'tutorial', 'survival', 'surgery', 'wes', 'child', 'ecf', '3x', 'approve', 'coincide', 'honest', 'ostensibly', 'bids', 'adjust', 'handy', 'cruz', '68060', '416', 'cement', 'value', 'ansi', 'imv', 'outdated', 'leyland', 'semite', 'commodity', 'voltmeter', 'mw3p', 'capslock', 'anonymity', 'obnoxious', 'xremote', 'premium', 'bmw', 'pitched', 'rubber', 'various', 'asap', 'preparing', 'cooled', 'comparisons', 'despise', 'adjusting', 'making', '8900', 'sunlight', 'faisal', 'sprayed', 'jeans', 'generating', '011', 'implies', 'mistakenly', 'zimmerman', 'spectrum', 'wirenut', 'dismiss', 'refers', 'inventing', 'arbitration', 'backdoor', 'course', 'excludes', 'tektronics', 'scrutiny', 'ninja', 'attest', 'jur', 'reports', 'church', 'agrep', 'supra', '752', 'shows', 'floppy', 'sore', 'even', 'variations', 'smooth', 'thru', 'drum', 'politely', 'incorporating', 'rw', 'less', 'explore', 'acceleration', 'lj1', 'reread', 'polio', 'qd', 'gearbox', 'socialists', 'magical', '40', 'costly', 'revisions', 'curtis', 'questionable', 'addressing', 'fvmk', 'october', '80s', 'balconies', 'binding', 'xvertext', 'remember', 'cracking', 'suv', 'hga', 'annoy', 'painfully', 'nezareti', '01', 'bidzos', 'brought', 'bubblejets', 'demonstrations', 'defending', 'support', 'beckman', 'knbr', 'booklet', 'slash', 'youth', '65535', 'texiera', 'endured', 'expresses', 'nowhere', 'anecdote', 'natures', 'tiresome', 'wate', 'aum', 'canal', 'caddy', 'yk', 'cocked', 'conquer', 'oct', 'dragondictate', 'doesnot', 'deep', 'client', 'r', 'tripoli', 'prohibited', '1047', 'unexpected', 'creek', 'intensive', 'extinguisher', 'waivers', 'ld', '2b5u', 'clones', 'displayed', 'follows', 'typing', 'babylon', 'simplest', 'br_', 'peace', 'shoot', 'indiscriminately', 'textbooks', 'deck', 'higgins', 'capacity', 'filled', 'foia', 'nonstandard', 'rewritten', 'jason', 'economic', 'f_', 'concentrating', 'e22u', '2l1', 'venkateswar', 'lair', 'anaheim', 'wa', 'look', 'amipro', 'strangle', 'iraf', 'language', '660', 'fungal', 'incorporate', 'integrates', 'anatomy', 'newsweek', 'spoof', 'descending', 'tray', 'xz550']\n"
          ]
        }
      ],
      "source": [
        "import random\n",
        "\n",
        "sample = random.sample(list(model.wv.key_to_index), 500)\n",
        "print(sample)"
      ]
    },
    {
      "cell_type": "markdown",
      "metadata": {
        "id": "tb51ZnSpYHlK"
      },
      "source": [
        "Now we'll get the word vectors for the sampled terms:"
      ]
    },
    {
      "cell_type": "code",
      "execution_count": 17,
      "metadata": {
        "id": "wdIlwUjaYHlK",
        "colab": {
          "base_uri": "https://localhost:8080/"
        },
        "outputId": "8577f6e3-35fd-4b4f-f68c-84de43281800"
      },
      "outputs": [
        {
          "output_type": "execute_result",
          "data": {
            "text/plain": [
              "array([[-0.02383981,  0.10003858, -0.00772701, ..., -0.1309427 ,\n",
              "         0.01008297, -0.08154626],\n",
              "       [-0.12959099, -0.0505988 ,  0.15571153, ...,  0.11798573,\n",
              "        -0.04543107, -0.10857718],\n",
              "       [-0.07276494, -0.28158695,  0.19770984, ...,  0.3841585 ,\n",
              "         0.17076473, -0.55778074],\n",
              "       ...,\n",
              "       [-0.04822133, -0.05551057,  0.09579854, ...,  0.09076978,\n",
              "         0.01336135, -0.17252126],\n",
              "       [-0.14544098,  0.05703042,  0.23170549, ...,  0.18055762,\n",
              "         0.09917083, -0.25019982],\n",
              "       [-0.06563725, -0.10484776,  0.06015523, ...,  0.23841953,\n",
              "         0.06571993, -0.38892442]], dtype=float32)"
            ]
          },
          "metadata": {},
          "execution_count": 17
        }
      ],
      "source": [
        "word_vectors = model.wv[sample]\n",
        "word_vectors"
      ]
    },
    {
      "cell_type": "markdown",
      "metadata": {
        "id": "GPKDpTt9YHlK"
      },
      "source": [
        "And we'll provide the vectors to TSNE to fit a model and transform the data to 3 dimensions:"
      ]
    },
    {
      "cell_type": "code",
      "execution_count": 20,
      "metadata": {
        "id": "TdSwKpggYHlK",
        "colab": {
          "base_uri": "https://localhost:8080/"
        },
        "outputId": "b24f6f6a-6d93-41ef-8119-88601b53e3fb"
      },
      "outputs": [
        {
          "output_type": "stream",
          "name": "stderr",
          "text": [
            "/usr/local/lib/python3.11/dist-packages/sklearn/manifold/_t_sne.py:1164: FutureWarning: 'n_iter' was renamed to 'max_iter' in version 1.5 and will be removed in 1.7.\n",
            "  warnings.warn(\n"
          ]
        }
      ],
      "source": [
        "from sklearn.manifold import TSNE\n",
        "\n",
        "tsne = TSNE(n_components=3, n_iter=2000)\n",
        "tsne_embedding = tsne.fit_transform(word_vectors)"
      ]
    },
    {
      "cell_type": "markdown",
      "metadata": {
        "id": "HWDA5VAFYHlL"
      },
      "source": [
        "Now transform the data into 3 columns (for x, y, and z):"
      ]
    },
    {
      "cell_type": "code",
      "execution_count": 23,
      "metadata": {
        "id": "F-ubEgoDYHlL"
      },
      "outputs": [],
      "source": [
        "import numpy as np\n",
        "\n",
        "x, y, z = np.transpose(tsne_embedding)"
      ]
    },
    {
      "cell_type": "markdown",
      "metadata": {
        "id": "2RQtluK0YHlL"
      },
      "source": [
        "And generate the 3d plot:"
      ]
    },
    {
      "cell_type": "code",
      "execution_count": 24,
      "metadata": {
        "id": "TWS77SLJey3Q",
        "colab": {
          "base_uri": "https://localhost:8080/"
        },
        "outputId": "119b5ca0-cb89-4ff9-8f2f-0964714be92a"
      },
      "outputs": [
        {
          "output_type": "stream",
          "name": "stdout",
          "text": [
            "Requirement already satisfied: plotly in /usr/local/lib/python3.11/dist-packages (5.24.1)\n",
            "Requirement already satisfied: tenacity>=6.2.0 in /usr/local/lib/python3.11/dist-packages (from plotly) (9.0.0)\n",
            "Requirement already satisfied: packaging in /usr/local/lib/python3.11/dist-packages (from plotly) (24.2)\n"
          ]
        }
      ],
      "source": [
        "!pip install plotly"
      ]
    },
    {
      "cell_type": "code",
      "execution_count": 25,
      "metadata": {
        "id": "Addk422Dt_IW",
        "colab": {
          "base_uri": "https://localhost:8080/",
          "height": 542
        },
        "outputId": "af4aca17-2b79-449d-fcb4-2804cb3d5d05"
      },
      "outputs": [
        {
          "output_type": "display_data",
          "data": {
            "text/html": [
              "<html>\n",
              "<head><meta charset=\"utf-8\" /></head>\n",
              "<body>\n",
              "    <div>            <script src=\"https://cdnjs.cloudflare.com/ajax/libs/mathjax/2.7.5/MathJax.js?config=TeX-AMS-MML_SVG\"></script><script type=\"text/javascript\">if (window.MathJax && window.MathJax.Hub && window.MathJax.Hub.Config) {window.MathJax.Hub.Config({SVG: {font: \"STIX-Web\"}});}</script>                <script type=\"text/javascript\">window.PlotlyConfig = {MathJaxConfig: 'local'};</script>\n",
              "        <script charset=\"utf-8\" src=\"https://cdn.plot.ly/plotly-2.35.2.min.js\"></script>                <div id=\"def86f5b-df13-4db3-a0d2-6eeb57c1393c\" class=\"plotly-graph-div\" style=\"height:525px; width:100%;\"></div>            <script type=\"text/javascript\">                                    window.PLOTLYENV=window.PLOTLYENV || {};                                    if (document.getElementById(\"def86f5b-df13-4db3-a0d2-6eeb57c1393c\")) {                    Plotly.newPlot(                        \"def86f5b-df13-4db3-a0d2-6eeb57c1393c\",                        [{\"hovertemplate\":\"x=%{x}\\u003cbr\\u003ey=%{y}\\u003cbr\\u003ez=%{z}\\u003cextra\\u003e\\u003c\\u002fextra\\u003e\",\"legendgroup\":\"\",\"marker\":{\"color\":\"#636efa\",\"symbol\":\"circle\",\"line\":{\"width\":2},\"size\":3},\"mode\":\"markers\",\"name\":\"\",\"scene\":\"scene\",\"showlegend\":false,\"x\":[34.745564,0.7154474,-20.529352,25.773325,13.724909,14.029918,16.438852,10.892963,-1.3814362,-10.3780775,5.2468615,-23.441902,15.877331,-9.424707,-3.8786566,16.606657,-13.0693865,32.776123,15.334355,6.432905,20.651197,-21.63346,-25.09946,-1.9666303,2.7525249,-19.97599,11.745797,-31.30096,-5.1268535,7.6543746,16.340601,16.211807,-27.489058,29.50285,-5.4297466,-2.4123127,3.2414112,-1.4110521,-18.710226,5.1223764,-11.393515,27.29281,13.247796,-6.2984734,1.3538685,5.356188,-17.168282,-39.85537,20.446848,20.897324,12.415747,-8.995354,-19.196804,20.150394,-19.303707,-27.34321,4.6694765,14.666136,19.98818,-5.382021,0.102560855,12.937236,-2.091034,-34.955555,17.311293,-3.58795,12.332525,-15.664849,24.790174,-12.477689,-23.347729,18.15001,-22.811533,18.509691,-25.08129,13.366679,10.362827,-33.966114,-21.713064,2.0767014,-1.1131169,-27.300014,9.21171,-2.7611399,19.65057,8.898947,5.1756334,-34.878067,1.3354692,-9.952458,-2.5675962,13.127976,23.277388,0.7093373,6.4128995,-12.417553,-9.18016,-5.3635488,2.9372349,-26.20864,-4.2407284,-3.5822086,7.405042,26.33482,0.6538027,-12.738664,-21.314106,15.284469,-11.663787,8.331366,3.5798132,10.655328,21.101736,-25.15154,4.5313945,6.0763297,-7.7157497,12.828008,7.958561,22.264023,-0.9348901,22.918852,-15.148709,9.351678,17.469654,9.7997055,5.322968,-28.843714,2.1258245,-1.2466003,-12.3799515,27.568151,-31.378342,8.408565,-25.436996,-0.1765182,33.311314,-30.79985,-20.843163,-29.819494,-5.508697,22.574953,10.942024,-4.9554787,-34.507763,2.43585,-12.794094,14.810189,17.868486,0.6230463,-12.596276,13.811393,-2.2036989,-19.110455,-8.352093,-25.416405,1.8480297,-4.022575,-3.081602,26.590675,19.988497,-32.026913,8.037792,11.965531,-0.27176893,11.690527,-39.50828,1.072299,-27.015293,16.415678,-14.160456,-6.4495387,7.466223,-38.81962,-5.199295,-22.18704,2.4905634,-41.195866,-2.995759,-33.208992,9.447791,-28.205048,-9.377407,-21.761538,-35.002434,-2.11064,-10.849148,-21.416866,-18.03619,11.394268,-14.526567,17.9873,7.8070006,-30.315884,0.6925003,17.08096,-16.206968,-23.235058,-4.6906066,-1.8147722,-24.682285,-25.085747,10.6324215,8.715541,30.351818,-19.146805,-15.863586,4.4494786,16.594341,-9.636761,30.937128,18.555813,-1.0295378,-39.960117,13.447553,22.45298,-11.968397,27.489923,8.535295,-7.8766513,-21.202349,16.22183,-18.171408,32.163673,-32.66474,-14.399389,-33.077675,2.2509618,-8.72134,-19.042908,22.620293,-1.1986552,-18.93937,-2.849085,-12.326103,14.270276,2.8437703,-4.4746056,-15.558247,-24.71919,19.945332,13.125026,-2.2136104,7.8404436,2.72231,17.543352,23.643532,-36.977745,-24.832285,-17.949087,1.0799447,13.169135,2.0708375,-39.586674,4.6130686,-10.475995,-8.73905,27.152836,24.073666,-11.709706,-2.3232,1.6955209,26.210524,30.148651,-4.452515,3.9422343,1.365411,5.528464,-24.059093,-38.36862,-4.178164,-19.398123,22.016848,5.096251,-8.723006,15.993797,6.1896853,-13.18648,7.361915,-38.816833,-9.645696,-8.088918,-25.770046,11.994005,-25.106707,-23.840277,-13.959563,-28.676414,13.575862,5.9542766,-9.088343,13.726373,-9.063703,-42.397064,1.3068234,27.022945,-1.6245131,4.5420904,-11.411619,11.284715,12.965748,-16.349516,-14.912905,-11.468684,-31.596825,-1.6639028,-7.4544725,-18.137102,-0.7912996,5.9967513,15.831154,-4.4541016,18.722528,-6.2081995,-14.55399,-10.055338,-16.414598,-2.5110219,-26.50267,-2.4843528,-13.881308,-19.576267,-6.2546167,7.6335983,12.881545,29.194275,16.955828,7.690937,8.096808,16.773487,-11.746643,6.85053,-6.9497886,15.083081,-29.6618,-27.476234,-21.445307,-17.507412,17.350178,-14.907689,0.327679,15.227447,14.78149,-7.919492,2.566725,-12.536676,-14.283695,4.156032,6.115313,6.9348493,1.4513881,7.3660245,5.842946,4.934759,5.12284,-23.001974,14.212232,18.12621,-8.292119,31.935013,-0.5437129,18.871885,4.07973,27.734118,20.185125,0.052309234,-23.407864,34.754646,-38.37302,-22.047716,-8.472614,1.0898682,-14.238747,2.7189956,9.4158535,-28.431625,10.165016,0.3542764,-16.558268,-20.552965,-12.580728,-13.011979,20.385004,23.605104,-2.3703806,-16.324608,-1.9419968,-7.104449,-36.38481,29.208218,-0.7653829,-37.441494,2.0155046,-9.134057,11.614452,-41.57589,6.859246,23.380642,-28.179165,3.4986985,-13.135473,8.357147,-34.295094,3.410758,18.602238,18.258785,9.806924,-19.802572,13.254467,26.295324,2.1666923,20.991394,0.7082173,-0.04913988,-41.18258,6.7895875,-16.862196,23.579144,9.697328,-9.734306,-20.401533,9.21609,24.053694,26.88549,6.1462355,-20.116709,18.97207,-4.6901813,7.984418,34.936,-3.93897,20.083431,27.742018,34.217003,26.576189,3.2069714,-9.406552,17.874472,5.497729,14.116317,15.563577,-31.674006,10.420833,24.518528,4.650206,-17.441355,-43.17414,-15.571726,-12.505839,-16.861921,9.409444,-2.9182239,-20.337337,23.937506,14.462167,-29.838978,4.0584636,23.413712,-8.57101,-5.8118496,-9.291652,-18.906868,23.791077,2.9833171,-10.520682,-20.136673,30.957582,-2.5228906,-21.054434,-3.4570696,-16.027922,-9.871079,13.698769,20.194206,-4.9980583,-30.990631,-15.996651,8.593771,14.730881,10.43393,17.491991,21.24686,8.238586,-24.684752,-33.69627,-0.08566733,18.60995,12.509765,-1.6148441,-21.36898,-1.6382518,-0.43752104,2.206956,13.588029,25.737322,15.393703,7.956585,15.30143,-3.6811745,-11.490216],\"y\":[-9.450657,-22.0329,-0.7134817,-21.336695,22.006823,-16.776249,6.3792667,-10.776062,-15.928639,29.4873,8.861773,18.06059,-9.965088,0.64344114,25.76778,-7.3356113,0.04607972,-14.685245,6.5009446,3.4753654,1.4744229,10.335213,21.7741,0.23213904,9.882818,4.0286956,-9.314591,-3.577036,34.633938,-7.350474,-18.754768,-0.32568797,-7.943901,-7.353916,18.782776,21.132675,-29.582396,8.874135,3.5122547,-31.63745,15.070836,-13.852183,11.783596,9.316916,17.666143,35.38193,-4.520865,4.147732,-15.762275,-22.453367,-27.031069,26.009815,9.686272,-17.667143,33.707108,1.5126057,-14.078676,-4.254157,-1.2209153,11.985805,-16.234566,18.632479,18.741446,19.659445,11.25733,6.39639,10.240482,25.700651,6.386368,32.70209,11.132433,13.4163265,4.2951655,5.4862933,21.758741,19.338629,5.206573,4.146766,9.488078,23.19749,-0.15623489,-14.823904,-29.332401,-20.159626,7.834877,-13.610291,24.116135,-10.66932,-0.060757272,34.317764,-32.362347,-4.4748864,-16.712042,28.322193,18.169449,6.9226966,22.693155,28.143257,14.110642,11.874207,16.21143,1.2017882,-21.51858,-4.778869,-1.9861878,-16.615187,-2.1878324,-19.963137,-7.42968,37.016315,2.7674026,3.2846837,13.183091,-0.5435261,-37.284855,41.669586,-19.326511,5.668889,0.96737266,-9.260368,15.583641,-16.547636,-6.805761,-14.7344675,-0.21958032,10.782382,-2.4161024,13.387136,30.59831,18.933228,-0.5457447,-1.629373,15.270473,16.51265,17.668667,-18.200386,-14.32546,7.0712557,9.890122,6.64014,17.653769,-1.3239367,4.1407347,33.518723,-3.4818628,26.391958,2.2121086,14.615749,18.090508,15.920567,10.623619,-15.40154,12.695966,15.614873,11.007582,-11.633838,-29.555027,-4.0057964,5.1715317,-15.237165,-12.3645735,-10.0264635,14.450952,1.221654,9.963162,-12.589214,-11.175174,-24.033737,8.961472,9.285822,-11.469369,-25.712286,-23.149366,-5.572772,13.113626,3.5027046,2.2911606,-8.586715,-11.915594,-0.5958532,0.74831116,17.240105,2.7643862,-3.8820674,22.92155,-21.848288,6.872807,-14.968338,29.693192,-14.483567,37.293114,-30.20728,-4.8680587,-2.3564281,4.560288,-7.008852,-1.9411172,-17.036816,2.8865898,13.050311,4.8496265,21.184135,-7.508378,-11.38584,-14.181684,14.94088,0.9492615,-26.263172,-11.975663,23.213015,-6.210818,-13.392885,-17.356352,-0.25476462,-19.516878,-6.4550753,-5.911822,-16.246801,-23.57609,-4.177089,20.823082,-15.848811,-2.05128,-14.223461,11.558691,2.572107,2.976186,-8.851047,-9.297181,32.25761,2.6792216,39.955853,-12.922028,23.752848,30.494244,-20.125101,23.92495,-28.040932,3.7764626,5.925916,-15.948618,-13.206898,-12.511205,-10.061876,-24.74585,14.254575,-17.169971,13.169003,10.661872,-11.750208,-7.8402386,20.569168,-1.5829867,-0.7539888,-4.730968,-12.597841,-0.84510255,-12.431893,1.6811408,5.427105,-0.077769935,5.93164,4.3783736,4.0686126,-23.024193,3.2415643,39.918884,8.26509,5.2875333,8.061105,26.128193,28.896109,-7.5986834,-24.777067,-2.3623955,-10.0934725,-33.140366,26.600086,15.756479,4.9583607,-9.149559,1.5773149,19.57262,-25.23148,-3.5128543,4.1783953,27.550682,-7.6467824,-28.533037,26.279758,-2.7084637,-19.21722,38.46729,-3.5235684,-16.36917,-10.503437,-26.40003,20.999237,8.890778,-9.117316,-3.4728765,-22.283182,11.784543,19.008064,-1.1795264,-14.159088,35.325638,8.151155,-7.6262307,13.922342,2.3138683,32.590187,-6.4856467,0.16407055,-13.360775,-11.8849325,7.726968,-4.9372263,2.199376,-27.072344,3.5459833,-2.1375554,-26.55851,-2.647387,-7.614912,-1.7068247,-6.5992255,1.2811161,-22.099731,-2.061688,18.029749,5.556698,2.28291,21.54742,-8.623019,13.274124,-14.594528,21.27371,-1.7909563,17.367867,-3.6279576,25.48697,11.070492,-8.0340805,35.415085,-2.5231261,8.180345,-3.1153793,-9.249022,-14.53351,-3.6813807,-22.731754,28.658575,3.3690376,-3.7408376,4.146781,-18.260784,12.667215,11.779607,-5.615221,0.083670326,-7.4875255,39.08572,4.431423,-20.256826,15.446429,-3.0533967,-3.3974555,-9.307808,20.783438,40.452114,0.20585768,-4.383213,-20.825125,28.000513,4.5081167,0.2937201,37.560078,4.6788692,-13.8231535,-8.845691,-6.9405627,-3.2004426,-14.477271,-33.43929,-26.506027,10.447555,-32.119255,-6.3118286,-20.041714,14.614667,-5.876539,-8.111871,16.147776,11.353681,9.229088,16.426039,-20.672518,5.0672693,22.388382,-1.0657161,-23.834253,17.383442,-7.6102085,5.246946,21.448683,-28.506441,-17.131554,9.873539,-6.6225796,-12.264094,9.034618,-12.28426,-16.261095,12.160682,14.880926,35.371365,-2.9450867,16.360956,31.304098,-3.80314,-3.6950867,-6.671417,-20.428144,-14.576959,23.341682,-25.524557,-8.701569,-4.0869055,3.3448596,21.142843,6.340211,12.1543045,-2.1054037,-25.350185,-30.786043,15.821361,-16.48881,-16.83515,-13.598006,16.114008,14.61557,-3.9044108,9.85458,30.667738,3.6190777,2.8577049,15.636214,16.77329,4.4340425,8.013337,-12.821814,7.2617793,-9.898573,-7.786168,-7.9607635,-25.29633,-14.097141,-2.739848,-8.382307,5.8766985,15.221348,-27.954033,-20.488909,36.994427,2.2447417,5.8960795,13.641979,-6.1794057,-16.9967,-18.115047,23.683334,-2.5862472,-26.609053,-5.658919,1.1292912,30.43516,-20.371607,5.3965063,-30.038912,-10.742816,-12.563692,0.66431624,10.520607,1.7491876,13.7095585,-22.910814,3.020714,-4.216511,-5.5039377,-19.491299,18.828682,12.889452,-6.0270195,1.7491914,1.7522106,-6.6566105,-1.7275125,-4.235094,11.961143],\"z\":[-16.919596,-14.059109,1.7796977,-13.734659,11.573751,-26.510256,-3.8980124,-4.378145,15.847484,6.263059,6.6046376,18.411877,13.437578,-19.297794,10.588226,-3.8807435,25.949417,-9.779186,-17.96875,-18.536966,9.856838,11.363597,-1.2399668,24.102583,-13.477159,-2.4547021,-9.8003,-6.707712,-9.631969,-3.8827875,-16.472187,-3.628022,13.511584,-7.924039,-2.076061,17.906607,-8.563211,4.187348,19.099955,2.5418234,-15.7874155,-7.8140316,-8.146235,-9.431005,3.1186972,-8.296413,11.171751,3.652884,2.5378253,-7.066437,-0.58603007,0.48865888,20.718002,18.441845,-5.495051,24.945732,10.462201,-11.125037,1.1239529,11.7175,7.5845184,8.542103,-6.412148,-3.9011981,16.911406,-1.9067297,5.724603,7.173336,-3.3076215,13.81657,-10.831511,-19.543468,28.864813,2.3537557,-6.7819767,-3.4080088,-2.8761425,-6.5860076,-14.586759,10.81226,-11.621412,-5.0960937,-10.1724615,-20.110588,9.359519,-18.953562,2.0906672,7.478468,12.675217,-8.138516,-6.137508,22.238668,8.87212,-1.0082109,20.18896,-6.4997563,-1.9530033,3.4475224,-4.7093143,13.414508,16.45843,4.738468,19.375694,-4.5382423,4.608135,15.303008,-5.681311,16.223362,28.151392,-5.842795,-4.248647,11.08638,2.5622232,-5.5604787,-13.121612,-9.133939,-11.283381,-8.817353,-9.324294,-0.41448972,-23.159128,-4.453892,24.211634,5.7832613,-9.167394,-14.031913,-26.297329,-7.385793,5.747869,11.0376,-1.496428,-12.383581,-14.266836,1.6345547,8.889024,12.3195715,-3.1779532,5.1317377,6.5708213,0.14500147,7.4903827,-8.731073,19.14934,-14.465394,5.1546474,14.15279,-5.85182,-23.155209,-11.360702,-19.048094,11.315658,-9.976419,21.167393,20.632439,0.56559044,0.75855774,-15.464757,-7.826424,9.240089,-17.501675,4.7960186,3.88957,-20.73444,1.6875342,-18.165142,13.56287,9.040291,3.270737,-11.379676,2.145416,-16.49087,-17.134401,-21.724123,-0.80427855,-3.0347967,-18.779215,8.502723,7.0836997,7.7936797,10.901902,-3.9616628,3.5449622,9.576112,14.093299,-0.91190016,12.451891,-13.563447,-4.153826,8.566768,-5.6327868,4.5706477,5.551722,-22.691448,16.471554,16.794394,-24.880686,-4.0660725,6.680874,-7.7509336,25.616356,-7.345912,-11.161948,5.3343263,19.892174,-13.440566,5.6397424,-11.18621,-5.3751073,-0.9818705,4.5817165,-14.939823,-15.993853,-12.200493,13.085069,10.03386,-16.389318,-7.447123,-1.2551047,-2.1602933,20.32012,5.967074,22.957972,28.7657,5.387835,-3.8189554,2.801543,13.338603,1.1659237,12.302814,-10.473397,-12.56824,-2.6461287,7.677482,3.4249215,-5.8965807,-5.0418777,-4.0352716,-12.854663,-2.6457765,-1.5368383,-9.84351,-14.717752,-2.5305777,-29.83783,-29.186872,21.600159,-12.058099,3.1970482,0.22182453,4.037448,7.8735747,-15.323302,-1.7936927,7.4884386,2.8251321,-6.668446,-10.51598,-2.3143606,-19.991165,-0.70843333,14.255046,-7.5562,2.0573685,11.838947,-12.103219,3.114199,-8.763391,-0.96380264,-13.177751,0.23474675,-3.8032,2.18645,-8.418679,-25.737831,-5.207086,-12.869404,-12.85678,-3.5715644,-7.676076,-3.7181857,-14.912024,26.872242,-15.779325,12.070072,-1.0062133,6.157715,1.6575218,4.6889467,-8.049978,6.7904696,13.180638,5.132324,-5.465939,1.3907341,-3.9813306,3.636062,-7.487157,-19.19886,21.97339,0.25859588,-4.2420835,6.171056,15.922794,0.8377096,-11.407062,-8.504566,7.6510487,-4.2585554,-22.916801,19.039402,6.5564733,-1.8922827,8.796412,0.07354062,11.066779,2.0973272,0.40440303,-1.3850123,2.0782342,15.3630495,32.203976,22.562983,-5.358228,7.763334,-16.920822,-7.2720833,2.3780444,14.163704,-17.23462,15.46958,14.453798,-22.820948,16.738195,6.1555624,-7.715851,-14.420318,11.612002,19.142796,-16.413923,-5.947614,-5.9726706,4.4658904,-14.786041,1.0008658,4.504207,8.534633,7.658173,-11.015473,-10.740738,-6.3998446,17.618273,5.958675,-3.7517657,-13.331428,11.91135,16.763771,1.0084893,-5.9796276,5.0166936,-3.4487984,-19.724411,17.3693,-1.1304232,-8.03613,6.4440327,7.76114,-10.410208,5.130688,-0.3379767,13.577183,2.7054102,26.082722,2.905719,0.16110143,-7.001116,25.879257,-21.559128,7.8414173,9.125349,0.91072255,15.660667,9.17429,-14.247284,-26.737783,0.0427881,6.520358,12.647015,-12.387628,10.468373,-5.577321,-10.330648,4.6815352,-7.6348677,-5.525282,0.017624686,-5.474439,10.094728,-0.6894025,-4.576332,-9.247578,17.536734,-6.995825,-0.5170303,-15.375824,16.931503,-3.9645147,4.426114,-8.490409,12.641849,-22.810112,25.493944,-13.655931,-22.602823,-21.679823,-0.9585202,-15.423999,-7.4865417,4.1130695,-3.0833526,-0.669083,35.079853,-7.124886,10.521666,2.956594,-0.3794127,8.728576,2.2995505,-7.5416408,-15.968845,-11.774386,-11.492671,-9.157879,-3.4201596,-8.263044,-1.4142842,-2.4978168,-10.634608,-4.400914,-13.287269,5.701894,-14.955699,1.0282454,1.0591129,-6.806594,-10.875478,29.268312,10.702463,2.5092006,10.03183,-7.4930024,-7.7992535,-14.870042,15.039657,-11.85038,-20.892056,9.770206,-9.421201,14.827265,26.159754,22.313334,18.940718,-10.305322,7.452471,-8.895098,5.8876987,-22.117317,-0.1922572,-0.04966839,8.773062,4.341719,3.6259987,-10.852262,8.8910475,9.211442,15.020871,-3.6342797,12.871051,-12.651958,14.101982,-4.5562654,-8.100343,-3.9472334,6.354479,-5.999891,2.1889622,30.378054,12.137652,-12.780174,8.473367,29.450054,-5.001782,-1.9665327,17.160625,12.220381,-1.1359712,-26.046625,18.551579,1.1947725,-13.895707,-6.5922484],\"type\":\"scatter3d\"}],                        {\"template\":{\"data\":{\"histogram2dcontour\":[{\"type\":\"histogram2dcontour\",\"colorbar\":{\"outlinewidth\":0,\"ticks\":\"\"},\"colorscale\":[[0.0,\"#0d0887\"],[0.1111111111111111,\"#46039f\"],[0.2222222222222222,\"#7201a8\"],[0.3333333333333333,\"#9c179e\"],[0.4444444444444444,\"#bd3786\"],[0.5555555555555556,\"#d8576b\"],[0.6666666666666666,\"#ed7953\"],[0.7777777777777778,\"#fb9f3a\"],[0.8888888888888888,\"#fdca26\"],[1.0,\"#f0f921\"]]}],\"choropleth\":[{\"type\":\"choropleth\",\"colorbar\":{\"outlinewidth\":0,\"ticks\":\"\"}}],\"histogram2d\":[{\"type\":\"histogram2d\",\"colorbar\":{\"outlinewidth\":0,\"ticks\":\"\"},\"colorscale\":[[0.0,\"#0d0887\"],[0.1111111111111111,\"#46039f\"],[0.2222222222222222,\"#7201a8\"],[0.3333333333333333,\"#9c179e\"],[0.4444444444444444,\"#bd3786\"],[0.5555555555555556,\"#d8576b\"],[0.6666666666666666,\"#ed7953\"],[0.7777777777777778,\"#fb9f3a\"],[0.8888888888888888,\"#fdca26\"],[1.0,\"#f0f921\"]]}],\"heatmap\":[{\"type\":\"heatmap\",\"colorbar\":{\"outlinewidth\":0,\"ticks\":\"\"},\"colorscale\":[[0.0,\"#0d0887\"],[0.1111111111111111,\"#46039f\"],[0.2222222222222222,\"#7201a8\"],[0.3333333333333333,\"#9c179e\"],[0.4444444444444444,\"#bd3786\"],[0.5555555555555556,\"#d8576b\"],[0.6666666666666666,\"#ed7953\"],[0.7777777777777778,\"#fb9f3a\"],[0.8888888888888888,\"#fdca26\"],[1.0,\"#f0f921\"]]}],\"heatmapgl\":[{\"type\":\"heatmapgl\",\"colorbar\":{\"outlinewidth\":0,\"ticks\":\"\"},\"colorscale\":[[0.0,\"#0d0887\"],[0.1111111111111111,\"#46039f\"],[0.2222222222222222,\"#7201a8\"],[0.3333333333333333,\"#9c179e\"],[0.4444444444444444,\"#bd3786\"],[0.5555555555555556,\"#d8576b\"],[0.6666666666666666,\"#ed7953\"],[0.7777777777777778,\"#fb9f3a\"],[0.8888888888888888,\"#fdca26\"],[1.0,\"#f0f921\"]]}],\"contourcarpet\":[{\"type\":\"contourcarpet\",\"colorbar\":{\"outlinewidth\":0,\"ticks\":\"\"}}],\"contour\":[{\"type\":\"contour\",\"colorbar\":{\"outlinewidth\":0,\"ticks\":\"\"},\"colorscale\":[[0.0,\"#0d0887\"],[0.1111111111111111,\"#46039f\"],[0.2222222222222222,\"#7201a8\"],[0.3333333333333333,\"#9c179e\"],[0.4444444444444444,\"#bd3786\"],[0.5555555555555556,\"#d8576b\"],[0.6666666666666666,\"#ed7953\"],[0.7777777777777778,\"#fb9f3a\"],[0.8888888888888888,\"#fdca26\"],[1.0,\"#f0f921\"]]}],\"surface\":[{\"type\":\"surface\",\"colorbar\":{\"outlinewidth\":0,\"ticks\":\"\"},\"colorscale\":[[0.0,\"#0d0887\"],[0.1111111111111111,\"#46039f\"],[0.2222222222222222,\"#7201a8\"],[0.3333333333333333,\"#9c179e\"],[0.4444444444444444,\"#bd3786\"],[0.5555555555555556,\"#d8576b\"],[0.6666666666666666,\"#ed7953\"],[0.7777777777777778,\"#fb9f3a\"],[0.8888888888888888,\"#fdca26\"],[1.0,\"#f0f921\"]]}],\"mesh3d\":[{\"type\":\"mesh3d\",\"colorbar\":{\"outlinewidth\":0,\"ticks\":\"\"}}],\"scatter\":[{\"fillpattern\":{\"fillmode\":\"overlay\",\"size\":10,\"solidity\":0.2},\"type\":\"scatter\"}],\"parcoords\":[{\"type\":\"parcoords\",\"line\":{\"colorbar\":{\"outlinewidth\":0,\"ticks\":\"\"}}}],\"scatterpolargl\":[{\"type\":\"scatterpolargl\",\"marker\":{\"colorbar\":{\"outlinewidth\":0,\"ticks\":\"\"}}}],\"bar\":[{\"error_x\":{\"color\":\"#2a3f5f\"},\"error_y\":{\"color\":\"#2a3f5f\"},\"marker\":{\"line\":{\"color\":\"#E5ECF6\",\"width\":0.5},\"pattern\":{\"fillmode\":\"overlay\",\"size\":10,\"solidity\":0.2}},\"type\":\"bar\"}],\"scattergeo\":[{\"type\":\"scattergeo\",\"marker\":{\"colorbar\":{\"outlinewidth\":0,\"ticks\":\"\"}}}],\"scatterpolar\":[{\"type\":\"scatterpolar\",\"marker\":{\"colorbar\":{\"outlinewidth\":0,\"ticks\":\"\"}}}],\"histogram\":[{\"marker\":{\"pattern\":{\"fillmode\":\"overlay\",\"size\":10,\"solidity\":0.2}},\"type\":\"histogram\"}],\"scattergl\":[{\"type\":\"scattergl\",\"marker\":{\"colorbar\":{\"outlinewidth\":0,\"ticks\":\"\"}}}],\"scatter3d\":[{\"type\":\"scatter3d\",\"line\":{\"colorbar\":{\"outlinewidth\":0,\"ticks\":\"\"}},\"marker\":{\"colorbar\":{\"outlinewidth\":0,\"ticks\":\"\"}}}],\"scattermapbox\":[{\"type\":\"scattermapbox\",\"marker\":{\"colorbar\":{\"outlinewidth\":0,\"ticks\":\"\"}}}],\"scatterternary\":[{\"type\":\"scatterternary\",\"marker\":{\"colorbar\":{\"outlinewidth\":0,\"ticks\":\"\"}}}],\"scattercarpet\":[{\"type\":\"scattercarpet\",\"marker\":{\"colorbar\":{\"outlinewidth\":0,\"ticks\":\"\"}}}],\"carpet\":[{\"aaxis\":{\"endlinecolor\":\"#2a3f5f\",\"gridcolor\":\"white\",\"linecolor\":\"white\",\"minorgridcolor\":\"white\",\"startlinecolor\":\"#2a3f5f\"},\"baxis\":{\"endlinecolor\":\"#2a3f5f\",\"gridcolor\":\"white\",\"linecolor\":\"white\",\"minorgridcolor\":\"white\",\"startlinecolor\":\"#2a3f5f\"},\"type\":\"carpet\"}],\"table\":[{\"cells\":{\"fill\":{\"color\":\"#EBF0F8\"},\"line\":{\"color\":\"white\"}},\"header\":{\"fill\":{\"color\":\"#C8D4E3\"},\"line\":{\"color\":\"white\"}},\"type\":\"table\"}],\"barpolar\":[{\"marker\":{\"line\":{\"color\":\"#E5ECF6\",\"width\":0.5},\"pattern\":{\"fillmode\":\"overlay\",\"size\":10,\"solidity\":0.2}},\"type\":\"barpolar\"}],\"pie\":[{\"automargin\":true,\"type\":\"pie\"}]},\"layout\":{\"autotypenumbers\":\"strict\",\"colorway\":[\"#636efa\",\"#EF553B\",\"#00cc96\",\"#ab63fa\",\"#FFA15A\",\"#19d3f3\",\"#FF6692\",\"#B6E880\",\"#FF97FF\",\"#FECB52\"],\"font\":{\"color\":\"#2a3f5f\"},\"hovermode\":\"closest\",\"hoverlabel\":{\"align\":\"left\"},\"paper_bgcolor\":\"white\",\"plot_bgcolor\":\"#E5ECF6\",\"polar\":{\"bgcolor\":\"#E5ECF6\",\"angularaxis\":{\"gridcolor\":\"white\",\"linecolor\":\"white\",\"ticks\":\"\"},\"radialaxis\":{\"gridcolor\":\"white\",\"linecolor\":\"white\",\"ticks\":\"\"}},\"ternary\":{\"bgcolor\":\"#E5ECF6\",\"aaxis\":{\"gridcolor\":\"white\",\"linecolor\":\"white\",\"ticks\":\"\"},\"baxis\":{\"gridcolor\":\"white\",\"linecolor\":\"white\",\"ticks\":\"\"},\"caxis\":{\"gridcolor\":\"white\",\"linecolor\":\"white\",\"ticks\":\"\"}},\"coloraxis\":{\"colorbar\":{\"outlinewidth\":0,\"ticks\":\"\"}},\"colorscale\":{\"sequential\":[[0.0,\"#0d0887\"],[0.1111111111111111,\"#46039f\"],[0.2222222222222222,\"#7201a8\"],[0.3333333333333333,\"#9c179e\"],[0.4444444444444444,\"#bd3786\"],[0.5555555555555556,\"#d8576b\"],[0.6666666666666666,\"#ed7953\"],[0.7777777777777778,\"#fb9f3a\"],[0.8888888888888888,\"#fdca26\"],[1.0,\"#f0f921\"]],\"sequentialminus\":[[0.0,\"#0d0887\"],[0.1111111111111111,\"#46039f\"],[0.2222222222222222,\"#7201a8\"],[0.3333333333333333,\"#9c179e\"],[0.4444444444444444,\"#bd3786\"],[0.5555555555555556,\"#d8576b\"],[0.6666666666666666,\"#ed7953\"],[0.7777777777777778,\"#fb9f3a\"],[0.8888888888888888,\"#fdca26\"],[1.0,\"#f0f921\"]],\"diverging\":[[0,\"#8e0152\"],[0.1,\"#c51b7d\"],[0.2,\"#de77ae\"],[0.3,\"#f1b6da\"],[0.4,\"#fde0ef\"],[0.5,\"#f7f7f7\"],[0.6,\"#e6f5d0\"],[0.7,\"#b8e186\"],[0.8,\"#7fbc41\"],[0.9,\"#4d9221\"],[1,\"#276419\"]]},\"xaxis\":{\"gridcolor\":\"white\",\"linecolor\":\"white\",\"ticks\":\"\",\"title\":{\"standoff\":15},\"zerolinecolor\":\"white\",\"automargin\":true,\"zerolinewidth\":2},\"yaxis\":{\"gridcolor\":\"white\",\"linecolor\":\"white\",\"ticks\":\"\",\"title\":{\"standoff\":15},\"zerolinecolor\":\"white\",\"automargin\":true,\"zerolinewidth\":2},\"scene\":{\"xaxis\":{\"backgroundcolor\":\"#E5ECF6\",\"gridcolor\":\"white\",\"linecolor\":\"white\",\"showbackground\":true,\"ticks\":\"\",\"zerolinecolor\":\"white\",\"gridwidth\":2},\"yaxis\":{\"backgroundcolor\":\"#E5ECF6\",\"gridcolor\":\"white\",\"linecolor\":\"white\",\"showbackground\":true,\"ticks\":\"\",\"zerolinecolor\":\"white\",\"gridwidth\":2},\"zaxis\":{\"backgroundcolor\":\"#E5ECF6\",\"gridcolor\":\"white\",\"linecolor\":\"white\",\"showbackground\":true,\"ticks\":\"\",\"zerolinecolor\":\"white\",\"gridwidth\":2}},\"shapedefaults\":{\"line\":{\"color\":\"#2a3f5f\"}},\"annotationdefaults\":{\"arrowcolor\":\"#2a3f5f\",\"arrowhead\":0,\"arrowwidth\":1},\"geo\":{\"bgcolor\":\"white\",\"landcolor\":\"#E5ECF6\",\"subunitcolor\":\"white\",\"showland\":true,\"showlakes\":true,\"lakecolor\":\"white\"},\"title\":{\"x\":0.05},\"mapbox\":{\"style\":\"light\"}}},\"scene\":{\"domain\":{\"x\":[0.0,1.0],\"y\":[0.0,1.0]},\"xaxis\":{\"title\":{\"text\":\"x\"}},\"yaxis\":{\"title\":{\"text\":\"y\"}},\"zaxis\":{\"title\":{\"text\":\"z\"}}},\"legend\":{\"tracegroupgap\":0},\"margin\":{\"t\":60}},                        {\"responsive\": true}                    ).then(function(){\n",
              "                            \n",
              "var gd = document.getElementById('def86f5b-df13-4db3-a0d2-6eeb57c1393c');\n",
              "var x = new MutationObserver(function (mutations, observer) {{\n",
              "        var display = window.getComputedStyle(gd).display;\n",
              "        if (!display || display === 'none') {{\n",
              "            console.log([gd, 'removed!']);\n",
              "            Plotly.purge(gd);\n",
              "            observer.disconnect();\n",
              "        }}\n",
              "}});\n",
              "\n",
              "// Listen for the removal of the full notebook cells\n",
              "var notebookContainer = gd.closest('#notebook-container');\n",
              "if (notebookContainer) {{\n",
              "    x.observe(notebookContainer, {childList: true});\n",
              "}}\n",
              "\n",
              "// Listen for the clearing of the current output cell\n",
              "var outputEl = gd.closest('.output');\n",
              "if (outputEl) {{\n",
              "    x.observe(outputEl, {childList: true});\n",
              "}}\n",
              "\n",
              "                        })                };                            </script>        </div>\n",
              "</body>\n",
              "</html>"
            ]
          },
          "metadata": {}
        }
      ],
      "source": [
        "import plotly.express as px\n",
        "\n",
        "fig = px.scatter_3d(x=x, y=y, z=z)\n",
        "fig.update_traces(marker=dict(size=3,line=dict(width=2)))\n",
        "fig.show()"
      ]
    },
    {
      "cell_type": "markdown",
      "metadata": {
        "id": "b4AIuIruYHlL"
      },
      "source": [
        "Well that's a not a particularly interesting 3d plot!\n",
        "- How about we label some of the points on the graph to see what words they correspond to:"
      ]
    },
    {
      "cell_type": "code",
      "execution_count": 26,
      "metadata": {
        "id": "nwF1aJAQy9YY",
        "colab": {
          "base_uri": "https://localhost:8080/",
          "height": 542
        },
        "outputId": "a6e607b5-9ecb-4ef4-a06b-3a79c4f2d5b0"
      },
      "outputs": [
        {
          "output_type": "display_data",
          "data": {
            "text/html": [
              "<html>\n",
              "<head><meta charset=\"utf-8\" /></head>\n",
              "<body>\n",
              "    <div>            <script src=\"https://cdnjs.cloudflare.com/ajax/libs/mathjax/2.7.5/MathJax.js?config=TeX-AMS-MML_SVG\"></script><script type=\"text/javascript\">if (window.MathJax && window.MathJax.Hub && window.MathJax.Hub.Config) {window.MathJax.Hub.Config({SVG: {font: \"STIX-Web\"}});}</script>                <script type=\"text/javascript\">window.PlotlyConfig = {MathJaxConfig: 'local'};</script>\n",
              "        <script charset=\"utf-8\" src=\"https://cdn.plot.ly/plotly-2.35.2.min.js\"></script>                <div id=\"e615155c-5d25-4c02-8fdd-a2355a1bf61d\" class=\"plotly-graph-div\" style=\"height:525px; width:100%;\"></div>            <script type=\"text/javascript\">                                    window.PLOTLYENV=window.PLOTLYENV || {};                                    if (document.getElementById(\"e615155c-5d25-4c02-8fdd-a2355a1bf61d\")) {                    Plotly.newPlot(                        \"e615155c-5d25-4c02-8fdd-a2355a1bf61d\",                        [{\"hovertemplate\":\"x=%{x}\\u003cbr\\u003ey=%{y}\\u003cbr\\u003ez=%{z}\\u003cbr\\u003etext=%{text}\\u003cextra\\u003e\\u003c\\u002fextra\\u003e\",\"legendgroup\":\"\",\"marker\":{\"color\":\"#636efa\",\"symbol\":\"circle\",\"line\":{\"width\":2},\"size\":3},\"mode\":\"markers+text\",\"name\":\"\",\"scene\":\"scene\",\"showlegend\":false,\"text\":[\"fined\",\"fe\",\"1400\",\"decree\",\"shielding\",\"bursters\",\"retard\",\"sc2\",\"visits\",\"atf\",\"malaria\",\"news\",\"keypad\",\"merge\",\"fully\",\"collider\",\"ciphertext\",\"podium\",\"catching\",\"oversteer\",\"expenditures\",\"payloads\",\"banks\",\"openwin\",\"ludwig\",\"2626\",\"sympathies\",\"toyota\",\"presented\",\"allegory\",\"cdr\",\"inmates\",\"pascal\",\"hers\",\"harmful\",\"involve\",\"fjr\",\"integral\",\"layout\",\"msu\",\"muscle\",\"yogi\",\"spark\",\"fluorescent\",\"adopted\",\"effort\",\"24x\",\"nl\",\"multiplexer\",\"conceive\",\"msc\",\"destroying\",\"electronics\",\"studio\",\"died\",\"bios\",\"venusian\",\"chuckle\",\"spared\",\"intercept\",\"nightline\",\"fuses\",\"difficulties\",\"thursday\",\"committees\",\"collegiate\",\"excommunication\",\"terrorist\",\"perspectives\",\"military\",\"misconduct\",\"saviour\",\"using\",\"israels\",\"solid\",\"discouraged\",\"invalidate\",\"163\",\"bunning\",\"effectively\",\"ohmite\",\"nice\",\"wri\",\"iqr\",\"unorganized\",\"kodak\",\"counter\",\"od\",\"metafile\",\"raised\",\"9c\",\"duplicate\",\"parallax\",\"peaceful\",\"indicate\",\"294\",\"amongst\",\"bosnian\",\"dramatic\",\"vehicles\",\"relating\",\"heyman\",\"dimension\",\"myopic\",\"4368\",\"ship\",\"234\",\"compatable\",\"separate\",\"account\",\"holland\",\"antennae\",\"seidov\",\"143\",\"m4u\",\"end\",\"9j\",\"melted\",\"proverbial\",\"massaged\",\"seemed\",\"undertook\",\"implemented\",\"frontal\",\"sternlight\",\"deceptive\",\"rinks\",\"1976\",\"dangerous\",\"approval\",\"293\",\"wbt\",\"wins\",\"backgrounds\",\"aerospace\",\"anatol\",\"oval\",\"marc\",\"crystal\",\"prof\",\"permits\",\"admiral\",\"moisture\",\"found\",\"kj\",\"proper\",\"642\",\"behold\",\"thugs\",\"frankly\",\"attendees\",\"_y\",\"subscribe\",\"references\",\"demanding\",\"mask\",\"a86r\",\"alicea\",\"overseas\",\"joslin\",\"blanked\",\"8c\",\"bastard\",\"tubing\",\"spelling\",\"feeds\",\"qs7\",\"aborted\",\"rockies\",\"crux\",\"cook\",\"72q\",\"uw1\",\"rk\",\"humanist\",\"sank\",\"ttddd\",\"bpl\",\"urbana\",\"bx\",\"gosselin\",\"amend\",\"unlimited\",\"ultra\",\"february\",\"shootout\",\"uw0\",\"luck\",\"culture\",\"articulated\",\"lives\",\"xsi\",\"kolstad\",\"os2\",\"readable\",\"omc\",\"914\",\"plastic\",\"carlson\",\"call\"],\"x\":[34.745564,0.7154474,-20.529352,25.773325,13.724909,14.029918,16.438852,10.892963,-1.3814362,-10.3780775,5.2468615,-23.441902,15.877331,-9.424707,-3.8786566,16.606657,-13.0693865,32.776123,15.334355,6.432905,20.651197,-21.63346,-25.09946,-1.9666303,2.7525249,-19.97599,11.745797,-31.30096,-5.1268535,7.6543746,16.340601,16.211807,-27.489058,29.50285,-5.4297466,-2.4123127,3.2414112,-1.4110521,-18.710226,5.1223764,-11.393515,27.29281,13.247796,-6.2984734,1.3538685,5.356188,-17.168282,-39.85537,20.446848,20.897324,12.415747,-8.995354,-19.196804,20.150394,-19.303707,-27.34321,4.6694765,14.666136,19.98818,-5.382021,0.102560855,12.937236,-2.091034,-34.955555,17.311293,-3.58795,12.332525,-15.664849,24.790174,-12.477689,-23.347729,18.15001,-22.811533,18.509691,-25.08129,13.366679,10.362827,-33.966114,-21.713064,2.0767014,-1.1131169,-27.300014,9.21171,-2.7611399,19.65057,8.898947,5.1756334,-34.878067,1.3354692,-9.952458,-2.5675962,13.127976,23.277388,0.7093373,6.4128995,-12.417553,-9.18016,-5.3635488,2.9372349,-26.20864,-4.2407284,-3.5822086,7.405042,26.33482,0.6538027,-12.738664,-21.314106,15.284469,-11.663787,8.331366,3.5798132,10.655328,21.101736,-25.15154,4.5313945,6.0763297,-7.7157497,12.828008,7.958561,22.264023,-0.9348901,22.918852,-15.148709,9.351678,17.469654,9.7997055,5.322968,-28.843714,2.1258245,-1.2466003,-12.3799515,27.568151,-31.378342,8.408565,-25.436996,-0.1765182,33.311314,-30.79985,-20.843163,-29.819494,-5.508697,22.574953,10.942024,-4.9554787,-34.507763,2.43585,-12.794094,14.810189,17.868486,0.6230463,-12.596276,13.811393,-2.2036989,-19.110455,-8.352093,-25.416405,1.8480297,-4.022575,-3.081602,26.590675,19.988497,-32.026913,8.037792,11.965531,-0.27176893,11.690527,-39.50828,1.072299,-27.015293,16.415678,-14.160456,-6.4495387,7.466223,-38.81962,-5.199295,-22.18704,2.4905634,-41.195866,-2.995759,-33.208992,9.447791,-28.205048,-9.377407,-21.761538,-35.002434,-2.11064,-10.849148,-21.416866,-18.03619,11.394268,-14.526567,17.9873,7.8070006,-30.315884,0.6925003,17.08096,-16.206968,-23.235058,-4.6906066,-1.8147722],\"y\":[-9.450657,-22.0329,-0.7134817,-21.336695,22.006823,-16.776249,6.3792667,-10.776062,-15.928639,29.4873,8.861773,18.06059,-9.965088,0.64344114,25.76778,-7.3356113,0.04607972,-14.685245,6.5009446,3.4753654,1.4744229,10.335213,21.7741,0.23213904,9.882818,4.0286956,-9.314591,-3.577036,34.633938,-7.350474,-18.754768,-0.32568797,-7.943901,-7.353916,18.782776,21.132675,-29.582396,8.874135,3.5122547,-31.63745,15.070836,-13.852183,11.783596,9.316916,17.666143,35.38193,-4.520865,4.147732,-15.762275,-22.453367,-27.031069,26.009815,9.686272,-17.667143,33.707108,1.5126057,-14.078676,-4.254157,-1.2209153,11.985805,-16.234566,18.632479,18.741446,19.659445,11.25733,6.39639,10.240482,25.700651,6.386368,32.70209,11.132433,13.4163265,4.2951655,5.4862933,21.758741,19.338629,5.206573,4.146766,9.488078,23.19749,-0.15623489,-14.823904,-29.332401,-20.159626,7.834877,-13.610291,24.116135,-10.66932,-0.060757272,34.317764,-32.362347,-4.4748864,-16.712042,28.322193,18.169449,6.9226966,22.693155,28.143257,14.110642,11.874207,16.21143,1.2017882,-21.51858,-4.778869,-1.9861878,-16.615187,-2.1878324,-19.963137,-7.42968,37.016315,2.7674026,3.2846837,13.183091,-0.5435261,-37.284855,41.669586,-19.326511,5.668889,0.96737266,-9.260368,15.583641,-16.547636,-6.805761,-14.7344675,-0.21958032,10.782382,-2.4161024,13.387136,30.59831,18.933228,-0.5457447,-1.629373,15.270473,16.51265,17.668667,-18.200386,-14.32546,7.0712557,9.890122,6.64014,17.653769,-1.3239367,4.1407347,33.518723,-3.4818628,26.391958,2.2121086,14.615749,18.090508,15.920567,10.623619,-15.40154,12.695966,15.614873,11.007582,-11.633838,-29.555027,-4.0057964,5.1715317,-15.237165,-12.3645735,-10.0264635,14.450952,1.221654,9.963162,-12.589214,-11.175174,-24.033737,8.961472,9.285822,-11.469369,-25.712286,-23.149366,-5.572772,13.113626,3.5027046,2.2911606,-8.586715,-11.915594,-0.5958532,0.74831116,17.240105,2.7643862,-3.8820674,22.92155,-21.848288,6.872807,-14.968338,29.693192,-14.483567,37.293114,-30.20728,-4.8680587,-2.3564281,4.560288,-7.008852,-1.9411172,-17.036816,2.8865898,13.050311],\"z\":[-16.919596,-14.059109,1.7796977,-13.734659,11.573751,-26.510256,-3.8980124,-4.378145,15.847484,6.263059,6.6046376,18.411877,13.437578,-19.297794,10.588226,-3.8807435,25.949417,-9.779186,-17.96875,-18.536966,9.856838,11.363597,-1.2399668,24.102583,-13.477159,-2.4547021,-9.8003,-6.707712,-9.631969,-3.8827875,-16.472187,-3.628022,13.511584,-7.924039,-2.076061,17.906607,-8.563211,4.187348,19.099955,2.5418234,-15.7874155,-7.8140316,-8.146235,-9.431005,3.1186972,-8.296413,11.171751,3.652884,2.5378253,-7.066437,-0.58603007,0.48865888,20.718002,18.441845,-5.495051,24.945732,10.462201,-11.125037,1.1239529,11.7175,7.5845184,8.542103,-6.412148,-3.9011981,16.911406,-1.9067297,5.724603,7.173336,-3.3076215,13.81657,-10.831511,-19.543468,28.864813,2.3537557,-6.7819767,-3.4080088,-2.8761425,-6.5860076,-14.586759,10.81226,-11.621412,-5.0960937,-10.1724615,-20.110588,9.359519,-18.953562,2.0906672,7.478468,12.675217,-8.138516,-6.137508,22.238668,8.87212,-1.0082109,20.18896,-6.4997563,-1.9530033,3.4475224,-4.7093143,13.414508,16.45843,4.738468,19.375694,-4.5382423,4.608135,15.303008,-5.681311,16.223362,28.151392,-5.842795,-4.248647,11.08638,2.5622232,-5.5604787,-13.121612,-9.133939,-11.283381,-8.817353,-9.324294,-0.41448972,-23.159128,-4.453892,24.211634,5.7832613,-9.167394,-14.031913,-26.297329,-7.385793,5.747869,11.0376,-1.496428,-12.383581,-14.266836,1.6345547,8.889024,12.3195715,-3.1779532,5.1317377,6.5708213,0.14500147,7.4903827,-8.731073,19.14934,-14.465394,5.1546474,14.15279,-5.85182,-23.155209,-11.360702,-19.048094,11.315658,-9.976419,21.167393,20.632439,0.56559044,0.75855774,-15.464757,-7.826424,9.240089,-17.501675,4.7960186,3.88957,-20.73444,1.6875342,-18.165142,13.56287,9.040291,3.270737,-11.379676,2.145416,-16.49087,-17.134401,-21.724123,-0.80427855,-3.0347967,-18.779215,8.502723,7.0836997,7.7936797,10.901902,-3.9616628,3.5449622,9.576112,14.093299,-0.91190016,12.451891,-13.563447,-4.153826,8.566768,-5.6327868,4.5706477,5.551722,-22.691448,16.471554,16.794394,-24.880686,-4.0660725,6.680874,-7.7509336,25.616356],\"type\":\"scatter3d\",\"textfont\":{\"size\":10}}],                        {\"template\":{\"data\":{\"histogram2dcontour\":[{\"type\":\"histogram2dcontour\",\"colorbar\":{\"outlinewidth\":0,\"ticks\":\"\"},\"colorscale\":[[0.0,\"#0d0887\"],[0.1111111111111111,\"#46039f\"],[0.2222222222222222,\"#7201a8\"],[0.3333333333333333,\"#9c179e\"],[0.4444444444444444,\"#bd3786\"],[0.5555555555555556,\"#d8576b\"],[0.6666666666666666,\"#ed7953\"],[0.7777777777777778,\"#fb9f3a\"],[0.8888888888888888,\"#fdca26\"],[1.0,\"#f0f921\"]]}],\"choropleth\":[{\"type\":\"choropleth\",\"colorbar\":{\"outlinewidth\":0,\"ticks\":\"\"}}],\"histogram2d\":[{\"type\":\"histogram2d\",\"colorbar\":{\"outlinewidth\":0,\"ticks\":\"\"},\"colorscale\":[[0.0,\"#0d0887\"],[0.1111111111111111,\"#46039f\"],[0.2222222222222222,\"#7201a8\"],[0.3333333333333333,\"#9c179e\"],[0.4444444444444444,\"#bd3786\"],[0.5555555555555556,\"#d8576b\"],[0.6666666666666666,\"#ed7953\"],[0.7777777777777778,\"#fb9f3a\"],[0.8888888888888888,\"#fdca26\"],[1.0,\"#f0f921\"]]}],\"heatmap\":[{\"type\":\"heatmap\",\"colorbar\":{\"outlinewidth\":0,\"ticks\":\"\"},\"colorscale\":[[0.0,\"#0d0887\"],[0.1111111111111111,\"#46039f\"],[0.2222222222222222,\"#7201a8\"],[0.3333333333333333,\"#9c179e\"],[0.4444444444444444,\"#bd3786\"],[0.5555555555555556,\"#d8576b\"],[0.6666666666666666,\"#ed7953\"],[0.7777777777777778,\"#fb9f3a\"],[0.8888888888888888,\"#fdca26\"],[1.0,\"#f0f921\"]]}],\"heatmapgl\":[{\"type\":\"heatmapgl\",\"colorbar\":{\"outlinewidth\":0,\"ticks\":\"\"},\"colorscale\":[[0.0,\"#0d0887\"],[0.1111111111111111,\"#46039f\"],[0.2222222222222222,\"#7201a8\"],[0.3333333333333333,\"#9c179e\"],[0.4444444444444444,\"#bd3786\"],[0.5555555555555556,\"#d8576b\"],[0.6666666666666666,\"#ed7953\"],[0.7777777777777778,\"#fb9f3a\"],[0.8888888888888888,\"#fdca26\"],[1.0,\"#f0f921\"]]}],\"contourcarpet\":[{\"type\":\"contourcarpet\",\"colorbar\":{\"outlinewidth\":0,\"ticks\":\"\"}}],\"contour\":[{\"type\":\"contour\",\"colorbar\":{\"outlinewidth\":0,\"ticks\":\"\"},\"colorscale\":[[0.0,\"#0d0887\"],[0.1111111111111111,\"#46039f\"],[0.2222222222222222,\"#7201a8\"],[0.3333333333333333,\"#9c179e\"],[0.4444444444444444,\"#bd3786\"],[0.5555555555555556,\"#d8576b\"],[0.6666666666666666,\"#ed7953\"],[0.7777777777777778,\"#fb9f3a\"],[0.8888888888888888,\"#fdca26\"],[1.0,\"#f0f921\"]]}],\"surface\":[{\"type\":\"surface\",\"colorbar\":{\"outlinewidth\":0,\"ticks\":\"\"},\"colorscale\":[[0.0,\"#0d0887\"],[0.1111111111111111,\"#46039f\"],[0.2222222222222222,\"#7201a8\"],[0.3333333333333333,\"#9c179e\"],[0.4444444444444444,\"#bd3786\"],[0.5555555555555556,\"#d8576b\"],[0.6666666666666666,\"#ed7953\"],[0.7777777777777778,\"#fb9f3a\"],[0.8888888888888888,\"#fdca26\"],[1.0,\"#f0f921\"]]}],\"mesh3d\":[{\"type\":\"mesh3d\",\"colorbar\":{\"outlinewidth\":0,\"ticks\":\"\"}}],\"scatter\":[{\"fillpattern\":{\"fillmode\":\"overlay\",\"size\":10,\"solidity\":0.2},\"type\":\"scatter\"}],\"parcoords\":[{\"type\":\"parcoords\",\"line\":{\"colorbar\":{\"outlinewidth\":0,\"ticks\":\"\"}}}],\"scatterpolargl\":[{\"type\":\"scatterpolargl\",\"marker\":{\"colorbar\":{\"outlinewidth\":0,\"ticks\":\"\"}}}],\"bar\":[{\"error_x\":{\"color\":\"#2a3f5f\"},\"error_y\":{\"color\":\"#2a3f5f\"},\"marker\":{\"line\":{\"color\":\"#E5ECF6\",\"width\":0.5},\"pattern\":{\"fillmode\":\"overlay\",\"size\":10,\"solidity\":0.2}},\"type\":\"bar\"}],\"scattergeo\":[{\"type\":\"scattergeo\",\"marker\":{\"colorbar\":{\"outlinewidth\":0,\"ticks\":\"\"}}}],\"scatterpolar\":[{\"type\":\"scatterpolar\",\"marker\":{\"colorbar\":{\"outlinewidth\":0,\"ticks\":\"\"}}}],\"histogram\":[{\"marker\":{\"pattern\":{\"fillmode\":\"overlay\",\"size\":10,\"solidity\":0.2}},\"type\":\"histogram\"}],\"scattergl\":[{\"type\":\"scattergl\",\"marker\":{\"colorbar\":{\"outlinewidth\":0,\"ticks\":\"\"}}}],\"scatter3d\":[{\"type\":\"scatter3d\",\"line\":{\"colorbar\":{\"outlinewidth\":0,\"ticks\":\"\"}},\"marker\":{\"colorbar\":{\"outlinewidth\":0,\"ticks\":\"\"}}}],\"scattermapbox\":[{\"type\":\"scattermapbox\",\"marker\":{\"colorbar\":{\"outlinewidth\":0,\"ticks\":\"\"}}}],\"scatterternary\":[{\"type\":\"scatterternary\",\"marker\":{\"colorbar\":{\"outlinewidth\":0,\"ticks\":\"\"}}}],\"scattercarpet\":[{\"type\":\"scattercarpet\",\"marker\":{\"colorbar\":{\"outlinewidth\":0,\"ticks\":\"\"}}}],\"carpet\":[{\"aaxis\":{\"endlinecolor\":\"#2a3f5f\",\"gridcolor\":\"white\",\"linecolor\":\"white\",\"minorgridcolor\":\"white\",\"startlinecolor\":\"#2a3f5f\"},\"baxis\":{\"endlinecolor\":\"#2a3f5f\",\"gridcolor\":\"white\",\"linecolor\":\"white\",\"minorgridcolor\":\"white\",\"startlinecolor\":\"#2a3f5f\"},\"type\":\"carpet\"}],\"table\":[{\"cells\":{\"fill\":{\"color\":\"#EBF0F8\"},\"line\":{\"color\":\"white\"}},\"header\":{\"fill\":{\"color\":\"#C8D4E3\"},\"line\":{\"color\":\"white\"}},\"type\":\"table\"}],\"barpolar\":[{\"marker\":{\"line\":{\"color\":\"#E5ECF6\",\"width\":0.5},\"pattern\":{\"fillmode\":\"overlay\",\"size\":10,\"solidity\":0.2}},\"type\":\"barpolar\"}],\"pie\":[{\"automargin\":true,\"type\":\"pie\"}]},\"layout\":{\"autotypenumbers\":\"strict\",\"colorway\":[\"#636efa\",\"#EF553B\",\"#00cc96\",\"#ab63fa\",\"#FFA15A\",\"#19d3f3\",\"#FF6692\",\"#B6E880\",\"#FF97FF\",\"#FECB52\"],\"font\":{\"color\":\"#2a3f5f\"},\"hovermode\":\"closest\",\"hoverlabel\":{\"align\":\"left\"},\"paper_bgcolor\":\"white\",\"plot_bgcolor\":\"#E5ECF6\",\"polar\":{\"bgcolor\":\"#E5ECF6\",\"angularaxis\":{\"gridcolor\":\"white\",\"linecolor\":\"white\",\"ticks\":\"\"},\"radialaxis\":{\"gridcolor\":\"white\",\"linecolor\":\"white\",\"ticks\":\"\"}},\"ternary\":{\"bgcolor\":\"#E5ECF6\",\"aaxis\":{\"gridcolor\":\"white\",\"linecolor\":\"white\",\"ticks\":\"\"},\"baxis\":{\"gridcolor\":\"white\",\"linecolor\":\"white\",\"ticks\":\"\"},\"caxis\":{\"gridcolor\":\"white\",\"linecolor\":\"white\",\"ticks\":\"\"}},\"coloraxis\":{\"colorbar\":{\"outlinewidth\":0,\"ticks\":\"\"}},\"colorscale\":{\"sequential\":[[0.0,\"#0d0887\"],[0.1111111111111111,\"#46039f\"],[0.2222222222222222,\"#7201a8\"],[0.3333333333333333,\"#9c179e\"],[0.4444444444444444,\"#bd3786\"],[0.5555555555555556,\"#d8576b\"],[0.6666666666666666,\"#ed7953\"],[0.7777777777777778,\"#fb9f3a\"],[0.8888888888888888,\"#fdca26\"],[1.0,\"#f0f921\"]],\"sequentialminus\":[[0.0,\"#0d0887\"],[0.1111111111111111,\"#46039f\"],[0.2222222222222222,\"#7201a8\"],[0.3333333333333333,\"#9c179e\"],[0.4444444444444444,\"#bd3786\"],[0.5555555555555556,\"#d8576b\"],[0.6666666666666666,\"#ed7953\"],[0.7777777777777778,\"#fb9f3a\"],[0.8888888888888888,\"#fdca26\"],[1.0,\"#f0f921\"]],\"diverging\":[[0,\"#8e0152\"],[0.1,\"#c51b7d\"],[0.2,\"#de77ae\"],[0.3,\"#f1b6da\"],[0.4,\"#fde0ef\"],[0.5,\"#f7f7f7\"],[0.6,\"#e6f5d0\"],[0.7,\"#b8e186\"],[0.8,\"#7fbc41\"],[0.9,\"#4d9221\"],[1,\"#276419\"]]},\"xaxis\":{\"gridcolor\":\"white\",\"linecolor\":\"white\",\"ticks\":\"\",\"title\":{\"standoff\":15},\"zerolinecolor\":\"white\",\"automargin\":true,\"zerolinewidth\":2},\"yaxis\":{\"gridcolor\":\"white\",\"linecolor\":\"white\",\"ticks\":\"\",\"title\":{\"standoff\":15},\"zerolinecolor\":\"white\",\"automargin\":true,\"zerolinewidth\":2},\"scene\":{\"xaxis\":{\"backgroundcolor\":\"#E5ECF6\",\"gridcolor\":\"white\",\"linecolor\":\"white\",\"showbackground\":true,\"ticks\":\"\",\"zerolinecolor\":\"white\",\"gridwidth\":2},\"yaxis\":{\"backgroundcolor\":\"#E5ECF6\",\"gridcolor\":\"white\",\"linecolor\":\"white\",\"showbackground\":true,\"ticks\":\"\",\"zerolinecolor\":\"white\",\"gridwidth\":2},\"zaxis\":{\"backgroundcolor\":\"#E5ECF6\",\"gridcolor\":\"white\",\"linecolor\":\"white\",\"showbackground\":true,\"ticks\":\"\",\"zerolinecolor\":\"white\",\"gridwidth\":2}},\"shapedefaults\":{\"line\":{\"color\":\"#2a3f5f\"}},\"annotationdefaults\":{\"arrowcolor\":\"#2a3f5f\",\"arrowhead\":0,\"arrowwidth\":1},\"geo\":{\"bgcolor\":\"white\",\"landcolor\":\"#E5ECF6\",\"subunitcolor\":\"white\",\"showland\":true,\"showlakes\":true,\"lakecolor\":\"white\"},\"title\":{\"x\":0.05},\"mapbox\":{\"style\":\"light\"}}},\"scene\":{\"domain\":{\"x\":[0.0,1.0],\"y\":[0.0,1.0]},\"xaxis\":{\"title\":{\"text\":\"x\"}},\"yaxis\":{\"title\":{\"text\":\"y\"}},\"zaxis\":{\"title\":{\"text\":\"z\"}}},\"legend\":{\"tracegroupgap\":0},\"margin\":{\"t\":60}},                        {\"responsive\": true}                    ).then(function(){\n",
              "                            \n",
              "var gd = document.getElementById('e615155c-5d25-4c02-8fdd-a2355a1bf61d');\n",
              "var x = new MutationObserver(function (mutations, observer) {{\n",
              "        var display = window.getComputedStyle(gd).display;\n",
              "        if (!display || display === 'none') {{\n",
              "            console.log([gd, 'removed!']);\n",
              "            Plotly.purge(gd);\n",
              "            observer.disconnect();\n",
              "        }}\n",
              "}});\n",
              "\n",
              "// Listen for the removal of the full notebook cells\n",
              "var notebookContainer = gd.closest('#notebook-container');\n",
              "if (notebookContainer) {{\n",
              "    x.observe(notebookContainer, {childList: true});\n",
              "}}\n",
              "\n",
              "// Listen for the clearing of the current output cell\n",
              "var outputEl = gd.closest('.output');\n",
              "if (outputEl) {{\n",
              "    x.observe(outputEl, {childList: true});\n",
              "}}\n",
              "\n",
              "                        })                };                            </script>        </div>\n",
              "</body>\n",
              "</html>"
            ]
          },
          "metadata": {}
        }
      ],
      "source": [
        "fig = px.scatter_3d(x=x[:200],y=y[:200],z=z[:200],text=sample[:200])\n",
        "fig.update_traces(marker=dict(size=3,line=dict(width=2)),textfont_size=10)\n",
        "fig.show()"
      ]
    },
    {
      "cell_type": "markdown",
      "metadata": {
        "id": "Pr1QqmH9YHlL"
      },
      "source": [
        "Let's extend the random set of terms with a set of colours to see if they cluster:"
      ]
    },
    {
      "cell_type": "code",
      "execution_count": 27,
      "metadata": {
        "id": "K_z7NLqgYHlL"
      },
      "outputs": [],
      "source": [
        "# Add some specific terms to sample:\n",
        "colours = ['red','green','blue','orange','yellow','purple','pink','cream','brown','black','white','gray']\n",
        "\n",
        "word_vectors = model.wv[colours+sample]\n",
        "\n",
        "tsne = TSNE(n_components=3)\n",
        "tsne_embedding = tsne.fit_transform(word_vectors)\n",
        "\n",
        "x, y, z = np.transpose(tsne_embedding)"
      ]
    },
    {
      "cell_type": "code",
      "execution_count": 28,
      "metadata": {
        "id": "fOBvqtDE-HZL",
        "colab": {
          "base_uri": "https://localhost:8080/",
          "height": 542
        },
        "outputId": "965f6c1a-debd-4941-a115-c60dabfeb47d"
      },
      "outputs": [
        {
          "output_type": "display_data",
          "data": {
            "text/html": [
              "<html>\n",
              "<head><meta charset=\"utf-8\" /></head>\n",
              "<body>\n",
              "    <div>            <script src=\"https://cdnjs.cloudflare.com/ajax/libs/mathjax/2.7.5/MathJax.js?config=TeX-AMS-MML_SVG\"></script><script type=\"text/javascript\">if (window.MathJax && window.MathJax.Hub && window.MathJax.Hub.Config) {window.MathJax.Hub.Config({SVG: {font: \"STIX-Web\"}});}</script>                <script type=\"text/javascript\">window.PlotlyConfig = {MathJaxConfig: 'local'};</script>\n",
              "        <script charset=\"utf-8\" src=\"https://cdn.plot.ly/plotly-2.35.2.min.js\"></script>                <div id=\"b7c48f5e-2a9c-49bd-ab19-451f0a6b0cef\" class=\"plotly-graph-div\" style=\"height:525px; width:100%;\"></div>            <script type=\"text/javascript\">                                    window.PLOTLYENV=window.PLOTLYENV || {};                                    if (document.getElementById(\"b7c48f5e-2a9c-49bd-ab19-451f0a6b0cef\")) {                    Plotly.newPlot(                        \"b7c48f5e-2a9c-49bd-ab19-451f0a6b0cef\",                        [{\"hovertemplate\":\"x=%{x}\\u003cbr\\u003ey=%{y}\\u003cbr\\u003ez=%{z}\\u003cbr\\u003etext=%{text}\\u003cextra\\u003e\\u003c\\u002fextra\\u003e\",\"legendgroup\":\"\",\"marker\":{\"color\":\"#636efa\",\"symbol\":\"circle\",\"line\":{\"width\":2},\"size\":3},\"mode\":\"markers+text\",\"name\":\"\",\"scene\":\"scene\",\"showlegend\":false,\"text\":[\"red\",\"green\",\"blue\",\"orange\",\"yellow\",\"purple\",\"pink\",\"cream\",\"brown\",\"black\",\"white\",\"gray\",null,null,null,null,null,null,null,null,null,null,null,null,null,null,null,null,null,null,null,null,null,null,null,null,null,null,null,null,null,null,null,null,null,null,null,null,null,null,null,null,null,null,null,null,null,null,null,null,null,null,null,null,null,null,null,null,null,null,null,null,null,null,null,null,null,null,null,null,null,null,null,null,null,null,null,null,null,null,null,null,null,null,null,null,null,null,null,null,null,null,null,null,null,null,null,null,null,null,null,null,null,null,null,null,null,null,null,null,null,null,null,null,null,null,null,null,null,null,null,null,null,null,null,null,null,null,null,null,null,null,null,null,null,null,null,null,null,null,null,null,null,null,null,null,null,null,null,null,null,null,null,null,null,null,null,null,null,null,null,null,null,null,null,null,null,null,null,null,null,null,null,null,null,null,null,null,null,null,null,null,null,null,null,null,null,null,null,null,null,null,null,null,null,null,null,null,null,null,null,null,null,null,null,null,null,null,null,null,null,null,null,null,null,null,null,null,null,null,null,null,null,null,null,null,null,null,null,null,null,null,null,null,null,null,null,null,null,null,null,null,null,null,null,null,null,null,null,null,null,null,null,null,null,null,null,null,null,null,null,null,null,null,null,null,null,null,null,null,null,null,null,null,null,null,null,null,null,null,null,null,null,null,null,null,null,null,null,null,null,null,null,null,null,null,null,null,null,null,null,null,null,null,null,null,null,null,null,null,null,null,null,null,null,null,null,null,null,null,null,null,null,null,null,null,null,null,null,null,null,null,null,null,null,null,null,null,null,null,null,null,null,null,null,null,null,null,null,null,null,null,null,null,null,null,null,null,null,null,null,null,null,null,null,null,null,null,null,null,null,null,null,null,null,null,null,null,null,null,null,null,null,null,null,null,null,null,null,null,null,null,null,null,null,null,null,null,null,null,null,null,null,null,null,null,null,null,null,null,null,null,null,null,null,null,null,null,null,null,null,null,null,null,null,null,null,null,null,null,null,null,null,null,null,null,null,null,null,null,null,null,null,null,null,null,null,null,null,null,null,null,null,null,null,null,null,null,null,null,null,null,null,null,null,null,null,null,null,null,null,null,null,null,null,null,null,null,null,null,null,null,null,null,null,null,null,null,null,null,null,null,null,null,null,null,null,null,null,null,null,null],\"x\":[2.4740524,-3.3528686,-0.9973416,-1.5368302,1.078777,-17.69512,1.1777133,0.5372242,1.3829834,11.657888,27.581184,9.535221,-7.274918,-18.085045,5.1020074,-13.444765,5.4714537,5.710607,8.488743,-8.242133,6.8918333,32.668297,7.878606,16.022192,-5.8396673,-11.337457,25.17481,-6.3596225,10.878921,-12.115379,13.65469,4.3258595,1.2715783,13.547466,18.808065,3.748799,8.46437,-0.61001635,-9.765679,-1.8237078,29.832258,-6.539131,-20.564236,2.4514058,-16.09646,-4.655589,19.974306,25.17777,-27.29429,11.040321,10.686583,-28.083582,12.683646,-11.750398,17.85297,7.722654,21.06005,31.424088,-7.962129,-3.2098272,-15.079748,-20.393856,-23.471899,28.13644,8.135181,-14.765278,34.708466,-14.261243,0.6897033,-7.2327056,0.46111405,14.97861,-0.47497234,7.3604465,17.658678,10.126957,14.397252,10.189464,10.967477,27.791956,7.7963376,33.1976,7.324968,8.757734,-19.025782,6.2012863,14.348915,18.10301,5.9055047,-4.1063237,6.537978,20.623117,-8.573287,5.744449,-27.371983,-23.169619,6.194316,-9.371725,19.56989,-18.210714,3.2060134,31.811352,-28.84673,-9.449266,-13.592296,29.60056,17.469173,-4.717698,24.989094,29.085196,14.476251,17.819387,21.019611,-5.5162606,-12.114227,-3.9994204,-3.905237,-9.601845,-5.6356587,-17.897196,12.516824,30.67,2.654004,6.284784,2.9899597,-4.890292,-34.013622,28.829336,-16.61729,2.5584722,-1.2552202,-6.409612,12.714494,-13.8335,14.967204,-24.845398,-3.202156,10.908234,-8.96592,7.56993,28.093649,19.727045,-2.3099003,-3.1241155,8.385922,20.288345,14.275639,3.0829542,-10.176094,-6.301329,12.163595,3.0667555,17.00967,-1.8261677,11.577351,28.73137,-15.020443,24.480303,-4.373356,9.319149,4.828811,12.204773,9.551984,-14.803523,22.373909,13.632628,22.855598,4.812609,-30.014969,-5.9753723,9.016263,-13.187423,-17.860453,-13.9557,8.861477,-0.04170664,7.2064657,-4.6235366,-22.682846,-18.714794,3.7998002,8.848828,3.8118396,-22.873774,-21.781618,-16.279676,14.966149,19.849703,1.6484821,-22.180687,-3.6758494,-15.783356,1.8904799,9.625041,3.77515,-11.3207655,12.534949,1.9279207,-9.9010515,9.309703,27.826704,-11.818584,36.564884,-26.056818,-8.090319,-18.799309,8.007415,-15.914742,-2.5719004,6.8544664,-10.086705,25.101927,0.59383166,13.657454,-7.701285,-16.07281,-9.659304,17.627829,-8.228945,-23.760193,-11.734614,26.483503,-4.176236,-15.983345,-16.326174,-21.805405,-16.717829,-10.366239,-9.520997,-12.805014,-20.37162,3.8643591,21.665783,-12.980889,18.329151,-11.061631,2.8007126,3.347813,-14.469665,-1.7008086,-2.4164965,33.12098,1.3501786,29.210922,9.214765,27.702353,29.875349,-17.347782,25.297499,-25.149,-0.58524734,-1.9345471,-7.9776506,-14.878909,-11.830925,-13.301797,-20.916819,18.299726,-8.790194,3.6300688,-1.48101,11.882157,-6.165394,10.984029,-0.30055165,-21.32156,-3.0269961,3.618003,-8.292083,-9.347928,-7.4035654,1.6170896,2.8748376,1.4838887,10.887025,-4.942545,-20.591053,3.818342,26.79887,7.697784,2.9439423,-1.9698944,32.386024,24.132404,-12.690314,-20.870882,-5.7001467,-11.685702,-30.53597,26.626791,13.802201,-5.518758,0.49774307,9.072897,13.817333,-21.504616,-6.842432,0.6316181,27.8833,-11.821858,-26.77437,21.751503,2.3250241,-19.933498,34.983784,-18.515871,-14.44944,-6.9628925,-23.78555,11.950434,4.9210057,-7.6647778,-1.8321891,12.768872,10.011697,21.692461,1.0941474,-12.1187315,36.271748,0.12160532,-13.123785,15.301018,2.9321787,31.004513,-4.2009835,-6.025104,-6.1212773,-3.365316,3.5007915,-0.05778902,-1.7523792,13.41604,15.176,16.021328,-22.738302,0.4207092,-11.48544,-0.66864204,-3.4151738,6.732606,-23.33848,-0.1777981,15.622455,20.65736,5.8263927,7.7987065,0.7980903,7.334045,4.830846,19.123251,-3.4119308,21.357317,-4.3945894,9.876852,9.708858,-2.0576053,32.10901,-0.38338086,9.192081,-3.0856714,-8.3487,-12.697801,2.727401,-11.536617,28.499426,1.8968848,1.2872366,15.121552,-18.940517,17.918974,26.399685,-1.2796443,-4.9910035,-4.3513556,32.51241,3.3758004,-18.490908,16.070805,-5.041161,-1.2483683,-16.803705,19.14775,37.33348,1.0223681,0.7168223,-16.217222,28.00864,-13.135178,-4.685436,35.68064,10.5976,10.103515,-2.582144,-1.1643147,-6.2611866,1.9378916,-28.839867,14.29531,13.84817,-28.98319,-19.56615,-16.449224,13.683247,-17.5287,-7.406667,17.846075,11.102197,-2.9895334,11.51114,-17.59976,0.10647941,21.549435,7.938956,-22.015928,7.211041,5.3892293,8.672377,19.336523,-25.901651,10.738687,13.573136,-12.081175,-1.7738549,3.8728662,-17.242025,-20.171848,-0.16917916,12.497579,31.359974,0.6157051,16.281506,31.33411,21.826126,-3.3920774,-7.7534413,-16.0822,-15.881653,22.876245,-22.870178,-10.2873535,-7.488382,5.0905995,18.855831,4.905794,10.652837,1.0668161,-21.079433,-27.220877,17.12224,-11.413779,-18.709883,-24.201015,8.509566,6.1998405,-3.8956602,8.846828,16.980572,14.244335,-20.553648,15.543087,14.610875,-4.0365543,4.730318,-15.2781105,13.385735,-17.054617,-13.545,-15.84286,-23.31264,-11.451474,8.088262,2.7920904,6.951903,22.207418,-21.382912,-19.893719,36.126877,17.613335,13.807239,16.01378,-6.126789,-3.1490111,13.973693,22.406082,-5.0162177,-21.334122,1.6723201,-3.8329158,29.48226,-23.076555,9.6456785,-27.20449,-11.698534,-10.019868,2.7252622,5.498533,-9.686842,27.386642,-20.250664,-0.069948524,-2.7852414,21.838058,-15.412324,19.935776,16.456032,-6.5094967,7.8081017,4.8559504,-12.381023,0.09442778,-3.9671984,14.017082],\"y\":[38.965702,35.622692,37.641876,24.428638,19.808218,-19.145708,20.143904,7.0488687,33.5455,31.718727,19.25133,19.609364,-29.93942,1.2696507,19.753138,-26.26191,0.7561756,-28.826738,-14.612574,-10.675096,-16.159681,5.4689455,-28.513597,21.147373,-20.320545,3.4739764,-0.77543837,-18.75052,3.2293475,-33.47549,-16.313414,-3.069621,-16.826021,18.859703,25.448658,-2.9308543,-1.2201843,17.303598,-10.261895,26.74699,14.011718,-13.007714,-11.831256,-15.802177,20.486452,-30.589537,4.2183294,-8.040214,-2.1188881,4.718654,20.953993,-7.6508045,8.52325,-28.102987,-10.638193,9.528963,-3.222671,-0.017217781,17.507582,33.401585,-19.299332,-26.422338,-12.890765,4.9137783,16.382864,-19.927107,18.866226,28.85142,-16.411583,-12.6564865,-20.449015,-6.337605,-13.91642,4.3766317,1.1770709,33.898666,-20.771656,-3.9202714,-10.733613,15.617039,-21.986965,17.9275,27.306293,-18.520517,27.984661,-17.473024,27.49911,-14.400079,-10.096572,28.902634,27.21974,0.7273508,4.287036,19.696196,-6.4484444,-4.022325,-17.042368,-3.1346147,5.2133102,14.542908,-3.9580317,14.169668,3.0603,-11.833958,-17.464804,-2.0899675,-14.318318,14.401565,3.2890303,-0.4492016,-3.9973345,16.130255,-7.484421,-1.2074711,-25.638296,-26.41139,-5.956029,7.1906304,20.492374,-15.39798,6.013768,-3.832465,-0.6736336,-12.539048,-24.019999,24.080984,-2.6765208,-1.379998,7.8069987,-9.862986,-7.4576187,-23.545946,4.7669816,-22.992392,3.5218132,-19.259048,-20.893322,-9.683708,-3.8642838,30.32517,4.930737,-1.4278497,10.276262,-24.21344,35.97512,-7.9070535,21.75447,-17.558348,-33.879597,24.126556,23.30243,21.974634,-1.0870088,-19.739353,-13.48293,15.563321,20.489641,-0.88476586,10.631277,-19.927528,-10.054434,1.1366208,12.658177,-13.45579,-8.331142,16.853964,2.7120247,15.233276,2.054524,3.888865,-2.0181649,-31.346458,-20.07834,15.917877,-4.640886,-11.72705,2.5326757,-20.855654,15.44065,-5.7276335,29.230268,-14.77194,-4.0160146,10.623615,8.341872,15.857021,4.0829363,13.950877,-1.9897108,16.08595,-9.269172,24.720295,-11.028515,25.159245,5.768879,21.13984,32.712612,-20.10991,14.628172,14.712123,13.384666,-11.428063,13.401408,-21.188477,-6.4794416,25.99986,-4.284902,-10.884857,14.381494,20.651672,9.3538475,-9.06217,23.474403,30.962828,-12.887165,-8.460421,-32.586323,23.848133,12.21983,-4.4311714,-18.131977,4.7230453,-28.674898,-14.855892,3.8678772,26.512781,-12.437029,-19.251987,8.733745,-28.167454,-8.896898,7.466135,20.788357,-17.264463,1.5838617,-32.768684,30.390976,10.16667,28.496267,-1.9967295,5.528182,21.873241,-20.365807,10.144776,15.1204605,-4.8104854,12.662464,-13.541838,0.97372615,6.1828403,12.482522,21.511978,-22.944788,-11.065318,-2.062548,5.530084,15.247301,-21.064327,-24.997929,37.13624,25.807673,16.172247,-5.731393,-10.59695,0.12895973,22.406096,-6.9308567,6.8695717,8.952822,-28.121147,-16.478199,14.234266,-1.8860471,0.860688,-22.65067,-12.469916,5.889739,-3.3757355,2.508891,-4.38044,25.138391,34.809357,1.1902899,10.815001,-20.312206,12.854652,6.692478,-14.031463,-3.1386893,9.758662,-7.256392,33.5994,-0.3410682,-0.8773061,34.05414,-11.434941,27.157463,20.293846,9.733763,18.682142,-10.951903,6.011584,3.271218,-15.292169,10.818772,19.561192,-1.3405154,-28.687368,1.6908915,-2.7601368,14.779128,-15.170704,-15.137706,23.974302,17.410051,5.6113663,30.557854,1.7679088,6.8941555,15.790394,-2.299212,-10.899428,-16.007906,4.4807224,-18.046484,3.0651064,4.8657384,11.531679,13.39108,2.9948967,19.662199,-27.046408,-1.7077632,5.8407903,5.1683073,-11.160676,-9.925827,-27.10426,-18.021708,-8.986823,4.8062687,-23.151949,11.326995,-20.104994,9.189072,3.5751193,24.07617,32.52463,13.960054,15.312021,-15.9556,12.596887,-0.40395832,1.9092661,-13.579582,10.431026,2.3146648,8.452583,12.223374,-7.7675266,-6.102894,-8.582574,-7.0857472,-8.637021,-2.9180343,-5.835166,-8.623635,19.00204,-18.813688,-12.722221,0.2245307,-30.656038,-1.4732215,-25.601543,6.504368,-23.408781,-16.54172,0.9969551,19.935804,-34.986282,13.045702,19.862434,11.793996,-3.168035,9.567679,-5.1067433,-7.1641707,28.898746,-2.8827446,1.1650984,10.164282,16.272257,10.685964,7.7642584,-18.32435,-16.073349,0.847197,25.990297,-4.121866,8.541981,19.657253,-31.52113,0.26092386,17.920164,-1.8123797,8.385092,-10.487008,38.655247,1.5524435,-25.689657,24.331444,-2.132539,2.8981242,-6.6961317,32.06129,-23.535034,-20.621145,-15.107365,-12.647264,11.426102,-16.082859,-20.328714,-2.993398,-15.029586,-3.6864736,-2.8872259,39.326756,-5.545602,19.034428,-23.65979,-10.45061,7.4712076,8.098246,-11.395623,-21.678993,-27.741058,-6.9092374,17.43014,-21.259388,2.8677154,-5.9082694,-31.46173,4.924324,-17.951841,-26.182686,-31.535744,-29.419867,-3.7548556,9.251094,-23.689285,2.1630557,-19.40578,-12.628137,28.522383,-11.626864,-21.802599,13.021451,-1.6660331,28.175722,-6.6134696,10.40276,14.048791,-6.640526,7.72415,17.388067,-20.698778,-10.303313,19.233686,-2.089642,-17.7134,2.6727965,6.9504814,12.894787,18.169638,-25.200317,-1.1665088,10.525273,11.636424,-21.737001,1.4132116,21.190369,-13.512193,20.998625,9.953317,-10.804592,-21.629683,1.7447397,26.571394,16.91781,1.8328476,-16.382765,-9.509307,-17.00835,-22.545721,-9.233944,25.77843,24.915823,-6.490064,-17.696995,-9.283027,-3.351138,3.8997881,-3.0752375,-0.6089809,-7.1495085,-15.546703,-24.533339,-8.88673,-6.841462,-15.991593,5.176546,9.99923],\"z\":[-3.271672,-2.3554306,-1.9015985,-2.570706,-9.912812,-17.483593,-2.3308554,-8.433692,13.290569,-8.753401,0.5865685,-5.0267253,-20.71026,2.8825607,4.44815,-13.903119,-0.39382112,2.761393,-9.148321,-1.62508,20.179585,2.2251678,6.973741,18.25562,10.25614,9.093576,7.728253,-4.763716,25.814167,-9.68358,-14.128235,-3.8543193,8.339613,5.222846,-4.994983,22.594147,-15.318683,5.7426305,-8.196585,-7.7923927,-11.127729,-5.038483,-12.038016,-6.1869874,-3.1999354,-9.343062,-3.3632429,8.339851,1.8855491,8.657486,-1.9419262,10.382926,-9.331072,-8.660048,-15.414677,-4.687774,0.72632164,18.343102,-11.221712,13.27625,2.468234,-8.366201,4.194544,-0.15587564,-0.9873126,16.64968,-1.9160461,-7.362065,14.276068,-14.617305,-3.5922437,9.091888,19.310163,-0.44114116,-6.692657,11.383384,5.595591,1.2080449,1.2705922,5.177485,-7.1861396,10.71598,0.9681873,-18.859598,-10.678985,-1.2803147,-6.7025437,-5.2841144,-8.94921,4.0290165,-3.1527033,14.607947,-10.879811,-19.561827,-1.8678275,-8.936665,10.67116,2.8494475,8.571797,4.909499,11.2542515,-7.114075,6.3340254,15.112598,7.4169397,-5.7316885,17.086777,3.6499631,-1.5265032,2.1296036,-4.199718,5.304872,11.180745,8.338975,8.668154,-6.8774624,8.348785,17.421976,3.5260067,16.2945,19.234238,18.422045,-11.628382,6.586287,-19.911715,2.1147585,-5.9340262,23.429081,3.5324235,-14.535421,-11.360277,-0.9105372,-22.108232,-5.0202312,15.921632,-10.695845,-21.513662,-13.416889,-23.570211,5.641048,10.620504,10.083038,1.7417915,-13.439812,1.269334,-5.585776,11.109363,19.63115,-3.9072976,13.559373,4.28959,10.919593,5.772668,-11.413019,10.151055,-15.235184,9.850876,14.953676,5.8007927,-23.21291,-21.304173,-20.300709,10.806886,-5.8649783,17.096552,19.09445,-17.06264,-15.591041,-1.5333627,-5.592547,8.874227,-16.69194,-0.20589778,5.134091,-19.8824,-1.637364,-18.478487,14.861686,5.971646,9.972417,1.2149537,-2.6031842,-25.05754,0.03084288,-10.620537,14.579849,-1.5469509,-22.050686,7.8444996,9.266218,18.991554,5.4500313,-7.831216,12.03229,8.100107,-9.514181,14.514292,22.249548,-0.9913611,-18.845142,9.63934,-2.5833669,3.2787573,7.0971727,-19.822395,0.7115136,15.246348,-22.05692,-0.7233577,-9.688465,-9.576922,20.218615,2.8798926,-4.4781857,4.3722878,19.855051,-12.9424305,5.0824604,9.751777,3.6130476,-1.5620244,4.1156287,-16.88594,-12.921746,-1.1310424,6.582838,10.466738,-16.315575,2.1803865,-2.479051,3.6439323,20.72296,7.9591293,21.482471,21.14317,4.035716,8.281663,2.7952473,5.0409408,2.8801777,19.689373,-5.372018,-15.291141,13.67198,-7.7375846,-0.22574519,-3.196436,-0.19325732,-8.373363,0.55640227,6.552321,9.3901205,-8.979891,-10.156097,-8.322497,-18.28283,-13.532025,9.092472,-12.80829,11.393522,12.951314,-10.033818,13.602287,-23.750748,-7.430507,9.70276,3.5547075,-11.294841,-4.230933,-3.8437576,-10.048457,3.3432448,14.214515,-15.667458,-1.7257684,-22.999573,1.7301998,4.060405,21.165297,-9.053355,-1.3534403,8.664464,-2.4884973,5.753214,-10.432525,-10.425487,-0.31090143,-10.5911255,-3.7224617,-2.5841959,-8.803852,5.538214,-23.888744,23.5092,-1.0403785,13.731636,-1.5393616,18.35003,2.2468681,3.1572647,-1.666281,13.197456,13.529894,-5.199653,-8.963577,15.446483,-4.1117387,1.8416842,4.6096907,-24.94623,22.13044,-0.20294438,-7.037056,-15.733722,12.355148,1.8260565,-8.810703,-0.079610825,6.103095,10.145143,-16.198236,17.883652,2.890135,-7.8393855,5.5177135,4.625017,14.37101,-14.470578,8.050661,-3.499528,14.14887,-0.6474934,28.1804,25.356731,7.862604,5.73296,-14.855738,-10.1899605,0.06594121,9.077737,-8.762505,7.1043334,13.336039,-12.161717,15.896957,-4.3539276,-12.965063,-0.65730006,-8.247419,18.111183,-16.433874,-2.5323431,-5.776737,-7.276121,-15.757448,-10.362382,11.846337,10.787372,6.497965,-5.5908456,-4.3861766,0.4290648,16.209883,8.258993,-10.979037,-6.558075,10.1105,-2.620407,-7.021634,-20.68209,-18.176697,-5.646731,-11.053396,10.094144,16.839323,-9.468719,5.8134694,11.554368,-1.3413993,1.2659827,12.521136,13.864148,10.146213,24.616356,-2.417345,6.264082,-12.479763,-10.241097,-17.614788,9.9159775,3.3407683,-14.002826,19.40851,14.802492,-16.019043,-27.324678,11.599177,-18.784437,11.844155,1.6818668,5.1273947,-5.2291884,-10.497464,9.781317,-1.7287166,-2.0393076,-4.001429,3.099381,3.0277753,-1.5999199,6.812103,-10.597929,14.716932,-0.007610591,13.167496,16.729008,5.355155,-0.29157126,8.945635,-22.201664,2.9011014,-23.112524,-2.4620426,-15.405803,-14.710209,-12.293358,8.097589,-16.531607,-2.302366,-0.06642722,-6.2046456,-3.5097303,19.46843,-8.829876,4.3618474,2.3546307,-5.3709645,7.12348,2.824812,-5.741105,-12.174804,-15.107445,-11.093867,-11.879823,-10.613637,-10.927274,-0.14240636,7.341622,-6.735168,0.26957813,-6.6668334,-5.9898567,-20.315676,12.087159,1.5548128,-11.866163,-13.514339,24.012695,10.881373,1.0525165,9.2728,9.015323,-14.022934,-4.514481,1.0523081,-10.367988,-18.213993,0.67086494,0.61708724,12.645704,21.612917,25.395342,18.61908,-5.8382244,7.8810735,-2.2638843,5.8691287,-24.09914,-5.7753315,0.69930583,-8.718143,23.085972,-12.419529,-10.111235,9.623945,9.485794,18.272314,8.033788,11.784398,-5.3033767,5.4741364,2.6590538,-6.788424,-3.930405,4.0425315,5.327581,9.169523,23.783548,11.65514,-18.354898,12.818309,22.767357,-0.34485573,-3.3941774,16.746378,9.697186,-3.0174718,-1.309755,17.520138,-1.9702893,-13.029611,-2.9363623],\"type\":\"scatter3d\",\"textfont\":{\"size\":10}}],                        {\"template\":{\"data\":{\"histogram2dcontour\":[{\"type\":\"histogram2dcontour\",\"colorbar\":{\"outlinewidth\":0,\"ticks\":\"\"},\"colorscale\":[[0.0,\"#0d0887\"],[0.1111111111111111,\"#46039f\"],[0.2222222222222222,\"#7201a8\"],[0.3333333333333333,\"#9c179e\"],[0.4444444444444444,\"#bd3786\"],[0.5555555555555556,\"#d8576b\"],[0.6666666666666666,\"#ed7953\"],[0.7777777777777778,\"#fb9f3a\"],[0.8888888888888888,\"#fdca26\"],[1.0,\"#f0f921\"]]}],\"choropleth\":[{\"type\":\"choropleth\",\"colorbar\":{\"outlinewidth\":0,\"ticks\":\"\"}}],\"histogram2d\":[{\"type\":\"histogram2d\",\"colorbar\":{\"outlinewidth\":0,\"ticks\":\"\"},\"colorscale\":[[0.0,\"#0d0887\"],[0.1111111111111111,\"#46039f\"],[0.2222222222222222,\"#7201a8\"],[0.3333333333333333,\"#9c179e\"],[0.4444444444444444,\"#bd3786\"],[0.5555555555555556,\"#d8576b\"],[0.6666666666666666,\"#ed7953\"],[0.7777777777777778,\"#fb9f3a\"],[0.8888888888888888,\"#fdca26\"],[1.0,\"#f0f921\"]]}],\"heatmap\":[{\"type\":\"heatmap\",\"colorbar\":{\"outlinewidth\":0,\"ticks\":\"\"},\"colorscale\":[[0.0,\"#0d0887\"],[0.1111111111111111,\"#46039f\"],[0.2222222222222222,\"#7201a8\"],[0.3333333333333333,\"#9c179e\"],[0.4444444444444444,\"#bd3786\"],[0.5555555555555556,\"#d8576b\"],[0.6666666666666666,\"#ed7953\"],[0.7777777777777778,\"#fb9f3a\"],[0.8888888888888888,\"#fdca26\"],[1.0,\"#f0f921\"]]}],\"heatmapgl\":[{\"type\":\"heatmapgl\",\"colorbar\":{\"outlinewidth\":0,\"ticks\":\"\"},\"colorscale\":[[0.0,\"#0d0887\"],[0.1111111111111111,\"#46039f\"],[0.2222222222222222,\"#7201a8\"],[0.3333333333333333,\"#9c179e\"],[0.4444444444444444,\"#bd3786\"],[0.5555555555555556,\"#d8576b\"],[0.6666666666666666,\"#ed7953\"],[0.7777777777777778,\"#fb9f3a\"],[0.8888888888888888,\"#fdca26\"],[1.0,\"#f0f921\"]]}],\"contourcarpet\":[{\"type\":\"contourcarpet\",\"colorbar\":{\"outlinewidth\":0,\"ticks\":\"\"}}],\"contour\":[{\"type\":\"contour\",\"colorbar\":{\"outlinewidth\":0,\"ticks\":\"\"},\"colorscale\":[[0.0,\"#0d0887\"],[0.1111111111111111,\"#46039f\"],[0.2222222222222222,\"#7201a8\"],[0.3333333333333333,\"#9c179e\"],[0.4444444444444444,\"#bd3786\"],[0.5555555555555556,\"#d8576b\"],[0.6666666666666666,\"#ed7953\"],[0.7777777777777778,\"#fb9f3a\"],[0.8888888888888888,\"#fdca26\"],[1.0,\"#f0f921\"]]}],\"surface\":[{\"type\":\"surface\",\"colorbar\":{\"outlinewidth\":0,\"ticks\":\"\"},\"colorscale\":[[0.0,\"#0d0887\"],[0.1111111111111111,\"#46039f\"],[0.2222222222222222,\"#7201a8\"],[0.3333333333333333,\"#9c179e\"],[0.4444444444444444,\"#bd3786\"],[0.5555555555555556,\"#d8576b\"],[0.6666666666666666,\"#ed7953\"],[0.7777777777777778,\"#fb9f3a\"],[0.8888888888888888,\"#fdca26\"],[1.0,\"#f0f921\"]]}],\"mesh3d\":[{\"type\":\"mesh3d\",\"colorbar\":{\"outlinewidth\":0,\"ticks\":\"\"}}],\"scatter\":[{\"fillpattern\":{\"fillmode\":\"overlay\",\"size\":10,\"solidity\":0.2},\"type\":\"scatter\"}],\"parcoords\":[{\"type\":\"parcoords\",\"line\":{\"colorbar\":{\"outlinewidth\":0,\"ticks\":\"\"}}}],\"scatterpolargl\":[{\"type\":\"scatterpolargl\",\"marker\":{\"colorbar\":{\"outlinewidth\":0,\"ticks\":\"\"}}}],\"bar\":[{\"error_x\":{\"color\":\"#2a3f5f\"},\"error_y\":{\"color\":\"#2a3f5f\"},\"marker\":{\"line\":{\"color\":\"#E5ECF6\",\"width\":0.5},\"pattern\":{\"fillmode\":\"overlay\",\"size\":10,\"solidity\":0.2}},\"type\":\"bar\"}],\"scattergeo\":[{\"type\":\"scattergeo\",\"marker\":{\"colorbar\":{\"outlinewidth\":0,\"ticks\":\"\"}}}],\"scatterpolar\":[{\"type\":\"scatterpolar\",\"marker\":{\"colorbar\":{\"outlinewidth\":0,\"ticks\":\"\"}}}],\"histogram\":[{\"marker\":{\"pattern\":{\"fillmode\":\"overlay\",\"size\":10,\"solidity\":0.2}},\"type\":\"histogram\"}],\"scattergl\":[{\"type\":\"scattergl\",\"marker\":{\"colorbar\":{\"outlinewidth\":0,\"ticks\":\"\"}}}],\"scatter3d\":[{\"type\":\"scatter3d\",\"line\":{\"colorbar\":{\"outlinewidth\":0,\"ticks\":\"\"}},\"marker\":{\"colorbar\":{\"outlinewidth\":0,\"ticks\":\"\"}}}],\"scattermapbox\":[{\"type\":\"scattermapbox\",\"marker\":{\"colorbar\":{\"outlinewidth\":0,\"ticks\":\"\"}}}],\"scatterternary\":[{\"type\":\"scatterternary\",\"marker\":{\"colorbar\":{\"outlinewidth\":0,\"ticks\":\"\"}}}],\"scattercarpet\":[{\"type\":\"scattercarpet\",\"marker\":{\"colorbar\":{\"outlinewidth\":0,\"ticks\":\"\"}}}],\"carpet\":[{\"aaxis\":{\"endlinecolor\":\"#2a3f5f\",\"gridcolor\":\"white\",\"linecolor\":\"white\",\"minorgridcolor\":\"white\",\"startlinecolor\":\"#2a3f5f\"},\"baxis\":{\"endlinecolor\":\"#2a3f5f\",\"gridcolor\":\"white\",\"linecolor\":\"white\",\"minorgridcolor\":\"white\",\"startlinecolor\":\"#2a3f5f\"},\"type\":\"carpet\"}],\"table\":[{\"cells\":{\"fill\":{\"color\":\"#EBF0F8\"},\"line\":{\"color\":\"white\"}},\"header\":{\"fill\":{\"color\":\"#C8D4E3\"},\"line\":{\"color\":\"white\"}},\"type\":\"table\"}],\"barpolar\":[{\"marker\":{\"line\":{\"color\":\"#E5ECF6\",\"width\":0.5},\"pattern\":{\"fillmode\":\"overlay\",\"size\":10,\"solidity\":0.2}},\"type\":\"barpolar\"}],\"pie\":[{\"automargin\":true,\"type\":\"pie\"}]},\"layout\":{\"autotypenumbers\":\"strict\",\"colorway\":[\"#636efa\",\"#EF553B\",\"#00cc96\",\"#ab63fa\",\"#FFA15A\",\"#19d3f3\",\"#FF6692\",\"#B6E880\",\"#FF97FF\",\"#FECB52\"],\"font\":{\"color\":\"#2a3f5f\"},\"hovermode\":\"closest\",\"hoverlabel\":{\"align\":\"left\"},\"paper_bgcolor\":\"white\",\"plot_bgcolor\":\"#E5ECF6\",\"polar\":{\"bgcolor\":\"#E5ECF6\",\"angularaxis\":{\"gridcolor\":\"white\",\"linecolor\":\"white\",\"ticks\":\"\"},\"radialaxis\":{\"gridcolor\":\"white\",\"linecolor\":\"white\",\"ticks\":\"\"}},\"ternary\":{\"bgcolor\":\"#E5ECF6\",\"aaxis\":{\"gridcolor\":\"white\",\"linecolor\":\"white\",\"ticks\":\"\"},\"baxis\":{\"gridcolor\":\"white\",\"linecolor\":\"white\",\"ticks\":\"\"},\"caxis\":{\"gridcolor\":\"white\",\"linecolor\":\"white\",\"ticks\":\"\"}},\"coloraxis\":{\"colorbar\":{\"outlinewidth\":0,\"ticks\":\"\"}},\"colorscale\":{\"sequential\":[[0.0,\"#0d0887\"],[0.1111111111111111,\"#46039f\"],[0.2222222222222222,\"#7201a8\"],[0.3333333333333333,\"#9c179e\"],[0.4444444444444444,\"#bd3786\"],[0.5555555555555556,\"#d8576b\"],[0.6666666666666666,\"#ed7953\"],[0.7777777777777778,\"#fb9f3a\"],[0.8888888888888888,\"#fdca26\"],[1.0,\"#f0f921\"]],\"sequentialminus\":[[0.0,\"#0d0887\"],[0.1111111111111111,\"#46039f\"],[0.2222222222222222,\"#7201a8\"],[0.3333333333333333,\"#9c179e\"],[0.4444444444444444,\"#bd3786\"],[0.5555555555555556,\"#d8576b\"],[0.6666666666666666,\"#ed7953\"],[0.7777777777777778,\"#fb9f3a\"],[0.8888888888888888,\"#fdca26\"],[1.0,\"#f0f921\"]],\"diverging\":[[0,\"#8e0152\"],[0.1,\"#c51b7d\"],[0.2,\"#de77ae\"],[0.3,\"#f1b6da\"],[0.4,\"#fde0ef\"],[0.5,\"#f7f7f7\"],[0.6,\"#e6f5d0\"],[0.7,\"#b8e186\"],[0.8,\"#7fbc41\"],[0.9,\"#4d9221\"],[1,\"#276419\"]]},\"xaxis\":{\"gridcolor\":\"white\",\"linecolor\":\"white\",\"ticks\":\"\",\"title\":{\"standoff\":15},\"zerolinecolor\":\"white\",\"automargin\":true,\"zerolinewidth\":2},\"yaxis\":{\"gridcolor\":\"white\",\"linecolor\":\"white\",\"ticks\":\"\",\"title\":{\"standoff\":15},\"zerolinecolor\":\"white\",\"automargin\":true,\"zerolinewidth\":2},\"scene\":{\"xaxis\":{\"backgroundcolor\":\"#E5ECF6\",\"gridcolor\":\"white\",\"linecolor\":\"white\",\"showbackground\":true,\"ticks\":\"\",\"zerolinecolor\":\"white\",\"gridwidth\":2},\"yaxis\":{\"backgroundcolor\":\"#E5ECF6\",\"gridcolor\":\"white\",\"linecolor\":\"white\",\"showbackground\":true,\"ticks\":\"\",\"zerolinecolor\":\"white\",\"gridwidth\":2},\"zaxis\":{\"backgroundcolor\":\"#E5ECF6\",\"gridcolor\":\"white\",\"linecolor\":\"white\",\"showbackground\":true,\"ticks\":\"\",\"zerolinecolor\":\"white\",\"gridwidth\":2}},\"shapedefaults\":{\"line\":{\"color\":\"#2a3f5f\"}},\"annotationdefaults\":{\"arrowcolor\":\"#2a3f5f\",\"arrowhead\":0,\"arrowwidth\":1},\"geo\":{\"bgcolor\":\"white\",\"landcolor\":\"#E5ECF6\",\"subunitcolor\":\"white\",\"showland\":true,\"showlakes\":true,\"lakecolor\":\"white\"},\"title\":{\"x\":0.05},\"mapbox\":{\"style\":\"light\"}}},\"scene\":{\"domain\":{\"x\":[0.0,1.0],\"y\":[0.0,1.0]},\"xaxis\":{\"title\":{\"text\":\"x\"},\"range\":[-200,200]},\"yaxis\":{\"title\":{\"text\":\"y\"},\"range\":[-200,200]},\"zaxis\":{\"title\":{\"text\":\"z\"},\"range\":[-200,200]}},\"legend\":{\"tracegroupgap\":0},\"margin\":{\"t\":60}},                        {\"responsive\": true}                    ).then(function(){\n",
              "                            \n",
              "var gd = document.getElementById('b7c48f5e-2a9c-49bd-ab19-451f0a6b0cef');\n",
              "var x = new MutationObserver(function (mutations, observer) {{\n",
              "        var display = window.getComputedStyle(gd).display;\n",
              "        if (!display || display === 'none') {{\n",
              "            console.log([gd, 'removed!']);\n",
              "            Plotly.purge(gd);\n",
              "            observer.disconnect();\n",
              "        }}\n",
              "}});\n",
              "\n",
              "// Listen for the removal of the full notebook cells\n",
              "var notebookContainer = gd.closest('#notebook-container');\n",
              "if (notebookContainer) {{\n",
              "    x.observe(notebookContainer, {childList: true});\n",
              "}}\n",
              "\n",
              "// Listen for the clearing of the current output cell\n",
              "var outputEl = gd.closest('.output');\n",
              "if (outputEl) {{\n",
              "    x.observe(outputEl, {childList: true});\n",
              "}}\n",
              "\n",
              "                        })                };                            </script>        </div>\n",
              "</body>\n",
              "</html>"
            ]
          },
          "metadata": {}
        }
      ],
      "source": [
        "import plotly.express as px\n",
        "\n",
        "r = (-200,200)\n",
        "fig = px.scatter_3d(x=x, y=y, z=z, range_x=r, range_y=r, range_z=r, text=colours + [None] * 500)\n",
        "fig.update_traces(marker=dict(size=3,line=dict(width=2)),textfont_size=10)\n",
        "fig.show()"
      ]
    },
    {
      "cell_type": "markdown",
      "metadata": {
        "id": "5xBPW2vnYHlM"
      },
      "source": [
        "Note: t-SNE is a stochastic algorithm, so run it a couple of times to see how the visualisation changes.\n",
        "\n",
        "Have a play around with the visualisation to see whether other sets of terms cluster together."
      ]
    },
    {
      "cell_type": "markdown",
      "metadata": {
        "id": "8UxQIRBLYHlM"
      },
      "source": [
        "## Loading Pre-trained Embedding\n",
        "\n",
        "Instead of learning your own word embeddings from a dataset, it is common to download and make use of pre-trained embeddings that have been learnt on very large corpora.\n",
        "- See this list of models available in gensim: https://github.com/RaRe-Technologies/gensim-data\n",
        "- Note how big some of the models are. A 300 dimensional Word2Vec model trained on Google News (word2vec-google-news-300) is almost 1.7GB!\n",
        "\n",
        "Let's downlaod a couple of the smaller models and have a look at them:\n",
        "- We'll download two GloVe (similar to Word2Vec) based models\n",
        "- each has dimension of 50, but the first has been trained on data from Twitter and the second on data from Wikipedia"
      ]
    },
    {
      "cell_type": "code",
      "execution_count": 30,
      "metadata": {
        "id": "80lgMVCNYHlM",
        "colab": {
          "base_uri": "https://localhost:8080/"
        },
        "outputId": "de48ad8a-7068-4496-99b5-399f267efbd3"
      },
      "outputs": [
        {
          "output_type": "stream",
          "name": "stdout",
          "text": [
            "[==================================================] 100.0% 199.5/199.5MB downloaded\n",
            "[==================================================] 100.0% 66.0/66.0MB downloaded\n"
          ]
        }
      ],
      "source": [
        "import gensim.downloader as api\n",
        "\n",
        "model_twitter = api.load(\"glove-twitter-50\")\n",
        "model_wiki = api.load(\"glove-wiki-gigaword-50\")"
      ]
    },
    {
      "cell_type": "markdown",
      "metadata": {
        "id": "a6Bg80kKYHlM"
      },
      "source": [
        "How big are their vocabularies?"
      ]
    },
    {
      "cell_type": "code",
      "execution_count": 31,
      "metadata": {
        "id": "e0CcjNmIYHlM",
        "colab": {
          "base_uri": "https://localhost:8080/"
        },
        "outputId": "4f1ee90a-edb5-4fda-8cc6-6dd1ebc0ad96"
      },
      "outputs": [
        {
          "output_type": "stream",
          "name": "stdout",
          "text": [
            "Vocabulary size twitter model:   1193514\n",
            "Vocabulary size wikipedia model: 400000\n"
          ]
        }
      ],
      "source": [
        "print(f\"Vocabulary size twitter model:   {len(model_twitter)}\")\n",
        "print(f\"Vocabulary size wikipedia model: {len(model_wiki)}\")"
      ]
    },
    {
      "cell_type": "markdown",
      "metadata": {
        "id": "7zSEKFVjYHlM"
      },
      "source": [
        "Woah, they are big vocabularies!\n",
        "- The twitter one has over a million tokens!\n",
        "\n",
        "Let's have a look at the most similar terms to the word 'puppy' in Twitter embedding:"
      ]
    },
    {
      "cell_type": "code",
      "execution_count": 32,
      "metadata": {
        "id": "czJartaDYHlM",
        "colab": {
          "base_uri": "https://localhost:8080/"
        },
        "outputId": "c91369a9-3202-493a-9db3-8e5718f93909"
      },
      "outputs": [
        {
          "output_type": "stream",
          "name": "stdout",
          "text": [
            "Twitter embedding, most similar words to: puppy\n"
          ]
        },
        {
          "output_type": "execute_result",
          "data": {
            "text/plain": [
              "[('kitten', 0.9134266972541809),\n",
              " ('dog', 0.8790459632873535),\n",
              " ('puppies', 0.8616614937782288),\n",
              " ('doggy', 0.8477217555046082),\n",
              " ('pug', 0.8410165905952454),\n",
              " ('bear', 0.8376337885856628),\n",
              " ('cat', 0.833551287651062),\n",
              " ('kitty', 0.8321102857589722),\n",
              " ('pup', 0.8269115686416626),\n",
              " ('husky', 0.8156434297561646)]"
            ]
          },
          "metadata": {},
          "execution_count": 32
        }
      ],
      "source": [
        "term = 'puppy'\n",
        "print(f'Twitter embedding, most similar words to: {term}')\n",
        "model_twitter.most_similar(term)"
      ]
    },
    {
      "cell_type": "markdown",
      "metadata": {
        "id": "D2Wb68G5RWpj"
      },
      "source": [
        "And in the Wikipedia embedding:"
      ]
    },
    {
      "cell_type": "code",
      "execution_count": 33,
      "metadata": {
        "id": "G5srhaTuYHlM",
        "colab": {
          "base_uri": "https://localhost:8080/"
        },
        "outputId": "ec5f3517-0c18-445f-d5bc-9fdf9f03b73e"
      },
      "outputs": [
        {
          "output_type": "stream",
          "name": "stdout",
          "text": [
            "Wikipedia embedding, most similar words to: puppy\n"
          ]
        },
        {
          "output_type": "execute_result",
          "data": {
            "text/plain": [
              "[('puppies', 0.8058912754058838),\n",
              " ('dog', 0.7754921913146973),\n",
              " ('goat', 0.7691047787666321),\n",
              " ('cat', 0.7625599503517151),\n",
              " ('kitten', 0.7443127036094666),\n",
              " ('retriever', 0.731249988079071),\n",
              " ('rottweiler', 0.724050760269165),\n",
              " ('rabbit', 0.7144317626953125),\n",
              " ('squirrel', 0.7086658477783203),\n",
              " ('bitch', 0.7056955695152283)]"
            ]
          },
          "metadata": {},
          "execution_count": 33
        }
      ],
      "source": [
        "print(f'Wikipedia embedding, most similar words to: {term}')\n",
        "model_wiki.most_similar(term)"
      ]
    },
    {
      "cell_type": "markdown",
      "metadata": {
        "id": "ez-9f7DLQpDw"
      },
      "source": [
        "Which embedding is better?\n",
        "\n",
        "Try some other words:"
      ]
    },
    {
      "cell_type": "code",
      "execution_count": 34,
      "metadata": {
        "id": "gmwYaVSiYHlN",
        "colab": {
          "base_uri": "https://localhost:8080/"
        },
        "outputId": "cc6b3efc-5daf-4f8a-e13a-355bc81bf747"
      },
      "outputs": [
        {
          "output_type": "stream",
          "name": "stdout",
          "text": [
            "Twitter embedding:   [('microsoft', 0.8666837811470032), ('google', 0.8337891697883606), ('samsung', 0.8189260363578796), ('nokia', 0.8133970499038696), ('ipad', 0.806841254234314), ('iphone', 0.806834876537323), ('galaxy', 0.8041617274284363), ('blackberry', 0.7953041791915894), ('android', 0.7887364625930786), ('smartphone', 0.788325846195221)]\n",
            "Wikipedia embedding: [('blackberry', 0.7543067336082458), ('chips', 0.7438644170761108), ('iphone', 0.7429664134979248), ('microsoft', 0.7334205508232117), ('ipad', 0.7331036329269409), ('pc', 0.7217225432395935), ('ipod', 0.7199784517288208), ('intel', 0.7192243337631226), ('ibm', 0.7146540284156799), ('software', 0.7093585133552551)]\n"
          ]
        }
      ],
      "source": [
        "term = 'apple'\n",
        "# term = 'politecnico'\n",
        "print(f'Twitter embedding:   {model_twitter.most_similar(term)}')\n",
        "print(f'Wikipedia embedding: {model_wiki.most_similar(term)}')"
      ]
    },
    {
      "cell_type": "markdown",
      "metadata": {
        "id": "iBDEnr-0YHlN"
      },
      "source": [
        "Embedding spaces have interesting geometric properties, where translation between different word vectors caries semantic meaning.\n",
        "- Let's try running the famous analogy: king + (woman - man) = ?\n",
        "- To do that, first generate the resulting word embedding:"
      ]
    },
    {
      "cell_type": "code",
      "execution_count": 35,
      "metadata": {
        "id": "t5cMZiNgYHlN",
        "colab": {
          "base_uri": "https://localhost:8080/"
        },
        "outputId": "3c4d5d2c-d295-4a56-d102-7d1545a5116f"
      },
      "outputs": [
        {
          "output_type": "execute_result",
          "data": {
            "text/plain": [
              "array([ 0.41736597,  0.90427005, -1.0050299 , -0.06202101,  0.4972599 ,\n",
              "        0.80667007, -0.14855   ,  0.80365   , -0.15654   , -0.66973996,\n",
              "        0.23435399,  0.62476003,  0.925871  , -0.97099996,  0.92566   ,\n",
              "        0.89915   , -1.54596   , -0.52625   ,  0.13695401,  0.66199005,\n",
              "        0.48716003,  0.37035006, -0.214214  ,  0.10100999,  0.71358   ,\n",
              "       -2.0874999 , -1.1362001 , -1.14961   , -0.53599   ,  0.27389997,\n",
              "        1.6723    ,  0.02931   , -0.77656007,  0.46056286,  0.34866   ,\n",
              "       -0.05741701,  0.19444   , -0.207748  , -0.73038995, -0.10752001,\n",
              "        0.23554398,  0.96423995, -0.46994   , -0.48727497, -0.25399995,\n",
              "        0.46212995, -0.66081   , -1.9451499 , -0.68797004, -0.49784002],\n",
              "      dtype=float32)"
            ]
          },
          "metadata": {},
          "execution_count": 35
        }
      ],
      "source": [
        "vec = model_wiki.get_vector('king') + (model_wiki.get_vector('woman') - model_wiki.get_vector('man'))\n",
        "vec"
      ]
    },
    {
      "cell_type": "markdown",
      "metadata": {
        "id": "4uYDSjJ7YHlN"
      },
      "source": [
        "- Then look for the most similar vectors to it:"
      ]
    },
    {
      "cell_type": "code",
      "execution_count": 36,
      "metadata": {
        "id": "h5ZMdc5WYHlN",
        "colab": {
          "base_uri": "https://localhost:8080/"
        },
        "outputId": "8875944b-1d32-487b-be48-f14168efe116"
      },
      "outputs": [
        {
          "output_type": "execute_result",
          "data": {
            "text/plain": [
              "[('king', 0.8859834671020508),\n",
              " ('queen', 0.8609582185745239),\n",
              " ('daughter', 0.7684512734413147),\n",
              " ('prince', 0.7640699744224548),\n",
              " ('throne', 0.7634970545768738),\n",
              " ('princess', 0.7512727975845337),\n",
              " ('elizabeth', 0.7506489157676697),\n",
              " ('father', 0.7314497232437134),\n",
              " ('kingdom', 0.7296158671379089),\n",
              " ('mother', 0.728001058101654)]"
            ]
          },
          "metadata": {},
          "execution_count": 36
        }
      ],
      "source": [
        "model_wiki.similar_by_vector(vec)"
      ]
    },
    {
      "cell_type": "markdown",
      "metadata": {
        "id": "tipFzCPnYHlN"
      },
      "source": [
        "Did it work?\n",
        "- Well, yes if you remove 'king' as an option, then it did!\n",
        "- Note that the most similar vector to the word 'king' was not 'queen' but 'prince', so the analogy is indeed changing the order ..."
      ]
    },
    {
      "cell_type": "code",
      "execution_count": 37,
      "metadata": {
        "id": "mDV5VRzAYHlN",
        "colab": {
          "base_uri": "https://localhost:8080/"
        },
        "outputId": "b8c491ea-7e2d-463d-f9f0-18d9677f4864"
      },
      "outputs": [
        {
          "output_type": "execute_result",
          "data": {
            "text/plain": [
              "[('prince', 0.8236179351806641),\n",
              " ('queen', 0.7839043140411377),\n",
              " ('ii', 0.7746230363845825),\n",
              " ('emperor', 0.7736247777938843),\n",
              " ('son', 0.766719400882721),\n",
              " ('uncle', 0.7627150416374207),\n",
              " ('kingdom', 0.7542160749435425),\n",
              " ('throne', 0.7539913654327393),\n",
              " ('brother', 0.7492411136627197),\n",
              " ('ruler', 0.7434253692626953)]"
            ]
          },
          "metadata": {},
          "execution_count": 37
        }
      ],
      "source": [
        "model_wiki.most_similar('king')"
      ]
    },
    {
      "cell_type": "markdown",
      "metadata": {
        "id": "_Io7Zm6EYHlN"
      },
      "source": [
        "Try it again but with the Twitter based model"
      ]
    },
    {
      "cell_type": "code",
      "execution_count": 38,
      "metadata": {
        "id": "2m511hj-YHlO",
        "colab": {
          "base_uri": "https://localhost:8080/"
        },
        "outputId": "e90830ac-cb14-452f-894c-73eda662221c"
      },
      "outputs": [
        {
          "output_type": "execute_result",
          "data": {
            "text/plain": [
              "[('stone', 0.7156722545623779),\n",
              " ('woman', 0.7105387449264526),\n",
              " ('meets', 0.7078651189804077),\n",
              " ('queen', 0.7035095691680908),\n",
              " ('king', 0.7032954692840576),\n",
              " ('royal', 0.7007310390472412),\n",
              " ('african', 0.6984354853630066),\n",
              " ('prince', 0.6961740851402283),\n",
              " ('virgin', 0.6757708787918091),\n",
              " ('american', 0.6597097516059875)]"
            ]
          },
          "metadata": {},
          "execution_count": 38
        }
      ],
      "source": [
        "model = model_twitter\n",
        "vec = model.get_vector('king') + (model.get_vector('woman') - model.get_vector('man'))\n",
        "model.similar_by_vector(vec)"
      ]
    },
    {
      "cell_type": "markdown",
      "metadata": {
        "id": "wtEO2LWIYHlO"
      },
      "source": [
        "Doesn't seem that the Twitter model is as good on that analogy.\n",
        "- If you think about the average quality of text on Twitter versus Wikipedia, then that's probably not suprising!\n",
        "\n",
        "Try some other analogies:\n",
        "- What happens to Rome if we subtract Italy and add France?"
      ]
    },
    {
      "cell_type": "code",
      "execution_count": 39,
      "metadata": {
        "id": "NXzOPQy5YHlO",
        "colab": {
          "base_uri": "https://localhost:8080/"
        },
        "outputId": "c36e41d3-06b8-400e-ffae-5f8930837fe6"
      },
      "outputs": [
        {
          "output_type": "execute_result",
          "data": {
            "text/plain": [
              "[('paris', 0.8583258390426636),\n",
              " ('france', 0.7889718413352966),\n",
              " ('rome', 0.7432292699813843),\n",
              " ('french', 0.733359158039093),\n",
              " ('prohertrib', 0.7260090112686157),\n",
              " ('vienna', 0.7018851637840271),\n",
              " ('saint', 0.6894371509552002),\n",
              " ('gaulle', 0.6854272484779358),\n",
              " ('geneva', 0.6759128570556641),\n",
              " ('berlin', 0.6560173034667969)]"
            ]
          },
          "metadata": {},
          "execution_count": 39
        }
      ],
      "source": [
        "A = 'rome'\n",
        "B = 'italy'\n",
        "C = 'france'\n",
        "# C = 'indonesia'\n",
        "model = model_wiki\n",
        "vec = model.get_vector(A) - model.get_vector(B) + model.get_vector(C)\n",
        "model.similar_by_vector(vec)"
      ]
    },
    {
      "cell_type": "markdown",
      "metadata": {
        "id": "QeUJZDSTYHlO"
      },
      "source": [
        "Now, **isn't that cool?** ;-)\n",
        "- Try some other countries ...\n",
        "\n",
        "Remember, we are only using the 'small' embeddings of 50 dimensions\n",
        "- you can download and try the bigger ones, some of them with 300 dimensions\n"
      ]
    },
    {
      "cell_type": "markdown",
      "metadata": {
        "id": "stWE8L9GYgRH"
      },
      "source": [
        "## Classifying Tweets with word embeddings\n",
        "\n",
        "Let's try to use the word embeddings as features for a text classifier.\n",
        "- In particular, we'll try the tweet sentiment analysis task from the second session.\n",
        "- First download the dataset:"
      ]
    },
    {
      "cell_type": "code",
      "execution_count": 40,
      "metadata": {
        "id": "bckvn64GYqCZ",
        "colab": {
          "base_uri": "https://localhost:8080/"
        },
        "outputId": "a2b64c6e-1582-4a55-bf5d-80fd2d03baa2"
      },
      "outputs": [
        {
          "output_type": "stream",
          "name": "stderr",
          "text": [
            "[nltk_data] Downloading package twitter_samples to /root/nltk_data...\n",
            "[nltk_data]   Unzipping corpora/twitter_samples.zip.\n"
          ]
        },
        {
          "output_type": "execute_result",
          "data": {
            "text/plain": [
              "True"
            ]
          },
          "metadata": {},
          "execution_count": 40
        }
      ],
      "source": [
        "import nltk\n",
        "nltk.download('twitter_samples')"
      ]
    },
    {
      "cell_type": "markdown",
      "metadata": {
        "id": "d5nOSItcaEa9"
      },
      "source": [
        "Then prepare the dataset:\n",
        "- load the positive and negative tweets\n",
        "- remove emoticons from them\n",
        "- and merge them into a single dataset with class labels"
      ]
    },
    {
      "cell_type": "code",
      "execution_count": 41,
      "metadata": {
        "id": "VZBH76pnaTrB"
      },
      "outputs": [],
      "source": [
        "from nltk.corpus import twitter_samples\n",
        "\n",
        "positive_tweets = twitter_samples.strings('positive_tweets.json')\n",
        "negative_tweets = twitter_samples.strings('negative_tweets.json')\n",
        "\n",
        "import re\n",
        "\n",
        "emoticon_regex = '(\\:\\w+\\:|\\<[\\/\\\\]?3|[\\(\\)\\\\\\D|\\*\\$][\\-\\^]?[\\:\\;\\=]|[\\:\\;\\=B8][\\-\\^]?[3DOPp\\@\\$\\*\\\\\\)\\(\\/\\|])(?=\\s|[\\!\\.\\?]|$)'\n",
        "positive_tweets_noemoticons = [re.sub(emoticon_regex,'',tweet) for tweet in positive_tweets]\n",
        "negative_tweets_noemoticons = [re.sub(emoticon_regex,'',tweet) for tweet in negative_tweets]\n",
        "\n",
        "tweets_x = positive_tweets_noemoticons + negative_tweets_noemoticons\n",
        "tweets_y = ['positive']*len(positive_tweets) + ['negative']*len(negative_tweets)"
      ]
    },
    {
      "cell_type": "markdown",
      "metadata": {
        "id": "ik6TlpDFa3Pt"
      },
      "source": [
        "Divide the data into train, validation and test sets:"
      ]
    },
    {
      "cell_type": "code",
      "execution_count": 42,
      "metadata": {
        "id": "sTDd49KVbC_o"
      },
      "outputs": [],
      "source": [
        "from sklearn.model_selection import train_test_split\n",
        "\n",
        "temp_x, test_x, temp_y, test_y = train_test_split(tweets_x, tweets_y, test_size=0.2)\n",
        "train_x, valid_x, train_y, valid_y = train_test_split(temp_x, temp_y, test_size=0.2)"
      ]
    },
    {
      "cell_type": "markdown",
      "metadata": {
        "id": "r1aACZFHc_eg"
      },
      "source": [
        "Now we need to convert the tweets to an embedding representation.\n",
        "- We can do that by computing the sum (or average) of the embedding vectors of the words in the tweet.\n",
        "- To work out how to do that, let's have a look at the first tweet in the dataset, converting it to lowercase and tokenise it on whitespace:"
      ]
    },
    {
      "cell_type": "code",
      "execution_count": 43,
      "metadata": {
        "id": "qVrlyZrqc_vz",
        "colab": {
          "base_uri": "https://localhost:8080/"
        },
        "outputId": "3cd93bbe-8826-45a5-cee3-81575d288ba0"
      },
      "outputs": [
        {
          "output_type": "stream",
          "name": "stdout",
          "text": [
            "tweet: 'read sm quotes on fb which remind me abt sm 1 and am missing him so much now '\n",
            "tokens:  ['read', 'sm', 'quotes', 'on', 'fb', 'which', 'remind', 'me', 'abt', 'sm', '1', 'and', 'am', 'missing', 'him', 'so', 'much', 'now']\n"
          ]
        }
      ],
      "source": [
        "import string\n",
        "import re\n",
        "regex = '[' + string.punctuation + ']'\n",
        "\n",
        "print('tweet: \\'' + train_x[10] + '\\'')\n",
        "tokens = re.sub(regex, '', train_x[10].lower()).split()\n",
        "print('tokens: ', tokens)"
      ]
    },
    {
      "cell_type": "markdown",
      "metadata": {
        "id": "H4eDTr_OkWUQ"
      },
      "source": [
        "- We can get the embedding vectors for the tokens present in the embedding vocabulary as follows:"
      ]
    },
    {
      "cell_type": "code",
      "execution_count": 44,
      "metadata": {
        "id": "WxgUgjVmkW61",
        "colab": {
          "base_uri": "https://localhost:8080/"
        },
        "outputId": "a7322cb7-1dc5-4795-a187-100cff0ef2c2"
      },
      "outputs": [
        {
          "output_type": "execute_result",
          "data": {
            "text/plain": [
              "[array([ 0.84793  ,  0.62946  , -0.27194  ,  0.12985  ,  0.52842  ,\n",
              "        -0.80528  ,  1.1748   , -0.57686  ,  0.012034 ,  0.63745  ,\n",
              "         0.25131  , -0.68025  , -4.4555   , -0.38767  , -0.82553  ,\n",
              "        -0.33483  ,  0.65561  ,  0.1978   ,  0.052092 , -0.018136 ,\n",
              "        -0.12565  ,  0.13089  , -0.72184  , -0.0088936, -0.48603  ,\n",
              "         0.35347  ,  0.35603  ,  0.39917  ,  0.55262  ,  0.61526  ,\n",
              "         0.12387  ,  0.57689  , -0.19118  ,  0.069964 ,  0.17842  ,\n",
              "         0.21693  ,  0.21199  , -0.1474   ,  0.6958   , -0.70692  ,\n",
              "        -0.70962  ,  0.22859  ,  0.6039   ,  0.24559  ,  0.32183  ,\n",
              "        -0.19447  , -0.42522  , -0.28683  , -0.86003  , -0.30004  ],\n",
              "       dtype=float32),\n",
              " array([-0.18839 ,  1.3785  ,  0.25678 ,  0.64092 , -0.35972 ,  0.026501,\n",
              "         0.40441 ,  1.9432  , -0.10443 ,  0.78834 ,  0.3839  ,  0.32595 ,\n",
              "        -1.4842  ,  0.38353 ,  0.47796 , -0.11128 ,  0.82277 , -1.2196  ,\n",
              "        -0.20644 ,  0.67733 , -0.25285 , -0.23993 , -1.0333  ,  0.77006 ,\n",
              "        -0.75743 ,  0.25097 ,  0.20171 ,  0.48892 ,  0.51662 ,  0.47725 ,\n",
              "        -0.051165, -0.75719 , -0.94474 , -0.60544 ,  0.78278 , -0.63991 ,\n",
              "        -0.46048 ,  0.46203 ,  0.52968 ,  0.18185 , -2.8789  ,  0.57456 ,\n",
              "        -0.44246 , -0.17743 , -0.64611 , -0.16854 , -1.1506  , -1.2228  ,\n",
              "         0.72871 , -0.28819 ], dtype=float32),\n",
              " array([ 0.69095 , -0.35607 , -0.26697 , -0.23606 ,  1.0487  , -0.73417 ,\n",
              "         1.0393  , -0.60168 , -1.039   ,  0.25773 ,  0.45815 , -0.070694,\n",
              "        -2.8421  , -0.55804 , -0.72992 , -0.17154 , -0.24237 ,  0.071309,\n",
              "         0.9653  ,  0.74886 , -0.21524 ,  0.52148 , -1.0313  ,  0.42278 ,\n",
              "        -0.038117, -0.16785 , -0.043271,  0.21478 ,  0.14867 , -0.81252 ,\n",
              "        -0.084946, -0.25388 , -0.47729 ,  0.051489,  0.28091 ,  0.042274,\n",
              "         0.84757 , -0.17795 ,  1.2326  , -0.87849 , -0.27397 , -0.34094 ,\n",
              "         0.43543 , -0.59087 , -0.62092 ,  0.40804 , -0.33415 , -0.066699,\n",
              "        -0.67458 , -0.71413 ], dtype=float32),\n",
              " array([ 1.2812e-01, -4.2127e-01, -5.6528e-01, -1.6201e-01, -6.0533e-04,\n",
              "         4.1140e-01,  6.8813e-01,  5.8085e-01,  5.1478e-01, -3.3062e-01,\n",
              "         1.4554e-01, -2.8929e-01, -5.4923e+00,  8.3095e-02, -3.1886e-01,\n",
              "        -7.2711e-02, -1.1307e-01, -8.0539e-02, -1.0254e+00,  4.6827e-01,\n",
              "         2.2539e-01, -7.1709e-01, -1.5877e-01, -4.1782e-01, -6.3062e-01,\n",
              "        -5.5650e-01,  1.1371e-01,  3.9494e-01, -6.5097e-01,  6.9717e-01,\n",
              "        -1.6512e-01,  4.1137e-01, -1.1454e+00, -5.7323e-01,  9.4317e-01,\n",
              "         1.6127e-01, -3.6481e-02, -1.2772e-01,  9.1009e-01, -1.5283e-01,\n",
              "        -1.2781e+00, -1.7048e-01, -2.2092e-01,  4.0911e-01,  2.7278e-01,\n",
              "         1.2600e-01, -5.6159e-01, -1.8686e-01,  9.7903e-01, -1.7783e-01],\n",
              "       dtype=float32),\n",
              " array([ 1.4025e+00,  6.6246e-01, -8.7432e-01, -3.7137e-01, -7.3900e-02,\n",
              "        -6.3136e-01,  5.9618e-01, -1.2595e-01,  1.8240e-01,  4.1901e-01,\n",
              "        -4.7016e-01, -1.7147e-03, -2.5798e+00, -4.0601e-01, -7.9312e-01,\n",
              "        -5.9810e-01,  3.8153e-01, -5.4429e-01, -3.7166e-01,  1.1131e-01,\n",
              "        -1.0645e-02, -5.7173e-01, -4.0187e-01,  2.5621e-01, -1.3643e+00,\n",
              "        -1.6331e+00,  4.7156e-01, -1.0868e+00, -4.3548e-01,  2.8428e-01,\n",
              "        -9.8595e-01,  2.6202e-01, -5.6651e-01, -7.0829e-01,  8.2612e-01,\n",
              "        -2.5364e-01,  7.0601e-02,  4.9216e-02, -9.5606e-01, -3.0937e-01,\n",
              "        -1.8115e+00,  2.6408e-01,  2.2495e-01,  1.9887e-01, -2.9646e-01,\n",
              "        -3.5199e-01, -3.4883e-01, -5.1983e-01,  2.3287e-01, -3.0950e-01],\n",
              "       dtype=float32),\n",
              " array([ 0.07976 ,  0.1142  , -0.53503 ,  0.22393 ,  0.41041 ,  0.76383 ,\n",
              "         0.62743 ,  0.037702, -0.055832,  0.039211,  0.14852 , -0.76079 ,\n",
              "        -5.4269  ,  0.53983 ,  0.12009 ,  0.3447  ,  0.83039 ,  0.14415 ,\n",
              "         0.47107 , -0.6109  ,  0.081001, -0.18196 ,  0.18619 , -0.090935,\n",
              "        -0.029918,  0.82338 , -0.30127 , -0.24971 ,  0.64153 , -0.038495,\n",
              "         0.72202 ,  0.25019 ,  0.21198 , -0.65825 ,  0.76765 , -0.15148 ,\n",
              "        -0.14279 ,  0.15746 ,  0.28038 , -0.52531 , -0.071648,  0.12603 ,\n",
              "         0.029803, -0.031697, -0.24547 , -0.52143 ,  0.48699 , -0.44778 ,\n",
              "        -0.69186 , -0.2349  ], dtype=float32),\n",
              " array([ 0.012431 ,  0.60061  ,  0.28161  ,  0.29111  , -0.36551  ,\n",
              "        -0.014752 ,  1.1091   ,  0.27723  , -0.095793 ,  0.42982  ,\n",
              "        -0.13888  , -0.2676   , -3.7477   , -0.10828  , -0.76422  ,\n",
              "         1.0317   , -0.26003  , -0.12856  ,  0.1063   , -0.0049043,\n",
              "         0.020781 ,  0.14126  , -0.45396  ,  0.19935  , -0.35713  ,\n",
              "         0.55584  ,  0.35037  ,  0.42426  ,  0.15786  , -0.28822  ,\n",
              "         0.027091 ,  0.3042   ,  0.17916  ,  0.030029 , -0.22443  ,\n",
              "         0.21112  ,  0.098012 , -0.4206   ,  0.3197   ,  0.18237  ,\n",
              "         0.58558  ,  0.37515  ,  0.45623  , -0.16225  , -0.45523  ,\n",
              "        -0.42102  ,  0.34189  ,  0.031531 , -0.015997 ,  0.52389  ],\n",
              "       dtype=float32),\n",
              " array([ 1.3641e-01,  3.2484e-01, -3.6068e-01,  4.4620e-01, -4.3178e-01,\n",
              "         2.1142e-01, -1.6808e-01, -8.4028e-02,  5.9976e-02, -1.4798e+00,\n",
              "         1.2574e-02, -4.5200e-01, -5.0230e+00, -1.5296e+00, -1.2495e+00,\n",
              "         7.7296e-01, -4.9169e-01, -4.4435e-02, -8.2652e-01, -1.1552e-01,\n",
              "         9.3001e-01,  5.3579e-01,  6.8079e-01,  1.3281e+00, -2.1953e-01,\n",
              "        -2.8830e+00,  4.4463e-01, -3.8079e-01, -5.8357e-01, -4.5729e-01,\n",
              "        -5.6465e-01,  3.8856e-01,  1.7684e-01, -5.3502e-02, -6.6776e-01,\n",
              "        -5.0351e-02,  1.1065e-01, -2.3180e-01, -5.0008e-01,  5.3396e-01,\n",
              "        -1.7288e+00,  1.5412e-01, -1.8595e-01, -1.9547e-01,  3.3457e-03,\n",
              "        -3.2078e-01,  8.0915e-01,  9.8236e-01,  2.2094e-01, -1.2155e-01],\n",
              "       dtype=float32),\n",
              " array([ 0.1873   ,  1.7101   ,  0.41872  ,  0.28541  ,  0.15515  ,\n",
              "         0.25343  , -0.51203  ,  0.42415  ,  0.44558  ,  0.2767   ,\n",
              "        -1.0691   , -0.63672  , -3.8903   ,  0.35357  , -1.2169   ,\n",
              "        -0.18301  ,  0.51369  , -0.72505  , -0.19227  ,  0.17753  ,\n",
              "        -0.27496  , -0.12445  ,  0.31609  ,  0.80642  , -0.6913   ,\n",
              "         0.91544  ,  0.85114  ,  0.0085661, -0.97892  , -0.077962 ,\n",
              "        -0.27667  , -0.017612 , -0.45535  ,  0.035302 ,  0.10835  ,\n",
              "         0.36638  , -1.1268   ,  0.082037 ,  0.47008  , -0.63249  ,\n",
              "        -0.25581  ,  0.975    ,  1.2939   , -0.44301  , -0.74763  ,\n",
              "         0.05817  ,  0.43915  , -0.29729  , -0.060631 ,  0.12041  ],\n",
              "       dtype=float32),\n",
              " array([-0.18839 ,  1.3785  ,  0.25678 ,  0.64092 , -0.35972 ,  0.026501,\n",
              "         0.40441 ,  1.9432  , -0.10443 ,  0.78834 ,  0.3839  ,  0.32595 ,\n",
              "        -1.4842  ,  0.38353 ,  0.47796 , -0.11128 ,  0.82277 , -1.2196  ,\n",
              "        -0.20644 ,  0.67733 , -0.25285 , -0.23993 , -1.0333  ,  0.77006 ,\n",
              "        -0.75743 ,  0.25097 ,  0.20171 ,  0.48892 ,  0.51662 ,  0.47725 ,\n",
              "        -0.051165, -0.75719 , -0.94474 , -0.60544 ,  0.78278 , -0.63991 ,\n",
              "        -0.46048 ,  0.46203 ,  0.52968 ,  0.18185 , -2.8789  ,  0.57456 ,\n",
              "        -0.44246 , -0.17743 , -0.64611 , -0.16854 , -1.1506  , -1.2228  ,\n",
              "         0.72871 , -0.28819 ], dtype=float32),\n",
              " array([-0.43196  , -0.18965  , -0.028294 , -0.25903  , -0.4481   ,\n",
              "         0.53591  ,  0.94627  , -0.07806  , -0.54519  , -0.72878  ,\n",
              "        -0.030083 , -0.28677  , -6.464    , -0.31295  ,  0.12351  ,\n",
              "        -0.2463   ,  0.029458 , -0.83529  ,  0.19647  , -0.15722  ,\n",
              "        -0.5562   , -0.027029 , -0.23915  ,  0.18188  , -0.15156  ,\n",
              "         0.54768  ,  0.13767  ,  0.21828  ,  0.61069  , -0.3679   ,\n",
              "         0.023187 ,  0.33281  , -0.18062  , -0.0094163,  0.31861  ,\n",
              "        -0.19201  ,  0.35759  ,  0.50104  ,  0.55981  ,  0.20561  ,\n",
              "        -1.1167   , -0.3063   , -0.14224  ,  0.20285  ,  0.10245  ,\n",
              "        -0.39289  , -0.26724  , -0.37573  ,  0.16076  , -0.74501  ],\n",
              "       dtype=float32),\n",
              " array([ 0.13247  ,  0.84641  ,  0.22631  , -0.16787  , -0.61571  ,\n",
              "         0.59837  ,  0.42945  ,  0.36054  ,  0.10117  ,  0.29127  ,\n",
              "        -0.32717  , -0.55194  , -4.2382   , -0.17338  , -0.69384  ,\n",
              "         0.37383  ,  0.82565  , -0.094602 , -0.17641  , -0.19348  ,\n",
              "         0.3519   , -0.15979  , -0.19839  , -0.04286  ,  0.31818  ,\n",
              "        -0.32703  ,  0.042893 , -0.52039  ,  0.21786  ,  0.35205  ,\n",
              "        -0.43132  , -0.41338  ,  0.37249  ,  0.52603  ,  0.089753 ,\n",
              "         0.11996  , -1.0453   ,  0.038213 , -0.0098246,  0.55702  ,\n",
              "        -1.5565   ,  1.1456   ,  0.45535  ,  1.1068   ,  0.51598  ,\n",
              "         0.055773 ,  1.0191   , -0.27613  , -0.97446  ,  0.1499   ],\n",
              "       dtype=float32),\n",
              " array([-4.1844e-01,  3.9505e-01,  1.7282e-01, -4.2734e-01, -8.6859e-01,\n",
              "        -2.3742e-01,  8.7533e-01,  6.4015e-02,  1.1517e-01, -3.9474e-01,\n",
              "        -3.2260e-02, -1.9590e-01, -4.0434e+00,  2.2809e-01, -2.3671e-01,\n",
              "        -4.4145e-03,  4.3751e-01, -4.7992e-01, -4.4529e-01, -2.1857e-01,\n",
              "         6.1170e-01,  3.8248e-01, -5.0507e-04, -4.5217e-01, -4.2883e-01,\n",
              "         9.4901e-01, -6.5182e-01, -1.6030e-01,  4.1057e-01, -1.8653e-01,\n",
              "        -8.0363e-01, -4.3371e-01, -1.3764e-01,  3.4855e-01,  2.1137e-02,\n",
              "         1.8737e-01, -4.5201e-01,  4.8604e-01,  1.4290e-01, -5.8173e-01,\n",
              "        -3.3690e-01,  1.6517e-01,  8.2613e-01,  3.8239e-01,  9.5297e-02,\n",
              "        -8.2401e-02,  5.6480e-02, -2.7567e-01,  1.2625e-01,  4.5960e-01],\n",
              "       dtype=float32),\n",
              " array([-3.9176e-01,  6.7062e-01,  6.8914e-01,  1.2419e-01, -5.1746e-01,\n",
              "        -3.2637e-01,  3.1013e-01,  8.4694e-01, -5.3870e-01,  3.6398e-01,\n",
              "         2.5221e-01,  1.1375e-01, -5.7298e+00, -9.1814e-01, -4.5735e-01,\n",
              "         2.7509e-01, -2.1675e-03, -1.0082e+00, -6.9175e-01, -7.7559e-01,\n",
              "         2.2095e-01,  3.9557e-01,  3.6348e-01,  3.0685e-01,  1.5201e-03,\n",
              "         6.4864e-01,  9.0186e-01,  2.3212e-02,  2.6239e-01, -6.1311e-03,\n",
              "        -4.4517e-01,  5.2702e-01, -3.2152e-01, -8.4167e-02,  4.4924e-01,\n",
              "         5.5417e-01,  2.1048e-01,  4.9183e-03, -2.7349e-01, -4.0058e-01,\n",
              "        -1.5475e-01,  1.9319e-01,  7.2430e-01, -6.5726e-02,  4.2509e-01,\n",
              "        -8.3950e-02,  2.1952e-01, -2.0148e-01,  6.1949e-01,  1.2981e-01],\n",
              "       dtype=float32),\n",
              " array([ 0.55871  , -0.25877  ,  0.66607  , -0.2046   , -0.39416  ,\n",
              "         0.79031  ,  0.81919  , -0.10783  ,  0.38369  , -0.025209 ,\n",
              "        -0.19808  , -0.17906  , -5.1829   , -0.58128  , -0.22865  ,\n",
              "         0.17162  ,  0.14554  , -0.54416  , -1.0466   , -0.63762  ,\n",
              "         0.26994  ,  0.34206  , -0.22333  ,  1.1318   , -0.64348  ,\n",
              "         0.26156  ,  0.21307  ,  0.10612  ,  0.33822  , -0.21787  ,\n",
              "        -0.039135 ,  0.38606  ,  0.26363  , -0.024451 , -0.645    ,\n",
              "        -0.38067  , -0.6546   , -0.61549  , -0.9719   ,  0.0057993,\n",
              "        -2.0488   ,  0.13744  , -0.27366  ,  0.50476  , -0.53498  ,\n",
              "        -0.392    ,  0.39018  , -0.28077  , -0.92524  ,  0.011456 ],\n",
              "       dtype=float32),\n",
              " array([ 0.11293  ,  0.34047  ,  0.34395  ,  0.43327  , -0.25655  ,\n",
              "         0.63448  ,  0.71143  , -0.28205  , -0.46568  ,  0.084629 ,\n",
              "        -0.067263 , -0.53546  , -5.5307   , -0.52906  , -0.24886  ,\n",
              "         0.2322   ,  0.37532  , -0.66031  , -0.97536  ,  0.30572  ,\n",
              "         0.3304   ,  0.33677  ,  0.48691  ,  1.5323   , -0.44411  ,\n",
              "         0.76012  ,  0.15348  ,  0.28962  ,  0.75354  , -0.58529  ,\n",
              "        -0.45858  , -0.087325 , -0.061707 ,  0.66269  ,  0.0065352,\n",
              "        -0.21273  , -0.090639 ,  0.26401  , -0.22748  ,  0.57202  ,\n",
              "        -0.89548  , -0.45465  ,  0.54902  ,  0.026617 , -0.095409 ,\n",
              "        -0.2743   , -0.022332 , -0.036575 , -0.71675  ,  0.037238 ],\n",
              "       dtype=float32),\n",
              " array([-2.2920e-02,  7.4723e-02, -3.0775e-01, -8.6956e-01, -2.0447e-01,\n",
              "         5.4582e-01,  1.2105e+00,  5.1746e-01,  4.2062e-01, -1.7484e-02,\n",
              "         2.6696e-02, -5.3167e-01, -5.4511e+00, -3.5958e-01, -3.5052e-01,\n",
              "        -4.8151e-01,  5.1333e-02, -2.2633e-01, -8.0337e-01, -2.1304e-02,\n",
              "        -4.8418e-01, -5.8792e-01,  1.5603e-01,  1.5204e-01,  2.4198e-01,\n",
              "         3.1057e-01,  1.4157e-01, -2.6540e-01,  5.0208e-01, -7.0228e-02,\n",
              "        -5.1773e-01,  1.6169e-01, -4.5916e-01,  1.2617e-01,  4.1360e-01,\n",
              "        -3.7802e-03,  1.0323e-01, -2.7997e-01,  8.6730e-02,  2.6027e-01,\n",
              "        -7.1655e-01,  3.0497e-01,  4.9980e-01,  3.0227e-01,  1.5855e-01,\n",
              "        -8.3405e-02, -2.3718e-01, -1.0185e-01, -3.3682e-01,  3.9806e-01],\n",
              "       dtype=float32)]"
            ]
          },
          "metadata": {},
          "execution_count": 44
        }
      ],
      "source": [
        "model = model_twitter\n",
        "embeddings = [model.get_vector(token) for token in tokens if token in model]\n",
        "embeddings"
      ]
    },
    {
      "cell_type": "markdown",
      "metadata": {
        "id": "p58DUnpNXenf"
      },
      "source": [
        "- the sum of the embeddings in the tweet is:"
      ]
    },
    {
      "cell_type": "code",
      "execution_count": 45,
      "metadata": {
        "id": "N0uuM4q7sid9",
        "colab": {
          "base_uri": "https://localhost:8080/"
        },
        "outputId": "5abcbe21-7a4b-453e-c617-80489a4dba88"
      },
      "outputs": [
        {
          "output_type": "execute_result",
          "data": {
            "text/plain": [
              "array([ 2.64765096e+00,  7.90018225e+00,  1.01915866e-01,  5.17959714e-01,\n",
              "       -2.75359535e+00,  2.04862022e+00,  1.06659498e+01,  5.13882875e+00,\n",
              "       -7.13634968e-01,  1.39984727e+00, -2.70196140e-01, -4.67420864e+00,\n",
              "       -7.30661011e+01, -3.89234495e+00, -6.91446018e+00,  8.87124538e-01,\n",
              "        4.78224373e+00, -7.39762688e+00, -5.17627764e+00,  4.13105816e-01,\n",
              "        8.69497061e-01, -6.35290146e-02, -3.30622506e+00,  6.84517145e+00,\n",
              "       -6.43810463e+00,  1.06017017e+00,  3.58504224e+00,  3.93398225e-01,\n",
              "        2.98032975e+00, -2.05176026e-01, -3.97906280e+00,  8.80522966e-01,\n",
              "       -4.68175697e+00, -1.47196257e+00,  4.43186617e+00, -6.65007114e-01,\n",
              "       -2.45945740e+00,  5.06064355e-01,  2.81861544e+00, -1.50697076e+00,\n",
              "       -1.81273479e+01,  3.94608998e+00,  4.39112329e+00,  1.53537393e+00,\n",
              "       -2.39299607e+00, -2.80773306e+00, -7.35282123e-01, -4.78520250e+00,\n",
              "       -1.45960796e+00, -1.34897602e+00], dtype=float32)"
            ]
          },
          "metadata": {},
          "execution_count": 45
        }
      ],
      "source": [
        "sum(embeddings)"
      ]
    },
    {
      "cell_type": "markdown",
      "metadata": {
        "id": "VpiF8tQCkZe5"
      },
      "source": [
        "- and the average of the embeddings is just:"
      ]
    },
    {
      "cell_type": "code",
      "execution_count": 46,
      "metadata": {
        "id": "ld2gtl6ukZty",
        "colab": {
          "base_uri": "https://localhost:8080/"
        },
        "outputId": "6180e918-850e-40c1-df6c-497abfffbdb0"
      },
      "outputs": [
        {
          "output_type": "execute_result",
          "data": {
            "text/plain": [
              "array([ 1.5574418e-01,  4.6471661e-01,  5.9950510e-03,  3.0468218e-02,\n",
              "       -1.6197620e-01,  1.2050707e-01,  6.2740880e-01,  3.0228403e-01,\n",
              "       -4.1978527e-02,  8.2343958e-02, -1.5893891e-02, -2.7495345e-01,\n",
              "       -4.2980061e+00, -2.2896147e-01, -4.0673295e-01,  5.2183796e-02,\n",
              "        2.8130844e-01, -4.3515453e-01, -3.0448693e-01,  2.4300342e-02,\n",
              "        5.1146887e-02, -3.7370007e-03, -1.9448383e-01,  4.0265715e-01,\n",
              "       -3.7871203e-01,  6.2362950e-02,  2.1088484e-01,  2.3141071e-02,\n",
              "        1.7531352e-01, -1.2069178e-02, -2.3406252e-01,  5.1795468e-02,\n",
              "       -2.7539748e-01, -8.6586036e-02,  2.6069802e-01, -3.9118066e-02,\n",
              "       -1.4467396e-01,  2.9768491e-02,  1.6580091e-01, -8.8645339e-02,\n",
              "       -1.0663146e+00,  2.3212294e-01,  2.5830138e-01,  9.0316117e-02,\n",
              "       -1.4076447e-01, -1.6516078e-01, -4.3251891e-02, -2.8148249e-01,\n",
              "       -8.5859291e-02, -7.9351529e-02], dtype=float32)"
            ]
          },
          "metadata": {},
          "execution_count": 46
        }
      ],
      "source": [
        "import numpy as np\n",
        "\n",
        "np.mean(embeddings, axis=0)"
      ]
    },
    {
      "cell_type": "markdown",
      "metadata": {
        "id": "nCvTji3wlpGH"
      },
      "source": [
        "We will need to perform this vector transformation for all tweets in the training and also the test sets\n",
        "- We can define a procedure to do that for us"
      ]
    },
    {
      "cell_type": "code",
      "execution_count": 47,
      "metadata": {
        "id": "uopuAE26d7gH"
      },
      "outputs": [],
      "source": [
        "import numpy as np\n",
        "\n",
        "def vectorize(docs, embedding_model=model_twitter, useSum=True):\n",
        "    vectors = np.zeros((len(docs),50))\n",
        "    for i in range(len(docs)):\n",
        "        tokens = re.sub(regex, '', docs[i].lower()).split()\n",
        "        embeddings = [embedding_model.get_vector(token) for token in tokens if token in embedding_model]\n",
        "        if (len(embeddings) > 0):\n",
        "            if (useSum):\n",
        "                vectors[i] = sum(embeddings)\n",
        "            else:\n",
        "                vectors[i] = np.mean(embeddings, axis=0)\n",
        "    return vectors"
      ]
    },
    {
      "cell_type": "markdown",
      "metadata": {
        "id": "2WoMOcuFYcbM"
      },
      "source": [
        "Let's now vectorize the training set\n",
        "- and then print out one of the instances to check that the format is correct:"
      ]
    },
    {
      "cell_type": "code",
      "execution_count": 48,
      "metadata": {
        "id": "iviol4QhenZx",
        "colab": {
          "base_uri": "https://localhost:8080/"
        },
        "outputId": "e3863751-f303-4a73-8ea0-6c5be6bbf333"
      },
      "outputs": [
        {
          "output_type": "execute_result",
          "data": {
            "text/plain": [
              "(3, 50)"
            ]
          },
          "metadata": {},
          "execution_count": 48
        }
      ],
      "source": [
        "train_x_vector = vectorize(train_x)\n",
        "train_x_vector[:3].shape"
      ]
    },
    {
      "cell_type": "markdown",
      "metadata": {
        "id": "z39a21KpdBHb"
      },
      "source": [
        "Now that we have the vectorized training data, we can go ahead and train the model!"
      ]
    },
    {
      "cell_type": "code",
      "execution_count": 49,
      "metadata": {
        "id": "qCuF581vdBcp",
        "colab": {
          "base_uri": "https://localhost:8080/"
        },
        "outputId": "85b42285-a3a8-437c-805f-5eddfd5c7803"
      },
      "outputs": [
        {
          "output_type": "stream",
          "name": "stdout",
          "text": [
            "LogisticRegression(max_iter=1000)\n"
          ]
        }
      ],
      "source": [
        "from sklearn.linear_model import LogisticRegression\n",
        "\n",
        "lr_model = LogisticRegression(max_iter=1000).fit(train_x_vector, train_y)\n",
        "print(lr_model)"
      ]
    },
    {
      "cell_type": "markdown",
      "metadata": {
        "id": "yAQhGdw_Yyi1"
      },
      "source": [
        "Let's test the model on the example tweets from the second tutorial:"
      ]
    },
    {
      "cell_type": "code",
      "execution_count": 50,
      "metadata": {
        "id": "OTb8hjCNkBf-",
        "colab": {
          "base_uri": "https://localhost:8080/"
        },
        "outputId": "a456f8f1-5690-4f37-b6d0-c39bde15b760"
      },
      "outputs": [
        {
          "output_type": "stream",
          "name": "stdout",
          "text": [
            "tweet:      I can't believe how much fun I'm having learning to train a text classifier using word embeddings!\n",
            "prediction: positive\n",
            "confidence: [0.4937744 0.5062256]\n",
            "\n",
            "tweet:      I am really confused. I want my mommy.\n",
            "prediction: negative\n",
            "confidence: [0.87048563 0.12951437]\n",
            "\n",
            "tweet:      The internet connection has been pretty annoying today!\n",
            "prediction: negative\n",
            "confidence: [0.83842666 0.16157334]\n",
            "\n",
            "tweet:      They just played my favourite song on the radio.\n",
            "prediction: positive\n",
            "confidence: [0.44015518 0.55984482]\n",
            "\n",
            "tweet:      I don't like going to the dentist.\n",
            "prediction: negative\n",
            "confidence: [0.86941707 0.13058293]\n",
            "\n",
            "tweet:      Can't wait for my three hour math class tomorrow morning. Yay!\n",
            "prediction: negative\n",
            "confidence: [0.67866215 0.32133785]\n",
            "\n"
          ]
        }
      ],
      "source": [
        "tweets = []\n",
        "tweets.append('I can\\'t believe how much fun I\\'m having learning to train a text classifier using word embeddings!')\n",
        "tweets.append('I am really confused. I want my mommy.')\n",
        "tweets.append('The internet connection has been pretty annoying today!')\n",
        "tweets.append('They just played my favourite song on the radio.')\n",
        "tweets.append(\"I don't like going to the dentist.\")\n",
        "tweets.append(\"Can't wait for my three hour math class tomorrow morning. Yay!\")\n",
        "\n",
        "\n",
        "transformed_tweets = vectorize(tweets)\n",
        "predictions = lr_model.predict(transformed_tweets)\n",
        "predicted_probabilities = lr_model.predict_proba(transformed_tweets)\n",
        "\n",
        "for i in range(len(tweets)):\n",
        "  print(f'tweet:      {tweets[i]}')\n",
        "  print(f'prediction: {predictions[i]}')\n",
        "  print(f'confidence: {predicted_probabilities[i]}')\n",
        "  print()"
      ]
    },
    {
      "cell_type": "markdown",
      "metadata": {
        "id": "FLBJOO8cbVHP"
      },
      "source": [
        "We can have a look at the coefficients of the logistic regression classification model.\n",
        "- How many should there be?"
      ]
    },
    {
      "cell_type": "code",
      "execution_count": 51,
      "metadata": {
        "id": "bPtPzQuLomrR",
        "colab": {
          "base_uri": "https://localhost:8080/"
        },
        "outputId": "40606886-44c7-493e-fe8b-8f2cfee25394"
      },
      "outputs": [
        {
          "output_type": "execute_result",
          "data": {
            "text/plain": [
              "array([[-0.02269271, -0.02147889,  0.03623058,  0.00451259,  0.23954089,\n",
              "         0.2263361 ,  0.03077397, -0.11913146, -0.06427806,  0.04731026,\n",
              "        -0.13849787,  0.26649283,  0.01328386, -0.02663771, -0.163191  ,\n",
              "         0.07888164, -0.03599643, -0.02140741,  0.11785391,  0.01080483,\n",
              "         0.0172167 , -0.09098864, -0.09937845, -0.06893979,  0.07433932,\n",
              "         0.03462339,  0.08915191, -0.0524618 ,  0.17515783,  0.05619489,\n",
              "         0.1269813 ,  0.08372114, -0.01119879,  0.02890993,  0.12984166,\n",
              "         0.13403659,  0.14547591,  0.06731339, -0.00474724, -0.05556742,\n",
              "        -0.00436954, -0.04332598,  0.0358253 ,  0.12847094, -0.01219209,\n",
              "         0.07823964, -0.01851308, -0.03364449,  0.04534033, -0.02783133]])"
            ]
          },
          "metadata": {},
          "execution_count": 51
        }
      ],
      "source": [
        "lr_model.coef_"
      ]
    },
    {
      "cell_type": "markdown",
      "metadata": {
        "id": "Eso1pS5Ybevo"
      },
      "source": [
        "Let's vectorize the validaton data and see how well the embeddings-based classifier performs on it:"
      ]
    },
    {
      "cell_type": "code",
      "execution_count": 53,
      "metadata": {
        "id": "DncyqQpinGHG",
        "colab": {
          "base_uri": "https://localhost:8080/",
          "height": 466
        },
        "outputId": "53cb544e-be62-4ddc-f121-81078918ce8c"
      },
      "outputs": [
        {
          "output_type": "stream",
          "name": "stdout",
          "text": [
            "Accuracy: 0.73375\n"
          ]
        },
        {
          "output_type": "display_data",
          "data": {
            "text/plain": [
              "<Figure size 640x480 with 2 Axes>"
            ],
            "image/png": "[encoded data removed]"
          },
          "metadata": {}
        }
      ],
      "source": [
        "valid_x_vector = vectorize(valid_x)\n",
        "pred_y = lr_model.predict(valid_x_vector)\n",
        "\n",
        "from sklearn.metrics import accuracy_score\n",
        "\n",
        "print(f'Accuracy: {accuracy_score(valid_y, pred_y)}')\n",
        "\n",
        "import matplotlib.pyplot as plt\n",
        "from sklearn.metrics import ConfusionMatrixDisplay\n",
        "\n",
        "ConfusionMatrixDisplay.from_estimator(lr_model, valid_x_vector, valid_y, values_format='d')\n",
        "plt.show()"
      ]
    },
    {
      "cell_type": "markdown",
      "metadata": {
        "id": "7z23krami3W0"
      },
      "source": [
        "So pretty much the same accuracy as the bag-of-words based classifier.\n",
        "- but this time with feature vectors of size 50\n",
        "- what happens to the accuracy if we:\n",
        "  - use a different embedding: model_wiki instead of model_twitter\n",
        "  - use a bigger (higher dimensional) embedding: download a larger one to see\n",
        "  - use the average rather than the sum to generate the feature vector?\n",
        "- try it out:"
      ]
    },
    {
      "cell_type": "code",
      "execution_count": 54,
      "metadata": {
        "id": "HR7lw-Ljey3g",
        "colab": {
          "base_uri": "https://localhost:8080/",
          "height": 466
        },
        "outputId": "de444aa8-a2e0-42e8-ca81-895ecb37767d"
      },
      "outputs": [
        {
          "output_type": "stream",
          "name": "stdout",
          "text": [
            "Accuracy: 0.666875\n"
          ]
        },
        {
          "output_type": "display_data",
          "data": {
            "text/plain": [
              "<Figure size 640x480 with 2 Axes>"
            ],
            "image/png": "[encoded data removed]"
          },
          "metadata": {}
        }
      ],
      "source": [
        "# Vectorise\n",
        "train_x_vector = vectorize(train_x, embedding_model=model_wiki)\n",
        "# Fit model\n",
        "lr_model = LogisticRegression(max_iter=1000).fit(train_x_vector, train_y)\n",
        "# Evaluate results\n",
        "valid_x_vector = vectorize(valid_x, embedding_model=model_wiki)\n",
        "pred_y = lr_model.predict(valid_x_vector)\n",
        "\n",
        "print(f'Accuracy: {accuracy_score(valid_y, pred_y)}')\n",
        "\n",
        "ConfusionMatrixDisplay.from_estimator(lr_model, valid_x_vector, valid_y, values_format='d')\n",
        "plt.show()"
      ]
    },
    {
      "cell_type": "code",
      "execution_count": 55,
      "metadata": {
        "id": "9RpC810Dey3g",
        "colab": {
          "base_uri": "https://localhost:8080/",
          "height": 466
        },
        "outputId": "a98a3f08-7181-4016-be04-34f5574c84b5"
      },
      "outputs": [
        {
          "output_type": "stream",
          "name": "stdout",
          "text": [
            "Accuracy: 0.673125\n"
          ]
        },
        {
          "output_type": "display_data",
          "data": {
            "text/plain": [
              "<Figure size 640x480 with 2 Axes>"
            ],
            "image/png": "[encoded data removed]"
          },
          "metadata": {}
        }
      ],
      "source": [
        "# Vectorise\n",
        "train_x_vector = vectorize(train_x, embedding_model=model_wiki, useSum=False)\n",
        "# Fit model\n",
        "lr_model = LogisticRegression(max_iter=1000).fit(train_x_vector, train_y)\n",
        "# Evaluate results\n",
        "valid_x_vector = vectorize(valid_x, embedding_model=model_wiki, useSum=False)\n",
        "pred_y = lr_model.predict(valid_x_vector)\n",
        "\n",
        "print(f'Accuracy: {accuracy_score(valid_y, pred_y)}')\n",
        "\n",
        "ConfusionMatrixDisplay.from_estimator(lr_model, valid_x_vector, valid_y, values_format='d')\n",
        "plt.show()"
      ]
    },
    {
      "cell_type": "code",
      "execution_count": 56,
      "metadata": {
        "id": "arZYGnXSey3g",
        "colab": {
          "base_uri": "https://localhost:8080/",
          "height": 466
        },
        "outputId": "3aa00e7a-b4b6-4e1d-fcad-bc77061e2282"
      },
      "outputs": [
        {
          "output_type": "stream",
          "name": "stdout",
          "text": [
            "Accuracy: 0.73\n"
          ]
        },
        {
          "output_type": "display_data",
          "data": {
            "text/plain": [
              "<Figure size 640x480 with 2 Axes>"
            ],
            "image/png": "[encoded data removed]"
          },
          "metadata": {}
        }
      ],
      "source": [
        "# Vecorise\n",
        "train_x_vector = vectorize(train_x, useSum=False)\n",
        "# Fit model\n",
        "lr_model = LogisticRegression(max_iter=1000).fit(train_x_vector, train_y)\n",
        "# Evaluate results\n",
        "valid_x_vector = vectorize(valid_x, useSum=False)\n",
        "pred_y = lr_model.predict(valid_x_vector)\n",
        "\n",
        "print(f'Accuracy: {accuracy_score(valid_y, pred_y)}')\n",
        "\n",
        "ConfusionMatrixDisplay.from_estimator(lr_model, valid_x_vector, valid_y, values_format='d')\n",
        "plt.show()"
      ]
    },
    {
      "cell_type": "markdown",
      "metadata": {
        "id": "NvWLcBqGkTFO"
      },
      "source": [
        "Also worth trying is doc2vec rather than word2vec embeddings:\n",
        "- in theory they should give slightly better performance on sentence classification tasks\n",
        "- see here: https://radimrehurek.com/gensim/auto_examples/tutorials/run_doc2vec_lee.html"
      ]
    },
    {
      "cell_type": "markdown",
      "metadata": {
        "id": "kIvbxdRpYHlO"
      },
      "source": [
        "## Other uses for Word2Vec embeddings\n",
        "\n",
        "Have a look at this inventive post that learns Word2Vec embeddings for automobiles described in CSV file:\n",
        "- https://towardsdatascience.com/a-beginners-guide-to-word-embedding-with-gensim-word2vec-model-5970fa56cc92\n",
        "- The embeddings allow for similarity computations across  the vehicles.\n"
      ]
    },
    {
      "cell_type": "code",
      "execution_count": null,
      "metadata": {
        "id": "_YWk4FnIYHlO"
      },
      "outputs": [],
      "source": [
        "# TODO"
      ]
    },
    {
      "cell_type": "markdown",
      "metadata": {
        "id": "6PifwcbdWqKz"
      },
      "source": [
        "## FastText (sub-word) embeddings\n",
        "\n",
        "Try training a fasttext model:\n",
        "\n",
        "https://pypi.org/project/fasttext/\n",
        "\n",
        "You can have a look at the API and documentation at this [link](https://fasttext.cc)."
      ]
    },
    {
      "cell_type": "markdown",
      "metadata": {
        "id": "jJn_r-pPHxim"
      },
      "source": [
        "Let's start by installing the fastText package.\n",
        "(Note that, alterantively, Genism has a specific API for fastText that wraps the package we are going to use)"
      ]
    },
    {
      "cell_type": "code",
      "execution_count": null,
      "metadata": {
        "id": "52qmtcvvKmXD",
        "colab": {
          "base_uri": "https://localhost:8080/"
        },
        "outputId": "5467f233-e444-4e79-afc7-9147d5a386d5"
      },
      "outputs": [
        {
          "output_type": "stream",
          "name": "stdout",
          "text": [
            "Requirement already satisfied: fasttext in /usr/local/lib/python3.11/dist-packages (0.9.3)\n",
            "Requirement already satisfied: pybind11>=2.2 in /usr/local/lib/python3.11/dist-packages (from fasttext) (2.13.6)\n",
            "Requirement already satisfied: setuptools>=0.7.0 in /usr/local/lib/python3.11/dist-packages (from fasttext) (75.1.0)\n",
            "Requirement already satisfied: numpy in /usr/local/lib/python3.11/dist-packages (from fasttext) (1.26.4)\n"
          ]
        }
      ],
      "source": [
        "!pip install fasttext"
      ]
    },
    {
      "cell_type": "markdown",
      "metadata": {
        "id": "x62UPMmPwTZN"
      },
      "source": [
        "Now that we have installed the package, we can download one of the pre-trained models (you can find [here](https://fasttext.cc/docs/en/crawl-vectors.html) the list of available models)"
      ]
    },
    {
      "cell_type": "code",
      "execution_count": null,
      "metadata": {
        "id": "w332B-YpwTjV",
        "colab": {
          "base_uri": "https://localhost:8080/"
        },
        "outputId": "eee46868-c2ce-4a6b-f549-f60004a4a160"
      },
      "outputs": [
        {
          "output_type": "stream",
          "name": "stdout",
          "text": [
            "--2025-03-12 10:16:10--  http://dl.fbaipublicfiles.com/fasttext/vectors-crawl/cc.en.300.bin.gz\n",
            "Resolving dl.fbaipublicfiles.com (dl.fbaipublicfiles.com)... 13.35.186.77, 13.35.186.32, 13.35.186.93, ...\n",
            "Connecting to dl.fbaipublicfiles.com (dl.fbaipublicfiles.com)|13.35.186.77|:80... connected.\n",
            "HTTP request sent, awaiting response... 200 OK\n",
            "Length: 4503593528 (4.2G) [application/octet-stream]\n",
            "Saving to: ‘cc.en.300.bin.gz.3’\n",
            "\n",
            "cc.en.300.bin.gz.3  100%[===================>]   4.19G  51.0MB/s    in 92s     \n",
            "\n",
            "2025-03-12 10:17:42 (46.6 MB/s) - ‘cc.en.300.bin.gz.3’ saved [4503593528/4503593528]\n",
            "\n"
          ]
        }
      ],
      "source": [
        "# !wget https://dl.fbaipublicfiles.com/fasttext/vectors-wiki/wiki.en.zip\n",
        "!wget http://dl.fbaipublicfiles.com/fasttext/vectors-crawl/cc.en.300.bin.gz\n",
        "!gzip -d cc.en.300.bin.gz"
      ]
    },
    {
      "cell_type": "markdown",
      "source": [],
      "metadata": {
        "id": "bExOLO48vjwe"
      }
    },
    {
      "cell_type": "markdown",
      "metadata": {
        "id": "1tDcLNT9fKUl"
      },
      "source": [
        "Finally we can create a model istance:"
      ]
    },
    {
      "cell_type": "code",
      "execution_count": null,
      "metadata": {
        "id": "JrDxcw89fKgr"
      },
      "outputs": [],
      "source": [
        "import fasttext\n",
        "\n",
        "ft_model = fasttext.load_model('./cc.en.300.bin')"
      ]
    },
    {
      "cell_type": "markdown",
      "metadata": {
        "id": "pnpPQ0j3mUiE"
      },
      "source": [
        "What is the size of the vocabulary?"
      ]
    },
    {
      "cell_type": "code",
      "execution_count": null,
      "metadata": {
        "id": "uhqskdAimTLa",
        "colab": {
          "base_uri": "https://localhost:8080/"
        },
        "outputId": "5f0f7672-018f-4105-eaee-c12f2855b0c8"
      },
      "outputs": [
        {
          "output_type": "execute_result",
          "data": {
            "text/plain": [
              "2000000"
            ]
          },
          "metadata": {},
          "execution_count": 9
        }
      ],
      "source": [
        "len(ft_model.get_words())"
      ]
    },
    {
      "cell_type": "markdown",
      "metadata": {
        "id": "19fBomf5mVDU"
      },
      "source": [
        "What is the size of the embeddings?"
      ]
    },
    {
      "cell_type": "code",
      "execution_count": null,
      "metadata": {
        "id": "JK9X-b5XmTic",
        "colab": {
          "base_uri": "https://localhost:8080/"
        },
        "outputId": "86aeb42c-9e15-4029-826f-ac1338f4d73b"
      },
      "outputs": [
        {
          "output_type": "execute_result",
          "data": {
            "text/plain": [
              "300"
            ]
          },
          "metadata": {},
          "execution_count": 10
        }
      ],
      "source": [
        "ft_model.get_dimension()"
      ]
    },
    {
      "cell_type": "markdown",
      "metadata": {
        "id": "mEAa1rU2ey3j"
      },
      "source": [
        "How do we get the embedding of a word?"
      ]
    },
    {
      "cell_type": "code",
      "execution_count": null,
      "metadata": {
        "id": "VMzSd9-2ey3j",
        "colab": {
          "base_uri": "https://localhost:8080/"
        },
        "outputId": "87c5cc2b-eb61-4b51-e73d-4568248d917e"
      },
      "outputs": [
        {
          "output_type": "execute_result",
          "data": {
            "text/plain": [
              "array([ 1.37498349e-01,  1.73652887e-01,  1.55173652e-02,  2.37601340e-01,\n",
              "       -2.04669774e-01,  1.87128603e-01,  2.91468382e-01,  3.73304449e-03,\n",
              "        4.89513204e-02,  2.60247648e-01, -8.31757560e-02, -1.56491295e-01,\n",
              "        8.69184956e-02, -4.78181392e-02, -1.18615523e-01,  1.54884279e-01,\n",
              "       -1.69153258e-01, -1.22394666e-01, -1.40723094e-01,  4.53762040e-02,\n",
              "       -3.81604545e-02, -1.46799475e-01,  1.36863321e-01, -1.50539711e-01,\n",
              "       -1.81618929e-02,  1.47275031e-02, -4.21417244e-02,  1.39445990e-01,\n",
              "        4.28556725e-02,  3.05333138e-01, -1.66591443e-02,  2.91614503e-01,\n",
              "       -3.32667604e-02, -4.68752086e-02,  2.67606732e-02,  8.71477500e-02,\n",
              "       -5.38966954e-02,  1.33774459e-01,  8.50976482e-02, -6.40801638e-02,\n",
              "       -1.03779674e-01, -1.81272849e-01, -1.10902652e-01,  1.66989714e-01,\n",
              "       -1.99763715e-01,  4.53899801e-03, -1.89182535e-02, -2.78699417e-02,\n",
              "       -2.93243110e-01, -5.81464916e-03,  1.75295904e-01,  1.08659819e-01,\n",
              "       -1.88145787e-02,  2.53145359e-02,  9.95914787e-02, -3.12647223e-02,\n",
              "        9.74955484e-02, -1.57494023e-01, -1.64722189e-01, -6.87088072e-02,\n",
              "        9.10460949e-05,  1.59804896e-02,  1.10373735e-01,  6.10446706e-02,\n",
              "        1.07483588e-01, -1.33552194e-01, -7.02596456e-02,  1.16452649e-01,\n",
              "        1.18472248e-01,  6.14816248e-02, -8.17625001e-02,  4.12990153e-03,\n",
              "        1.23452470e-02,  1.57015212e-02,  3.73466015e-02, -1.09414756e-02,\n",
              "       -8.77702013e-02,  2.94106871e-01, -1.09256595e-01, -7.45082274e-02,\n",
              "       -2.63583213e-01, -2.84229126e-02, -1.52215466e-01, -1.00488283e-01,\n",
              "        4.63331118e-02, -6.50667697e-02, -7.57237226e-02,  1.46466196e-02,\n",
              "       -3.01163793e-02, -6.27530664e-02,  7.32356012e-02, -3.39862436e-01,\n",
              "       -2.12151855e-02,  1.20418519e-01,  1.95152871e-02,  1.46374375e-01,\n",
              "        4.19964790e-02,  2.27189422e-01, -4.76691127e-02,  5.83246611e-02,\n",
              "       -1.18166231e-01,  1.94506012e-02,  1.29298002e-01, -8.22782367e-02,\n",
              "       -1.82408914e-01,  1.22837633e-01, -4.33400944e-02, -7.62889758e-02,\n",
              "       -1.49289474e-01,  1.32627741e-01,  2.07074419e-01, -2.40204573e-01,\n",
              "       -3.01707983e-02,  1.00110896e-01,  1.09480068e-01,  1.78128794e-01,\n",
              "        5.19588068e-02, -1.18714668e-01, -6.70131519e-02,  2.07650527e-01,\n",
              "       -3.13496441e-02,  2.84634590e-01, -8.52486044e-02, -2.01036707e-02,\n",
              "       -1.93305723e-02, -2.07597405e-01, -1.20448753e-01,  1.40477762e-01,\n",
              "        1.05674461e-01,  3.88197601e-03,  6.56490326e-02, -2.37631038e-01,\n",
              "       -3.56610008e-02, -8.02731290e-02, -2.24592313e-02, -1.23117693e-01,\n",
              "        1.51049644e-01,  2.43693039e-01,  1.88642144e-01,  3.11025791e-03,\n",
              "       -1.42823428e-01,  7.86538571e-02,  6.08236715e-03, -1.67422846e-01,\n",
              "       -8.55229050e-02,  7.95976892e-02, -3.45605433e-01,  5.82623780e-02,\n",
              "       -1.06225297e-01, -1.78768754e-01, -4.63169813e-02, -7.22998232e-02,\n",
              "        6.99614957e-02, -1.17765516e-02, -1.15494572e-01, -5.82705364e-02,\n",
              "        1.16676003e-01,  5.70290461e-02, -7.90311471e-02,  8.35967138e-02,\n",
              "        8.16148371e-02, -1.73566580e-01,  2.34466106e-01,  3.13998163e-02,\n",
              "       -2.83091217e-02, -3.13015580e-02,  1.57410666e-01, -1.23833120e-02,\n",
              "       -6.04008958e-02,  1.00380607e-01,  1.09081395e-01,  5.35128973e-02,\n",
              "       -1.12907238e-01, -2.18785390e-01, -2.26536058e-02, -2.15117663e-01,\n",
              "       -1.11640386e-01, -3.89714614e-02,  8.59435648e-02, -1.97914347e-01,\n",
              "       -4.17543389e-02, -1.15136296e-01,  4.49582487e-02, -1.30544692e-01,\n",
              "       -6.05523065e-02,  3.08122993e-01, -4.84386310e-02, -5.04352376e-02,\n",
              "        5.67938611e-02,  1.03469603e-01,  3.77609134e-02,  1.75252743e-03,\n",
              "        2.36129127e-02,  1.28008991e-01, -9.24589187e-02, -1.44171059e-01,\n",
              "        3.02452624e-01, -1.20941728e-01,  2.55626217e-02, -4.43983078e-02,\n",
              "        1.31773561e-01,  5.05378768e-02,  4.99319136e-02, -4.53851558e-02,\n",
              "       -1.25326589e-01,  1.03378303e-01,  9.02659371e-02,  8.87431204e-03,\n",
              "        1.90032590e-02,  6.09402731e-02,  8.95207599e-02, -9.70865861e-02,\n",
              "       -9.47063640e-02,  2.91972943e-02, -1.52865816e-02, -1.61617801e-01,\n",
              "        3.19432677e-03, -6.58987164e-02,  6.43858016e-02, -2.62204409e-02,\n",
              "        7.66740441e-02, -3.07367295e-02, -1.66517615e-01, -4.53550480e-02,\n",
              "        1.12862349e-01,  2.02228762e-02, -6.31066635e-02, -2.73563862e-01,\n",
              "       -8.24580714e-02, -7.55187646e-02,  2.45882347e-01,  7.84016699e-02,\n",
              "       -7.31700063e-02, -5.58071174e-02, -2.08459049e-02,  1.32113360e-02,\n",
              "       -1.15614533e-01, -1.28816754e-01, -7.76782110e-02,  1.39297172e-02,\n",
              "        7.68901408e-02,  3.53115499e-02, -7.35836700e-02, -1.48101956e-01,\n",
              "        1.57499254e-01,  2.79525697e-01, -7.00949654e-02, -1.30779624e-01,\n",
              "       -6.56079650e-02, -3.89638245e-02,  2.90693641e-02,  2.53306665e-02,\n",
              "       -1.87344216e-02,  8.13647956e-02,  1.52117580e-01,  5.24173714e-02,\n",
              "       -2.27155939e-01,  3.56054865e-02,  1.05434768e-02, -6.52607605e-02,\n",
              "        9.73352417e-02, -6.46137819e-02, -2.53503621e-02,  1.22090224e-02,\n",
              "       -1.39826387e-01, -7.75838494e-02, -2.07123429e-01, -7.15182126e-02,\n",
              "        8.69591534e-03,  1.41621977e-02, -1.93011254e-01,  2.27474242e-01,\n",
              "       -1.15029059e-01,  4.09493409e-02, -8.25189203e-02, -7.64346272e-02,\n",
              "       -9.39211100e-02,  4.57039848e-02,  2.61136368e-02, -3.34188640e-02,\n",
              "        4.32544090e-02, -1.03707597e-01, -1.41373813e-01, -1.44344121e-01,\n",
              "        1.59042463e-01,  9.89959389e-03,  2.83480138e-02, -2.38574252e-01,\n",
              "       -2.76446074e-01, -8.09888542e-02, -4.18215282e-02,  1.75330192e-02,\n",
              "       -1.65929049e-01,  1.04931220e-01, -1.10928323e-02,  9.20476243e-02,\n",
              "        6.67028055e-02,  2.07736552e-01,  8.53124261e-02, -1.40121192e-01],\n",
              "      dtype=float32)"
            ]
          },
          "metadata": {},
          "execution_count": 11
        }
      ],
      "source": [
        "ft_model.get_word_vector('car')"
      ]
    },
    {
      "cell_type": "markdown",
      "metadata": {
        "id": "44hYw0bAey3k"
      },
      "source": [
        "Alterantively you can use it as a Python dictionary"
      ]
    },
    {
      "cell_type": "code",
      "execution_count": null,
      "metadata": {
        "id": "6QZOh_e2ey3k",
        "colab": {
          "base_uri": "https://localhost:8080/"
        },
        "outputId": "d9cded34-2fc3-464e-8d5c-16e7265761a9"
      },
      "outputs": [
        {
          "output_type": "execute_result",
          "data": {
            "text/plain": [
              "array([ 2.05102742e-01, -1.17439777e-01, -1.55425537e-02,  1.79349303e-01,\n",
              "       -2.28049219e-01, -1.24558017e-01,  1.23250902e-01,  5.38473055e-02,\n",
              "        4.11795303e-02, -5.67295495e-03, -8.39752406e-02,  1.84653439e-02,\n",
              "       -8.60689804e-02,  1.12930965e-02, -1.33117482e-01,  1.38373390e-01,\n",
              "       -1.25412792e-01, -3.86665910e-02, -1.22192718e-01,  1.07491598e-01,\n",
              "        7.44868889e-02,  1.43000856e-01, -2.68281717e-02,  7.85946473e-03,\n",
              "       -3.62306088e-02, -2.08035931e-02,  9.95780062e-03, -5.96441068e-02,\n",
              "        3.78727615e-02,  1.31439894e-01, -6.71993792e-02,  6.71701431e-02,\n",
              "        1.11701377e-01, -1.82819627e-02, -1.02341630e-01,  9.74911451e-03,\n",
              "        4.25241441e-02, -1.59083098e-01,  3.72390151e-02, -1.32961005e-01,\n",
              "       -6.62351400e-02,  1.17778786e-01, -3.11643854e-02, -4.58469465e-02,\n",
              "       -1.54904723e-01,  2.37882137e-03,  2.09096503e-02, -6.17710687e-03,\n",
              "       -2.41204053e-01,  8.73834118e-02,  6.91391528e-02,  1.11958645e-01,\n",
              "       -1.52415112e-02, -1.00177675e-01, -6.60216436e-02,  7.77632892e-02,\n",
              "        9.00297761e-02,  3.69252376e-02, -2.52914429e-02,  2.36923918e-02,\n",
              "       -1.53724262e-02,  3.27921212e-02, -1.39887005e-01,  1.09796673e-02,\n",
              "        7.74039626e-02, -7.29498342e-02,  3.66372019e-02,  6.94629326e-02,\n",
              "       -4.31373864e-02,  3.86431366e-02, -2.37832926e-02, -2.62797046e-02,\n",
              "       -8.52299929e-02, -1.24506094e-03, -1.66640848e-01, -7.69969672e-02,\n",
              "        1.00765273e-01,  3.93868051e-03,  1.25144869e-02,  1.72688425e-01,\n",
              "       -4.70201746e-02, -7.07887039e-02,  2.69618072e-02,  8.90153423e-02,\n",
              "       -8.63350183e-02,  5.59332669e-02,  6.88511878e-02, -1.81689560e-02,\n",
              "        1.49315774e-01, -2.06480175e-03, -4.99112904e-02,  9.12162587e-02,\n",
              "        6.12079501e-02,  3.40343006e-02, -1.59623727e-01,  9.91314650e-03,\n",
              "        1.47123680e-01,  7.51622468e-02,  1.25847980e-01,  7.28560686e-02,\n",
              "       -1.20911151e-01,  1.33074015e-01, -2.40076296e-02, -8.61709863e-02,\n",
              "       -1.79991545e-03,  3.91840525e-02, -3.06748301e-02, -1.10395163e-01,\n",
              "       -1.44113809e-01,  3.47533152e-02,  1.26442760e-01,  1.51098520e-01,\n",
              "       -1.47495106e-01,  9.89220962e-02,  1.07589796e-01,  9.38937441e-02,\n",
              "       -1.53009564e-01, -1.30068827e-02, -1.14716075e-01, -1.30422384e-01,\n",
              "        1.86000764e-02,  5.32120466e-05, -2.31985860e-02, -1.07203282e-01,\n",
              "       -3.31636667e-02,  4.47869375e-02,  2.25304645e-02,  1.85147613e-01,\n",
              "        5.13294712e-03, -1.23191781e-01,  8.12826157e-02, -8.51961747e-02,\n",
              "       -9.72918421e-02, -1.90278441e-02, -6.44630939e-02, -1.08691052e-01,\n",
              "        2.70893425e-02,  1.02976874e-01,  1.80976331e-01, -1.63971558e-02,\n",
              "       -7.17620775e-02, -7.96736404e-02, -9.61826518e-02, -1.91508874e-01,\n",
              "        2.70473287e-02,  1.24248281e-01, -3.49661916e-01, -1.33518144e-01,\n",
              "       -2.82961894e-02, -9.26014706e-02, -4.25025821e-04, -2.86594480e-02,\n",
              "       -3.91338617e-02, -9.90596265e-02, -4.65282984e-02, -8.72748494e-02,\n",
              "        1.51935905e-01, -1.91162080e-02,  9.13072601e-02,  1.89611129e-02,\n",
              "       -1.08969875e-01, -2.90214196e-02,  8.61809775e-02, -2.18289584e-01,\n",
              "       -1.40584171e-01, -2.89806034e-02,  8.69408399e-02,  1.18448846e-02,\n",
              "        9.80549902e-02,  5.18676490e-02, -3.34505178e-03,  8.01285952e-02,\n",
              "        6.87225088e-02,  1.70012593e-01,  3.26067172e-02,  1.63739957e-02,\n",
              "        3.87846790e-02, -1.26889497e-02, -3.26282345e-02,  9.15853605e-02,\n",
              "        5.58803044e-03,  1.06696427e-01, -4.73687798e-02, -1.07843116e-01,\n",
              "       -8.31641108e-02,  1.36591256e-01,  2.29387909e-01, -2.46172547e-02,\n",
              "        2.01673638e-02, -2.14638207e-02, -1.00305840e-01,  1.96577206e-01,\n",
              "        1.44458741e-01,  9.78642032e-02,  1.25113457e-01, -5.35797067e-02,\n",
              "       -6.95556924e-02, -1.35392934e-01,  3.14381532e-02,  1.78394511e-01,\n",
              "        5.15805036e-02,  3.73208970e-02,  1.08873099e-01,  5.15858382e-02,\n",
              "        3.36884856e-02,  9.44927931e-02,  9.98455137e-02, -5.56635223e-02,\n",
              "       -1.62284330e-01,  2.38388091e-01,  8.31078738e-03, -7.34476894e-02,\n",
              "       -1.08296201e-01,  6.40900210e-02, -1.30532300e-02,  1.64562717e-01,\n",
              "        5.02874181e-02, -1.77713811e-01, -4.69116122e-03, -2.90708076e-02,\n",
              "        1.00689061e-01,  1.28326267e-01, -1.63036004e-01,  1.28823876e-01,\n",
              "       -4.02787179e-02, -1.83677584e-01,  7.98890889e-02, -4.12471667e-02,\n",
              "       -3.48612294e-02, -6.26894534e-02, -1.59047395e-01,  1.87391803e-01,\n",
              "        3.71768177e-02,  2.79565807e-02,  1.63159668e-01,  3.75718437e-02,\n",
              "        7.86873326e-02, -2.44909581e-02, -6.72861934e-02, -3.14295776e-02,\n",
              "        1.51372068e-02, -5.56141920e-02,  4.48027030e-02, -1.93316251e-01,\n",
              "        2.06538424e-01, -8.87603462e-02, -9.88327265e-02,  2.40609385e-02,\n",
              "       -1.47456363e-01,  8.88570175e-02, -9.27246436e-02, -9.50970054e-02,\n",
              "        1.18448839e-01,  3.29303920e-01,  1.54580414e-01,  1.43435687e-01,\n",
              "       -1.28814936e-01,  7.68910497e-02,  3.72115988e-03,  1.75254852e-01,\n",
              "       -8.40665251e-02, -2.76442617e-02, -5.33436462e-02,  7.45012611e-02,\n",
              "       -5.63166961e-02, -9.66539606e-04,  1.13127068e-01,  2.83497237e-02,\n",
              "        5.91475405e-02, -7.03010559e-02, -4.37492207e-02,  5.44570349e-02,\n",
              "       -2.06605077e-01,  3.03150155e-02, -1.34049416e-01, -3.00040841e-02,\n",
              "       -2.13847756e-02,  5.49306124e-02, -1.04515314e-01, -4.16764542e-02,\n",
              "       -5.24726398e-02, -5.46058267e-02, -1.92172214e-01, -2.53393352e-01,\n",
              "        1.28208563e-01, -3.39920893e-02,  5.07736392e-02,  3.05913612e-02,\n",
              "       -9.96698514e-02, -5.63710779e-02,  4.16795760e-02,  8.36478733e-03,\n",
              "       -1.09555885e-01,  4.91313301e-02,  3.91997732e-02,  2.97623277e-02,\n",
              "       -5.84195256e-02,  2.64039308e-01,  1.03534430e-01,  2.85770763e-02],\n",
              "      dtype=float32)"
            ]
          },
          "metadata": {},
          "execution_count": 12
        }
      ],
      "source": [
        "ft_model['man']"
      ]
    },
    {
      "cell_type": "markdown",
      "metadata": {
        "id": "V7cqE-3XfAM9"
      },
      "source": [
        "Now we can test a bit the capabilities of fastText (examples are taken from [here](https://fasttext.cc/docs/en/unsupervised-tutorial.html))."
      ]
    },
    {
      "cell_type": "markdown",
      "metadata": {
        "id": "BdNL7kcTlIzH"
      },
      "source": [
        "A base functionality is to search for close vectors in the embedding space"
      ]
    },
    {
      "cell_type": "code",
      "execution_count": null,
      "metadata": {
        "id": "85EKLO7FfAXA",
        "colab": {
          "base_uri": "https://localhost:8080/"
        },
        "outputId": "773429a6-0158-4503-89ba-691ec7a645d6"
      },
      "outputs": [
        {
          "output_type": "execute_result",
          "data": {
            "text/plain": [
              "[(0.7746413350105286, 'aspargus'),\n",
              " (0.7368614077568054, 'Asparagus'),\n",
              " (0.7233701944351196, 'broccoli'),\n",
              " (0.7113494873046875, 'broccolini'),\n",
              " (0.7106742262840271, 'leeks'),\n",
              " (0.7096290588378906, 'artichokes'),\n",
              " (0.7028921842575073, 'asparagas'),\n",
              " (0.6759673953056335, 'kohlrabi'),\n",
              " (0.6757089495658875, 'radishes'),\n",
              " (0.6669561862945557, 'spinach')]"
            ]
          },
          "metadata": {},
          "execution_count": 13
        }
      ],
      "source": [
        "word = 'asparagus'\n",
        "\n",
        "ft_model.get_nearest_neighbors(word)"
      ]
    },
    {
      "cell_type": "markdown",
      "metadata": {
        "id": "q5dCaN3Dey3k"
      },
      "source": [
        "The first search takes additional time because the model is doing some sort of indexing in the embedding space. fastText uses a tool called FAISS to speed up the search in the embedding space (https://github.com/facebookresearch/faiss)"
      ]
    },
    {
      "cell_type": "markdown",
      "metadata": {
        "id": "i8t5WUH-fJSQ"
      },
      "source": [
        "We can also solve analogies directly, without doing the computations by hand"
      ]
    },
    {
      "cell_type": "code",
      "execution_count": null,
      "metadata": {
        "id": "pXrLJK8jfJbN",
        "colab": {
          "base_uri": "https://localhost:8080/"
        },
        "outputId": "b7afa2e7-c8df-4d00-8685-2338951d5eb7"
      },
      "outputs": [
        {
          "output_type": "execute_result",
          "data": {
            "text/plain": [
              "[(0.6729540228843689, 'kings'),\n",
              " (0.6174856424331665, 'king-'),\n",
              " (0.6076122522354126, 'king.'),\n",
              " (0.5779222249984741, 'King'),\n",
              " (0.5720189213752747, 'king.The'),\n",
              " (0.5601366758346558, 'kingly'),\n",
              " (0.5598397254943848, 'prince'),\n",
              " (0.5453356504440308, 'king.But'),\n",
              " (0.5429127812385559, 'lord'),\n",
              " (0.5420817136764526, '-king')]"
            ]
          },
          "metadata": {},
          "execution_count": 14
        }
      ],
      "source": [
        "ft_model.get_analogies(\"man\", \"woman\", \"king\")\n",
        "# ft_model.get_analogies(\"psx\", \"sony\", \"nintendo\")"
      ]
    },
    {
      "cell_type": "markdown",
      "metadata": {
        "id": "YAEZQAPNmjTv"
      },
      "source": [
        "Note that we are dealing with a model using also subword n-grams, so we can get the representation and the similarity even of out of vocabulary words\n",
        "\n",
        "For example we can search for the word **confuzzling** (which is an actual real fake word https://en.wiktionary.org/wiki/confuzzling):"
      ]
    },
    {
      "cell_type": "code",
      "execution_count": null,
      "metadata": {
        "id": "WIkjsmJvn-Ce",
        "colab": {
          "base_uri": "https://localhost:8080/"
        },
        "outputId": "9ff2620f-4fc3-48e9-dfe3-995adf655b1c"
      },
      "outputs": [
        {
          "output_type": "stream",
          "name": "stdout",
          "text": [
            "Is the word \"confuzzling\" in the fastText model vocabulary? False\n",
            "0.613641083240509: confuzzled\n",
            "0.550931990146637: Confuzzled\n",
            "0.4055270850658417: confuddled\n",
            "0.3816613256931305: confusing\n",
            "0.36328595876693726: confused\n",
            "0.36032891273498535: nondescriptive\n",
            "0.359388530254364: Wikipedia-Page-Suzannah-B-Troy-6-yrs-after-Misogynist-Cyber-Vandalism-Censorship-via-Deletion-on-a-page-about-Censorship-Wikipedia-Agrees-to-retur\n",
            "0.3525550067424774: muddly\n",
            "0.3524904251098633: official-like\n",
            "0.3516576588153839: unflattering.Coordinating\n"
          ]
        }
      ],
      "source": [
        "word = \"confuzzling\"\n",
        "print(f'Is the word \"{word}\" in the fastText model vocabulary? {word in ft_model}')\n",
        "for s, w in ft_model.get_nearest_neighbors(word):\n",
        "    print(f'{s}: {w}')"
      ]
    },
    {
      "cell_type": "markdown",
      "metadata": {
        "id": "n2pV3BOHoAn4"
      },
      "source": [
        "This is why character n-grams are so important"
      ]
    },
    {
      "cell_type": "markdown",
      "metadata": {
        "id": "-CiyFm3Oey3l"
      },
      "source": [
        "We can also encode a sentence (sequence of tokens) into a single vector"
      ]
    },
    {
      "cell_type": "code",
      "execution_count": null,
      "metadata": {
        "id": "VpkXDCiEey3m",
        "colab": {
          "base_uri": "https://localhost:8080/"
        },
        "outputId": "661a7b73-e949-46cb-aa70-701045203533"
      },
      "outputs": [
        {
          "output_type": "execute_result",
          "data": {
            "text/plain": [
              "array([ 9.72567871e-03, -1.81693081e-02,  1.98467262e-02,  3.74992117e-02,\n",
              "       -3.59138474e-02, -4.57771569e-02, -2.72532683e-02,  1.52418101e-02,\n",
              "        3.52445617e-02, -7.53624178e-03,  9.12996754e-03, -2.10552160e-02,\n",
              "        1.56272377e-03, -9.82039783e-05, -8.77684914e-03,  3.65382321e-02,\n",
              "        3.64734158e-02, -7.05009839e-03, -2.33118087e-02,  6.08711829e-03,\n",
              "       -1.99545734e-02,  1.54522238e-02,  6.07244065e-03, -8.34608357e-03,\n",
              "       -3.15462463e-02, -9.89805069e-03, -5.55238919e-04, -6.88232016e-03,\n",
              "       -1.15120355e-02,  1.13332726e-01,  2.06005611e-02, -1.42829418e-02,\n",
              "       -4.10122750e-03, -1.72664113e-02,  3.63585819e-03, -1.34615647e-02,\n",
              "       -4.80954209e-03,  4.18015793e-02, -8.03579669e-03, -5.55655640e-03,\n",
              "       -3.50303599e-03,  5.23055904e-03, -2.29117647e-02,  2.92630084e-02,\n",
              "        2.04842985e-02,  3.14234160e-02,  2.69671367e-03,  4.90053743e-02,\n",
              "        1.12765245e-02,  4.62619215e-03,  5.81054529e-03, -1.93861313e-02,\n",
              "        2.83782464e-03, -1.67906247e-02, -2.73843724e-02, -1.90940611e-02,\n",
              "       -2.87314001e-02, -2.75015947e-03, -6.57397807e-02, -6.99969940e-03,\n",
              "        1.24857184e-02, -8.20487388e-04, -1.48562761e-02, -2.38044374e-02,\n",
              "       -1.55957444e-02,  6.65766560e-03,  1.01082725e-02, -2.63807271e-02,\n",
              "        5.37982397e-03, -1.97686311e-02, -1.71130747e-02, -1.01001766e-02,\n",
              "       -1.09787043e-02, -1.05317784e-02, -9.84023418e-03, -8.84000864e-03,\n",
              "        2.20294278e-02,  1.01807080e-02, -2.01867130e-02, -1.07014319e-02,\n",
              "       -2.30140449e-03, -1.70639548e-02, -6.14872994e-03,  3.77793796e-02,\n",
              "       -1.51983332e-02,  8.82430526e-04,  1.63081381e-02,  3.15420181e-02,\n",
              "        3.46342996e-02, -2.07642070e-03, -1.01455227e-02, -2.21963469e-02,\n",
              "        1.20085992e-01, -2.47170683e-02, -3.93651379e-03,  1.47843389e-02,\n",
              "       -2.19641663e-02,  3.33386399e-02,  6.30210200e-03, -5.31568774e-04,\n",
              "        9.85516049e-03,  1.57738347e-02,  2.45013870e-02, -5.04032895e-02,\n",
              "       -2.86772917e-03,  3.74312233e-03,  5.90666989e-03, -1.19731538e-02,\n",
              "       -9.51060839e-03,  3.18147354e-02, -4.23025386e-03, -2.50816215e-02,\n",
              "       -4.44951048e-03,  5.48362173e-02, -5.97885251e-03,  3.35490418e-04,\n",
              "        5.40257385e-03,  1.93157159e-02,  9.49823856e-03,  9.22990963e-03,\n",
              "       -6.44654315e-03,  1.84089541e-02,  6.97864406e-03, -9.98760853e-03,\n",
              "        2.60523483e-02,  3.91055793e-02, -1.44942291e-02, -3.06311846e-02,\n",
              "       -1.64818224e-02,  2.83545423e-02,  6.74407184e-03, -3.35399993e-02,\n",
              "        4.63601090e-02,  1.43400459e-02,  1.51103102e-02, -3.57168838e-02,\n",
              "       -7.21709505e-02,  9.89099871e-03,  1.72942702e-04,  1.05020022e-02,\n",
              "       -2.54397653e-02, -2.65723094e-03,  7.78966863e-03,  3.41638178e-03,\n",
              "        2.90719923e-02,  2.88213808e-02, -2.04293147e-01, -7.63232820e-03,\n",
              "        4.07393230e-03,  2.32063141e-03, -5.25560267e-02, -2.20788294e-03,\n",
              "        1.10511016e-02,  3.85448784e-02, -7.09905615e-03, -1.07400753e-02,\n",
              "        6.98973909e-02,  9.88921523e-03,  1.12778405e-02,  6.80889981e-03,\n",
              "       -4.44709882e-03,  1.29796355e-03, -1.72076363e-03, -5.56946965e-03,\n",
              "        5.87231293e-03,  6.33573765e-03,  2.31747981e-02, -7.90966395e-03,\n",
              "        1.42229358e-02,  1.28066996e-02,  6.79592090e-03,  2.46544043e-03,\n",
              "       -1.16840629e-02,  6.73506968e-03,  1.11606503e-02, -2.94231921e-02,\n",
              "       -4.80693625e-03, -3.77772190e-02,  2.07332522e-02, -1.08723072e-02,\n",
              "        1.20459739e-02,  2.76545398e-02, -7.18570314e-03,  2.37664431e-02,\n",
              "        1.52243748e-02,  1.62549820e-02, -5.45680337e-03, -1.56360455e-02,\n",
              "        1.35150431e-02, -1.02946321e-02, -3.60844545e-02, -5.81913395e-03,\n",
              "       -2.99452688e-04, -1.34269800e-02, -1.33235017e-02,  4.67933854e-03,\n",
              "       -5.23591042e-03, -7.61942146e-03,  1.55100925e-02,  4.34672050e-02,\n",
              "       -3.93452123e-02,  7.63231665e-02, -5.74396225e-03, -2.23684981e-02,\n",
              "       -9.29937419e-03,  1.39698514e-03, -2.73167957e-02, -3.16865183e-02,\n",
              "        9.01725609e-03, -1.52197666e-02,  2.87998165e-03, -6.78938907e-03,\n",
              "       -1.75043494e-02,  8.25327064e-04,  5.83430799e-03, -1.03405640e-02,\n",
              "        1.68033578e-02,  1.82143655e-02,  2.17762217e-02, -3.85117112e-03,\n",
              "        1.55988140e-02,  3.93333882e-02, -1.15634808e-02,  1.36978207e-02,\n",
              "       -1.20003102e-02, -3.80420797e-02,  1.70185268e-02, -1.69083364e-02,\n",
              "       -4.47914330e-03,  1.10276509e-03, -6.27888803e-05,  5.13450429e-03,\n",
              "       -2.36676801e-02,  1.75183604e-03, -5.80153009e-03, -4.86875996e-02,\n",
              "       -2.43026740e-03, -5.56256901e-03,  1.50256902e-02, -9.55843367e-03,\n",
              "        2.34674127e-03,  1.41580636e-02, -7.86390621e-03, -7.69271106e-02,\n",
              "        2.54464388e-01, -1.19995847e-02, -3.09936162e-02,  2.66964808e-02,\n",
              "        1.56647675e-02, -5.45657892e-03,  3.70361917e-02, -1.24057243e-03,\n",
              "       -1.31606916e-02, -3.42799649e-02, -3.24210990e-03, -7.40021467e-03,\n",
              "       -3.67991813e-03, -2.00018543e-03,  1.92347188e-02,  9.79715493e-03,\n",
              "        1.03291485e-03,  3.97863425e-02,  1.01542631e-02,  5.11851441e-03,\n",
              "       -1.80702619e-02, -4.18641046e-03,  1.49878440e-02,  5.19764423e-03,\n",
              "        9.14397370e-03, -6.96600154e-02, -7.67690083e-03, -3.66979875e-02,\n",
              "       -2.45904680e-02,  3.70250712e-03,  2.24400274e-02, -2.23757178e-02,\n",
              "        1.79715436e-02, -8.35847482e-03,  5.23335813e-03,  2.31429515e-03,\n",
              "       -1.48976902e-02, -1.14535531e-02, -1.33328527e-01, -2.64611933e-02,\n",
              "        1.99319292e-02, -7.68285769e-04,  9.32648126e-03, -7.84917027e-02,\n",
              "       -1.71542703e-03, -7.22914794e-03,  4.42805514e-02, -8.75132810e-06,\n",
              "       -8.98919031e-02,  9.89831518e-03, -2.02262457e-02, -1.59065821e-03,\n",
              "        2.72551887e-02,  1.09358311e-01, -3.25395651e-02, -3.00224405e-02],\n",
              "      dtype=float32)"
            ]
          },
          "metadata": {},
          "execution_count": 24
        }
      ],
      "source": [
        "sent = ft_model.get_sentence_vector(\"Hello, is it me you're looking for? I can see it in your eyes. I can see it in your smile.\")\n",
        "sent"
      ]
    },
    {
      "cell_type": "markdown",
      "metadata": {
        "id": "Cqf6h0C_ey3m"
      },
      "source": [
        "(Maybe this can be useful to train a classifier for the twitter sentiment analysis...)"
      ]
    },
    {
      "cell_type": "markdown",
      "metadata": {
        "id": "Vpo8CajYey3m"
      },
      "source": [
        "What if we want to train a model on our own (maybe with smaller embeddings)?\n",
        "You can find a quick reference to the API [here](https://fasttext.cc/docs/en/python-module.html)\n",
        "\n",
        "To train a model we need to convert the data set into the appropriate format, a text file containing al the samples we have.\n",
        "We can start from the sentences we have from before"
      ]
    },
    {
      "cell_type": "code",
      "execution_count": null,
      "metadata": {
        "id": "xgg5eGt5ey3m"
      },
      "outputs": [],
      "source": [
        "with open('./data.txt', 'w') as f:\n",
        "    f.write('\\n'.join(sentences))"
      ]
    },
    {
      "cell_type": "markdown",
      "metadata": {
        "id": "rHufV8W3ey3m"
      },
      "source": [
        "We can even choose whether to use a Skipgram based approach:"
      ]
    },
    {
      "cell_type": "code",
      "execution_count": null,
      "metadata": {
        "id": "xn_KnZEPey3n"
      },
      "outputs": [],
      "source": [
        "ft_skip_model = fasttext.train_unsupervised('data.txt', model='skipgram', dim=30, minCount=5, ws=10)"
      ]
    },
    {
      "cell_type": "markdown",
      "metadata": {
        "id": "qUxk7rbOey3n"
      },
      "source": [
        "Or a Continuos Bag-of-Words (CBoW) approach:"
      ]
    },
    {
      "cell_type": "code",
      "execution_count": null,
      "metadata": {
        "id": "cXcPqs9fey3n"
      },
      "outputs": [],
      "source": [
        "ft_cbow_model = fasttext.train_unsupervised('data.txt', model='cbow')"
      ]
    },
    {
      "cell_type": "markdown",
      "metadata": {
        "id": "RODgaWTJey3n"
      },
      "source": [
        "Try to do the same visualisation we tried before, see how the same words are placed in a downprojection of the representation space."
      ]
    },
    {
      "cell_type": "code",
      "execution_count": null,
      "metadata": {
        "id": "gpEV77Ewey3n"
      },
      "outputs": [],
      "source": [
        "# TODO"
      ]
    },
    {
      "cell_type": "markdown",
      "metadata": {
        "id": "ZrDKKIASey3n"
      },
      "source": [
        "### Building a word representation from the sub-words\n",
        "\n",
        "How does fastText actually get to the word representation?\n",
        "Can we get a look at how the representation is built?\n",
        "\n",
        "If you want some additional details on what's going on under the hood, please take a look at this link: http://christopher5106.github.io/deep/learning/2020/04/02/fasttext_pretrained_embeddings_subword_word_representations.html"
      ]
    },
    {
      "cell_type": "markdown",
      "metadata": {
        "id": "smezp0dLey3o"
      },
      "source": [
        "We can use the `get_subwords()` method to get all the character n-grams composing a word and the corresponding IDs.\n",
        "The model we are using was trained with character 5-grams."
      ]
    },
    {
      "cell_type": "markdown",
      "metadata": {
        "id": "Fh6Euh1Vey3p"
      },
      "source": [
        "Let's see what happens when we pass a word to out function"
      ]
    },
    {
      "cell_type": "code",
      "execution_count": null,
      "metadata": {
        "id": "-D3plkP_ey3p",
        "colab": {
          "base_uri": "https://localhost:8080/"
        },
        "outputId": "c82a4130-d1d1-4f9f-bb4e-28fd8ab1829b"
      },
      "outputs": [
        {
          "output_type": "stream",
          "name": "stdout",
          "text": [
            "['happiness', '<happ', 'happi', 'appin', 'ppine', 'pines', 'iness', 'ness>']\n",
            "[   5303 3639000 2151425 3043427 3604793 2523952 2457215 2227900]\n"
          ]
        }
      ],
      "source": [
        "word = 'happiness'\n",
        "sub_words, sub_word_ids = ft_model.get_subwords(word)\n",
        "print(sub_words)\n",
        "print(sub_word_ids)"
      ]
    },
    {
      "cell_type": "markdown",
      "metadata": {
        "id": "-bLw-dW_ey3p"
      },
      "source": [
        "The first array contains the word to encode followed by its character n-grams, the second array contains the indices of the word and its n-grams in the fastText encoding matrix.\n",
        "\n",
        "What happens if we pass a word that's not in the model?"
      ]
    },
    {
      "cell_type": "code",
      "execution_count": null,
      "metadata": {
        "id": "1R4PMCFTey3p"
      },
      "outputs": [],
      "source": [
        "# TODO"
      ]
    },
    {
      "cell_type": "markdown",
      "metadata": {
        "id": "cZ4tpb31ey3p"
      },
      "source": [
        "Finally, we can compute the word representation as the average of the embeddings of the word itself and the embeddings of its character n-grams"
      ]
    },
    {
      "cell_type": "code",
      "execution_count": null,
      "metadata": {
        "id": "oFbMYPh3geBW",
        "colab": {
          "base_uri": "https://localhost:8080/"
        },
        "outputId": "8f4e7829-570e-44f2-9146-6716aaf0a288"
      },
      "outputs": [
        {
          "output_type": "execute_result",
          "data": {
            "text/plain": [
              "array([ 2.43761260e-02,  3.08370143e-02, -1.82935037e-02,  1.92747042e-02,\n",
              "        5.24661969e-03, -3.39045264e-02, -1.22417193e-02,  6.79974556e-02,\n",
              "        2.97031924e-02,  1.41781345e-02, -5.99632552e-03,  3.24566700e-02,\n",
              "       -6.19982481e-02,  7.10059237e-03,  3.57817323e-03, -3.29337753e-02,\n",
              "        7.59602641e-04, -1.92011595e-02, -5.47431074e-02,  4.62299399e-03,\n",
              "       -1.46642867e-02,  8.20630416e-02, -1.03985146e-02, -2.70312317e-02,\n",
              "       -3.93761918e-02,  1.33094080e-02, -1.58767700e-02, -5.90743832e-02,\n",
              "        4.97353896e-02,  8.92114043e-02,  5.08440509e-02, -3.04298364e-02,\n",
              "       -3.62707898e-02,  1.76737197e-02, -1.84959592e-03, -2.82385275e-02,\n",
              "        2.00545900e-02,  1.88715346e-02,  5.23229986e-02, -3.57023366e-02,\n",
              "       -5.00665791e-02,  5.56163443e-03, -1.07403509e-02,  5.34310527e-02,\n",
              "       -3.49775925e-02, -1.46959256e-03,  2.75344364e-02, -3.54247838e-02,\n",
              "       -1.98210757e-02, -3.99537161e-02, -4.37548906e-02,  5.29136742e-03,\n",
              "       -6.46033790e-03, -2.11020559e-02, -8.33227783e-02,  3.06888502e-02,\n",
              "        3.89677286e-02, -1.75225213e-02, -6.73726648e-02, -7.35343155e-03,\n",
              "       -3.80792213e-03, -2.38059033e-02, -3.26873139e-02, -2.40203366e-03,\n",
              "       -2.45236009e-02,  1.81855373e-02,  5.21273278e-02,  2.75492258e-02,\n",
              "       -1.23875402e-02,  5.43958023e-02, -8.78447760e-03, -4.58408445e-02,\n",
              "       -2.87884772e-02, -3.45445536e-02, -4.78063934e-02, -5.90667129e-02,\n",
              "       -8.12903866e-02,  3.68469022e-02, -2.17578746e-03,  5.96710388e-03,\n",
              "        2.59693339e-02,  2.98789181e-02, -8.68188916e-04,  2.57422756e-02,\n",
              "       -1.35573503e-02, -6.31085485e-02,  3.43239792e-02, -2.97417939e-02,\n",
              "       -1.43305827e-02,  2.19782125e-02, -7.79741630e-02, -2.77987383e-02,\n",
              "        1.79748256e-02, -1.66316759e-02,  1.82693414e-02,  2.31197011e-02,\n",
              "        3.66869345e-02,  5.49370907e-02, -2.50525121e-02, -3.84743474e-02,\n",
              "        5.41631654e-02, -3.22258379e-03, -1.57271307e-02,  2.82019079e-02,\n",
              "        5.14290482e-03,  3.99415940e-02, -4.22844552e-02, -5.16160727e-02,\n",
              "       -8.51662606e-02,  4.12943214e-02,  2.81122327e-03, -3.88853624e-02,\n",
              "       -4.63203005e-02,  4.30510677e-02, -3.10722515e-02, -6.91417372e-05,\n",
              "       -3.49915810e-02,  1.25323073e-03, -5.44217788e-03,  5.05799353e-02,\n",
              "        8.71812776e-02,  4.74442057e-02, -5.13566881e-02, -1.23618683e-02,\n",
              "        2.93553211e-02,  3.47397812e-02, -2.13506594e-02, -6.47193044e-02,\n",
              "       -5.84755689e-02,  1.21798720e-02, -2.74393223e-02, -1.67746507e-02,\n",
              "        2.65790746e-02,  7.06325192e-03,  3.23037133e-02, -3.11213434e-02,\n",
              "        3.02323718e-02, -7.32418895e-02,  3.88385057e-02, -5.29803447e-02,\n",
              "       -3.25780436e-02, -6.03005243e-03, -2.65895687e-02, -5.89839295e-02,\n",
              "       -3.08223143e-02, -3.63278054e-02, -6.88481629e-02,  1.87926777e-02,\n",
              "        2.44538598e-02, -8.21650214e-03, -1.01965358e-02, -3.44917402e-02,\n",
              "       -7.85811990e-03,  2.68215202e-02,  2.61807721e-02, -4.39158604e-02,\n",
              "        2.77042091e-02, -5.37077598e-02,  4.05189544e-02, -3.51586267e-02,\n",
              "       -8.80582072e-03, -4.20970507e-02, -4.80171293e-05, -1.14688827e-02,\n",
              "       -2.63095498e-02, -4.12876308e-02,  4.64802831e-02, -2.07530870e-03,\n",
              "        7.72867650e-02, -5.59825562e-02, -4.38053533e-02, -3.21695693e-02,\n",
              "       -2.43611056e-02,  2.97143627e-02, -6.67000329e-03, -4.10863608e-02,\n",
              "        3.42117995e-02,  3.25413682e-02, -5.09670712e-02, -3.63938361e-02,\n",
              "       -1.78588368e-02, -4.90688048e-02,  5.54219121e-03, -2.74044257e-02,\n",
              "       -1.07904393e-02,  2.70653442e-02, -2.86887810e-02, -4.93078344e-02,\n",
              "        2.41081752e-02, -6.01483211e-02,  5.01797050e-02,  6.53500408e-02,\n",
              "       -5.82428724e-02,  2.55513340e-02,  3.02193966e-02, -8.90765525e-03,\n",
              "       -3.56865190e-02,  2.61622574e-02, -6.02983637e-03,  3.70613486e-02,\n",
              "        5.66252843e-02,  3.02074943e-03, -2.29285751e-02, -2.99923737e-02,\n",
              "       -2.90422793e-02, -2.93860696e-02, -5.24010137e-02, -4.33018990e-02,\n",
              "        1.38238836e-02,  8.39067400e-02, -1.45187313e-02, -9.14442539e-02,\n",
              "        4.47705388e-03, -3.80011275e-04, -2.76892241e-02,  6.34342339e-03,\n",
              "       -1.60162169e-02, -1.53088942e-02,  1.13351978e-02,  8.92383829e-02,\n",
              "       -3.20932604e-02, -2.25169789e-02,  2.11793836e-02, -3.76144350e-02,\n",
              "       -4.57356572e-02, -4.22400050e-02,  2.88321748e-02, -8.15630518e-03,\n",
              "        4.20552343e-02, -4.62269448e-02,  6.10891916e-03,  4.42727609e-03,\n",
              "        6.90615689e-03,  5.75772151e-02,  3.03004980e-02, -3.02721951e-02,\n",
              "        4.16897573e-02,  3.94802503e-02, -2.33752541e-02, -3.59145068e-02,\n",
              "        4.58222395e-03,  3.69192325e-02, -2.09903605e-02, -5.01421541e-02,\n",
              "        2.97323763e-02, -1.93621032e-02, -1.00074429e-02, -1.96661577e-02,\n",
              "        3.38150859e-02,  5.16679510e-03,  1.01780482e-02,  1.06609957e-02,\n",
              "       -2.20471248e-03, -1.04015935e-02, -4.25644666e-02, -9.29920096e-03,\n",
              "       -5.45251518e-02,  2.20365468e-02, -2.73922570e-02, -4.81523648e-02,\n",
              "        8.41728318e-03, -2.29191408e-02, -1.82414372e-02, -5.17862402e-02,\n",
              "       -5.12596592e-03, -4.68518808e-02,  4.77616228e-02,  6.92860456e-03,\n",
              "       -1.82616636e-02, -8.94955918e-03,  1.70803536e-02,  1.89393274e-02,\n",
              "       -1.25003587e-02,  9.39648785e-03,  8.57291394e-04, -3.97665277e-02,\n",
              "       -3.43222395e-02,  2.91521940e-03,  1.27181131e-02,  4.11672033e-02,\n",
              "       -2.29718927e-02,  3.50051671e-02, -3.43964882e-02, -8.41140188e-03,\n",
              "        9.29306746e-02,  3.89201916e-04,  8.75943340e-03,  1.29394569e-02,\n",
              "        4.74389717e-02, -7.70587474e-02,  1.53834000e-02,  3.00232023e-02,\n",
              "       -1.56497527e-02,  2.17576511e-02,  4.28436473e-02, -4.29545157e-02,\n",
              "        4.36081812e-02,  6.95104897e-02, -3.45086530e-02,  3.36973779e-02],\n",
              "      dtype=float32)"
            ]
          },
          "metadata": {},
          "execution_count": 25
        }
      ],
      "source": [
        "import numpy as np\n",
        "\n",
        "word = 'happiness'\n",
        "sub_words, sub_word_ids = ft_model.get_subwords(word)\n",
        "\n",
        "embedding = np.mean([ft_model.get_input_vector(idx) for idx in sub_word_ids], axis=0)\n",
        "\n",
        "embedding"
      ]
    },
    {
      "cell_type": "markdown",
      "metadata": {
        "id": "3XgjH0qJey3p"
      },
      "source": [
        "Let's compare the embedding we retrieved with the original one"
      ]
    },
    {
      "cell_type": "code",
      "execution_count": null,
      "metadata": {
        "id": "EZM5G1UFey3q",
        "colab": {
          "base_uri": "https://localhost:8080/"
        },
        "outputId": "d09d49c4-b5a9-4501-9895-5ac753470a34"
      },
      "outputs": [
        {
          "output_type": "execute_result",
          "data": {
            "text/plain": [
              "0.0"
            ]
          },
          "metadata": {},
          "execution_count": 26
        }
      ],
      "source": [
        "np.sum((embedding - ft_model[word]) ** 2) ** 2"
      ]
    },
    {
      "cell_type": "code",
      "execution_count": null,
      "metadata": {
        "id": "YuQ94IvEhiXn"
      },
      "outputs": [],
      "source": []
    }
  ],
  "metadata": {
    "colab": {
      "provenance": [],
      "collapsed_sections": [
        "6PifwcbdWqKz"
      ],
      "include_colab_link": true
    },
    "kernelspec": {
      "display_name": "Python 3 (ipykernel)",
      "language": "python",
      "name": "python3"
    },
    "language_info": {
      "codemirror_mode": {
        "name": "ipython",
        "version": 3
      },
      "file_extension": ".py",
      "mimetype": "text/x-python",
      "name": "python",
      "nbconvert_exporter": "python",
      "pygments_lexer": "ipython3",
      "version": "3.7.13"
    }
  },
  "nbformat": 4,
  "nbformat_minor": 0
}